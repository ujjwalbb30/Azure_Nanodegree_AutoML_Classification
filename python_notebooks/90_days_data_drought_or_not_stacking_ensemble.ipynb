{
  "cells": [
    {
      "cell_type": "markdown",
      "metadata": {
        "id": "view-in-github",
        "colab_type": "text"
      },
      "source": [
        "<a href=\"https://colab.research.google.com/github/ujjwalbb30/Azure_Nanodegree_AutoML_Classification/blob/master/python_notebooks/90_days_data_drought_or_not_stacking_ensemble.ipynb\" target=\"_parent\"><img src=\"https://colab.research.google.com/assets/colab-badge.svg\" alt=\"Open In Colab\"/></a>"
      ]
    },
    {
      "cell_type": "code",
      "execution_count": null,
      "metadata": {
        "id": "_39f6dUQa06b"
      },
      "outputs": [],
      "source": [
        "import pandas as pd\n",
        "import numpy as np"
      ]
    },
    {
      "cell_type": "code",
      "execution_count": null,
      "metadata": {
        "id": "mKfkskcRa06c"
      },
      "outputs": [],
      "source": [
        "cal_90d_agg = pd.read_csv('drought dataset/ninety_days_aggregated_data_ca_drought.csv')\n",
        "cal_90d_agg = cal_90d_agg.drop(columns=['Unnamed: 0'])"
      ]
    },
    {
      "cell_type": "code",
      "execution_count": null,
      "metadata": {
        "id": "E1Yj_LTYa06d",
        "outputId": "762b77e2-c151-4f30-e944-523dc41ed04a"
      },
      "outputs": [
        {
          "data": {
            "text/html": [
              "<div>\n",
              "<style scoped>\n",
              "    .dataframe tbody tr th:only-of-type {\n",
              "        vertical-align: middle;\n",
              "    }\n",
              "\n",
              "    .dataframe tbody tr th {\n",
              "        vertical-align: top;\n",
              "    }\n",
              "\n",
              "    .dataframe thead th {\n",
              "        text-align: right;\n",
              "    }\n",
              "</style>\n",
              "<table border=\"1\" class=\"dataframe\">\n",
              "  <thead>\n",
              "    <tr style=\"text-align: right;\">\n",
              "      <th></th>\n",
              "      <th>fips</th>\n",
              "      <th>PRECTOT</th>\n",
              "      <th>PS</th>\n",
              "      <th>QV2M</th>\n",
              "      <th>T2M</th>\n",
              "      <th>T2MDEW</th>\n",
              "      <th>T2MWET</th>\n",
              "      <th>T2M_MAX</th>\n",
              "      <th>T2M_MIN</th>\n",
              "      <th>T2M_RANGE</th>\n",
              "      <th>TS</th>\n",
              "      <th>WS10M</th>\n",
              "      <th>WS10M_MAX</th>\n",
              "      <th>WS10M_MIN</th>\n",
              "      <th>WS10M_RANGE</th>\n",
              "      <th>WS50M</th>\n",
              "      <th>WS50M_MAX</th>\n",
              "      <th>WS50M_MIN</th>\n",
              "      <th>WS50M_RANGE</th>\n",
              "      <th>score</th>\n",
              "    </tr>\n",
              "  </thead>\n",
              "  <tbody>\n",
              "    <tr>\n",
              "      <th>0</th>\n",
              "      <td>6001.0</td>\n",
              "      <td>0.196000</td>\n",
              "      <td>100.487000</td>\n",
              "      <td>5.158000</td>\n",
              "      <td>7.692000</td>\n",
              "      <td>3.782000</td>\n",
              "      <td>3.810000</td>\n",
              "      <td>13.969000</td>\n",
              "      <td>3.687000</td>\n",
              "      <td>10.283000</td>\n",
              "      <td>7.392000</td>\n",
              "      <td>2.666000</td>\n",
              "      <td>4.207000</td>\n",
              "      <td>1.488000</td>\n",
              "      <td>2.719000</td>\n",
              "      <td>4.001000</td>\n",
              "      <td>5.938000</td>\n",
              "      <td>2.173000</td>\n",
              "      <td>3.766000</td>\n",
              "      <td>0.6079</td>\n",
              "    </tr>\n",
              "    <tr>\n",
              "      <th>1</th>\n",
              "      <td>6001.0</td>\n",
              "      <td>1.709412</td>\n",
              "      <td>100.257059</td>\n",
              "      <td>5.701765</td>\n",
              "      <td>8.592941</td>\n",
              "      <td>5.245294</td>\n",
              "      <td>5.262941</td>\n",
              "      <td>14.011176</td>\n",
              "      <td>4.871765</td>\n",
              "      <td>9.138824</td>\n",
              "      <td>8.114706</td>\n",
              "      <td>2.854706</td>\n",
              "      <td>4.770588</td>\n",
              "      <td>1.411765</td>\n",
              "      <td>3.357647</td>\n",
              "      <td>4.334118</td>\n",
              "      <td>6.690000</td>\n",
              "      <td>2.225294</td>\n",
              "      <td>4.465294</td>\n",
              "      <td>0.5036</td>\n",
              "    </tr>\n",
              "    <tr>\n",
              "      <th>2</th>\n",
              "      <td>6001.0</td>\n",
              "      <td>5.068333</td>\n",
              "      <td>100.105833</td>\n",
              "      <td>6.274583</td>\n",
              "      <td>9.290833</td>\n",
              "      <td>6.589167</td>\n",
              "      <td>6.601667</td>\n",
              "      <td>14.182917</td>\n",
              "      <td>5.894167</td>\n",
              "      <td>8.288750</td>\n",
              "      <td>8.776250</td>\n",
              "      <td>2.808750</td>\n",
              "      <td>4.680000</td>\n",
              "      <td>1.409583</td>\n",
              "      <td>3.270417</td>\n",
              "      <td>4.319583</td>\n",
              "      <td>6.540833</td>\n",
              "      <td>2.277500</td>\n",
              "      <td>4.263333</td>\n",
              "      <td>0.0000</td>\n",
              "    </tr>\n",
              "    <tr>\n",
              "      <th>3</th>\n",
              "      <td>6001.0</td>\n",
              "      <td>4.312581</td>\n",
              "      <td>100.076129</td>\n",
              "      <td>6.227097</td>\n",
              "      <td>9.242903</td>\n",
              "      <td>6.543226</td>\n",
              "      <td>6.553871</td>\n",
              "      <td>14.189677</td>\n",
              "      <td>5.745484</td>\n",
              "      <td>8.443871</td>\n",
              "      <td>8.753548</td>\n",
              "      <td>2.783871</td>\n",
              "      <td>4.532903</td>\n",
              "      <td>1.407419</td>\n",
              "      <td>3.124839</td>\n",
              "      <td>4.286129</td>\n",
              "      <td>6.458065</td>\n",
              "      <td>2.277419</td>\n",
              "      <td>4.180968</td>\n",
              "      <td>0.0000</td>\n",
              "    </tr>\n",
              "    <tr>\n",
              "      <th>4</th>\n",
              "      <td>6001.0</td>\n",
              "      <td>3.762632</td>\n",
              "      <td>100.067105</td>\n",
              "      <td>6.358947</td>\n",
              "      <td>9.557368</td>\n",
              "      <td>6.895263</td>\n",
              "      <td>6.903947</td>\n",
              "      <td>14.776316</td>\n",
              "      <td>5.984211</td>\n",
              "      <td>8.791579</td>\n",
              "      <td>8.990000</td>\n",
              "      <td>2.743158</td>\n",
              "      <td>4.506579</td>\n",
              "      <td>1.361316</td>\n",
              "      <td>3.144474</td>\n",
              "      <td>4.222368</td>\n",
              "      <td>6.416842</td>\n",
              "      <td>2.210263</td>\n",
              "      <td>4.207105</td>\n",
              "      <td>0.0000</td>\n",
              "    </tr>\n",
              "  </tbody>\n",
              "</table>\n",
              "</div>"
            ],
            "text/plain": [
              "     fips   PRECTOT          PS      QV2M       T2M    T2MDEW    T2MWET  \\\n",
              "0  6001.0  0.196000  100.487000  5.158000  7.692000  3.782000  3.810000   \n",
              "1  6001.0  1.709412  100.257059  5.701765  8.592941  5.245294  5.262941   \n",
              "2  6001.0  5.068333  100.105833  6.274583  9.290833  6.589167  6.601667   \n",
              "3  6001.0  4.312581  100.076129  6.227097  9.242903  6.543226  6.553871   \n",
              "4  6001.0  3.762632  100.067105  6.358947  9.557368  6.895263  6.903947   \n",
              "\n",
              "     T2M_MAX   T2M_MIN  T2M_RANGE        TS     WS10M  WS10M_MAX  WS10M_MIN  \\\n",
              "0  13.969000  3.687000  10.283000  7.392000  2.666000   4.207000   1.488000   \n",
              "1  14.011176  4.871765   9.138824  8.114706  2.854706   4.770588   1.411765   \n",
              "2  14.182917  5.894167   8.288750  8.776250  2.808750   4.680000   1.409583   \n",
              "3  14.189677  5.745484   8.443871  8.753548  2.783871   4.532903   1.407419   \n",
              "4  14.776316  5.984211   8.791579  8.990000  2.743158   4.506579   1.361316   \n",
              "\n",
              "   WS10M_RANGE     WS50M  WS50M_MAX  WS50M_MIN  WS50M_RANGE   score  \n",
              "0     2.719000  4.001000   5.938000   2.173000     3.766000  0.6079  \n",
              "1     3.357647  4.334118   6.690000   2.225294     4.465294  0.5036  \n",
              "2     3.270417  4.319583   6.540833   2.277500     4.263333  0.0000  \n",
              "3     3.124839  4.286129   6.458065   2.277419     4.180968  0.0000  \n",
              "4     3.144474  4.222368   6.416842   2.210263     4.207105  0.0000  "
            ]
          },
          "execution_count": 3,
          "metadata": {},
          "output_type": "execute_result"
        }
      ],
      "source": [
        "cal_90d_agg.head()"
      ]
    },
    {
      "cell_type": "code",
      "execution_count": null,
      "metadata": {
        "id": "vKqWcnd2a06e",
        "outputId": "c5495b06-7114-4bef-e8a2-2c7ae17d3695"
      },
      "outputs": [
        {
          "data": {
            "text/html": [
              "<div>\n",
              "<style scoped>\n",
              "    .dataframe tbody tr th:only-of-type {\n",
              "        vertical-align: middle;\n",
              "    }\n",
              "\n",
              "    .dataframe tbody tr th {\n",
              "        vertical-align: top;\n",
              "    }\n",
              "\n",
              "    .dataframe thead th {\n",
              "        text-align: right;\n",
              "    }\n",
              "</style>\n",
              "<table border=\"1\" class=\"dataframe\">\n",
              "  <thead>\n",
              "    <tr style=\"text-align: right;\">\n",
              "      <th></th>\n",
              "      <th>PRECTOT</th>\n",
              "      <th>PS</th>\n",
              "      <th>QV2M</th>\n",
              "      <th>T2M</th>\n",
              "      <th>T2MDEW</th>\n",
              "      <th>T2MWET</th>\n",
              "      <th>T2M_MAX</th>\n",
              "      <th>T2M_MIN</th>\n",
              "      <th>T2M_RANGE</th>\n",
              "      <th>TS</th>\n",
              "      <th>WS10M</th>\n",
              "      <th>WS10M_MAX</th>\n",
              "      <th>WS10M_MIN</th>\n",
              "      <th>WS10M_RANGE</th>\n",
              "      <th>WS50M</th>\n",
              "      <th>WS50M_MAX</th>\n",
              "      <th>WS50M_MIN</th>\n",
              "      <th>WS50M_RANGE</th>\n",
              "    </tr>\n",
              "  </thead>\n",
              "  <tbody>\n",
              "    <tr>\n",
              "      <th>0</th>\n",
              "      <td>0.196000</td>\n",
              "      <td>100.487000</td>\n",
              "      <td>5.158000</td>\n",
              "      <td>7.692000</td>\n",
              "      <td>3.782000</td>\n",
              "      <td>3.810000</td>\n",
              "      <td>13.969000</td>\n",
              "      <td>3.687000</td>\n",
              "      <td>10.283000</td>\n",
              "      <td>7.392000</td>\n",
              "      <td>2.666000</td>\n",
              "      <td>4.207000</td>\n",
              "      <td>1.488000</td>\n",
              "      <td>2.719000</td>\n",
              "      <td>4.001000</td>\n",
              "      <td>5.938000</td>\n",
              "      <td>2.173000</td>\n",
              "      <td>3.766000</td>\n",
              "    </tr>\n",
              "    <tr>\n",
              "      <th>1</th>\n",
              "      <td>1.709412</td>\n",
              "      <td>100.257059</td>\n",
              "      <td>5.701765</td>\n",
              "      <td>8.592941</td>\n",
              "      <td>5.245294</td>\n",
              "      <td>5.262941</td>\n",
              "      <td>14.011176</td>\n",
              "      <td>4.871765</td>\n",
              "      <td>9.138824</td>\n",
              "      <td>8.114706</td>\n",
              "      <td>2.854706</td>\n",
              "      <td>4.770588</td>\n",
              "      <td>1.411765</td>\n",
              "      <td>3.357647</td>\n",
              "      <td>4.334118</td>\n",
              "      <td>6.690000</td>\n",
              "      <td>2.225294</td>\n",
              "      <td>4.465294</td>\n",
              "    </tr>\n",
              "    <tr>\n",
              "      <th>2</th>\n",
              "      <td>5.068333</td>\n",
              "      <td>100.105833</td>\n",
              "      <td>6.274583</td>\n",
              "      <td>9.290833</td>\n",
              "      <td>6.589167</td>\n",
              "      <td>6.601667</td>\n",
              "      <td>14.182917</td>\n",
              "      <td>5.894167</td>\n",
              "      <td>8.288750</td>\n",
              "      <td>8.776250</td>\n",
              "      <td>2.808750</td>\n",
              "      <td>4.680000</td>\n",
              "      <td>1.409583</td>\n",
              "      <td>3.270417</td>\n",
              "      <td>4.319583</td>\n",
              "      <td>6.540833</td>\n",
              "      <td>2.277500</td>\n",
              "      <td>4.263333</td>\n",
              "    </tr>\n",
              "    <tr>\n",
              "      <th>3</th>\n",
              "      <td>4.312581</td>\n",
              "      <td>100.076129</td>\n",
              "      <td>6.227097</td>\n",
              "      <td>9.242903</td>\n",
              "      <td>6.543226</td>\n",
              "      <td>6.553871</td>\n",
              "      <td>14.189677</td>\n",
              "      <td>5.745484</td>\n",
              "      <td>8.443871</td>\n",
              "      <td>8.753548</td>\n",
              "      <td>2.783871</td>\n",
              "      <td>4.532903</td>\n",
              "      <td>1.407419</td>\n",
              "      <td>3.124839</td>\n",
              "      <td>4.286129</td>\n",
              "      <td>6.458065</td>\n",
              "      <td>2.277419</td>\n",
              "      <td>4.180968</td>\n",
              "    </tr>\n",
              "    <tr>\n",
              "      <th>4</th>\n",
              "      <td>3.762632</td>\n",
              "      <td>100.067105</td>\n",
              "      <td>6.358947</td>\n",
              "      <td>9.557368</td>\n",
              "      <td>6.895263</td>\n",
              "      <td>6.903947</td>\n",
              "      <td>14.776316</td>\n",
              "      <td>5.984211</td>\n",
              "      <td>8.791579</td>\n",
              "      <td>8.990000</td>\n",
              "      <td>2.743158</td>\n",
              "      <td>4.506579</td>\n",
              "      <td>1.361316</td>\n",
              "      <td>3.144474</td>\n",
              "      <td>4.222368</td>\n",
              "      <td>6.416842</td>\n",
              "      <td>2.210263</td>\n",
              "      <td>4.207105</td>\n",
              "    </tr>\n",
              "  </tbody>\n",
              "</table>\n",
              "</div>"
            ],
            "text/plain": [
              "    PRECTOT          PS      QV2M       T2M    T2MDEW    T2MWET    T2M_MAX  \\\n",
              "0  0.196000  100.487000  5.158000  7.692000  3.782000  3.810000  13.969000   \n",
              "1  1.709412  100.257059  5.701765  8.592941  5.245294  5.262941  14.011176   \n",
              "2  5.068333  100.105833  6.274583  9.290833  6.589167  6.601667  14.182917   \n",
              "3  4.312581  100.076129  6.227097  9.242903  6.543226  6.553871  14.189677   \n",
              "4  3.762632  100.067105  6.358947  9.557368  6.895263  6.903947  14.776316   \n",
              "\n",
              "    T2M_MIN  T2M_RANGE        TS     WS10M  WS10M_MAX  WS10M_MIN  WS10M_RANGE  \\\n",
              "0  3.687000  10.283000  7.392000  2.666000   4.207000   1.488000     2.719000   \n",
              "1  4.871765   9.138824  8.114706  2.854706   4.770588   1.411765     3.357647   \n",
              "2  5.894167   8.288750  8.776250  2.808750   4.680000   1.409583     3.270417   \n",
              "3  5.745484   8.443871  8.753548  2.783871   4.532903   1.407419     3.124839   \n",
              "4  5.984211   8.791579  8.990000  2.743158   4.506579   1.361316     3.144474   \n",
              "\n",
              "      WS50M  WS50M_MAX  WS50M_MIN  WS50M_RANGE  \n",
              "0  4.001000   5.938000   2.173000     3.766000  \n",
              "1  4.334118   6.690000   2.225294     4.465294  \n",
              "2  4.319583   6.540833   2.277500     4.263333  \n",
              "3  4.286129   6.458065   2.277419     4.180968  \n",
              "4  4.222368   6.416842   2.210263     4.207105  "
            ]
          },
          "execution_count": 4,
          "metadata": {},
          "output_type": "execute_result"
        }
      ],
      "source": [
        "X = cal_90d_agg.drop(columns = ['fips','score'])\n",
        "X.head()"
      ]
    },
    {
      "cell_type": "code",
      "execution_count": null,
      "metadata": {
        "id": "aXZRBWEOa06e",
        "outputId": "ea41c198-3ffb-42fd-ff80-244bb3c60589"
      },
      "outputs": [
        {
          "data": {
            "text/plain": [
              "0    1.0\n",
              "1    1.0\n",
              "2    0.0\n",
              "3    0.0\n",
              "4    0.0\n",
              "Name: score, dtype: float64"
            ]
          },
          "execution_count": 5,
          "metadata": {},
          "output_type": "execute_result"
        }
      ],
      "source": [
        "y, y_f, y_c = cal_90d_agg['score'].round(), cal_90d_agg['score'].apply(np.floor), cal_90d_agg['score'].apply(np.ceil)\n",
        "y.head()"
      ]
    },
    {
      "cell_type": "code",
      "execution_count": null,
      "metadata": {
        "id": "DkQbw0rHa06f",
        "outputId": "a2d3fb55-8452-4c7b-a161-6a114a85d19c"
      },
      "outputs": [
        {
          "name": "stdout",
          "output_type": "stream",
          "text": [
            "0.0    27785\n",
            "1.0    10371\n",
            "2.0     9985\n",
            "3.0     7722\n",
            "4.0     3911\n",
            "5.0     3794\n",
            "Name: score, dtype: int64\n",
            "0.0    31026\n",
            "1.0    10637\n",
            "2.0     9723\n",
            "3.0     6167\n",
            "4.0     3808\n",
            "5.0     2207\n",
            "Name: score, dtype: int64\n",
            "0.0    23215\n",
            "1.0    11261\n",
            "2.0    10427\n",
            "3.0     9533\n",
            "5.0     4798\n",
            "4.0     4334\n",
            "Name: score, dtype: int64\n"
          ]
        }
      ],
      "source": [
        "print(y.value_counts())\n",
        "print(y_f.value_counts())\n",
        "print(y_c.value_counts())"
      ]
    },
    {
      "cell_type": "code",
      "execution_count": null,
      "metadata": {
        "id": "jFN-8AKUa06f"
      },
      "outputs": [],
      "source": [
        "# y_l = []\n",
        "# for i in y:\n",
        "#     if i == 0:\n",
        "#         y_l.append(0)\n",
        "#     else:\n",
        "#         y_l.append(1)\n",
        "# print(y_l)\n",
        "# y_df = pd.Series(y_l)\n",
        "# print(y_df.value_counts())"
      ]
    },
    {
      "cell_type": "code",
      "execution_count": null,
      "metadata": {
        "id": "WVr7Atxua06f"
      },
      "outputs": [],
      "source": [
        "# ind = list(np.arange(len(y)))\n",
        "# print(ind)"
      ]
    },
    {
      "cell_type": "code",
      "execution_count": null,
      "metadata": {
        "id": "zXMMpgWIa06g"
      },
      "outputs": [],
      "source": [
        "# cols = ['PDSI_0','PDSI_1','PDSI_2','PDSI_3','PDSI_4','PDSI_5']\n",
        "# y_df = pd.DataFrame(columns=cols, index=ind)\n",
        "# counter = 0\n",
        "# for i in y:\n",
        "#     if i == 0.0:\n",
        "#         lab = [1,0,0,0,0,0]\n",
        "#     elif i == 1.0:\n",
        "#         lab = [0,1,0,0,0,0]\n",
        "#     elif i == 2.0:\n",
        "#         lab = [0,1,1,0,0,0]\n",
        "#     elif i == 3.0:\n",
        "#         lab = [0,1,1,1,0,0]\n",
        "#     elif i == 4.0:\n",
        "#         lab = [0,1,1,1,1,0]\n",
        "#     elif i == 5.0:\n",
        "#         lab = [0,1,1,1,1,1]\n",
        "#     y_df.loc[counter] = lab\n",
        "#     counter = counter + 1\n",
        "# print(y_df)"
      ]
    },
    {
      "cell_type": "code",
      "execution_count": null,
      "metadata": {
        "id": "G2ldmbIEa06g",
        "outputId": "1a5f808a-5dc2-4fe1-b041-110b614e93d1"
      },
      "outputs": [
        {
          "name": "stdout",
          "output_type": "stream",
          "text": [
            "   PDSI_0.0  PDSI_1.0  PDSI_2.0  PDSI_3.0  PDSI_4.0  PDSI_5.0\n",
            "0         0         1         0         0         0         0\n",
            "1         0         1         0         0         0         0\n",
            "2         1         0         0         0         0         0\n",
            "3         1         0         0         0         0         0\n",
            "4         1         0         0         0         0         0\n",
            "0    35783\n",
            "1    27785\n",
            "Name: PDSI_0.0, dtype: int64\n"
          ]
        }
      ],
      "source": [
        "y_df = pd.get_dummies(y,prefix='PDSI')\n",
        "print(y_df.head())\n",
        "print(y_df['PDSI_0.0'].value_counts())"
      ]
    },
    {
      "cell_type": "code",
      "execution_count": null,
      "metadata": {
        "id": "SGv2-Nera06h"
      },
      "outputs": [],
      "source": [
        "# y_l.shape"
      ]
    },
    {
      "cell_type": "code",
      "execution_count": null,
      "metadata": {
        "id": "HESpZ2Pea06h",
        "outputId": "e907ee91-f0d4-4e85-d783-912765adf12f"
      },
      "outputs": [
        {
          "data": {
            "text/html": [
              "<div>\n",
              "<style scoped>\n",
              "    .dataframe tbody tr th:only-of-type {\n",
              "        vertical-align: middle;\n",
              "    }\n",
              "\n",
              "    .dataframe tbody tr th {\n",
              "        vertical-align: top;\n",
              "    }\n",
              "\n",
              "    .dataframe thead th {\n",
              "        text-align: right;\n",
              "    }\n",
              "</style>\n",
              "<table border=\"1\" class=\"dataframe\">\n",
              "  <thead>\n",
              "    <tr style=\"text-align: right;\">\n",
              "      <th></th>\n",
              "      <th>PRECTOT</th>\n",
              "      <th>PS</th>\n",
              "      <th>QV2M</th>\n",
              "      <th>T2M</th>\n",
              "      <th>T2MDEW</th>\n",
              "      <th>T2MWET</th>\n",
              "      <th>T2M_MAX</th>\n",
              "      <th>T2M_MIN</th>\n",
              "      <th>T2M_RANGE</th>\n",
              "      <th>TS</th>\n",
              "      <th>WS10M</th>\n",
              "      <th>WS10M_MAX</th>\n",
              "      <th>WS10M_MIN</th>\n",
              "      <th>WS10M_RANGE</th>\n",
              "      <th>WS50M</th>\n",
              "      <th>WS50M_MAX</th>\n",
              "      <th>WS50M_MIN</th>\n",
              "      <th>WS50M_RANGE</th>\n",
              "    </tr>\n",
              "  </thead>\n",
              "  <tbody>\n",
              "    <tr>\n",
              "      <th>0</th>\n",
              "      <td>0.012368</td>\n",
              "      <td>0.925852</td>\n",
              "      <td>0.363263</td>\n",
              "      <td>0.343546</td>\n",
              "      <td>0.597658</td>\n",
              "      <td>0.591292</td>\n",
              "      <td>0.336442</td>\n",
              "      <td>0.400992</td>\n",
              "      <td>0.427046</td>\n",
              "      <td>0.366207</td>\n",
              "      <td>0.201716</td>\n",
              "      <td>0.286604</td>\n",
              "      <td>0.211681</td>\n",
              "      <td>0.336436</td>\n",
              "      <td>0.258895</td>\n",
              "      <td>0.319971</td>\n",
              "      <td>0.256376</td>\n",
              "      <td>0.358597</td>\n",
              "    </tr>\n",
              "    <tr>\n",
              "      <th>1</th>\n",
              "      <td>0.107869</td>\n",
              "      <td>0.917340</td>\n",
              "      <td>0.424361</td>\n",
              "      <td>0.365590</td>\n",
              "      <td>0.651653</td>\n",
              "      <td>0.645891</td>\n",
              "      <td>0.337408</td>\n",
              "      <td>0.431559</td>\n",
              "      <td>0.371745</td>\n",
              "      <td>0.381523</td>\n",
              "      <td>0.233060</td>\n",
              "      <td>0.365411</td>\n",
              "      <td>0.197743</td>\n",
              "      <td>0.490780</td>\n",
              "      <td>0.308030</td>\n",
              "      <td>0.418415</td>\n",
              "      <td>0.264373</td>\n",
              "      <td>0.524618</td>\n",
              "    </tr>\n",
              "    <tr>\n",
              "      <th>2</th>\n",
              "      <td>0.319828</td>\n",
              "      <td>0.911741</td>\n",
              "      <td>0.488723</td>\n",
              "      <td>0.382665</td>\n",
              "      <td>0.701241</td>\n",
              "      <td>0.696198</td>\n",
              "      <td>0.341340</td>\n",
              "      <td>0.457937</td>\n",
              "      <td>0.330659</td>\n",
              "      <td>0.395543</td>\n",
              "      <td>0.225427</td>\n",
              "      <td>0.352744</td>\n",
              "      <td>0.197344</td>\n",
              "      <td>0.469699</td>\n",
              "      <td>0.305886</td>\n",
              "      <td>0.398887</td>\n",
              "      <td>0.272356</td>\n",
              "      <td>0.476670</td>\n",
              "    </tr>\n",
              "    <tr>\n",
              "      <th>3</th>\n",
              "      <td>0.272138</td>\n",
              "      <td>0.910642</td>\n",
              "      <td>0.483388</td>\n",
              "      <td>0.381493</td>\n",
              "      <td>0.699545</td>\n",
              "      <td>0.694401</td>\n",
              "      <td>0.341495</td>\n",
              "      <td>0.454101</td>\n",
              "      <td>0.338157</td>\n",
              "      <td>0.395062</td>\n",
              "      <td>0.221294</td>\n",
              "      <td>0.332175</td>\n",
              "      <td>0.196948</td>\n",
              "      <td>0.434517</td>\n",
              "      <td>0.300952</td>\n",
              "      <td>0.388052</td>\n",
              "      <td>0.272343</td>\n",
              "      <td>0.457115</td>\n",
              "    </tr>\n",
              "    <tr>\n",
              "      <th>4</th>\n",
              "      <td>0.237434</td>\n",
              "      <td>0.910308</td>\n",
              "      <td>0.498203</td>\n",
              "      <td>0.389187</td>\n",
              "      <td>0.712535</td>\n",
              "      <td>0.707557</td>\n",
              "      <td>0.354926</td>\n",
              "      <td>0.460260</td>\n",
              "      <td>0.354962</td>\n",
              "      <td>0.400073</td>\n",
              "      <td>0.214532</td>\n",
              "      <td>0.328494</td>\n",
              "      <td>0.188519</td>\n",
              "      <td>0.439262</td>\n",
              "      <td>0.291547</td>\n",
              "      <td>0.382656</td>\n",
              "      <td>0.262074</td>\n",
              "      <td>0.463321</td>\n",
              "    </tr>\n",
              "    <tr>\n",
              "      <th>...</th>\n",
              "      <td>...</td>\n",
              "      <td>...</td>\n",
              "      <td>...</td>\n",
              "      <td>...</td>\n",
              "      <td>...</td>\n",
              "      <td>...</td>\n",
              "      <td>...</td>\n",
              "      <td>...</td>\n",
              "      <td>...</td>\n",
              "      <td>...</td>\n",
              "      <td>...</td>\n",
              "      <td>...</td>\n",
              "      <td>...</td>\n",
              "      <td>...</td>\n",
              "      <td>...</td>\n",
              "      <td>...</td>\n",
              "      <td>...</td>\n",
              "      <td>...</td>\n",
              "    </tr>\n",
              "    <tr>\n",
              "      <th>63563</th>\n",
              "      <td>0.036978</td>\n",
              "      <td>0.752243</td>\n",
              "      <td>0.229541</td>\n",
              "      <td>0.570981</td>\n",
              "      <td>0.422350</td>\n",
              "      <td>0.432232</td>\n",
              "      <td>0.594077</td>\n",
              "      <td>0.591922</td>\n",
              "      <td>0.613204</td>\n",
              "      <td>0.550611</td>\n",
              "      <td>0.194814</td>\n",
              "      <td>0.237151</td>\n",
              "      <td>0.134139</td>\n",
              "      <td>0.353488</td>\n",
              "      <td>0.298835</td>\n",
              "      <td>0.402851</td>\n",
              "      <td>0.173460</td>\n",
              "      <td>0.637424</td>\n",
              "    </tr>\n",
              "    <tr>\n",
              "      <th>63564</th>\n",
              "      <td>0.066875</td>\n",
              "      <td>0.753308</td>\n",
              "      <td>0.231064</td>\n",
              "      <td>0.541313</td>\n",
              "      <td>0.424469</td>\n",
              "      <td>0.443593</td>\n",
              "      <td>0.561583</td>\n",
              "      <td>0.566311</td>\n",
              "      <td>0.592572</td>\n",
              "      <td>0.525185</td>\n",
              "      <td>0.198154</td>\n",
              "      <td>0.244811</td>\n",
              "      <td>0.132169</td>\n",
              "      <td>0.369250</td>\n",
              "      <td>0.308176</td>\n",
              "      <td>0.417425</td>\n",
              "      <td>0.173120</td>\n",
              "      <td>0.664410</td>\n",
              "    </tr>\n",
              "    <tr>\n",
              "      <th>63565</th>\n",
              "      <td>0.086031</td>\n",
              "      <td>0.755348</td>\n",
              "      <td>0.218055</td>\n",
              "      <td>0.512183</td>\n",
              "      <td>0.413030</td>\n",
              "      <td>0.441259</td>\n",
              "      <td>0.530173</td>\n",
              "      <td>0.540875</td>\n",
              "      <td>0.573921</td>\n",
              "      <td>0.496615</td>\n",
              "      <td>0.190403</td>\n",
              "      <td>0.238643</td>\n",
              "      <td>0.120284</td>\n",
              "      <td>0.374271</td>\n",
              "      <td>0.297868</td>\n",
              "      <td>0.416320</td>\n",
              "      <td>0.153326</td>\n",
              "      <td>0.693137</td>\n",
              "    </tr>\n",
              "    <tr>\n",
              "      <th>63566</th>\n",
              "      <td>0.107703</td>\n",
              "      <td>0.756068</td>\n",
              "      <td>0.207918</td>\n",
              "      <td>0.477627</td>\n",
              "      <td>0.404125</td>\n",
              "      <td>0.440892</td>\n",
              "      <td>0.493229</td>\n",
              "      <td>0.510333</td>\n",
              "      <td>0.553160</td>\n",
              "      <td>0.465693</td>\n",
              "      <td>0.193559</td>\n",
              "      <td>0.242869</td>\n",
              "      <td>0.122255</td>\n",
              "      <td>0.378944</td>\n",
              "      <td>0.304686</td>\n",
              "      <td>0.421920</td>\n",
              "      <td>0.159222</td>\n",
              "      <td>0.694113</td>\n",
              "    </tr>\n",
              "    <tr>\n",
              "      <th>63567</th>\n",
              "      <td>0.119529</td>\n",
              "      <td>0.757132</td>\n",
              "      <td>0.215942</td>\n",
              "      <td>0.446764</td>\n",
              "      <td>0.414178</td>\n",
              "      <td>0.455801</td>\n",
              "      <td>0.460879</td>\n",
              "      <td>0.481857</td>\n",
              "      <td>0.538205</td>\n",
              "      <td>0.440515</td>\n",
              "      <td>0.198306</td>\n",
              "      <td>0.249953</td>\n",
              "      <td>0.129389</td>\n",
              "      <td>0.381781</td>\n",
              "      <td>0.315878</td>\n",
              "      <td>0.434778</td>\n",
              "      <td>0.169323</td>\n",
              "      <td>0.701723</td>\n",
              "    </tr>\n",
              "  </tbody>\n",
              "</table>\n",
              "<p>63568 rows × 18 columns</p>\n",
              "</div>"
            ],
            "text/plain": [
              "        PRECTOT        PS      QV2M       T2M    T2MDEW    T2MWET   T2M_MAX  \\\n",
              "0      0.012368  0.925852  0.363263  0.343546  0.597658  0.591292  0.336442   \n",
              "1      0.107869  0.917340  0.424361  0.365590  0.651653  0.645891  0.337408   \n",
              "2      0.319828  0.911741  0.488723  0.382665  0.701241  0.696198  0.341340   \n",
              "3      0.272138  0.910642  0.483388  0.381493  0.699545  0.694401  0.341495   \n",
              "4      0.237434  0.910308  0.498203  0.389187  0.712535  0.707557  0.354926   \n",
              "...         ...       ...       ...       ...       ...       ...       ...   \n",
              "63563  0.036978  0.752243  0.229541  0.570981  0.422350  0.432232  0.594077   \n",
              "63564  0.066875  0.753308  0.231064  0.541313  0.424469  0.443593  0.561583   \n",
              "63565  0.086031  0.755348  0.218055  0.512183  0.413030  0.441259  0.530173   \n",
              "63566  0.107703  0.756068  0.207918  0.477627  0.404125  0.440892  0.493229   \n",
              "63567  0.119529  0.757132  0.215942  0.446764  0.414178  0.455801  0.460879   \n",
              "\n",
              "        T2M_MIN  T2M_RANGE        TS     WS10M  WS10M_MAX  WS10M_MIN  \\\n",
              "0      0.400992   0.427046  0.366207  0.201716   0.286604   0.211681   \n",
              "1      0.431559   0.371745  0.381523  0.233060   0.365411   0.197743   \n",
              "2      0.457937   0.330659  0.395543  0.225427   0.352744   0.197344   \n",
              "3      0.454101   0.338157  0.395062  0.221294   0.332175   0.196948   \n",
              "4      0.460260   0.354962  0.400073  0.214532   0.328494   0.188519   \n",
              "...         ...        ...       ...       ...        ...        ...   \n",
              "63563  0.591922   0.613204  0.550611  0.194814   0.237151   0.134139   \n",
              "63564  0.566311   0.592572  0.525185  0.198154   0.244811   0.132169   \n",
              "63565  0.540875   0.573921  0.496615  0.190403   0.238643   0.120284   \n",
              "63566  0.510333   0.553160  0.465693  0.193559   0.242869   0.122255   \n",
              "63567  0.481857   0.538205  0.440515  0.198306   0.249953   0.129389   \n",
              "\n",
              "       WS10M_RANGE     WS50M  WS50M_MAX  WS50M_MIN  WS50M_RANGE  \n",
              "0         0.336436  0.258895   0.319971   0.256376     0.358597  \n",
              "1         0.490780  0.308030   0.418415   0.264373     0.524618  \n",
              "2         0.469699  0.305886   0.398887   0.272356     0.476670  \n",
              "3         0.434517  0.300952   0.388052   0.272343     0.457115  \n",
              "4         0.439262  0.291547   0.382656   0.262074     0.463321  \n",
              "...            ...       ...        ...        ...          ...  \n",
              "63563     0.353488  0.298835   0.402851   0.173460     0.637424  \n",
              "63564     0.369250  0.308176   0.417425   0.173120     0.664410  \n",
              "63565     0.374271  0.297868   0.416320   0.153326     0.693137  \n",
              "63566     0.378944  0.304686   0.421920   0.159222     0.694113  \n",
              "63567     0.381781  0.315878   0.434778   0.169323     0.701723  \n",
              "\n",
              "[63568 rows x 18 columns]"
            ]
          },
          "execution_count": 8,
          "metadata": {},
          "output_type": "execute_result"
        }
      ],
      "source": [
        "from sklearn.preprocessing import MinMaxScaler\n",
        "X_norm = pd.DataFrame(MinMaxScaler().fit_transform(X),columns=X.columns)\n",
        "X_norm"
      ]
    },
    {
      "cell_type": "code",
      "execution_count": null,
      "metadata": {
        "id": "2kwtzLaFa06i"
      },
      "outputs": [],
      "source": [
        "import matplotlib.pyplot as plt"
      ]
    },
    {
      "cell_type": "code",
      "execution_count": null,
      "metadata": {
        "id": "aEDXYv67a06i",
        "outputId": "6e092b6c-f15c-4123-cef5-8ffc46e7f02e"
      },
      "outputs": [
        {
          "data": {
            "image/png": "[encoded data removed]",
            "text/plain": [
              "<Figure size 1440x1440 with 20 Axes>"
            ]
          },
          "metadata": {
            "needs_background": "light"
          },
          "output_type": "display_data"
        }
      ],
      "source": [
        "X_norm.hist(figsize=(20,20))\n",
        "plt.show()"
      ]
    },
    {
      "cell_type": "code",
      "execution_count": null,
      "metadata": {
        "id": "rNVo_863a06i",
        "outputId": "cdd749e7-b55c-48bb-ccf0-0e4fef16a3c3"
      },
      "outputs": [
        {
          "name": "stdout",
          "output_type": "stream",
          "text": [
            "[[0.01236823 0.92585174 0.36326296 ... 0.31997091 0.25637584 0.35859725]\n",
            " [0.10786934 0.91733964 0.42436088 ... 0.41841455 0.26437256 0.52461789]\n",
            " [0.31982801 0.91174148 0.48872333 ... 0.39888727 0.27235579 0.47667003]\n",
            " ...\n",
            " [0.08603069 0.75534816 0.21805516 ... 0.41632    0.15332597 0.69313678]\n",
            " [0.10770313 0.75606797 0.2079177  ... 0.42192    0.15922182 0.69411281]\n",
            " [0.11952919 0.75713213 0.21594207 ... 0.43477818 0.16932271 0.70172348]]\n",
            "[0 0 1 ... 0 0 0]\n",
            "[1 1 0 ... 0 0 0]\n",
            "[0 0 0 ... 0 0 0]\n",
            "[0 0 0 ... 1 1 1]\n",
            "[0 0 0 ... 0 0 0]\n",
            "[0 0 0 ... 0 0 0]\n"
          ]
        }
      ],
      "source": [
        "X_f = X_norm.to_numpy()\n",
        "print(X_f)\n",
        "# y_f = y_df.to_numpy()\n",
        "# print(y_f)\n",
        "# y_f = y_df.to_numpy()\n",
        "# print(y_f)\n",
        "y_f0 = y_df['PDSI_0.0'].to_numpy()\n",
        "print(y_f0)\n",
        "y_f1 = y_df['PDSI_1.0'].to_numpy()\n",
        "print(y_f1)\n",
        "y_f2 = y_df['PDSI_2.0'].to_numpy()\n",
        "print(y_f2)\n",
        "y_f3 = y_df['PDSI_3.0'].to_numpy()\n",
        "print(y_f3)\n",
        "y_f4 = y_df['PDSI_4.0'].to_numpy()\n",
        "print(y_f4)\n",
        "y_f5 = y_df['PDSI_5.0'].to_numpy()\n",
        "print(y_f5)"
      ]
    },
    {
      "cell_type": "code",
      "execution_count": null,
      "metadata": {
        "id": "BFmT11hMa06j"
      },
      "outputs": [],
      "source": [
        "from numpy import mean\n",
        "from numpy import std"
      ]
    },
    {
      "cell_type": "code",
      "execution_count": null,
      "metadata": {
        "id": "lH51piLja06j"
      },
      "outputs": [],
      "source": [
        "# Split the train and test dataset\n",
        "from sklearn.model_selection import train_test_split"
      ]
    },
    {
      "cell_type": "code",
      "execution_count": null,
      "metadata": {
        "id": "48euai0xa06j",
        "outputId": "b44f0fbe-6cc7-4160-fef9-3c77bf41d000"
      },
      "outputs": [
        {
          "name": "stdout",
          "output_type": "stream",
          "text": [
            "(44497, 18)\n",
            "(19071, 18)\n",
            "(44497,)\n",
            "(19071,)\n"
          ]
        }
      ],
      "source": [
        "xtrain , xtest , ytrain, ytest = train_test_split(X_f,y_f0, random_state = 42, test_size = 0.30, shuffle = True)\n",
        "\n",
        "print(xtrain.shape)\n",
        "print(xtest.shape)\n",
        "print(ytrain.shape)\n",
        "print(ytest.shape)"
      ]
    },
    {
      "cell_type": "code",
      "execution_count": null,
      "metadata": {
        "id": "lQ9CXxB4a06k",
        "outputId": "4e0f0f89-21e5-4750-93d9-c98855d43423"
      },
      "outputs": [
        {
          "name": "stdout",
          "output_type": "stream",
          "text": [
            "[0 1 0 ... 0 0 0]\n",
            "[0 1 0 ... 1 1 0]\n"
          ]
        }
      ],
      "source": [
        "print(ytrain)\n",
        "print(ytest)"
      ]
    },
    {
      "cell_type": "code",
      "execution_count": null,
      "metadata": {
        "id": "ElxQZr4xa06k"
      },
      "outputs": [],
      "source": [
        "# importing sigmoid function from keras backend and using it\n",
        "from keras.backend import sigmoid\n",
        "def swish(x,beta = 1):\n",
        "    return (x*sigmoid(beta*x))"
      ]
    },
    {
      "cell_type": "code",
      "execution_count": null,
      "metadata": {
        "id": "8e-WE8tNa06l"
      },
      "outputs": [],
      "source": [
        "# getting the custom object and updating them\n",
        "from keras.utils.generic_utils import get_custom_objects\n",
        "from keras.layers import Activation\n",
        "get_custom_objects().update({'swish': Activation(swish)})"
      ]
    },
    {
      "cell_type": "code",
      "execution_count": null,
      "metadata": {
        "id": "D52ADzoga06l"
      },
      "outputs": [],
      "source": [
        "# using SVM\n",
        "from numpy.random import seed\n",
        "seed(1)\n",
        "import sklearn as sk\n",
        "from sklearn.metrics import classification_report\n",
        "from sklearn.model_selection import cross_val_score\n",
        "from keras.layers import Dense\n",
        "from keras.models import Sequential\n",
        "from keras.wrappers.scikit_learn import KerasClassifier\n",
        "from sklearn.model_selection import StratifiedKFold\n",
        "# from sklearn.preprocessing import StandardScaler\n",
        "from sklearn.pipeline import Pipeline\n",
        "\n",
        "n_cols = xtrain.shape[1]\n",
        "n_rows = xtrain.shape[0]\n",
        "\n",
        "def create_baseline():\n",
        "    # create model\n",
        "    model = Sequential()\n",
        "    model.add(Dense(100,activation = 'swish',input_dim = n_cols))\n",
        "    model.add(Dense(50,activation = 'swish',input_dim = n_cols))\n",
        "    model.add(Dense(1,activation = 'sigmoid'))\n",
        "    # compile model\n",
        "    model.compile(optimizer = 'adam', loss = 'binary_crossentropy', metrics = ['accuracy'])\n",
        "    return model\n",
        "\n",
        "# # evaluate model\n",
        "# estimator = KerasClassifier(build_fn = create_baseline, epochs = 15, batch_size = 5, verbose = 0)\n",
        "# kfold = StratifiedKFold(n_splits = 5, shuffle = True)\n",
        "# results = cross_val_score(estimator, xtrain, ytrain, cv = kfold)\n",
        "# print(results)\n",
        "# print(\"Baseline: %.8f%%  (%.8f%%)\" % (results.mean()*100,results.std()*100))"
      ]
    },
    {
      "cell_type": "code",
      "execution_count": null,
      "metadata": {
        "id": "iM31XMk1a06l"
      },
      "outputs": [],
      "source": [
        "# model = Sequential()\n",
        "# model.add(Dense(100,activation='relu',input_dim=18))\n",
        "# model.add(Dense(1,activation='sigmoid'))\n",
        "# model.compile(optimizer='adam',loss='binary_crossentropy')\n",
        "# model.fit(xtrain,ytrain)"
      ]
    },
    {
      "cell_type": "code",
      "execution_count": null,
      "metadata": {
        "id": "RuRiH4c8a06l"
      },
      "outputs": [],
      "source": [
        "# predictions = model.predict(xtest)\n",
        "# print(predictions)"
      ]
    },
    {
      "cell_type": "code",
      "execution_count": null,
      "metadata": {
        "id": "FEptxP9pa06m",
        "outputId": "b92d9fb5-10b6-499a-e78b-53ee8b7b2cb0"
      },
      "outputs": [
        {
          "name": "stdout",
          "output_type": "stream",
          "text": [
            "WARNING:tensorflow:From C:\\Users\\ujjwal\\AppData\\Roaming\\Python\\Python38\\site-packages\\tensorflow\\python\\keras\\wrappers\\scikit_learn.py:241: Sequential.predict_classes (from tensorflow.python.keras.engine.sequential) is deprecated and will be removed after 2021-01-01.\n",
            "Instructions for updating:\n",
            "Please use instead:* `np.argmax(model.predict(x), axis=-1)`,   if your model does multi-class classification   (e.g. if it uses a `softmax` last-layer activation).* `(model.predict(x) > 0.5).astype(\"int32\")`,   if your model does binary classification   (e.g. if it uses a `sigmoid` last-layer activation).\n"
          ]
        },
        {
          "data": {
            "text/plain": [
              "array([[0],\n",
              "       [1],\n",
              "       [1],\n",
              "       ...,\n",
              "       [1],\n",
              "       [0],\n",
              "       [0]], dtype=uint8)"
            ]
          },
          "metadata": {},
          "output_type": "display_data"
        }
      ],
      "source": [
        "# predicting on first dataset\n",
        "estimator = KerasClassifier(build_fn = create_baseline, epochs = 10, batch_size = 5, verbose = 0)\n",
        "estimator.fit(xtrain,ytrain)\n",
        "y_pred = estimator.predict(xtest)\n",
        "display(y_pred)"
      ]
    },
    {
      "cell_type": "code",
      "execution_count": null,
      "metadata": {
        "id": "JaUkWveLa06m",
        "outputId": "fe8b8c82-7d0e-4a29-c93a-aad3f7f5cf28"
      },
      "outputs": [
        {
          "name": "stdout",
          "output_type": "stream",
          "text": [
            "[0 1 1 ... 1 0 0]\n",
            "[0 1 0 ... 1 1 0]\n"
          ]
        }
      ],
      "source": [
        "y_pred_f = [int(i[0]) for i in y_pred.tolist()]\n",
        "y_pred_f = np.array(y_pred_f)\n",
        "print(y_pred_f)\n",
        "ytest_f = [int(i) for i in ytest]\n",
        "ytest_f = np.array(ytest_f)\n",
        "print(ytest_f)"
      ]
    },
    {
      "cell_type": "code",
      "execution_count": null,
      "metadata": {
        "id": "L1YmIEWAa06m",
        "outputId": "e852208f-520b-4c86-8ec1-6f2d7296ccbc"
      },
      "outputs": [
        {
          "name": "stdout",
          "output_type": "stream",
          "text": [
            "accuracy_score: 0.6913114152377956\n",
            "f1_score: 0.6913114152377956\n",
            "              precision    recall  f1-score   support\n",
            "\n",
            "           0       0.67      0.89      0.76     10731\n",
            "           1       0.75      0.44      0.55      8340\n",
            "\n",
            "    accuracy                           0.69     19071\n",
            "   macro avg       0.71      0.66      0.66     19071\n",
            "weighted avg       0.71      0.69      0.67     19071\n",
            "\n"
          ]
        }
      ],
      "source": [
        "# evaluating f1-score\n",
        "from sklearn.metrics import f1_score,accuracy_score,classification_report\n",
        "print(\"accuracy_score:\", accuracy_score(ytest_f,y_pred_f))\n",
        "print(\"f1_score:\", f1_score(ytest_f,y_pred_f,average = 'micro'))\n",
        "print(classification_report(ytest_f,y_pred_f))"
      ]
    },
    {
      "cell_type": "markdown",
      "metadata": {
        "id": "DOOCtrfQa06m"
      },
      "source": [
        "https://machinelearningmastery.com/xgboost-for-imbalanced-classification/#:~:text=The%20XGBoost%20algorithm%20is%20effective,over%20the%20model%20training%20procedure.\n",
        "https://towardsdatascience.com/ensemble-learning-using-scikit-learn-85c4531ff86a"
      ]
    },
    {
      "cell_type": "code",
      "execution_count": null,
      "metadata": {
        "id": "HMuFA8Gya06n"
      },
      "outputs": [],
      "source": [
        "from sklearn import svm\n",
        "from sklearn.svm import SVC\n",
        "\n",
        "classifier = svm.SVC(kernel='rbf', C=2 ,gamma='scale').fit(xtrain, ytrain)"
      ]
    },
    {
      "cell_type": "code",
      "execution_count": null,
      "metadata": {
        "id": "tRKosUSJa06n"
      },
      "outputs": [],
      "source": [
        "y_pred = classifier.predict(xtest)"
      ]
    },
    {
      "cell_type": "code",
      "execution_count": null,
      "metadata": {
        "id": "kYZVjL96a06o",
        "outputId": "9a91c2fa-3635-4a8b-ebae-ed3a08496713"
      },
      "outputs": [
        {
          "name": "stdout",
          "output_type": "stream",
          "text": [
            "Accuracy :  0.7193120444654187\n",
            "accuracy_score: 0.7193120444654187\n",
            "f1_score: 0.7193120444654189\n",
            "              precision    recall  f1-score   support\n",
            "\n",
            "           0       0.71      0.85      0.77     10731\n",
            "           1       0.74      0.55      0.63      8340\n",
            "\n",
            "    accuracy                           0.72     19071\n",
            "   macro avg       0.73      0.70      0.70     19071\n",
            "weighted avg       0.72      0.72      0.71     19071\n",
            "\n"
          ]
        }
      ],
      "source": [
        "from sklearn.metrics import confusion_matrix\n",
        "cm = confusion_matrix(ytest, y_pred)\n",
        "from sklearn.metrics import accuracy_score \n",
        "print (\"Accuracy : \", accuracy_score(ytest, y_pred))\n",
        "# evaluating f1-score\n",
        "print(\"accuracy_score:\", accuracy_score(ytest,y_pred))\n",
        "print(\"f1_score:\", f1_score(ytest,y_pred,average = 'micro'))\n",
        "print(classification_report(ytest,y_pred))"
      ]
    },
    {
      "cell_type": "code",
      "execution_count": null,
      "metadata": {
        "id": "crDPiUhka06o",
        "outputId": "4d5c962e-8c90-4511-98b2-81113cb9d1e8"
      },
      "outputs": [
        {
          "data": {
            "text/plain": [
              "LogisticRegression(max_iter=500, penalty='none', random_state=0)"
            ]
          },
          "execution_count": 26,
          "metadata": {},
          "output_type": "execute_result"
        }
      ],
      "source": [
        "#logistic regression\n",
        "from sklearn.linear_model import LogisticRegression\n",
        "# LogReg_clf = LogisticRegression(random_state = 0, max_iter=15000, solver='saga',penalty='elasticnet',l1_ratio=1) #0.7118661842588223\n",
        "# LogReg_clf = LogisticRegression(random_state = 0, max_iter=10000, solver='liblinear',penalty='l1') 0.7112893922709873\n",
        "LogReg_clf = LogisticRegression(random_state = 0, max_iter=500, solver='lbfgs',penalty='none') # 0.7124954118819149\n",
        "LogReg_clf.fit(xtrain, ytrain)"
      ]
    },
    {
      "cell_type": "code",
      "execution_count": null,
      "metadata": {
        "id": "5mah_fr0a06o"
      },
      "outputs": [],
      "source": [
        "y_pred = LogReg_clf.predict(xtest)"
      ]
    },
    {
      "cell_type": "code",
      "execution_count": null,
      "metadata": {
        "id": "ZZegXz50a06o",
        "outputId": "6a7fe4c4-7c47-4a38-e590-f8ea1685f087"
      },
      "outputs": [
        {
          "name": "stdout",
          "output_type": "stream",
          "text": [
            "Accuracy :  0.6820827434324367\n",
            "accuracy_score: 0.6820827434324367\n",
            "f1_score: 0.6820827434324367\n",
            "              precision    recall  f1-score   support\n",
            "\n",
            "           0       0.68      0.82      0.74     10731\n",
            "           1       0.69      0.50      0.58      8340\n",
            "\n",
            "    accuracy                           0.68     19071\n",
            "   macro avg       0.68      0.66      0.66     19071\n",
            "weighted avg       0.68      0.68      0.67     19071\n",
            "\n"
          ]
        }
      ],
      "source": [
        "cm = confusion_matrix(ytest, y_pred)\n",
        "from sklearn.metrics import accuracy_score \n",
        "print (\"Accuracy : \", accuracy_score(ytest, y_pred))\n",
        "# evaluating f1-score\n",
        "print(\"accuracy_score:\", accuracy_score(ytest,y_pred))\n",
        "print(\"f1_score:\", f1_score(ytest,y_pred,average = 'micro'))\n",
        "print(classification_report(ytest,y_pred))"
      ]
    },
    {
      "cell_type": "code",
      "execution_count": null,
      "metadata": {
        "id": "VBiktir6a06o"
      },
      "outputs": [],
      "source": [
        "from xgboost import XGBClassifier\n",
        "\n",
        "xgbc = XGBClassifier() \n",
        "\n",
        "xgbc.fit(xtrain, ytrain)\n",
        "\n",
        "y_pred = xgbc.predict(xtest)"
      ]
    },
    {
      "cell_type": "code",
      "execution_count": null,
      "metadata": {
        "id": "iPFL4fEla06p",
        "outputId": "e4a1ccce-a4f0-4699-a71f-d1c4aa454be1"
      },
      "outputs": [
        {
          "name": "stdout",
          "output_type": "stream",
          "text": [
            "Accuracy :  0.7758900949084998\n",
            "accuracy_score: 0.7758900949084998\n",
            "f1_score: 0.7758900949084998\n",
            "              precision    recall  f1-score   support\n",
            "\n",
            "           0       0.77      0.85      0.81     10731\n",
            "           1       0.78      0.68      0.73      8340\n",
            "\n",
            "    accuracy                           0.78     19071\n",
            "   macro avg       0.78      0.77      0.77     19071\n",
            "weighted avg       0.78      0.78      0.77     19071\n",
            "\n"
          ]
        }
      ],
      "source": [
        "cm = confusion_matrix(ytest, y_pred)\n",
        "from sklearn.metrics import accuracy_score \n",
        "print (\"Accuracy : \", accuracy_score(ytest, y_pred))\n",
        "# evaluating f1-score\n",
        "print(\"accuracy_score:\", accuracy_score(ytest,y_pred))\n",
        "print(\"f1_score:\", f1_score(ytest,y_pred,average = 'micro'))\n",
        "print(classification_report(ytest,y_pred))"
      ]
    },
    {
      "cell_type": "code",
      "execution_count": null,
      "metadata": {
        "id": "s1rkqcWUa06p"
      },
      "outputs": [],
      "source": [
        "from sklearn import preprocessing\n",
        "from sklearn import utils\n",
        "from sklearn.neighbors import KNeighborsClassifier"
      ]
    },
    {
      "cell_type": "code",
      "execution_count": null,
      "metadata": {
        "id": "Lldim9N6a06p"
      },
      "outputs": [],
      "source": [
        "knn_clf = KNeighborsClassifier()\n",
        "knn_clf.fit(xtrain,ytrain)\n",
        "y_pred=knn_clf.predict(xtest)"
      ]
    },
    {
      "cell_type": "code",
      "execution_count": null,
      "metadata": {
        "id": "xpoL24ZYa06p",
        "outputId": "bb96e48e-cf6a-40a7-dbf1-6e4ec7dd0100"
      },
      "outputs": [
        {
          "name": "stdout",
          "output_type": "stream",
          "text": [
            "Accuracy :  0.8143254155524094\n",
            "accuracy_score: 0.8143254155524094\n",
            "f1_score: 0.8143254155524094\n",
            "              precision    recall  f1-score   support\n",
            "\n",
            "           0       0.83      0.85      0.84     10731\n",
            "           1       0.80      0.77      0.78      8340\n",
            "\n",
            "    accuracy                           0.81     19071\n",
            "   macro avg       0.81      0.81      0.81     19071\n",
            "weighted avg       0.81      0.81      0.81     19071\n",
            "\n"
          ]
        }
      ],
      "source": [
        "cm = confusion_matrix(ytest, y_pred)\n",
        "from sklearn.metrics import accuracy_score \n",
        "print (\"Accuracy : \", accuracy_score(ytest, y_pred))\n",
        "# evaluating f1-score\n",
        "print(\"accuracy_score:\", accuracy_score(ytest,y_pred))\n",
        "print(\"f1_score:\", f1_score(ytest,y_pred,average = 'micro'))\n",
        "print(classification_report(ytest,y_pred))"
      ]
    },
    {
      "cell_type": "code",
      "execution_count": null,
      "metadata": {
        "id": "Tu-bPArga06p",
        "outputId": "67a54dad-44ae-413e-c003-0693fa579914"
      },
      "outputs": [
        {
          "data": {
            "text/plain": [
              "VotingClassifier(estimators=[('knn', KNeighborsClassifier()),\n",
              "                             ('xgb',\n",
              "                              XGBClassifier(base_score=None, booster=None,\n",
              "                                            colsample_bylevel=None,\n",
              "                                            colsample_bynode=None,\n",
              "                                            colsample_bytree=None, gamma=None,\n",
              "                                            gpu_id=None, importance_type='gain',\n",
              "                                            interaction_constraints=None,\n",
              "                                            learning_rate=None,\n",
              "                                            max_delta_step=None, max_depth=None,\n",
              "                                            min_child_weight=None, missing=nan,\n",
              "                                            monotone_constraints=None,\n",
              "                                            n_estimators=100, n_jobs=None,\n",
              "                                            num_parallel_tree=None,\n",
              "                                            random_state=None, reg_alpha=None,\n",
              "                                            reg_lambda=None,\n",
              "                                            scale_pos_weight=None,\n",
              "                                            subsample=None, tree_method=None,\n",
              "                                            validate_parameters=None,\n",
              "                                            verbosity=None)),\n",
              "                             ('svm', SVC(C=2))])"
            ]
          },
          "execution_count": 36,
          "metadata": {},
          "output_type": "execute_result"
        }
      ],
      "source": [
        "from sklearn.ensemble import VotingClassifier\n",
        "# estimators=[('ann', KerasClassifier(build_fn = create_baseline, epochs = 10, batch_size = 5, verbose = 0)), ('svm', svm.SVC(kernel='rbf', C=2 ,gamma='scale')), ('log_reg', LogisticRegression(random_state = 0, max_iter=500, solver='lbfgs',penalty='none'))]\n",
        "estimators=[('knn',KNeighborsClassifier()),('xgb',XGBClassifier()), ('svm', svm.SVC(kernel='rbf', C=2 ,gamma='scale'))]\n",
        "ensemble = VotingClassifier(estimators, voting='hard')\n",
        "ensemble.fit(xtrain, ytrain)"
      ]
    },
    {
      "cell_type": "code",
      "execution_count": null,
      "metadata": {
        "id": "CDUt-F01a06q"
      },
      "outputs": [],
      "source": [
        "y_pred = ensemble.predict(xtest)"
      ]
    },
    {
      "cell_type": "code",
      "execution_count": null,
      "metadata": {
        "id": "i9UzLURRa06q",
        "outputId": "77fd72a4-67b6-4643-9d47-468aebc397f2"
      },
      "outputs": [
        {
          "name": "stdout",
          "output_type": "stream",
          "text": [
            "Accuracy :  0.7839651827381888\n",
            "accuracy_score: 0.7839651827381888\n",
            "f1_score: 0.7839651827381888\n",
            "              precision    recall  f1-score   support\n",
            "\n",
            "           0       0.77      0.88      0.82     10731\n",
            "           1       0.81      0.66      0.73      8340\n",
            "\n",
            "    accuracy                           0.78     19071\n",
            "   macro avg       0.79      0.77      0.77     19071\n",
            "weighted avg       0.79      0.78      0.78     19071\n",
            "\n"
          ]
        }
      ],
      "source": [
        "cm = confusion_matrix(ytest, y_pred)\n",
        "from sklearn.metrics import accuracy_score \n",
        "print (\"Accuracy : \", accuracy_score(ytest, y_pred))\n",
        "# evaluating f1-score\n",
        "print(\"accuracy_score:\", accuracy_score(ytest,y_pred))\n",
        "print(\"f1_score:\", f1_score(ytest,y_pred,average = 'micro'))\n",
        "print(classification_report(ytest,y_pred))"
      ]
    }
  ],
  "metadata": {
    "kernelspec": {
      "display_name": "Python 3",
      "language": "python",
      "name": "python3"
    },
    "language_info": {
      "codemirror_mode": {
        "name": "ipython",
        "version": 3
      },
      "file_extension": ".py",
      "mimetype": "text/x-python",
      "name": "python",
      "nbconvert_exporter": "python",
      "pygments_lexer": "ipython3",
      "version": "3.8.3"
    },
    "colab": {
      "name": "90_days_data_drought_or_not_stacking_ensemble.ipynb",
      "provenance": [],
      "include_colab_link": true
    }
  },
  "nbformat": 4,
  "nbformat_minor": 0
}