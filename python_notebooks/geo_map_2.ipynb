{
  "cells": [
    {
      "cell_type": "markdown",
      "metadata": {
        "id": "view-in-github",
        "colab_type": "text"
      },
      "source": [
        "<a href=\"https://colab.research.google.com/github/ujjwalbb30/Azure_Nanodegree_AutoML_Classification/blob/master/python_notebooks/geo_map_2.ipynb\" target=\"_parent\"><img src=\"https://colab.research.google.com/assets/colab-badge.svg\" alt=\"Open In Colab\"/></a>"
      ]
    },
    {
      "cell_type": "code",
      "execution_count": null,
      "metadata": {
        "id": "PFFvujgYcMjl"
      },
      "outputs": [],
      "source": [
        "import pandas as pd\n",
        "import numpy as np"
      ]
    },
    {
      "cell_type": "code",
      "execution_count": null,
      "metadata": {
        "id": "TwOEtlJPcMjm"
      },
      "outputs": [],
      "source": [
        "cal_90d_agg = pd.read_csv('drought dataset/ninety_days_aggregated_data_ca_drought.csv')\n",
        "cal_90d_agg = cal_90d_agg.drop(columns=['Unnamed: 0'])"
      ]
    },
    {
      "cell_type": "code",
      "execution_count": null,
      "metadata": {
        "id": "810bKtBlcMjn",
        "outputId": "5aa91646-fb8c-4b5a-9b96-10bb3ba92af7"
      },
      "outputs": [
        {
          "name": "stdout",
          "output_type": "stream",
          "text": [
            "[6001. 6003. 6005. 6007. 6009. 6011. 6013. 6015. 6017. 6019. 6021. 6023.\n",
            " 6025. 6027. 6029. 6031. 6033. 6035. 6037. 6039. 6041. 6043. 6045. 6047.\n",
            " 6049. 6051. 6053. 6055. 6057. 6059. 6061. 6063. 6065. 6067. 6069. 6071.\n",
            " 6073. 6075. 6077. 6079. 6081. 6083. 6085. 6087. 6089. 6091. 6093. 6095.\n",
            " 6097. 6099. 6101. 6103. 6105. 6107. 6109. 6111. 6113. 6115.]\n",
            "58\n"
          ]
        }
      ],
      "source": [
        "unique_fips = cal_90d_agg['fips'].unique()\n",
        "print(unique_fips)\n",
        "print(len(unique_fips))"
      ]
    },
    {
      "cell_type": "code",
      "execution_count": null,
      "metadata": {
        "id": "sZtDHxTrcMjo",
        "outputId": "df1a40e3-a5de-48e8-be89-68ac1ef712ca"
      },
      "outputs": [
        {
          "name": "stdout",
          "output_type": "stream",
          "text": [
            "[6001 6003 6005 6007 6009 6011 6013 6015 6017 6019 6021 6023 6025 6027\n",
            " 6029 6031 6033 6035 6037 6039 6041 6043 6045 6047 6049 6051 6053 6055\n",
            " 6057 6059 6061 6063 6065 6067 6069 6071 6073 6075 6077 6079 6081 6083\n",
            " 6085 6087 6089 6091 6093 6095 6097 6099 6101 6103 6105 6107 6109 6111\n",
            " 6113 6115]\n"
          ]
        }
      ],
      "source": [
        "ca_fips = unique_fips.astype(int)\n",
        "print(ca_fips)"
      ]
    },
    {
      "cell_type": "code",
      "execution_count": null,
      "metadata": {
        "id": "ijWtVQ8PcMjo",
        "outputId": "9699fa45-4115-4277-b3d4-78020145e789"
      },
      "outputs": [
        {
          "data": {
            "text/html": [
              "<div>\n",
              "<style scoped>\n",
              "    .dataframe tbody tr th:only-of-type {\n",
              "        vertical-align: middle;\n",
              "    }\n",
              "\n",
              "    .dataframe tbody tr th {\n",
              "        vertical-align: top;\n",
              "    }\n",
              "\n",
              "    .dataframe thead th {\n",
              "        text-align: right;\n",
              "    }\n",
              "</style>\n",
              "<table border=\"1\" class=\"dataframe\">\n",
              "  <thead>\n",
              "    <tr style=\"text-align: right;\">\n",
              "      <th></th>\n",
              "      <th>fips</th>\n",
              "      <th>PRECTOT</th>\n",
              "      <th>PS</th>\n",
              "      <th>QV2M</th>\n",
              "      <th>T2M</th>\n",
              "      <th>T2MDEW</th>\n",
              "      <th>T2MWET</th>\n",
              "      <th>T2M_MAX</th>\n",
              "      <th>T2M_MIN</th>\n",
              "      <th>T2M_RANGE</th>\n",
              "      <th>TS</th>\n",
              "      <th>WS10M</th>\n",
              "      <th>WS10M_MAX</th>\n",
              "      <th>WS10M_MIN</th>\n",
              "      <th>WS10M_RANGE</th>\n",
              "      <th>WS50M</th>\n",
              "      <th>WS50M_MAX</th>\n",
              "      <th>WS50M_MIN</th>\n",
              "      <th>WS50M_RANGE</th>\n",
              "      <th>score</th>\n",
              "    </tr>\n",
              "  </thead>\n",
              "  <tbody>\n",
              "    <tr>\n",
              "      <th>0</th>\n",
              "      <td>6001.0</td>\n",
              "      <td>0.196000</td>\n",
              "      <td>100.487000</td>\n",
              "      <td>5.158000</td>\n",
              "      <td>7.692000</td>\n",
              "      <td>3.782000</td>\n",
              "      <td>3.810000</td>\n",
              "      <td>13.969000</td>\n",
              "      <td>3.687000</td>\n",
              "      <td>10.283000</td>\n",
              "      <td>7.392000</td>\n",
              "      <td>2.666000</td>\n",
              "      <td>4.207000</td>\n",
              "      <td>1.488000</td>\n",
              "      <td>2.719000</td>\n",
              "      <td>4.001000</td>\n",
              "      <td>5.938000</td>\n",
              "      <td>2.173000</td>\n",
              "      <td>3.766000</td>\n",
              "      <td>0.6079</td>\n",
              "    </tr>\n",
              "    <tr>\n",
              "      <th>1</th>\n",
              "      <td>6001.0</td>\n",
              "      <td>1.709412</td>\n",
              "      <td>100.257059</td>\n",
              "      <td>5.701765</td>\n",
              "      <td>8.592941</td>\n",
              "      <td>5.245294</td>\n",
              "      <td>5.262941</td>\n",
              "      <td>14.011176</td>\n",
              "      <td>4.871765</td>\n",
              "      <td>9.138824</td>\n",
              "      <td>8.114706</td>\n",
              "      <td>2.854706</td>\n",
              "      <td>4.770588</td>\n",
              "      <td>1.411765</td>\n",
              "      <td>3.357647</td>\n",
              "      <td>4.334118</td>\n",
              "      <td>6.690000</td>\n",
              "      <td>2.225294</td>\n",
              "      <td>4.465294</td>\n",
              "      <td>0.5036</td>\n",
              "    </tr>\n",
              "    <tr>\n",
              "      <th>2</th>\n",
              "      <td>6001.0</td>\n",
              "      <td>5.068333</td>\n",
              "      <td>100.105833</td>\n",
              "      <td>6.274583</td>\n",
              "      <td>9.290833</td>\n",
              "      <td>6.589167</td>\n",
              "      <td>6.601667</td>\n",
              "      <td>14.182917</td>\n",
              "      <td>5.894167</td>\n",
              "      <td>8.288750</td>\n",
              "      <td>8.776250</td>\n",
              "      <td>2.808750</td>\n",
              "      <td>4.680000</td>\n",
              "      <td>1.409583</td>\n",
              "      <td>3.270417</td>\n",
              "      <td>4.319583</td>\n",
              "      <td>6.540833</td>\n",
              "      <td>2.277500</td>\n",
              "      <td>4.263333</td>\n",
              "      <td>0.0000</td>\n",
              "    </tr>\n",
              "    <tr>\n",
              "      <th>3</th>\n",
              "      <td>6001.0</td>\n",
              "      <td>4.312581</td>\n",
              "      <td>100.076129</td>\n",
              "      <td>6.227097</td>\n",
              "      <td>9.242903</td>\n",
              "      <td>6.543226</td>\n",
              "      <td>6.553871</td>\n",
              "      <td>14.189677</td>\n",
              "      <td>5.745484</td>\n",
              "      <td>8.443871</td>\n",
              "      <td>8.753548</td>\n",
              "      <td>2.783871</td>\n",
              "      <td>4.532903</td>\n",
              "      <td>1.407419</td>\n",
              "      <td>3.124839</td>\n",
              "      <td>4.286129</td>\n",
              "      <td>6.458065</td>\n",
              "      <td>2.277419</td>\n",
              "      <td>4.180968</td>\n",
              "      <td>0.0000</td>\n",
              "    </tr>\n",
              "    <tr>\n",
              "      <th>4</th>\n",
              "      <td>6001.0</td>\n",
              "      <td>3.762632</td>\n",
              "      <td>100.067105</td>\n",
              "      <td>6.358947</td>\n",
              "      <td>9.557368</td>\n",
              "      <td>6.895263</td>\n",
              "      <td>6.903947</td>\n",
              "      <td>14.776316</td>\n",
              "      <td>5.984211</td>\n",
              "      <td>8.791579</td>\n",
              "      <td>8.990000</td>\n",
              "      <td>2.743158</td>\n",
              "      <td>4.506579</td>\n",
              "      <td>1.361316</td>\n",
              "      <td>3.144474</td>\n",
              "      <td>4.222368</td>\n",
              "      <td>6.416842</td>\n",
              "      <td>2.210263</td>\n",
              "      <td>4.207105</td>\n",
              "      <td>0.0000</td>\n",
              "    </tr>\n",
              "  </tbody>\n",
              "</table>\n",
              "</div>"
            ],
            "text/plain": [
              "     fips   PRECTOT          PS      QV2M       T2M    T2MDEW    T2MWET  \\\n",
              "0  6001.0  0.196000  100.487000  5.158000  7.692000  3.782000  3.810000   \n",
              "1  6001.0  1.709412  100.257059  5.701765  8.592941  5.245294  5.262941   \n",
              "2  6001.0  5.068333  100.105833  6.274583  9.290833  6.589167  6.601667   \n",
              "3  6001.0  4.312581  100.076129  6.227097  9.242903  6.543226  6.553871   \n",
              "4  6001.0  3.762632  100.067105  6.358947  9.557368  6.895263  6.903947   \n",
              "\n",
              "     T2M_MAX   T2M_MIN  T2M_RANGE        TS     WS10M  WS10M_MAX  WS10M_MIN  \\\n",
              "0  13.969000  3.687000  10.283000  7.392000  2.666000   4.207000   1.488000   \n",
              "1  14.011176  4.871765   9.138824  8.114706  2.854706   4.770588   1.411765   \n",
              "2  14.182917  5.894167   8.288750  8.776250  2.808750   4.680000   1.409583   \n",
              "3  14.189677  5.745484   8.443871  8.753548  2.783871   4.532903   1.407419   \n",
              "4  14.776316  5.984211   8.791579  8.990000  2.743158   4.506579   1.361316   \n",
              "\n",
              "   WS10M_RANGE     WS50M  WS50M_MAX  WS50M_MIN  WS50M_RANGE   score  \n",
              "0     2.719000  4.001000   5.938000   2.173000     3.766000  0.6079  \n",
              "1     3.357647  4.334118   6.690000   2.225294     4.465294  0.5036  \n",
              "2     3.270417  4.319583   6.540833   2.277500     4.263333  0.0000  \n",
              "3     3.124839  4.286129   6.458065   2.277419     4.180968  0.0000  \n",
              "4     3.144474  4.222368   6.416842   2.210263     4.207105  0.0000  "
            ]
          },
          "execution_count": 5,
          "metadata": {},
          "output_type": "execute_result"
        }
      ],
      "source": [
        "cal_90d_agg.head()"
      ]
    },
    {
      "cell_type": "code",
      "execution_count": null,
      "metadata": {
        "id": "pa1bquuicMjo",
        "outputId": "5c493876-9878-47dd-cd74-97581fe466da"
      },
      "outputs": [
        {
          "data": {
            "text/html": [
              "<div>\n",
              "<style scoped>\n",
              "    .dataframe tbody tr th:only-of-type {\n",
              "        vertical-align: middle;\n",
              "    }\n",
              "\n",
              "    .dataframe tbody tr th {\n",
              "        vertical-align: top;\n",
              "    }\n",
              "\n",
              "    .dataframe thead th {\n",
              "        text-align: right;\n",
              "    }\n",
              "</style>\n",
              "<table border=\"1\" class=\"dataframe\">\n",
              "  <thead>\n",
              "    <tr style=\"text-align: right;\">\n",
              "      <th></th>\n",
              "      <th>PRECTOT</th>\n",
              "      <th>PS</th>\n",
              "      <th>QV2M</th>\n",
              "      <th>T2M</th>\n",
              "      <th>T2MDEW</th>\n",
              "      <th>T2MWET</th>\n",
              "      <th>T2M_MAX</th>\n",
              "      <th>T2M_MIN</th>\n",
              "      <th>T2M_RANGE</th>\n",
              "      <th>TS</th>\n",
              "      <th>WS10M</th>\n",
              "      <th>WS10M_MAX</th>\n",
              "      <th>WS10M_MIN</th>\n",
              "      <th>WS10M_RANGE</th>\n",
              "      <th>WS50M</th>\n",
              "      <th>WS50M_MAX</th>\n",
              "      <th>WS50M_MIN</th>\n",
              "      <th>WS50M_RANGE</th>\n",
              "    </tr>\n",
              "  </thead>\n",
              "  <tbody>\n",
              "    <tr>\n",
              "      <th>0</th>\n",
              "      <td>0.196000</td>\n",
              "      <td>100.487000</td>\n",
              "      <td>5.158000</td>\n",
              "      <td>7.692000</td>\n",
              "      <td>3.782000</td>\n",
              "      <td>3.810000</td>\n",
              "      <td>13.969000</td>\n",
              "      <td>3.687000</td>\n",
              "      <td>10.283000</td>\n",
              "      <td>7.392000</td>\n",
              "      <td>2.666000</td>\n",
              "      <td>4.207000</td>\n",
              "      <td>1.488000</td>\n",
              "      <td>2.719000</td>\n",
              "      <td>4.001000</td>\n",
              "      <td>5.938000</td>\n",
              "      <td>2.173000</td>\n",
              "      <td>3.766000</td>\n",
              "    </tr>\n",
              "    <tr>\n",
              "      <th>1</th>\n",
              "      <td>1.709412</td>\n",
              "      <td>100.257059</td>\n",
              "      <td>5.701765</td>\n",
              "      <td>8.592941</td>\n",
              "      <td>5.245294</td>\n",
              "      <td>5.262941</td>\n",
              "      <td>14.011176</td>\n",
              "      <td>4.871765</td>\n",
              "      <td>9.138824</td>\n",
              "      <td>8.114706</td>\n",
              "      <td>2.854706</td>\n",
              "      <td>4.770588</td>\n",
              "      <td>1.411765</td>\n",
              "      <td>3.357647</td>\n",
              "      <td>4.334118</td>\n",
              "      <td>6.690000</td>\n",
              "      <td>2.225294</td>\n",
              "      <td>4.465294</td>\n",
              "    </tr>\n",
              "    <tr>\n",
              "      <th>2</th>\n",
              "      <td>5.068333</td>\n",
              "      <td>100.105833</td>\n",
              "      <td>6.274583</td>\n",
              "      <td>9.290833</td>\n",
              "      <td>6.589167</td>\n",
              "      <td>6.601667</td>\n",
              "      <td>14.182917</td>\n",
              "      <td>5.894167</td>\n",
              "      <td>8.288750</td>\n",
              "      <td>8.776250</td>\n",
              "      <td>2.808750</td>\n",
              "      <td>4.680000</td>\n",
              "      <td>1.409583</td>\n",
              "      <td>3.270417</td>\n",
              "      <td>4.319583</td>\n",
              "      <td>6.540833</td>\n",
              "      <td>2.277500</td>\n",
              "      <td>4.263333</td>\n",
              "    </tr>\n",
              "    <tr>\n",
              "      <th>3</th>\n",
              "      <td>4.312581</td>\n",
              "      <td>100.076129</td>\n",
              "      <td>6.227097</td>\n",
              "      <td>9.242903</td>\n",
              "      <td>6.543226</td>\n",
              "      <td>6.553871</td>\n",
              "      <td>14.189677</td>\n",
              "      <td>5.745484</td>\n",
              "      <td>8.443871</td>\n",
              "      <td>8.753548</td>\n",
              "      <td>2.783871</td>\n",
              "      <td>4.532903</td>\n",
              "      <td>1.407419</td>\n",
              "      <td>3.124839</td>\n",
              "      <td>4.286129</td>\n",
              "      <td>6.458065</td>\n",
              "      <td>2.277419</td>\n",
              "      <td>4.180968</td>\n",
              "    </tr>\n",
              "    <tr>\n",
              "      <th>4</th>\n",
              "      <td>3.762632</td>\n",
              "      <td>100.067105</td>\n",
              "      <td>6.358947</td>\n",
              "      <td>9.557368</td>\n",
              "      <td>6.895263</td>\n",
              "      <td>6.903947</td>\n",
              "      <td>14.776316</td>\n",
              "      <td>5.984211</td>\n",
              "      <td>8.791579</td>\n",
              "      <td>8.990000</td>\n",
              "      <td>2.743158</td>\n",
              "      <td>4.506579</td>\n",
              "      <td>1.361316</td>\n",
              "      <td>3.144474</td>\n",
              "      <td>4.222368</td>\n",
              "      <td>6.416842</td>\n",
              "      <td>2.210263</td>\n",
              "      <td>4.207105</td>\n",
              "    </tr>\n",
              "  </tbody>\n",
              "</table>\n",
              "</div>"
            ],
            "text/plain": [
              "    PRECTOT          PS      QV2M       T2M    T2MDEW    T2MWET    T2M_MAX  \\\n",
              "0  0.196000  100.487000  5.158000  7.692000  3.782000  3.810000  13.969000   \n",
              "1  1.709412  100.257059  5.701765  8.592941  5.245294  5.262941  14.011176   \n",
              "2  5.068333  100.105833  6.274583  9.290833  6.589167  6.601667  14.182917   \n",
              "3  4.312581  100.076129  6.227097  9.242903  6.543226  6.553871  14.189677   \n",
              "4  3.762632  100.067105  6.358947  9.557368  6.895263  6.903947  14.776316   \n",
              "\n",
              "    T2M_MIN  T2M_RANGE        TS     WS10M  WS10M_MAX  WS10M_MIN  WS10M_RANGE  \\\n",
              "0  3.687000  10.283000  7.392000  2.666000   4.207000   1.488000     2.719000   \n",
              "1  4.871765   9.138824  8.114706  2.854706   4.770588   1.411765     3.357647   \n",
              "2  5.894167   8.288750  8.776250  2.808750   4.680000   1.409583     3.270417   \n",
              "3  5.745484   8.443871  8.753548  2.783871   4.532903   1.407419     3.124839   \n",
              "4  5.984211   8.791579  8.990000  2.743158   4.506579   1.361316     3.144474   \n",
              "\n",
              "      WS50M  WS50M_MAX  WS50M_MIN  WS50M_RANGE  \n",
              "0  4.001000   5.938000   2.173000     3.766000  \n",
              "1  4.334118   6.690000   2.225294     4.465294  \n",
              "2  4.319583   6.540833   2.277500     4.263333  \n",
              "3  4.286129   6.458065   2.277419     4.180968  \n",
              "4  4.222368   6.416842   2.210263     4.207105  "
            ]
          },
          "execution_count": 6,
          "metadata": {},
          "output_type": "execute_result"
        }
      ],
      "source": [
        "X = cal_90d_agg.drop(columns = ['fips','score'])\n",
        "X.head()"
      ]
    },
    {
      "cell_type": "code",
      "execution_count": null,
      "metadata": {
        "id": "OF9eBYhDcMjp",
        "outputId": "ce8238c9-05e2-4dbf-c41f-b40e1fd20173"
      },
      "outputs": [
        {
          "data": {
            "text/plain": [
              "0    1.0\n",
              "1    1.0\n",
              "2    0.0\n",
              "3    0.0\n",
              "4    0.0\n",
              "Name: score, dtype: float64"
            ]
          },
          "execution_count": 7,
          "metadata": {},
          "output_type": "execute_result"
        }
      ],
      "source": [
        "y, y_f, y_c = cal_90d_agg['score'].round(), cal_90d_agg['score'].apply(np.floor), cal_90d_agg['score'].apply(np.ceil)\n",
        "y.head()"
      ]
    },
    {
      "cell_type": "code",
      "execution_count": null,
      "metadata": {
        "id": "mgFUWIW9cMjp",
        "outputId": "f2a15367-6eaf-479e-b6a0-5fe292c1d4a5"
      },
      "outputs": [
        {
          "name": "stdout",
          "output_type": "stream",
          "text": [
            "0.0    27785\n",
            "1.0    10371\n",
            "2.0     9985\n",
            "3.0     7722\n",
            "4.0     3911\n",
            "5.0     3794\n",
            "Name: score, dtype: int64\n",
            "0.0    31026\n",
            "1.0    10637\n",
            "2.0     9723\n",
            "3.0     6167\n",
            "4.0     3808\n",
            "5.0     2207\n",
            "Name: score, dtype: int64\n",
            "0.0    23215\n",
            "1.0    11261\n",
            "2.0    10427\n",
            "3.0     9533\n",
            "5.0     4798\n",
            "4.0     4334\n",
            "Name: score, dtype: int64\n"
          ]
        }
      ],
      "source": [
        "print(y.value_counts())\n",
        "print(y_f.value_counts())\n",
        "print(y_c.value_counts())"
      ]
    },
    {
      "cell_type": "code",
      "execution_count": null,
      "metadata": {
        "id": "Nu9Pt4HfcMjp",
        "outputId": "96d63ea8-ce02-401c-f116-9d47fc999ab9"
      },
      "outputs": [
        {
          "name": "stdout",
          "output_type": "stream",
          "text": [
            "   PDSI_0.0  PDSI_1.0  PDSI_2.0  PDSI_3.0  PDSI_4.0  PDSI_5.0\n",
            "0         0         1         0         0         0         0\n",
            "1         0         1         0         0         0         0\n",
            "2         1         0         0         0         0         0\n",
            "3         1         0         0         0         0         0\n",
            "4         1         0         0         0         0         0\n",
            "0    35783\n",
            "1    27785\n",
            "Name: PDSI_0.0, dtype: int64\n"
          ]
        }
      ],
      "source": [
        "y_df = pd.get_dummies(y,prefix='PDSI')\n",
        "print(y_df.head())\n",
        "print(y_df['PDSI_0.0'].value_counts())"
      ]
    },
    {
      "cell_type": "markdown",
      "metadata": {
        "id": "vPy1zdlLcMjq"
      },
      "source": [
        "https://sailajakarra.medium.com/ensemble-scikit-learn-and-keras-be93206c54c4\n",
        "\n",
        "https://machinelearningmastery.com/calculate-feature-importance-with-python/\n",
        "\n",
        "https://machinelearningmastery.com/feature-selection-with-real-and-categorical-data/\n",
        "\n",
        "https://machinelearningmastery.com/how-to-use-statistics-to-identify-outliers-in-data/\n",
        "\n",
        "https://towardsdatascience.com/level-up-your-visualizations-make-interactive-maps-with-python-and-bokeh-7a8c1da911fd\n",
        "\n",
        "https://plotly.com/python/county-choropleth/#deprecation-warning\n",
        "\n",
        "https://levelup.gitconnected.com/using-python-for-geographical-plotting-d9328fb8cfab"
      ]
    },
    {
      "cell_type": "code",
      "execution_count": null,
      "metadata": {
        "id": "3nM-dhXScMjr",
        "outputId": "02e23797-a7a2-4b07-ac0a-5eb9899e49d1"
      },
      "outputs": [
        {
          "name": "stdout",
          "output_type": "stream",
          "text": [
            "       FIPS        Name State\n",
            "0      1001     Autauga    AL\n",
            "1      1003     Baldwin    AL\n",
            "2      1005     Barbour    AL\n",
            "3      1007        Bibb    AL\n",
            "4      1009      Blount    AL\n",
            "...     ...         ...   ...\n",
            "3227  72151     Yabucoa    PR\n",
            "3228  72153       Yauco    PR\n",
            "3229  78010   St. Croix    VI\n",
            "3230  78020    St. John    VI\n",
            "3231  78030  St. Thomas    VI\n",
            "\n",
            "[3232 rows x 3 columns]\n"
          ]
        }
      ],
      "source": [
        "fips_ni = pd.read_excel('drought dataset/fips.xlsx')\n",
        "print(fips_ni)"
      ]
    },
    {
      "cell_type": "code",
      "execution_count": null,
      "metadata": {
        "id": "OFK5nSvJcMjs",
        "outputId": "7b7d1dec-f846-4ace-9f47-3c7b414e7778"
      },
      "outputs": [
        {
          "name": "stdout",
          "output_type": "stream",
          "text": [
            "     FIPS             Name State\n",
            "184  6001          Alameda    CA\n",
            "185  6003           Alpine    CA\n",
            "186  6005           Amador    CA\n",
            "187  6007            Butte    CA\n",
            "188  6009        Calaveras    CA\n",
            "189  6011           Colusa    CA\n",
            "190  6013     Contra Costa    CA\n",
            "191  6015        Del Norte    CA\n",
            "192  6017        El Dorado    CA\n",
            "193  6019           Fresno    CA\n",
            "194  6021            Glenn    CA\n",
            "195  6023         Humboldt    CA\n",
            "196  6025         Imperial    CA\n",
            "197  6027             Inyo    CA\n",
            "198  6029             Kern    CA\n",
            "199  6031            Kings    CA\n",
            "200  6033             Lake    CA\n",
            "201  6035           Lassen    CA\n",
            "202  6037      Los Angeles    CA\n",
            "203  6039           Madera    CA\n",
            "204  6041            Marin    CA\n",
            "205  6043         Mariposa    CA\n",
            "206  6045        Mendocino    CA\n",
            "207  6047           Merced    CA\n",
            "208  6049            Modoc    CA\n",
            "209  6051             Mono    CA\n",
            "210  6053         Monterey    CA\n",
            "211  6055             Napa    CA\n",
            "212  6057           Nevada    CA\n",
            "213  6059           Orange    CA\n",
            "214  6061           Placer    CA\n",
            "215  6063           Plumas    CA\n",
            "216  6065        Riverside    CA\n",
            "217  6067       Sacramento    CA\n",
            "218  6069       San Benito    CA\n",
            "219  6071   San Bernardino    CA\n",
            "220  6073        San Diego    CA\n",
            "221  6075    San Francisco    CA\n",
            "222  6077      San Joaquin    CA\n",
            "223  6079  San Luis Obispo    CA\n",
            "224  6081        San Mateo    CA\n",
            "225  6083    Santa Barbara    CA\n",
            "226  6085      Santa Clara    CA\n",
            "227  6087       Santa Cruz    CA\n",
            "228  6089           Shasta    CA\n",
            "229  6091           Sierra    CA\n",
            "230  6093         Siskiyou    CA\n",
            "231  6095           Solano    CA\n",
            "232  6097           Sonoma    CA\n",
            "233  6099       Stanislaus    CA\n",
            "234  6101           Sutter    CA\n",
            "235  6103           Tehama    CA\n",
            "236  6105          Trinity    CA\n",
            "237  6107           Tulare    CA\n",
            "238  6109         Tuolumne    CA\n",
            "239  6111          Ventura    CA\n",
            "240  6113             Yolo    CA\n",
            "241  6115             Yuba    CA\n",
            "(58, 3)\n"
          ]
        }
      ],
      "source": [
        "fips_n1 = fips_ni[fips_ni.FIPS.isin(ca_fips)][['FIPS','Name','State']]\n",
        "print(fips_n1)\n",
        "print(fips_n1.shape)"
      ]
    },
    {
      "cell_type": "code",
      "execution_count": null,
      "metadata": {
        "id": "HK_8hvQgcMjs"
      },
      "outputs": [],
      "source": [
        "soil_data = pd.read_csv('drought dataset/soil_data.csv')"
      ]
    },
    {
      "cell_type": "code",
      "execution_count": null,
      "metadata": {
        "id": "krgKziK1cMjt",
        "outputId": "89552aa7-4cd4-41c0-ec6e-d75fd5655bf9"
      },
      "outputs": [
        {
          "name": "stdout",
          "output_type": "stream",
          "text": [
            "   fips        lat        lon  elevation  slope1  slope2  slope3  slope4  \\\n",
            "0  1001  32.536382 -86.644490         63  0.0419  0.2788  0.2984  0.2497   \n",
            "1  1005  31.870670 -85.405456        146  0.0158  0.1868  0.5441  0.2424   \n",
            "2  1003  30.659218 -87.746067         52  0.0746  0.4370  0.4415  0.0469   \n",
            "3  1007  33.015893 -87.127148         93  0.0144  0.1617  0.3714  0.3493   \n",
            "4  1009  33.977448 -86.567246        198  0.0050  0.0872  0.2799  0.3576   \n",
            "\n",
            "   slope5  slope6  ...  CULTRF_LAND  CULTIR_LAND  CULT_LAND  SQ1  SQ2  SQ3  \\\n",
            "0  0.1142  0.0170  ...    56.293411     1.014811  57.308224    1    1    1   \n",
            "1  0.0106  0.0003  ...    72.578804     1.828159  74.406960    3    2    1   \n",
            "2  0.0000  0.0000  ...    59.843639     2.996914  62.840553    3    2    1   \n",
            "3  0.0898  0.0134  ...     1.916593     0.008330   1.924924    3    2    1   \n",
            "4  0.1477  0.1037  ...     1.891909     0.027488   1.919397    3    2    1   \n",
            "\n",
            "   SQ4  SQ5  SQ6  SQ7  \n",
            "0    1    1    1    2  \n",
            "1    1    1    1    1  \n",
            "2    2    1    1    1  \n",
            "3    1    1    1    1  \n",
            "4    1    1    1    1  \n",
            "\n",
            "[5 rows x 32 columns]\n"
          ]
        }
      ],
      "source": [
        "print(soil_data.head())"
      ]
    },
    {
      "cell_type": "code",
      "execution_count": null,
      "metadata": {
        "id": "DgX1stJYcMjt",
        "outputId": "a2e9e3b3-fe79-4d7c-ac51-4f9fe1689528"
      },
      "outputs": [
        {
          "name": "stdout",
          "output_type": "stream",
          "text": [
            "     fips        lat         lon  elevation  slope1  slope2  slope3  slope4  \\\n",
            "157  6001  37.648081 -121.913304        146  0.0224  0.1172  0.1629   0.193   \n",
            "\n",
            "     slope5  slope6  ...  CULTRF_LAND  CULTIR_LAND  CULT_LAND  SQ1  SQ2  SQ3  \\\n",
            "157  0.1547  0.2397  ...     4.510372     2.302448    6.81282    1    1    1   \n",
            "\n",
            "     SQ4  SQ5  SQ6  SQ7  \n",
            "157    1    1    1    1  \n",
            "\n",
            "[1 rows x 32 columns]\n"
          ]
        }
      ],
      "source": [
        "print(soil_data[soil_data['fips']==6001])"
      ]
    },
    {
      "cell_type": "code",
      "execution_count": null,
      "metadata": {
        "id": "yjxdKF7gcMjt",
        "outputId": "34f71ad0-347c-4050-b218-8e3ce3e23de1"
      },
      "outputs": [
        {
          "name": "stdout",
          "output_type": "stream",
          "text": [
            "['fips', 'lat', 'lon', 'elevation', 'slope1', 'slope2', 'slope3', 'slope4', 'slope5', 'slope6', 'slope7', 'slope8', 'aspectN', 'aspectE', 'aspectS', 'aspectW', 'aspectUnknown', 'WAT_LAND', 'NVG_LAND', 'URB_LAND', 'GRS_LAND', 'FOR_LAND', 'CULTRF_LAND', 'CULTIR_LAND', 'CULT_LAND', 'SQ1', 'SQ2', 'SQ3', 'SQ4', 'SQ5', 'SQ6', 'SQ7']\n"
          ]
        }
      ],
      "source": [
        "soil_data_cols = list(soil_data.columns)\n",
        "print(list(soil_data_cols))"
      ]
    },
    {
      "cell_type": "code",
      "execution_count": null,
      "metadata": {
        "id": "lq-Y7nMWcMju",
        "outputId": "b6378981-5784-4752-8ec1-c9c414ba9e01"
      },
      "outputs": [
        {
          "name": "stdout",
          "output_type": "stream",
          "text": [
            "['fips', 'lat', 'lon', 'elevation', 'slope1', 'slope2', 'slope3', 'slope4', 'slope5', 'slope6', 'slope7', 'slope8', 'aspectN', 'aspectE', 'aspectS', 'aspectW', 'aspectUnknown', 'WAT_LAND', 'NVG_LAND', 'URB_LAND', 'GRS_LAND', 'FOR_LAND', 'CULTRF_LAND', 'CULTIR_LAND', 'CULT_LAND', 'SQ1', 'SQ2', 'SQ3', 'SQ4', 'SQ5', 'SQ6', 'SQ7']\n"
          ]
        }
      ],
      "source": [
        "print(list(soil_data[soil_data['fips']==6001]))"
      ]
    },
    {
      "cell_type": "code",
      "execution_count": null,
      "metadata": {
        "id": "Y5zZ8CtlcMju",
        "outputId": "1a39a12a-806e-4c6b-93ef-4eb99ba23a2b"
      },
      "outputs": [
        {
          "name": "stdout",
          "output_type": "stream",
          "text": [
            "     fips        lat         lon  elevation\n",
            "157  6001  37.648081 -121.913304        146\n",
            "158  6003  38.617610 -119.798999       2630\n",
            "159  6005  38.443550 -120.653856        719\n",
            "160  6007  39.665959 -121.601919        373\n",
            "161  6009  38.187844 -120.555115        499\n",
            "162  6011  39.177739 -122.237563         40\n",
            "163  6013  37.919479 -121.951543        395\n",
            "164  6015  41.749903 -123.980998        493\n",
            "165  6017  38.785532 -120.534398       1442\n",
            "166  6019  36.761006 -119.655019        106\n",
            "167  6021  39.602546 -122.401700        140\n",
            "168  6023  40.706673 -123.925818        628\n",
            "169  6025  33.040816 -115.355395          7\n",
            "170  6027  36.561977 -117.403927       1259\n",
            "171  6029  35.346629 -118.729506        407\n",
            "172  6031  36.072478 -119.815530         56\n",
            "173  6033  39.094802 -122.746757        546\n",
            "174  6035  40.721089 -120.629931       1954\n",
            "175  6037  34.196398 -118.261862        197\n",
            "176  6039  37.210039 -119.749852        633\n",
            "177  6041  38.051817 -122.745974        164\n",
            "178  6043  37.570034 -119.912860       1079\n",
            "179  6045  39.432388 -123.442881        550\n",
            "180  6047  37.194806 -120.722802         30\n",
            "181  6049  41.592919 -120.718370       1534\n",
            "182  6051  37.915836 -118.875167       2480\n",
            "183  6053  36.240107 -121.315573        393\n",
            "184  6055  38.507351 -122.325995        444\n",
            "185  6057  39.295191 -120.773446       1514\n",
            "186  6059  33.675687 -117.777207        124\n",
            "187  6061  39.062032 -120.722718        903\n",
            "188  6063  39.995170 -120.829516       1728\n",
            "189  6065  33.729828 -116.002239        718\n",
            "190  6067  38.450011 -121.340441         18\n",
            "191  6069  36.610702 -121.085296        818\n",
            "192  6071  34.857220 -116.181197        467\n",
            "193  6073  33.023604 -116.776117        704\n",
            "194  6075  37.727239 -123.032229          0\n",
            "195  6077  37.935034 -121.272237         10\n",
            "196  6079  35.385227 -120.447540        640\n",
            "197  6081  37.414664 -122.371542        387\n",
            "198  6083  34.537378 -120.038485        150\n",
            "199  6085  37.220777 -121.690622        376\n",
            "200  6087  37.012488 -122.007205         31\n",
            "201  6089  40.760522 -122.043550        484\n",
            "202  6091  39.576925 -120.521993       2239\n",
            "203  6093  41.587986 -122.533287        825\n",
            "204  6095  38.267226 -121.939594         15\n",
            "205  6097  38.532574 -122.945194         52\n",
            "206  6099  37.562384 -121.002656         23\n",
            "207  6101  39.035257 -121.702758         10\n",
            "208  6103  40.126156 -122.232276         87\n",
            "209  6105  40.647724 -123.114404       1005\n",
            "210  6107  36.230453 -118.780542       1451\n",
            "211  6109  38.021451 -119.964708       1570\n",
            "212  6111  34.358742 -119.133143         67\n",
            "213  6113  38.679268 -121.903178         30\n",
            "214  6115  39.270026 -121.344280        260\n",
            "(58, 4)\n"
          ]
        }
      ],
      "source": [
        "# fips_data_l = []\n",
        "# for fips in ca_fips:\n",
        "#     data = soil_data[soil_data['fips']==fips]\n",
        "#     fips_data_l.append(data)\n",
        "# fips_df = pd.DataFrame(fips_data_l,columns=soil_data_cols)\n",
        "# print(fips_df)\n",
        "fips_df = soil_data[soil_data.fips.isin(ca_fips)][['fips','lat','lon','elevation']]\n",
        "print(fips_df)\n",
        "print(fips_df.shape)"
      ]
    },
    {
      "cell_type": "code",
      "execution_count": null,
      "metadata": {
        "id": "1sJzFKsmcMju",
        "outputId": "611731c4-fa43-4712-d841-969b459ed5bc"
      },
      "outputs": [
        {
          "name": "stdout",
          "output_type": "stream",
          "text": [
            "     fips        lat         lon  elevation             Name State\n",
            "157  6001  37.648081 -121.913304        146          Alameda    CA\n",
            "158  6003  38.617610 -119.798999       2630           Alpine    CA\n",
            "159  6005  38.443550 -120.653856        719           Amador    CA\n",
            "160  6007  39.665959 -121.601919        373            Butte    CA\n",
            "161  6009  38.187844 -120.555115        499        Calaveras    CA\n",
            "162  6011  39.177739 -122.237563         40           Colusa    CA\n",
            "163  6013  37.919479 -121.951543        395     Contra Costa    CA\n",
            "164  6015  41.749903 -123.980998        493        Del Norte    CA\n",
            "165  6017  38.785532 -120.534398       1442        El Dorado    CA\n",
            "166  6019  36.761006 -119.655019        106           Fresno    CA\n",
            "167  6021  39.602546 -122.401700        140            Glenn    CA\n",
            "168  6023  40.706673 -123.925818        628         Humboldt    CA\n",
            "169  6025  33.040816 -115.355395          7         Imperial    CA\n",
            "170  6027  36.561977 -117.403927       1259             Inyo    CA\n",
            "171  6029  35.346629 -118.729506        407             Kern    CA\n",
            "172  6031  36.072478 -119.815530         56            Kings    CA\n",
            "173  6033  39.094802 -122.746757        546             Lake    CA\n",
            "174  6035  40.721089 -120.629931       1954           Lassen    CA\n",
            "175  6037  34.196398 -118.261862        197      Los Angeles    CA\n",
            "176  6039  37.210039 -119.749852        633           Madera    CA\n",
            "177  6041  38.051817 -122.745974        164            Marin    CA\n",
            "178  6043  37.570034 -119.912860       1079         Mariposa    CA\n",
            "179  6045  39.432388 -123.442881        550        Mendocino    CA\n",
            "180  6047  37.194806 -120.722802         30           Merced    CA\n",
            "181  6049  41.592919 -120.718370       1534            Modoc    CA\n",
            "182  6051  37.915836 -118.875167       2480             Mono    CA\n",
            "183  6053  36.240107 -121.315573        393         Monterey    CA\n",
            "184  6055  38.507351 -122.325995        444             Napa    CA\n",
            "185  6057  39.295191 -120.773446       1514           Nevada    CA\n",
            "186  6059  33.675687 -117.777207        124           Orange    CA\n",
            "187  6061  39.062032 -120.722718        903           Placer    CA\n",
            "188  6063  39.995170 -120.829516       1728           Plumas    CA\n",
            "189  6065  33.729828 -116.002239        718        Riverside    CA\n",
            "190  6067  38.450011 -121.340441         18       Sacramento    CA\n",
            "191  6069  36.610702 -121.085296        818       San Benito    CA\n",
            "192  6071  34.857220 -116.181197        467   San Bernardino    CA\n",
            "193  6073  33.023604 -116.776117        704        San Diego    CA\n",
            "194  6075  37.727239 -123.032229          0    San Francisco    CA\n",
            "195  6077  37.935034 -121.272237         10      San Joaquin    CA\n",
            "196  6079  35.385227 -120.447540        640  San Luis Obispo    CA\n",
            "197  6081  37.414664 -122.371542        387        San Mateo    CA\n",
            "198  6083  34.537378 -120.038485        150    Santa Barbara    CA\n",
            "199  6085  37.220777 -121.690622        376      Santa Clara    CA\n",
            "200  6087  37.012488 -122.007205         31       Santa Cruz    CA\n",
            "201  6089  40.760522 -122.043550        484           Shasta    CA\n",
            "202  6091  39.576925 -120.521993       2239           Sierra    CA\n",
            "203  6093  41.587986 -122.533287        825         Siskiyou    CA\n",
            "204  6095  38.267226 -121.939594         15           Solano    CA\n",
            "205  6097  38.532574 -122.945194         52           Sonoma    CA\n",
            "206  6099  37.562384 -121.002656         23       Stanislaus    CA\n",
            "207  6101  39.035257 -121.702758         10           Sutter    CA\n",
            "208  6103  40.126156 -122.232276         87           Tehama    CA\n",
            "209  6105  40.647724 -123.114404       1005          Trinity    CA\n",
            "210  6107  36.230453 -118.780542       1451           Tulare    CA\n",
            "211  6109  38.021451 -119.964708       1570         Tuolumne    CA\n",
            "212  6111  34.358742 -119.133143         67          Ventura    CA\n",
            "213  6113  38.679268 -121.903178         30             Yolo    CA\n",
            "214  6115  39.270026 -121.344280        260             Yuba    CA\n",
            "(58, 6)\n"
          ]
        }
      ],
      "source": [
        "fips_df['Name'], fips_df['State'] = list(fips_n1['Name']), list(fips_n1['State'])\n",
        "print(fips_df)\n",
        "print(fips_df.shape)"
      ]
    },
    {
      "cell_type": "code",
      "execution_count": null,
      "metadata": {
        "id": "Y_jjbEG2cMjv"
      },
      "outputs": [],
      "source": [
        "import plotly as py\n",
        "from plotly.offline import download_plotlyjs,init_notebook_mode,plot,iplot"
      ]
    },
    {
      "cell_type": "code",
      "execution_count": null,
      "metadata": {
        "id": "rnsXARaJcMjv",
        "outputId": "c6ca1a34-aac1-4316-d314-8ebec64aa7da"
      },
      "outputs": [
        {
          "data": {
            "text/html": [
              "        <script type=\"text/javascript\">\n",
              "        window.PlotlyConfig = {MathJaxConfig: 'local'};\n",
              "        if (window.MathJax) {MathJax.Hub.Config({SVG: {font: \"STIX-Web\"}});}\n",
              "        if (typeof require !== 'undefined') {\n",
              "        require.undef(\"plotly\");\n",
              "        requirejs.config({\n",
              "            paths: {\n",
              "                'plotly': ['https://cdn.plot.ly/plotly-latest.min']\n",
              "            }\n",
              "        });\n",
              "        require(['plotly'], function(Plotly) {\n",
              "            window._Plotly = Plotly;\n",
              "        });\n",
              "        }\n",
              "        </script>\n",
              "        "
            ]
          },
          "metadata": {},
          "output_type": "display_data"
        }
      ],
      "source": [
        "init_notebook_mode(connected=True)"
      ]
    },
    {
      "cell_type": "code",
      "execution_count": null,
      "metadata": {
        "scrolled": false,
        "id": "IrDqZIxEcMjv",
        "outputId": "0e7ed1e8-3c7f-4b44-ccf3-a0b632a01d37"
      },
      "outputs": [
        {
          "data": {
            "application/vnd.plotly.v1+json": {
              "config": {
                "plotlyServerURL": "https://plot.ly"
              },
              "data": [
                {
                  "customdata": [
                    [
                      6001,
                      "Alameda",
                      146
                    ],
                    [
                      6003,
                      "Alpine",
                      2630
                    ],
                    [
                      6005,
                      "Amador",
                      719
                    ],
                    [
                      6007,
                      "Butte",
                      373
                    ],
                    [
                      6009,
                      "Calaveras",
                      499
                    ],
                    [
                      6011,
                      "Colusa",
                      40
                    ],
                    [
                      6013,
                      "Contra Costa",
                      395
                    ],
                    [
                      6015,
                      "Del Norte",
                      493
                    ],
                    [
                      6017,
                      "El Dorado",
                      1442
                    ],
                    [
                      6019,
                      "Fresno",
                      106
                    ],
                    [
                      6021,
                      "Glenn",
                      140
                    ],
                    [
                      6023,
                      "Humboldt",
                      628
                    ],
                    [
                      6025,
                      "Imperial",
                      7
                    ],
                    [
                      6027,
                      "Inyo",
                      1259
                    ],
                    [
                      6029,
                      "Kern",
                      407
                    ],
                    [
                      6031,
                      "Kings",
                      56
                    ],
                    [
                      6033,
                      "Lake",
                      546
                    ],
                    [
                      6035,
                      "Lassen",
                      1954
                    ],
                    [
                      6037,
                      "Los Angeles",
                      197
                    ],
                    [
                      6039,
                      "Madera",
                      633
                    ],
                    [
                      6041,
                      "Marin",
                      164
                    ],
                    [
                      6043,
                      "Mariposa",
                      1079
                    ],
                    [
                      6045,
                      "Mendocino",
                      550
                    ],
                    [
                      6047,
                      "Merced",
                      30
                    ],
                    [
                      6049,
                      "Modoc",
                      1534
                    ],
                    [
                      6051,
                      "Mono",
                      2480
                    ],
                    [
                      6053,
                      "Monterey",
                      393
                    ],
                    [
                      6055,
                      "Napa",
                      444
                    ],
                    [
                      6057,
                      "Nevada",
                      1514
                    ],
                    [
                      6059,
                      "Orange",
                      124
                    ],
                    [
                      6061,
                      "Placer",
                      903
                    ],
                    [
                      6063,
                      "Plumas",
                      1728
                    ],
                    [
                      6065,
                      "Riverside",
                      718
                    ],
                    [
                      6067,
                      "Sacramento",
                      18
                    ],
                    [
                      6069,
                      "San Benito",
                      818
                    ],
                    [
                      6071,
                      "San Bernardino",
                      467
                    ],
                    [
                      6073,
                      "San Diego",
                      704
                    ],
                    [
                      6075,
                      "San Francisco",
                      0
                    ],
                    [
                      6077,
                      "San Joaquin",
                      10
                    ],
                    [
                      6079,
                      "San Luis Obispo",
                      640
                    ],
                    [
                      6081,
                      "San Mateo",
                      387
                    ],
                    [
                      6083,
                      "Santa Barbara",
                      150
                    ],
                    [
                      6085,
                      "Santa Clara",
                      376
                    ],
                    [
                      6087,
                      "Santa Cruz",
                      31
                    ],
                    [
                      6089,
                      "Shasta",
                      484
                    ],
                    [
                      6091,
                      "Sierra",
                      2239
                    ],
                    [
                      6093,
                      "Siskiyou",
                      825
                    ],
                    [
                      6095,
                      "Solano",
                      15
                    ],
                    [
                      6097,
                      "Sonoma",
                      52
                    ],
                    [
                      6099,
                      "Stanislaus",
                      23
                    ],
                    [
                      6101,
                      "Sutter",
                      10
                    ],
                    [
                      6103,
                      "Tehama",
                      87
                    ],
                    [
                      6105,
                      "Trinity",
                      1005
                    ],
                    [
                      6107,
                      "Tulare",
                      1451
                    ],
                    [
                      6109,
                      "Tuolumne",
                      1570
                    ],
                    [
                      6111,
                      "Ventura",
                      67
                    ],
                    [
                      6113,
                      "Yolo",
                      30
                    ],
                    [
                      6115,
                      "Yuba",
                      260
                    ]
                  ],
                  "geo": "geo",
                  "hovertemplate": "lat=%{lat}<br>lon=%{lon}<br>fips=%{customdata[0]}<br>Name=%{customdata[1]}<br>elevation=%{customdata[2]}<extra></extra>",
                  "lat": [
                    37.648081,
                    38.61761,
                    38.44355,
                    39.665959,
                    38.187844,
                    39.177739,
                    37.919478999999995,
                    41.749903,
                    38.785532,
                    36.761006,
                    39.602546000000004,
                    40.706672999999995,
                    33.040816,
                    36.561977,
                    35.346629,
                    36.072478000000004,
                    39.094802,
                    40.721089,
                    34.196397999999995,
                    37.210039,
                    38.051817,
                    37.570034,
                    39.432388,
                    37.194806,
                    41.592919,
                    37.915836,
                    36.240107,
                    38.507351,
                    39.295190999999996,
                    33.675686999999996,
                    39.062032,
                    39.99517,
                    33.729828000000005,
                    38.450010999999996,
                    36.610702,
                    34.85722,
                    33.023604,
                    37.727239000000004,
                    37.935034,
                    35.385227,
                    37.414664,
                    34.537378000000004,
                    37.220777000000005,
                    37.012488,
                    40.760521999999995,
                    39.576925,
                    41.587986,
                    38.267226,
                    38.532574,
                    37.562384,
                    39.035257,
                    40.126156,
                    40.647724,
                    36.230453000000004,
                    38.021451,
                    34.358742,
                    38.679268,
                    39.270026
                  ],
                  "legendgroup": "",
                  "lon": [
                    -121.91330400000001,
                    -119.798999,
                    -120.653856,
                    -121.601919,
                    -120.55511499999999,
                    -122.237563,
                    -121.95154299999999,
                    -123.980998,
                    -120.534398,
                    -119.655019,
                    -122.4017,
                    -123.92581799999999,
                    -115.355395,
                    -117.403927,
                    -118.729506,
                    -119.81553000000001,
                    -122.746757,
                    -120.629931,
                    -118.26186200000001,
                    -119.749852,
                    -122.745974,
                    -119.91286000000001,
                    -123.442881,
                    -120.722802,
                    -120.71837,
                    -118.87516699999999,
                    -121.315573,
                    -122.32599499999999,
                    -120.77344599999999,
                    -117.777207,
                    -120.722718,
                    -120.829516,
                    -116.00223899999999,
                    -121.340441,
                    -121.085296,
                    -116.181197,
                    -116.776117,
                    -123.032229,
                    -121.27223700000002,
                    -120.44753999999999,
                    -122.37154199999999,
                    -120.03848500000001,
                    -121.69062199999999,
                    -122.007205,
                    -122.04355,
                    -120.521993,
                    -122.53328700000002,
                    -121.939594,
                    -122.945194,
                    -121.002656,
                    -121.702758,
                    -122.232276,
                    -123.11440400000001,
                    -118.780542,
                    -119.964708,
                    -119.13314299999999,
                    -121.903178,
                    -121.34428
                  ],
                  "marker": {
                    "color": "#636efa",
                    "symbol": "circle"
                  },
                  "mode": "markers",
                  "name": "",
                  "showlegend": false,
                  "type": "scattergeo"
                }
              ],
              "layout": {
                "geo": {
                  "center": {},
                  "domain": {
                    "x": [
                      0,
                      1
                    ],
                    "y": [
                      0,
                      1
                    ]
                  },
                  "scope": "usa"
                },
                "legend": {
                  "tracegroupgap": 0
                },
                "margin": {
                  "t": 60
                },
                "template": {
                  "data": {
                    "bar": [
                      {
                        "error_x": {
                          "color": "#2a3f5f"
                        },
                        "error_y": {
                          "color": "#2a3f5f"
                        },
                        "marker": {
                          "line": {
                            "color": "#E5ECF6",
                            "width": 0.5
                          }
                        },
                        "type": "bar"
                      }
                    ],
                    "barpolar": [
                      {
                        "marker": {
                          "line": {
                            "color": "#E5ECF6",
                            "width": 0.5
                          }
                        },
                        "type": "barpolar"
                      }
                    ],
                    "carpet": [
                      {
                        "aaxis": {
                          "endlinecolor": "#2a3f5f",
                          "gridcolor": "white",
                          "linecolor": "white",
                          "minorgridcolor": "white",
                          "startlinecolor": "#2a3f5f"
                        },
                        "baxis": {
                          "endlinecolor": "#2a3f5f",
                          "gridcolor": "white",
                          "linecolor": "white",
                          "minorgridcolor": "white",
                          "startlinecolor": "#2a3f5f"
                        },
                        "type": "carpet"
                      }
                    ],
                    "choropleth": [
                      {
                        "colorbar": {
                          "outlinewidth": 0,
                          "ticks": ""
                        },
                        "type": "choropleth"
                      }
                    ],
                    "contour": [
                      {
                        "colorbar": {
                          "outlinewidth": 0,
                          "ticks": ""
                        },
                        "colorscale": [
                          [
                            0,
                            "#0d0887"
                          ],
                          [
                            0.1111111111111111,
                            "#46039f"
                          ],
                          [
                            0.2222222222222222,
                            "#7201a8"
                          ],
                          [
                            0.3333333333333333,
                            "#9c179e"
                          ],
                          [
                            0.4444444444444444,
                            "#bd3786"
                          ],
                          [
                            0.5555555555555556,
                            "#d8576b"
                          ],
                          [
                            0.6666666666666666,
                            "#ed7953"
                          ],
                          [
                            0.7777777777777778,
                            "#fb9f3a"
                          ],
                          [
                            0.8888888888888888,
                            "#fdca26"
                          ],
                          [
                            1,
                            "#f0f921"
                          ]
                        ],
                        "type": "contour"
                      }
                    ],
                    "contourcarpet": [
                      {
                        "colorbar": {
                          "outlinewidth": 0,
                          "ticks": ""
                        },
                        "type": "contourcarpet"
                      }
                    ],
                    "heatmap": [
                      {
                        "colorbar": {
                          "outlinewidth": 0,
                          "ticks": ""
                        },
                        "colorscale": [
                          [
                            0,
                            "#0d0887"
                          ],
                          [
                            0.1111111111111111,
                            "#46039f"
                          ],
                          [
                            0.2222222222222222,
                            "#7201a8"
                          ],
                          [
                            0.3333333333333333,
                            "#9c179e"
                          ],
                          [
                            0.4444444444444444,
                            "#bd3786"
                          ],
                          [
                            0.5555555555555556,
                            "#d8576b"
                          ],
                          [
                            0.6666666666666666,
                            "#ed7953"
                          ],
                          [
                            0.7777777777777778,
                            "#fb9f3a"
                          ],
                          [
                            0.8888888888888888,
                            "#fdca26"
                          ],
                          [
                            1,
                            "#f0f921"
                          ]
                        ],
                        "type": "heatmap"
                      }
                    ],
                    "heatmapgl": [
                      {
                        "colorbar": {
                          "outlinewidth": 0,
                          "ticks": ""
                        },
                        "colorscale": [
                          [
                            0,
                            "#0d0887"
                          ],
                          [
                            0.1111111111111111,
                            "#46039f"
                          ],
                          [
                            0.2222222222222222,
                            "#7201a8"
                          ],
                          [
                            0.3333333333333333,
                            "#9c179e"
                          ],
                          [
                            0.4444444444444444,
                            "#bd3786"
                          ],
                          [
                            0.5555555555555556,
                            "#d8576b"
                          ],
                          [
                            0.6666666666666666,
                            "#ed7953"
                          ],
                          [
                            0.7777777777777778,
                            "#fb9f3a"
                          ],
                          [
                            0.8888888888888888,
                            "#fdca26"
                          ],
                          [
                            1,
                            "#f0f921"
                          ]
                        ],
                        "type": "heatmapgl"
                      }
                    ],
                    "histogram": [
                      {
                        "marker": {
                          "colorbar": {
                            "outlinewidth": 0,
                            "ticks": ""
                          }
                        },
                        "type": "histogram"
                      }
                    ],
                    "histogram2d": [
                      {
                        "colorbar": {
                          "outlinewidth": 0,
                          "ticks": ""
                        },
                        "colorscale": [
                          [
                            0,
                            "#0d0887"
                          ],
                          [
                            0.1111111111111111,
                            "#46039f"
                          ],
                          [
                            0.2222222222222222,
                            "#7201a8"
                          ],
                          [
                            0.3333333333333333,
                            "#9c179e"
                          ],
                          [
                            0.4444444444444444,
                            "#bd3786"
                          ],
                          [
                            0.5555555555555556,
                            "#d8576b"
                          ],
                          [
                            0.6666666666666666,
                            "#ed7953"
                          ],
                          [
                            0.7777777777777778,
                            "#fb9f3a"
                          ],
                          [
                            0.8888888888888888,
                            "#fdca26"
                          ],
                          [
                            1,
                            "#f0f921"
                          ]
                        ],
                        "type": "histogram2d"
                      }
                    ],
                    "histogram2dcontour": [
                      {
                        "colorbar": {
                          "outlinewidth": 0,
                          "ticks": ""
                        },
                        "colorscale": [
                          [
                            0,
                            "#0d0887"
                          ],
                          [
                            0.1111111111111111,
                            "#46039f"
                          ],
                          [
                            0.2222222222222222,
                            "#7201a8"
                          ],
                          [
                            0.3333333333333333,
                            "#9c179e"
                          ],
                          [
                            0.4444444444444444,
                            "#bd3786"
                          ],
                          [
                            0.5555555555555556,
                            "#d8576b"
                          ],
                          [
                            0.6666666666666666,
                            "#ed7953"
                          ],
                          [
                            0.7777777777777778,
                            "#fb9f3a"
                          ],
                          [
                            0.8888888888888888,
                            "#fdca26"
                          ],
                          [
                            1,
                            "#f0f921"
                          ]
                        ],
                        "type": "histogram2dcontour"
                      }
                    ],
                    "mesh3d": [
                      {
                        "colorbar": {
                          "outlinewidth": 0,
                          "ticks": ""
                        },
                        "type": "mesh3d"
                      }
                    ],
                    "parcoords": [
                      {
                        "line": {
                          "colorbar": {
                            "outlinewidth": 0,
                            "ticks": ""
                          }
                        },
                        "type": "parcoords"
                      }
                    ],
                    "pie": [
                      {
                        "automargin": true,
                        "type": "pie"
                      }
                    ],
                    "scatter": [
                      {
                        "marker": {
                          "colorbar": {
                            "outlinewidth": 0,
                            "ticks": ""
                          }
                        },
                        "type": "scatter"
                      }
                    ],
                    "scatter3d": [
                      {
                        "line": {
                          "colorbar": {
                            "outlinewidth": 0,
                            "ticks": ""
                          }
                        },
                        "marker": {
                          "colorbar": {
                            "outlinewidth": 0,
                            "ticks": ""
                          }
                        },
                        "type": "scatter3d"
                      }
                    ],
                    "scattercarpet": [
                      {
                        "marker": {
                          "colorbar": {
                            "outlinewidth": 0,
                            "ticks": ""
                          }
                        },
                        "type": "scattercarpet"
                      }
                    ],
                    "scattergeo": [
                      {
                        "marker": {
                          "colorbar": {
                            "outlinewidth": 0,
                            "ticks": ""
                          }
                        },
                        "type": "scattergeo"
                      }
                    ],
                    "scattergl": [
                      {
                        "marker": {
                          "colorbar": {
                            "outlinewidth": 0,
                            "ticks": ""
                          }
                        },
                        "type": "scattergl"
                      }
                    ],
                    "scattermapbox": [
                      {
                        "marker": {
                          "colorbar": {
                            "outlinewidth": 0,
                            "ticks": ""
                          }
                        },
                        "type": "scattermapbox"
                      }
                    ],
                    "scatterpolar": [
                      {
                        "marker": {
                          "colorbar": {
                            "outlinewidth": 0,
                            "ticks": ""
                          }
                        },
                        "type": "scatterpolar"
                      }
                    ],
                    "scatterpolargl": [
                      {
                        "marker": {
                          "colorbar": {
                            "outlinewidth": 0,
                            "ticks": ""
                          }
                        },
                        "type": "scatterpolargl"
                      }
                    ],
                    "scatterternary": [
                      {
                        "marker": {
                          "colorbar": {
                            "outlinewidth": 0,
                            "ticks": ""
                          }
                        },
                        "type": "scatterternary"
                      }
                    ],
                    "surface": [
                      {
                        "colorbar": {
                          "outlinewidth": 0,
                          "ticks": ""
                        },
                        "colorscale": [
                          [
                            0,
                            "#0d0887"
                          ],
                          [
                            0.1111111111111111,
                            "#46039f"
                          ],
                          [
                            0.2222222222222222,
                            "#7201a8"
                          ],
                          [
                            0.3333333333333333,
                            "#9c179e"
                          ],
                          [
                            0.4444444444444444,
                            "#bd3786"
                          ],
                          [
                            0.5555555555555556,
                            "#d8576b"
                          ],
                          [
                            0.6666666666666666,
                            "#ed7953"
                          ],
                          [
                            0.7777777777777778,
                            "#fb9f3a"
                          ],
                          [
                            0.8888888888888888,
                            "#fdca26"
                          ],
                          [
                            1,
                            "#f0f921"
                          ]
                        ],
                        "type": "surface"
                      }
                    ],
                    "table": [
                      {
                        "cells": {
                          "fill": {
                            "color": "#EBF0F8"
                          },
                          "line": {
                            "color": "white"
                          }
                        },
                        "header": {
                          "fill": {
                            "color": "#C8D4E3"
                          },
                          "line": {
                            "color": "white"
                          }
                        },
                        "type": "table"
                      }
                    ]
                  },
                  "layout": {
                    "annotationdefaults": {
                      "arrowcolor": "#2a3f5f",
                      "arrowhead": 0,
                      "arrowwidth": 1
                    },
                    "autotypenumbers": "strict",
                    "coloraxis": {
                      "colorbar": {
                        "outlinewidth": 0,
                        "ticks": ""
                      }
                    },
                    "colorscale": {
                      "diverging": [
                        [
                          0,
                          "#8e0152"
                        ],
                        [
                          0.1,
                          "#c51b7d"
                        ],
                        [
                          0.2,
                          "#de77ae"
                        ],
                        [
                          0.3,
                          "#f1b6da"
                        ],
                        [
                          0.4,
                          "#fde0ef"
                        ],
                        [
                          0.5,
                          "#f7f7f7"
                        ],
                        [
                          0.6,
                          "#e6f5d0"
                        ],
                        [
                          0.7,
                          "#b8e186"
                        ],
                        [
                          0.8,
                          "#7fbc41"
                        ],
                        [
                          0.9,
                          "#4d9221"
                        ],
                        [
                          1,
                          "#276419"
                        ]
                      ],
                      "sequential": [
                        [
                          0,
                          "#0d0887"
                        ],
                        [
                          0.1111111111111111,
                          "#46039f"
                        ],
                        [
                          0.2222222222222222,
                          "#7201a8"
                        ],
                        [
                          0.3333333333333333,
                          "#9c179e"
                        ],
                        [
                          0.4444444444444444,
                          "#bd3786"
                        ],
                        [
                          0.5555555555555556,
                          "#d8576b"
                        ],
                        [
                          0.6666666666666666,
                          "#ed7953"
                        ],
                        [
                          0.7777777777777778,
                          "#fb9f3a"
                        ],
                        [
                          0.8888888888888888,
                          "#fdca26"
                        ],
                        [
                          1,
                          "#f0f921"
                        ]
                      ],
                      "sequentialminus": [
                        [
                          0,
                          "#0d0887"
                        ],
                        [
                          0.1111111111111111,
                          "#46039f"
                        ],
                        [
                          0.2222222222222222,
                          "#7201a8"
                        ],
                        [
                          0.3333333333333333,
                          "#9c179e"
                        ],
                        [
                          0.4444444444444444,
                          "#bd3786"
                        ],
                        [
                          0.5555555555555556,
                          "#d8576b"
                        ],
                        [
                          0.6666666666666666,
                          "#ed7953"
                        ],
                        [
                          0.7777777777777778,
                          "#fb9f3a"
                        ],
                        [
                          0.8888888888888888,
                          "#fdca26"
                        ],
                        [
                          1,
                          "#f0f921"
                        ]
                      ]
                    },
                    "colorway": [
                      "#636efa",
                      "#EF553B",
                      "#00cc96",
                      "#ab63fa",
                      "#FFA15A",
                      "#19d3f3",
                      "#FF6692",
                      "#B6E880",
                      "#FF97FF",
                      "#FECB52"
                    ],
                    "font": {
                      "color": "#2a3f5f"
                    },
                    "geo": {
                      "bgcolor": "white",
                      "lakecolor": "white",
                      "landcolor": "#E5ECF6",
                      "showlakes": true,
                      "showland": true,
                      "subunitcolor": "white"
                    },
                    "hoverlabel": {
                      "align": "left"
                    },
                    "hovermode": "closest",
                    "mapbox": {
                      "style": "light"
                    },
                    "paper_bgcolor": "white",
                    "plot_bgcolor": "#E5ECF6",
                    "polar": {
                      "angularaxis": {
                        "gridcolor": "white",
                        "linecolor": "white",
                        "ticks": ""
                      },
                      "bgcolor": "#E5ECF6",
                      "radialaxis": {
                        "gridcolor": "white",
                        "linecolor": "white",
                        "ticks": ""
                      }
                    },
                    "scene": {
                      "xaxis": {
                        "backgroundcolor": "#E5ECF6",
                        "gridcolor": "white",
                        "gridwidth": 2,
                        "linecolor": "white",
                        "showbackground": true,
                        "ticks": "",
                        "zerolinecolor": "white"
                      },
                      "yaxis": {
                        "backgroundcolor": "#E5ECF6",
                        "gridcolor": "white",
                        "gridwidth": 2,
                        "linecolor": "white",
                        "showbackground": true,
                        "ticks": "",
                        "zerolinecolor": "white"
                      },
                      "zaxis": {
                        "backgroundcolor": "#E5ECF6",
                        "gridcolor": "white",
                        "gridwidth": 2,
                        "linecolor": "white",
                        "showbackground": true,
                        "ticks": "",
                        "zerolinecolor": "white"
                      }
                    },
                    "shapedefaults": {
                      "line": {
                        "color": "#2a3f5f"
                      }
                    },
                    "ternary": {
                      "aaxis": {
                        "gridcolor": "white",
                        "linecolor": "white",
                        "ticks": ""
                      },
                      "baxis": {
                        "gridcolor": "white",
                        "linecolor": "white",
                        "ticks": ""
                      },
                      "bgcolor": "#E5ECF6",
                      "caxis": {
                        "gridcolor": "white",
                        "linecolor": "white",
                        "ticks": ""
                      }
                    },
                    "title": {
                      "x": 0.05
                    },
                    "xaxis": {
                      "automargin": true,
                      "gridcolor": "white",
                      "linecolor": "white",
                      "ticks": "",
                      "title": {
                        "standoff": 15
                      },
                      "zerolinecolor": "white",
                      "zerolinewidth": 2
                    },
                    "yaxis": {
                      "automargin": true,
                      "gridcolor": "white",
                      "linecolor": "white",
                      "ticks": "",
                      "title": {
                        "standoff": 15
                      },
                      "zerolinecolor": "white",
                      "zerolinewidth": 2
                    }
                  }
                }
              }
            },
            "text/html": [
              "<div>                            <div id=\"5ab43fe1-5276-451f-be4f-462cf748b665\" class=\"plotly-graph-div\" style=\"height:525px; width:100%;\"></div>            <script type=\"text/javascript\">                require([\"plotly\"], function(Plotly) {                    window.PLOTLYENV=window.PLOTLYENV || {};                                    if (document.getElementById(\"5ab43fe1-5276-451f-be4f-462cf748b665\")) {                    Plotly.newPlot(                        \"5ab43fe1-5276-451f-be4f-462cf748b665\",                        [{\"customdata\": [[6001, \"Alameda\", 146], [6003, \"Alpine\", 2630], [6005, \"Amador\", 719], [6007, \"Butte\", 373], [6009, \"Calaveras\", 499], [6011, \"Colusa\", 40], [6013, \"Contra Costa\", 395], [6015, \"Del Norte\", 493], [6017, \"El Dorado\", 1442], [6019, \"Fresno\", 106], [6021, \"Glenn\", 140], [6023, \"Humboldt\", 628], [6025, \"Imperial\", 7], [6027, \"Inyo\", 1259], [6029, \"Kern\", 407], [6031, \"Kings\", 56], [6033, \"Lake\", 546], [6035, \"Lassen\", 1954], [6037, \"Los Angeles\", 197], [6039, \"Madera\", 633], [6041, \"Marin\", 164], [6043, \"Mariposa\", 1079], [6045, \"Mendocino\", 550], [6047, \"Merced\", 30], [6049, \"Modoc\", 1534], [6051, \"Mono\", 2480], [6053, \"Monterey\", 393], [6055, \"Napa\", 444], [6057, \"Nevada\", 1514], [6059, \"Orange\", 124], [6061, \"Placer\", 903], [6063, \"Plumas\", 1728], [6065, \"Riverside\", 718], [6067, \"Sacramento\", 18], [6069, \"San Benito\", 818], [6071, \"San Bernardino\", 467], [6073, \"San Diego\", 704], [6075, \"San Francisco\", 0], [6077, \"San Joaquin\", 10], [6079, \"San Luis Obispo\", 640], [6081, \"San Mateo\", 387], [6083, \"Santa Barbara\", 150], [6085, \"Santa Clara\", 376], [6087, \"Santa Cruz\", 31], [6089, \"Shasta\", 484], [6091, \"Sierra\", 2239], [6093, \"Siskiyou\", 825], [6095, \"Solano\", 15], [6097, \"Sonoma\", 52], [6099, \"Stanislaus\", 23], [6101, \"Sutter\", 10], [6103, \"Tehama\", 87], [6105, \"Trinity\", 1005], [6107, \"Tulare\", 1451], [6109, \"Tuolumne\", 1570], [6111, \"Ventura\", 67], [6113, \"Yolo\", 30], [6115, \"Yuba\", 260]], \"geo\": \"geo\", \"hovertemplate\": \"lat=%{lat}<br>lon=%{lon}<br>fips=%{customdata[0]}<br>Name=%{customdata[1]}<br>elevation=%{customdata[2]}<extra></extra>\", \"lat\": [37.648081, 38.61761, 38.44355, 39.665959, 38.187844, 39.177739, 37.919478999999995, 41.749903, 38.785532, 36.761006, 39.602546000000004, 40.706672999999995, 33.040816, 36.561977, 35.346629, 36.072478000000004, 39.094802, 40.721089, 34.196397999999995, 37.210039, 38.051817, 37.570034, 39.432388, 37.194806, 41.592919, 37.915836, 36.240107, 38.507351, 39.295190999999996, 33.675686999999996, 39.062032, 39.99517, 33.729828000000005, 38.450010999999996, 36.610702, 34.85722, 33.023604, 37.727239000000004, 37.935034, 35.385227, 37.414664, 34.537378000000004, 37.220777000000005, 37.012488, 40.760521999999995, 39.576925, 41.587986, 38.267226, 38.532574, 37.562384, 39.035257, 40.126156, 40.647724, 36.230453000000004, 38.021451, 34.358742, 38.679268, 39.270026], \"legendgroup\": \"\", \"lon\": [-121.91330400000001, -119.798999, -120.653856, -121.601919, -120.55511499999999, -122.237563, -121.95154299999999, -123.980998, -120.534398, -119.655019, -122.4017, -123.92581799999999, -115.355395, -117.403927, -118.729506, -119.81553000000001, -122.746757, -120.629931, -118.26186200000001, -119.749852, -122.745974, -119.91286000000001, -123.442881, -120.722802, -120.71837, -118.87516699999999, -121.315573, -122.32599499999999, -120.77344599999999, -117.777207, -120.722718, -120.829516, -116.00223899999999, -121.340441, -121.085296, -116.181197, -116.776117, -123.032229, -121.27223700000002, -120.44753999999999, -122.37154199999999, -120.03848500000001, -121.69062199999999, -122.007205, -122.04355, -120.521993, -122.53328700000002, -121.939594, -122.945194, -121.002656, -121.702758, -122.232276, -123.11440400000001, -118.780542, -119.964708, -119.13314299999999, -121.903178, -121.34428], \"marker\": {\"color\": \"#636efa\", \"symbol\": \"circle\"}, \"mode\": \"markers\", \"name\": \"\", \"showlegend\": false, \"type\": \"scattergeo\"}],                        {\"geo\": {\"center\": {}, \"domain\": {\"x\": [0.0, 1.0], \"y\": [0.0, 1.0]}, \"scope\": \"usa\"}, \"legend\": {\"tracegroupgap\": 0}, \"margin\": {\"t\": 60}, \"template\": {\"data\": {\"bar\": [{\"error_x\": {\"color\": \"#2a3f5f\"}, \"error_y\": {\"color\": \"#2a3f5f\"}, \"marker\": {\"line\": {\"color\": \"#E5ECF6\", \"width\": 0.5}}, \"type\": \"bar\"}], \"barpolar\": [{\"marker\": {\"line\": {\"color\": \"#E5ECF6\", \"width\": 0.5}}, \"type\": \"barpolar\"}], \"carpet\": [{\"aaxis\": {\"endlinecolor\": \"#2a3f5f\", \"gridcolor\": \"white\", \"linecolor\": \"white\", \"minorgridcolor\": \"white\", \"startlinecolor\": \"#2a3f5f\"}, \"baxis\": {\"endlinecolor\": \"#2a3f5f\", \"gridcolor\": \"white\", \"linecolor\": \"white\", \"minorgridcolor\": \"white\", \"startlinecolor\": \"#2a3f5f\"}, \"type\": \"carpet\"}], \"choropleth\": [{\"colorbar\": {\"outlinewidth\": 0, \"ticks\": \"\"}, \"type\": \"choropleth\"}], \"contour\": [{\"colorbar\": {\"outlinewidth\": 0, \"ticks\": \"\"}, \"colorscale\": [[0.0, \"#0d0887\"], [0.1111111111111111, \"#46039f\"], [0.2222222222222222, \"#7201a8\"], [0.3333333333333333, \"#9c179e\"], [0.4444444444444444, \"#bd3786\"], [0.5555555555555556, \"#d8576b\"], [0.6666666666666666, \"#ed7953\"], [0.7777777777777778, \"#fb9f3a\"], [0.8888888888888888, \"#fdca26\"], [1.0, \"#f0f921\"]], \"type\": \"contour\"}], \"contourcarpet\": [{\"colorbar\": {\"outlinewidth\": 0, \"ticks\": \"\"}, \"type\": \"contourcarpet\"}], \"heatmap\": [{\"colorbar\": {\"outlinewidth\": 0, \"ticks\": \"\"}, \"colorscale\": [[0.0, \"#0d0887\"], [0.1111111111111111, \"#46039f\"], [0.2222222222222222, \"#7201a8\"], [0.3333333333333333, \"#9c179e\"], [0.4444444444444444, \"#bd3786\"], [0.5555555555555556, \"#d8576b\"], [0.6666666666666666, \"#ed7953\"], [0.7777777777777778, \"#fb9f3a\"], [0.8888888888888888, \"#fdca26\"], [1.0, \"#f0f921\"]], \"type\": \"heatmap\"}], \"heatmapgl\": [{\"colorbar\": {\"outlinewidth\": 0, \"ticks\": \"\"}, \"colorscale\": [[0.0, \"#0d0887\"], [0.1111111111111111, \"#46039f\"], [0.2222222222222222, \"#7201a8\"], [0.3333333333333333, \"#9c179e\"], [0.4444444444444444, \"#bd3786\"], [0.5555555555555556, \"#d8576b\"], [0.6666666666666666, \"#ed7953\"], [0.7777777777777778, \"#fb9f3a\"], [0.8888888888888888, \"#fdca26\"], [1.0, \"#f0f921\"]], \"type\": \"heatmapgl\"}], \"histogram\": [{\"marker\": {\"colorbar\": {\"outlinewidth\": 0, \"ticks\": \"\"}}, \"type\": \"histogram\"}], \"histogram2d\": [{\"colorbar\": {\"outlinewidth\": 0, \"ticks\": \"\"}, \"colorscale\": [[0.0, \"#0d0887\"], [0.1111111111111111, \"#46039f\"], [0.2222222222222222, \"#7201a8\"], [0.3333333333333333, \"#9c179e\"], [0.4444444444444444, \"#bd3786\"], [0.5555555555555556, \"#d8576b\"], [0.6666666666666666, \"#ed7953\"], [0.7777777777777778, \"#fb9f3a\"], [0.8888888888888888, \"#fdca26\"], [1.0, \"#f0f921\"]], \"type\": \"histogram2d\"}], \"histogram2dcontour\": [{\"colorbar\": {\"outlinewidth\": 0, \"ticks\": \"\"}, \"colorscale\": [[0.0, \"#0d0887\"], [0.1111111111111111, \"#46039f\"], [0.2222222222222222, \"#7201a8\"], [0.3333333333333333, \"#9c179e\"], [0.4444444444444444, \"#bd3786\"], [0.5555555555555556, \"#d8576b\"], [0.6666666666666666, \"#ed7953\"], [0.7777777777777778, \"#fb9f3a\"], [0.8888888888888888, \"#fdca26\"], [1.0, \"#f0f921\"]], \"type\": \"histogram2dcontour\"}], \"mesh3d\": [{\"colorbar\": {\"outlinewidth\": 0, \"ticks\": \"\"}, \"type\": \"mesh3d\"}], \"parcoords\": [{\"line\": {\"colorbar\": {\"outlinewidth\": 0, \"ticks\": \"\"}}, \"type\": \"parcoords\"}], \"pie\": [{\"automargin\": true, \"type\": \"pie\"}], \"scatter\": [{\"marker\": {\"colorbar\": {\"outlinewidth\": 0, \"ticks\": \"\"}}, \"type\": \"scatter\"}], \"scatter3d\": [{\"line\": {\"colorbar\": {\"outlinewidth\": 0, \"ticks\": \"\"}}, \"marker\": {\"colorbar\": {\"outlinewidth\": 0, \"ticks\": \"\"}}, \"type\": \"scatter3d\"}], \"scattercarpet\": [{\"marker\": {\"colorbar\": {\"outlinewidth\": 0, \"ticks\": \"\"}}, \"type\": \"scattercarpet\"}], \"scattergeo\": [{\"marker\": {\"colorbar\": {\"outlinewidth\": 0, \"ticks\": \"\"}}, \"type\": \"scattergeo\"}], \"scattergl\": [{\"marker\": {\"colorbar\": {\"outlinewidth\": 0, \"ticks\": \"\"}}, \"type\": \"scattergl\"}], \"scattermapbox\": [{\"marker\": {\"colorbar\": {\"outlinewidth\": 0, \"ticks\": \"\"}}, \"type\": \"scattermapbox\"}], \"scatterpolar\": [{\"marker\": {\"colorbar\": {\"outlinewidth\": 0, \"ticks\": \"\"}}, \"type\": \"scatterpolar\"}], \"scatterpolargl\": [{\"marker\": {\"colorbar\": {\"outlinewidth\": 0, \"ticks\": \"\"}}, \"type\": \"scatterpolargl\"}], \"scatterternary\": [{\"marker\": {\"colorbar\": {\"outlinewidth\": 0, \"ticks\": \"\"}}, \"type\": \"scatterternary\"}], \"surface\": [{\"colorbar\": {\"outlinewidth\": 0, \"ticks\": \"\"}, \"colorscale\": [[0.0, \"#0d0887\"], [0.1111111111111111, \"#46039f\"], [0.2222222222222222, \"#7201a8\"], [0.3333333333333333, \"#9c179e\"], [0.4444444444444444, \"#bd3786\"], [0.5555555555555556, \"#d8576b\"], [0.6666666666666666, \"#ed7953\"], [0.7777777777777778, \"#fb9f3a\"], [0.8888888888888888, \"#fdca26\"], [1.0, \"#f0f921\"]], \"type\": \"surface\"}], \"table\": [{\"cells\": {\"fill\": {\"color\": \"#EBF0F8\"}, \"line\": {\"color\": \"white\"}}, \"header\": {\"fill\": {\"color\": \"#C8D4E3\"}, \"line\": {\"color\": \"white\"}}, \"type\": \"table\"}]}, \"layout\": {\"annotationdefaults\": {\"arrowcolor\": \"#2a3f5f\", \"arrowhead\": 0, \"arrowwidth\": 1}, \"autotypenumbers\": \"strict\", \"coloraxis\": {\"colorbar\": {\"outlinewidth\": 0, \"ticks\": \"\"}}, \"colorscale\": {\"diverging\": [[0, \"#8e0152\"], [0.1, \"#c51b7d\"], [0.2, \"#de77ae\"], [0.3, \"#f1b6da\"], [0.4, \"#fde0ef\"], [0.5, \"#f7f7f7\"], [0.6, \"#e6f5d0\"], [0.7, \"#b8e186\"], [0.8, \"#7fbc41\"], [0.9, \"#4d9221\"], [1, \"#276419\"]], \"sequential\": [[0.0, \"#0d0887\"], [0.1111111111111111, \"#46039f\"], [0.2222222222222222, \"#7201a8\"], [0.3333333333333333, \"#9c179e\"], [0.4444444444444444, \"#bd3786\"], [0.5555555555555556, \"#d8576b\"], [0.6666666666666666, \"#ed7953\"], [0.7777777777777778, \"#fb9f3a\"], [0.8888888888888888, \"#fdca26\"], [1.0, \"#f0f921\"]], \"sequentialminus\": [[0.0, \"#0d0887\"], [0.1111111111111111, \"#46039f\"], [0.2222222222222222, \"#7201a8\"], [0.3333333333333333, \"#9c179e\"], [0.4444444444444444, \"#bd3786\"], [0.5555555555555556, \"#d8576b\"], [0.6666666666666666, \"#ed7953\"], [0.7777777777777778, \"#fb9f3a\"], [0.8888888888888888, \"#fdca26\"], [1.0, \"#f0f921\"]]}, \"colorway\": [\"#636efa\", \"#EF553B\", \"#00cc96\", \"#ab63fa\", \"#FFA15A\", \"#19d3f3\", \"#FF6692\", \"#B6E880\", \"#FF97FF\", \"#FECB52\"], \"font\": {\"color\": \"#2a3f5f\"}, \"geo\": {\"bgcolor\": \"white\", \"lakecolor\": \"white\", \"landcolor\": \"#E5ECF6\", \"showlakes\": true, \"showland\": true, \"subunitcolor\": \"white\"}, \"hoverlabel\": {\"align\": \"left\"}, \"hovermode\": \"closest\", \"mapbox\": {\"style\": \"light\"}, \"paper_bgcolor\": \"white\", \"plot_bgcolor\": \"#E5ECF6\", \"polar\": {\"angularaxis\": {\"gridcolor\": \"white\", \"linecolor\": \"white\", \"ticks\": \"\"}, \"bgcolor\": \"#E5ECF6\", \"radialaxis\": {\"gridcolor\": \"white\", \"linecolor\": \"white\", \"ticks\": \"\"}}, \"scene\": {\"xaxis\": {\"backgroundcolor\": \"#E5ECF6\", \"gridcolor\": \"white\", \"gridwidth\": 2, \"linecolor\": \"white\", \"showbackground\": true, \"ticks\": \"\", \"zerolinecolor\": \"white\"}, \"yaxis\": {\"backgroundcolor\": \"#E5ECF6\", \"gridcolor\": \"white\", \"gridwidth\": 2, \"linecolor\": \"white\", \"showbackground\": true, \"ticks\": \"\", \"zerolinecolor\": \"white\"}, \"zaxis\": {\"backgroundcolor\": \"#E5ECF6\", \"gridcolor\": \"white\", \"gridwidth\": 2, \"linecolor\": \"white\", \"showbackground\": true, \"ticks\": \"\", \"zerolinecolor\": \"white\"}}, \"shapedefaults\": {\"line\": {\"color\": \"#2a3f5f\"}}, \"ternary\": {\"aaxis\": {\"gridcolor\": \"white\", \"linecolor\": \"white\", \"ticks\": \"\"}, \"baxis\": {\"gridcolor\": \"white\", \"linecolor\": \"white\", \"ticks\": \"\"}, \"bgcolor\": \"#E5ECF6\", \"caxis\": {\"gridcolor\": \"white\", \"linecolor\": \"white\", \"ticks\": \"\"}}, \"title\": {\"x\": 0.05}, \"xaxis\": {\"automargin\": true, \"gridcolor\": \"white\", \"linecolor\": \"white\", \"ticks\": \"\", \"title\": {\"standoff\": 15}, \"zerolinecolor\": \"white\", \"zerolinewidth\": 2}, \"yaxis\": {\"automargin\": true, \"gridcolor\": \"white\", \"linecolor\": \"white\", \"ticks\": \"\", \"title\": {\"standoff\": 15}, \"zerolinecolor\": \"white\", \"zerolinewidth\": 2}}}},                        {\"responsive\": true}                    ).then(function(){\n",
              "                            \n",
              "var gd = document.getElementById('5ab43fe1-5276-451f-be4f-462cf748b665');\n",
              "var x = new MutationObserver(function (mutations, observer) {{\n",
              "        var display = window.getComputedStyle(gd).display;\n",
              "        if (!display || display === 'none') {{\n",
              "            console.log([gd, 'removed!']);\n",
              "            Plotly.purge(gd);\n",
              "            observer.disconnect();\n",
              "        }}\n",
              "}});\n",
              "\n",
              "// Listen for the removal of the full notebook cells\n",
              "var notebookContainer = gd.closest('#notebook-container');\n",
              "if (notebookContainer) {{\n",
              "    x.observe(notebookContainer, {childList: true});\n",
              "}}\n",
              "\n",
              "// Listen for the clearing of the current output cell\n",
              "var outputEl = gd.closest('.output');\n",
              "if (outputEl) {{\n",
              "    x.observe(outputEl, {childList: true});\n",
              "}}\n",
              "\n",
              "                        })                };                });            </script>        </div>"
            ]
          },
          "metadata": {},
          "output_type": "display_data"
        }
      ],
      "source": [
        "import plotly.express as px\n",
        "# df = px.data.gapminder().query(\"year==2007\")\n",
        "# fig = px.scatter_geo(fips_df, lat = \"lat\" , lon = \"lon\", locations=\"Name\",scope = 'usa', color ='fips',size = np.arange(1,59), locationmode='ISO-3', symbol = 'Name')\n",
        "fig = px.scatter_geo(fips_df, lat = \"lat\" , lon = \"lon\", scope = 'usa',hover_data = ['fips','Name','elevation'])\n",
        "fig.show()"
      ]
    },
    {
      "cell_type": "code",
      "execution_count": null,
      "metadata": {
        "id": "itLZ-RzOcMjw"
      },
      "outputs": [],
      "source": [
        "# df = px.data.gapminder().query(\"year == 2007\")\n",
        "# fig = px.scatter_geo(df, locations=\"iso_alpha\",\n",
        "#                      color=\"continent\", # which column to use to set the color of markers\n",
        "#                      hover_name=\"country\", # column added to hover information\n",
        "#                      size=\"pop\", # size of markers\n",
        "#                      projection=\"natural earth\")\n",
        "# fig.show()\n",
        "# print(df)"
      ]
    },
    {
      "cell_type": "code",
      "execution_count": null,
      "metadata": {
        "id": "NDCPuLd9cMjw"
      },
      "outputs": [],
      "source": [
        "# import plotly.figure_factory as ff\n",
        "# #df_sample_r = df_sample[df_sample['STNAME'] == 'California']\n",
        "\n",
        "# values = cal_90d_agg['score'].tolist()\n",
        "# fips = cal_90d_agg['fips'].tolist()\n",
        "\n",
        "# colorscale = [\n",
        "#     'rgb(193, 193, 193)',\n",
        "#     'rgb(239,239,239)',\n",
        "#     'rgb(195, 196, 222)',\n",
        "#     'rgb(144,148,194)',\n",
        "#     'rgb(101,104,168)',\n",
        "#     'rgb(65, 53, 132)'\n",
        "# ]\n",
        "\n",
        "# fig = ff.create_choropleth(\n",
        "#     fips=fips, values=values, scope=['CA', 'AZ', 'Nevada', 'Oregon', ' Idaho'],\n",
        "#     binning_endpoints=[14348, 63983, 134827, 426762, 2081313], colorscale=colorscale,\n",
        "#     county_outline={'color': 'rgb(255,255,255)', 'width': 0.5}, round_legend_values=True,\n",
        "#     legend_title='Population by County', title='California and Nearby States'\n",
        "# )\n",
        "# fig.layout.template = None\n",
        "# fig.show()"
      ]
    },
    {
      "cell_type": "code",
      "execution_count": null,
      "metadata": {
        "id": "LScidYsicMjw",
        "outputId": "ad03989d-2e98-4d92-869e-efe11205f4de"
      },
      "outputs": [
        {
          "name": "stdout",
          "output_type": "stream",
          "text": [
            "   fips        date  PRECTOT      PS  QV2M   T2M  T2MDEW  T2MWET  T2M_MAX  \\\n",
            "0  6001  2000-01-01     0.12   99.77  5.97  7.89    6.28    6.28    10.21   \n",
            "1  6001  2000-01-02     0.00  100.53  4.46  6.04    2.01    2.04    12.50   \n",
            "2  6001  2000-01-03     0.10  100.92  4.85  7.73    3.39    3.40    15.06   \n",
            "3  6001  2000-01-04     0.27  100.90  6.11  8.36    6.77    6.77    14.18   \n",
            "4  6001  2000-01-05     0.00  100.52  4.13  7.32    0.75    0.81    14.78   \n",
            "\n",
            "   T2M_MIN  ...    TS  WS10M  WS10M_MAX  WS10M_MIN  WS10M_RANGE  WS50M  \\\n",
            "0     5.88  ...  7.72   3.01       5.03       0.46         4.57   4.55   \n",
            "1     0.92  ...  6.06   3.13       4.61       2.00         2.61   4.82   \n",
            "2     3.06  ...  7.67   2.42       3.43       1.36         2.07   3.39   \n",
            "3     5.66  ...  8.24   1.92       2.84       1.15         1.69   2.96   \n",
            "4     2.24  ...  7.13   4.56       7.48       2.70         4.79   6.94   \n",
            "\n",
            "   WS50M_MAX  WS50M_MIN  WS50M_RANGE   score  \n",
            "0       8.58       0.76         7.82     NaN  \n",
            "1       6.20       2.71         3.49     NaN  \n",
            "2       4.74       2.15         2.59     NaN  \n",
            "3       5.17       1.30         3.87  0.6079  \n",
            "4       9.41       4.66         4.75     NaN  \n",
            "\n",
            "[5 rows x 21 columns]\n"
          ]
        }
      ],
      "source": [
        "score_df1 = pd.read_csv('drought dataset/full_dataset_CA_sorted.csv')\n",
        "score_df1 = score_df1.drop(columns=['Unnamed: 0'])\n",
        "print(score_df1.head())"
      ]
    },
    {
      "cell_type": "code",
      "execution_count": null,
      "metadata": {
        "id": "d5GhFGtQcMjw",
        "outputId": "d77ab5cb-1bfa-49bd-d5de-c18788e1917c"
      },
      "outputs": [
        {
          "name": "stdout",
          "output_type": "stream",
          "text": [
            "   fips        date   score\n",
            "0  6001  2000-01-01     NaN\n",
            "1  6001  2000-01-02     NaN\n",
            "2  6001  2000-01-03     NaN\n",
            "3  6001  2000-01-04  0.6079\n",
            "4  6001  2000-01-05     NaN\n",
            "<class 'pandas.core.frame.DataFrame'>\n",
            "RangeIndex: 444918 entries, 0 to 444917\n",
            "Data columns (total 3 columns):\n",
            " #   Column  Non-Null Count   Dtype  \n",
            "---  ------  --------------   -----  \n",
            " 0   fips    444918 non-null  int64  \n",
            " 1   date    444918 non-null  object \n",
            " 2   score   63568 non-null   float64\n",
            "dtypes: float64(1), int64(1), object(1)\n",
            "memory usage: 10.2+ MB\n",
            "None\n"
          ]
        }
      ],
      "source": [
        "score_df2 = score_df1[['fips','date','score']]\n",
        "print(score_df2.head())\n",
        "print(score_df2.info())"
      ]
    },
    {
      "cell_type": "code",
      "execution_count": null,
      "metadata": {
        "id": "PBaf-NXvcMjx",
        "outputId": "e0975a18-15b8-4528-ab3d-b310e45c3dec"
      },
      "outputs": [
        {
          "name": "stderr",
          "output_type": "stream",
          "text": [
            "<ipython-input-24-46c598fd219f>:1: SettingWithCopyWarning:\n",
            "\n",
            "\n",
            "A value is trying to be set on a copy of a slice from a DataFrame.\n",
            "Try using .loc[row_indexer,col_indexer] = value instead\n",
            "\n",
            "See the caveats in the documentation: https://pandas.pydata.org/pandas-docs/stable/user_guide/indexing.html#returning-a-view-versus-a-copy\n",
            "\n"
          ]
        }
      ],
      "source": [
        "score_df2['date'] = pd.to_datetime(score_df2['date'])"
      ]
    },
    {
      "cell_type": "code",
      "execution_count": null,
      "metadata": {
        "id": "F_tmNnDOcMjx",
        "outputId": "f00149ba-c2d8-4d44-a044-518aae22dcf1"
      },
      "outputs": [
        {
          "name": "stdout",
          "output_type": "stream",
          "text": [
            "   fips       date   score\n",
            "0  6001 2000-01-01     NaN\n",
            "1  6001 2000-01-02     NaN\n",
            "2  6001 2000-01-03     NaN\n",
            "3  6001 2000-01-04  0.6079\n",
            "4  6001 2000-01-05     NaN\n",
            "<class 'pandas.core.frame.DataFrame'>\n",
            "RangeIndex: 444918 entries, 0 to 444917\n",
            "Data columns (total 3 columns):\n",
            " #   Column  Non-Null Count   Dtype         \n",
            "---  ------  --------------   -----         \n",
            " 0   fips    444918 non-null  int64         \n",
            " 1   date    444918 non-null  datetime64[ns]\n",
            " 2   score   63568 non-null   float64       \n",
            "dtypes: datetime64[ns](1), float64(1), int64(1)\n",
            "memory usage: 10.2 MB\n",
            "None\n"
          ]
        }
      ],
      "source": [
        "print(score_df2.head())\n",
        "print(score_df2.info())"
      ]
    },
    {
      "cell_type": "code",
      "execution_count": null,
      "metadata": {
        "id": "ljPtyw7zcMjx",
        "outputId": "f13880fa-c468-49a8-eb1d-10460ec4fa16"
      },
      "outputs": [
        {
          "name": "stdout",
          "output_type": "stream",
          "text": [
            "    fips       date  score\n",
            "3   6001 2000-01-04    1.0\n",
            "10  6001 2000-01-11    1.0\n",
            "17  6001 2000-01-18    0.0\n",
            "24  6001 2000-01-25    0.0\n",
            "31  6001 2000-02-01    0.0\n",
            "<class 'pandas.core.frame.DataFrame'>\n",
            "Int64Index: 63568 entries, 3 to 444915\n",
            "Data columns (total 3 columns):\n",
            " #   Column  Non-Null Count  Dtype         \n",
            "---  ------  --------------  -----         \n",
            " 0   fips    63568 non-null  int64         \n",
            " 1   date    63568 non-null  datetime64[ns]\n",
            " 2   score   63568 non-null  float64       \n",
            "dtypes: datetime64[ns](1), float64(1), int64(1)\n",
            "memory usage: 1.9 MB\n",
            "None\n"
          ]
        },
        {
          "name": "stderr",
          "output_type": "stream",
          "text": [
            "<ipython-input-26-5403136478ed>:2: SettingWithCopyWarning:\n",
            "\n",
            "\n",
            "A value is trying to be set on a copy of a slice from a DataFrame.\n",
            "Try using .loc[row_indexer,col_indexer] = value instead\n",
            "\n",
            "See the caveats in the documentation: https://pandas.pydata.org/pandas-docs/stable/user_guide/indexing.html#returning-a-view-versus-a-copy\n",
            "\n"
          ]
        }
      ],
      "source": [
        "score_df3 = score_df2.dropna()\n",
        "score_df3['score'] = score_df2.score.round()\n",
        "# score_df3['score'] = score_df2['score'].astype('int64')\n",
        "print(score_df3.head())\n",
        "print(score_df3.info())"
      ]
    },
    {
      "cell_type": "code",
      "execution_count": null,
      "metadata": {
        "id": "PvzKGDvhcMjy",
        "outputId": "5314221b-1e12-47dc-bc58-bb90590796c2"
      },
      "outputs": [
        {
          "name": "stdout",
          "output_type": "stream",
          "text": [
            "    fips       date  score  year\n",
            "3   6001 2000-01-04    1.0  2000\n",
            "10  6001 2000-01-11    1.0  2000\n",
            "17  6001 2000-01-18    0.0  2000\n",
            "24  6001 2000-01-25    0.0  2000\n",
            "31  6001 2000-02-01    0.0  2000\n"
          ]
        },
        {
          "name": "stderr",
          "output_type": "stream",
          "text": [
            "<ipython-input-27-47b082fd5eb2>:1: SettingWithCopyWarning:\n",
            "\n",
            "\n",
            "A value is trying to be set on a copy of a slice from a DataFrame.\n",
            "Try using .loc[row_indexer,col_indexer] = value instead\n",
            "\n",
            "See the caveats in the documentation: https://pandas.pydata.org/pandas-docs/stable/user_guide/indexing.html#returning-a-view-versus-a-copy\n",
            "\n"
          ]
        }
      ],
      "source": [
        "score_df3['year'] = score_df3.date.dt.year\n",
        "print(score_df3.head())"
      ]
    },
    {
      "cell_type": "code",
      "execution_count": null,
      "metadata": {
        "id": "mTFkm3eGcMjy",
        "outputId": "3ed27271-37a1-4d4c-af27-fa818663f28c"
      },
      "outputs": [
        {
          "name": "stdout",
          "output_type": "stream",
          "text": [
            "      fips       date  score  year\n",
            "2558  6001 2007-01-02    0.0  2007\n",
            "2565  6001 2007-01-09    0.0  2007\n",
            "2572  6001 2007-01-16    0.0  2007\n",
            "2579  6001 2007-01-23    1.0  2007\n",
            "2586  6001 2007-01-30    1.0  2007\n",
            "        fips       date  score  year\n",
            "442332  6115 2013-12-03    3.0  2013\n",
            "442339  6115 2013-12-10    3.0  2013\n",
            "442346  6115 2013-12-17    3.0  2013\n",
            "442353  6115 2013-12-24    3.0  2013\n",
            "442360  6115 2013-12-31    3.0  2013\n",
            "      fips       date  score  year\n",
            "5120  6001 2014-01-07    3.0  2014\n",
            "5127  6001 2014-01-14    4.0  2014\n",
            "5134  6001 2014-01-21    4.0  2014\n",
            "5141  6001 2014-01-28    4.0  2014\n",
            "5148  6001 2014-02-04    4.0  2014\n",
            "        fips       date  score  year\n",
            "444887  6115 2020-12-01    3.0  2020\n",
            "444894  6115 2020-12-08    3.0  2020\n",
            "444901  6115 2020-12-15    3.0  2020\n",
            "444908  6115 2020-12-22    3.0  2020\n",
            "444915  6115 2020-12-29    3.0  2020\n"
          ]
        }
      ],
      "source": [
        "df1 = score_df3[(score_df3.year<=2013) & (score_df3.year>=2007)]\n",
        "df2 = score_df3[score_df3.year>=2014]\n",
        "print(df1.head())\n",
        "print(df1.tail())\n",
        "print(df2.head())\n",
        "print(df2.tail())"
      ]
    },
    {
      "cell_type": "code",
      "execution_count": null,
      "metadata": {
        "scrolled": true,
        "id": "nQyy0wi6cMjy",
        "outputId": "d9a03a7e-0115-4912-d1f7-9fe5d06295ce"
      },
      "outputs": [
        {
          "name": "stdout",
          "output_type": "stream",
          "text": [
            "[0.0    126\n",
            "1.0     46\n",
            "2.0    106\n",
            "3.0     88\n",
            "Name: score, dtype: int64, 0.0    107\n",
            "1.0     95\n",
            "2.0     95\n",
            "3.0     69\n",
            "Name: score, dtype: int64, 0.0    120\n",
            "1.0     58\n",
            "2.0    127\n",
            "3.0     54\n",
            "4.0      7\n",
            "Name: score, dtype: int64, 0.0    118\n",
            "1.0     65\n",
            "2.0     94\n",
            "3.0     81\n",
            "4.0      8\n",
            "Name: score, dtype: int64, 0.0    122\n",
            "1.0     52\n",
            "2.0    132\n",
            "3.0     53\n",
            "4.0      7\n",
            "Name: score, dtype: int64, 0.0    111\n",
            "1.0     41\n",
            "2.0    121\n",
            "3.0     87\n",
            "4.0      6\n",
            "Name: score, dtype: int64, 0.0    113\n",
            "1.0     45\n",
            "2.0    115\n",
            "3.0     93\n",
            "Name: score, dtype: int64, 0.0    259\n",
            "1.0     62\n",
            "2.0     22\n",
            "3.0     23\n",
            "Name: score, dtype: int64, 0.0    133\n",
            "1.0     94\n",
            "2.0     70\n",
            "3.0     69\n",
            "Name: score, dtype: int64, 0.0     87\n",
            "1.0     46\n",
            "2.0     79\n",
            "3.0    147\n",
            "4.0      7\n",
            "Name: score, dtype: int64, 0.0    111\n",
            "1.0     48\n",
            "2.0    114\n",
            "3.0     86\n",
            "4.0      7\n",
            "Name: score, dtype: int64, 0.0    208\n",
            "1.0     66\n",
            "2.0     66\n",
            "3.0     26\n",
            "Name: score, dtype: int64, 0.0     76\n",
            "1.0     79\n",
            "2.0    130\n",
            "3.0     43\n",
            "4.0     38\n",
            "Name: score, dtype: int64, 0.0     99\n",
            "1.0     61\n",
            "2.0     66\n",
            "3.0    140\n",
            "Name: score, dtype: int64, 0.0    102\n",
            "1.0     12\n",
            "2.0     68\n",
            "3.0    163\n",
            "4.0     21\n",
            "Name: score, dtype: int64, 0.0     85\n",
            "1.0     28\n",
            "2.0     82\n",
            "3.0    150\n",
            "4.0     21\n",
            "Name: score, dtype: int64, 0.0    132\n",
            "1.0     63\n",
            "2.0     93\n",
            "3.0     73\n",
            "4.0      5\n",
            "Name: score, dtype: int64, 0.0     51\n",
            "1.0     13\n",
            "2.0    147\n",
            "3.0    142\n",
            "4.0     13\n",
            "Name: score, dtype: int64, 0.0    102\n",
            "1.0     77\n",
            "2.0     78\n",
            "3.0     66\n",
            "4.0     43\n",
            "Name: score, dtype: int64, 0.0    106\n",
            "1.0     30\n",
            "2.0    154\n",
            "3.0     69\n",
            "4.0      7\n",
            "Name: score, dtype: int64, 0.0    133\n",
            "1.0     75\n",
            "2.0    111\n",
            "3.0     47\n",
            "Name: score, dtype: int64, 0.0    120\n",
            "1.0     33\n",
            "2.0    136\n",
            "3.0     70\n",
            "4.0      7\n",
            "Name: score, dtype: int64, 0.0    163\n",
            "1.0     61\n",
            "2.0     61\n",
            "3.0     77\n",
            "4.0      4\n",
            "Name: score, dtype: int64, 0.0     99\n",
            "1.0     24\n",
            "2.0    139\n",
            "3.0     97\n",
            "4.0      7\n",
            "Name: score, dtype: int64, 0.0     53\n",
            "1.0     23\n",
            "2.0    170\n",
            "3.0    120\n",
            "Name: score, dtype: int64, 0.0     83\n",
            "1.0    103\n",
            "2.0     73\n",
            "3.0    107\n",
            "Name: score, dtype: int64, 0.0    110\n",
            "1.0     62\n",
            "2.0    115\n",
            "3.0     79\n",
            "Name: score, dtype: int64, 0.0    123\n",
            "1.0     68\n",
            "2.0     97\n",
            "3.0     75\n",
            "4.0      3\n",
            "Name: score, dtype: int64, 0.0    131\n",
            "1.0     63\n",
            "2.0    112\n",
            "3.0     54\n",
            "4.0      6\n",
            "Name: score, dtype: int64, 0.0    105\n",
            "1.0     82\n",
            "2.0     73\n",
            "3.0     68\n",
            "4.0     38\n",
            "Name: score, dtype: int64, 0.0    130\n",
            "1.0     65\n",
            "2.0    100\n",
            "3.0     65\n",
            "4.0      6\n",
            "Name: score, dtype: int64, 0.0     60\n",
            "1.0     97\n",
            "2.0    132\n",
            "3.0     71\n",
            "4.0      6\n",
            "Name: score, dtype: int64, 0.0     71\n",
            "1.0     61\n",
            "2.0    166\n",
            "3.0     30\n",
            "4.0     38\n",
            "Name: score, dtype: int64, 0.0    118\n",
            "1.0     37\n",
            "2.0    118\n",
            "3.0     86\n",
            "4.0      7\n",
            "Name: score, dtype: int64, 0.0     94\n",
            "1.0     34\n",
            "2.0    125\n",
            "3.0    113\n",
            "Name: score, dtype: int64, 0.0     97\n",
            "1.0     46\n",
            "2.0    115\n",
            "3.0     70\n",
            "4.0     38\n",
            "Name: score, dtype: int64, 0.0    139\n",
            "1.0     59\n",
            "2.0     71\n",
            "3.0     69\n",
            "4.0     28\n",
            "Name: score, dtype: int64, 0.0    133\n",
            "1.0     62\n",
            "2.0    137\n",
            "3.0     34\n",
            "Name: score, dtype: int64, 0.0    105\n",
            "1.0     49\n",
            "2.0    118\n",
            "3.0     87\n",
            "4.0      7\n",
            "Name: score, dtype: int64, 0.0    98\n",
            "1.0    53\n",
            "2.0    99\n",
            "3.0    62\n",
            "4.0    54\n",
            "Name: score, dtype: int64, 0.0    132\n",
            "1.0     47\n",
            "2.0    133\n",
            "3.0     54\n",
            "Name: score, dtype: int64, 0.0    117\n",
            "1.0     68\n",
            "2.0     77\n",
            "3.0     50\n",
            "4.0     54\n",
            "Name: score, dtype: int64, 0.0    122\n",
            "1.0     47\n",
            "2.0    109\n",
            "3.0     88\n",
            "Name: score, dtype: int64, 0.0    132\n",
            "1.0     43\n",
            "2.0    127\n",
            "3.0     64\n",
            "Name: score, dtype: int64, 0.0    110\n",
            "1.0     97\n",
            "2.0    106\n",
            "3.0     49\n",
            "4.0      4\n",
            "Name: score, dtype: int64, 0.0     66\n",
            "1.0     93\n",
            "2.0    128\n",
            "3.0     72\n",
            "4.0      7\n",
            "Name: score, dtype: int64, 0.0    124\n",
            "1.0    118\n",
            "2.0     95\n",
            "3.0     29\n",
            "Name: score, dtype: int64, 0.0    125\n",
            "1.0     44\n",
            "2.0    108\n",
            "3.0     89\n",
            "Name: score, dtype: int64, 0.0    132\n",
            "1.0     68\n",
            "2.0     89\n",
            "3.0     77\n",
            "Name: score, dtype: int64, 0.0     99\n",
            "1.0     48\n",
            "2.0    123\n",
            "3.0     89\n",
            "4.0      7\n",
            "Name: score, dtype: int64, 0.0    115\n",
            "1.0     35\n",
            "2.0    123\n",
            "3.0     87\n",
            "4.0      6\n",
            "Name: score, dtype: int64, 0.0    112\n",
            "1.0     78\n",
            "2.0     73\n",
            "3.0     96\n",
            "4.0      7\n",
            "Name: score, dtype: int64, 0.0    182\n",
            "1.0     66\n",
            "2.0     65\n",
            "3.0     53\n",
            "Name: score, dtype: int64, 0.0    100\n",
            "1.0     18\n",
            "2.0    103\n",
            "3.0    138\n",
            "4.0      7\n",
            "Name: score, dtype: int64, 0.0    131\n",
            "1.0     72\n",
            "2.0     86\n",
            "3.0     70\n",
            "4.0      7\n",
            "Name: score, dtype: int64, 0.0    117\n",
            "1.0     70\n",
            "2.0     86\n",
            "3.0     55\n",
            "4.0     38\n",
            "Name: score, dtype: int64, 0.0    123\n",
            "1.0     35\n",
            "2.0    115\n",
            "3.0     87\n",
            "4.0      6\n",
            "Name: score, dtype: int64, 0.0    124\n",
            "1.0     42\n",
            "2.0    111\n",
            "3.0     83\n",
            "4.0      6\n",
            "Name: score, dtype: int64]\n",
            "[0.0    117\n",
            "1.0     44\n",
            "2.0     30\n",
            "3.0     61\n",
            "4.0     71\n",
            "5.0     42\n",
            "Name: score, dtype: int64, 0.0    118\n",
            "1.0     41\n",
            "2.0     45\n",
            "3.0     39\n",
            "4.0     37\n",
            "5.0     85\n",
            "Name: score, dtype: int64, 0.0    137\n",
            "1.0     35\n",
            "2.0     32\n",
            "3.0     40\n",
            "4.0     33\n",
            "5.0     88\n",
            "Name: score, dtype: int64, 0.0    119\n",
            "1.0     43\n",
            "2.0     42\n",
            "3.0     29\n",
            "4.0     51\n",
            "5.0     81\n",
            "Name: score, dtype: int64, 0.0    131\n",
            "1.0     40\n",
            "2.0     33\n",
            "3.0      6\n",
            "4.0     65\n",
            "5.0     90\n",
            "Name: score, dtype: int64, 0.0    104\n",
            "1.0     37\n",
            "2.0     64\n",
            "3.0     28\n",
            "4.0    112\n",
            "5.0     20\n",
            "Name: score, dtype: int64, 0.0    104\n",
            "1.0     56\n",
            "2.0     11\n",
            "3.0     81\n",
            "4.0     79\n",
            "5.0     34\n",
            "Name: score, dtype: int64, 0.0    155\n",
            "1.0     56\n",
            "2.0     50\n",
            "3.0    102\n",
            "4.0      2\n",
            "Name: score, dtype: int64, 0.0    135\n",
            "1.0     33\n",
            "2.0     70\n",
            "3.0     14\n",
            "4.0     32\n",
            "5.0     81\n",
            "Name: score, dtype: int64, 0.0     89\n",
            "1.0     57\n",
            "2.0     50\n",
            "3.0     11\n",
            "4.0      8\n",
            "5.0    150\n",
            "Name: score, dtype: int64, 0.0    103\n",
            "1.0     29\n",
            "2.0     72\n",
            "3.0     29\n",
            "4.0    112\n",
            "5.0     20\n",
            "Name: score, dtype: int64, 0.0    149\n",
            "1.0     55\n",
            "2.0     20\n",
            "3.0     87\n",
            "4.0     34\n",
            "5.0     20\n",
            "Name: score, dtype: int64, 0.0     48\n",
            "1.0     46\n",
            "2.0    103\n",
            "3.0    136\n",
            "4.0     32\n",
            "Name: score, dtype: int64, 0.0     90\n",
            "1.0     89\n",
            "2.0     21\n",
            "3.0     44\n",
            "4.0    121\n",
            "Name: score, dtype: int64, 0.0    116\n",
            "1.0     26\n",
            "2.0     57\n",
            "3.0      7\n",
            "4.0      8\n",
            "5.0    151\n",
            "Name: score, dtype: int64, 0.0     86\n",
            "1.0     53\n",
            "2.0     60\n",
            "3.0      7\n",
            "4.0      5\n",
            "5.0    154\n",
            "Name: score, dtype: int64, 0.0    110\n",
            "1.0     29\n",
            "2.0     74\n",
            "3.0     34\n",
            "4.0     98\n",
            "5.0     20\n",
            "Name: score, dtype: int64, 0.0    142\n",
            "1.0     42\n",
            "2.0     38\n",
            "3.0     30\n",
            "4.0     35\n",
            "5.0     78\n",
            "Name: score, dtype: int64, 0.0     80\n",
            "1.0     15\n",
            "2.0     59\n",
            "3.0     53\n",
            "4.0     26\n",
            "5.0    132\n",
            "Name: score, dtype: int64, 0.0     95\n",
            "1.0     51\n",
            "2.0     48\n",
            "3.0     13\n",
            "4.0     46\n",
            "5.0    112\n",
            "Name: score, dtype: int64, 0.0    128\n",
            "1.0     72\n",
            "2.0     19\n",
            "3.0     99\n",
            "4.0     47\n",
            "Name: score, dtype: int64, 0.0    114\n",
            "1.0     35\n",
            "2.0     54\n",
            "3.0      5\n",
            "4.0     45\n",
            "5.0    112\n",
            "Name: score, dtype: int64, 0.0    126\n",
            "1.0     69\n",
            "2.0     23\n",
            "3.0     91\n",
            "4.0     36\n",
            "5.0     20\n",
            "Name: score, dtype: int64, 0.0     94\n",
            "1.0     54\n",
            "2.0     52\n",
            "3.0      7\n",
            "4.0     42\n",
            "5.0    116\n",
            "Name: score, dtype: int64, 0.0    117\n",
            "1.0     68\n",
            "2.0     47\n",
            "3.0     19\n",
            "4.0    100\n",
            "5.0     14\n",
            "Name: score, dtype: int64, 0.0    133\n",
            "1.0     33\n",
            "2.0     37\n",
            "3.0      6\n",
            "4.0     92\n",
            "5.0     64\n",
            "Name: score, dtype: int64, 0.0    132\n",
            "1.0     57\n",
            "2.0     17\n",
            "3.0      3\n",
            "4.0    102\n",
            "5.0     54\n",
            "Name: score, dtype: int64, 0.0    112\n",
            "1.0     79\n",
            "2.0     23\n",
            "3.0     33\n",
            "4.0     98\n",
            "5.0     20\n",
            "Name: score, dtype: int64, 0.0    122\n",
            "1.0     54\n",
            "2.0     47\n",
            "3.0     34\n",
            "4.0     33\n",
            "5.0     75\n",
            "Name: score, dtype: int64, 0.0     55\n",
            "1.0     45\n",
            "2.0     55\n",
            "3.0     52\n",
            "4.0     28\n",
            "5.0    130\n",
            "Name: score, dtype: int64, 0.0    135\n",
            "1.0     39\n",
            "2.0     64\n",
            "3.0     16\n",
            "4.0     36\n",
            "5.0     75\n",
            "Name: score, dtype: int64, 0.0    139\n",
            "1.0     29\n",
            "2.0     55\n",
            "3.0     24\n",
            "4.0     51\n",
            "5.0     67\n",
            "Name: score, dtype: int64, 0.0     68\n",
            "1.0     74\n",
            "2.0     38\n",
            "3.0    185\n",
            "Name: score, dtype: int64, 0.0    136\n",
            "1.0     24\n",
            "2.0     11\n",
            "3.0     71\n",
            "4.0     39\n",
            "5.0     84\n",
            "Name: score, dtype: int64, 0.0     49\n",
            "1.0    139\n",
            "2.0     15\n",
            "3.0      4\n",
            "4.0      4\n",
            "5.0    154\n",
            "Name: score, dtype: int64, 0.0    113\n",
            "1.0     22\n",
            "2.0     76\n",
            "3.0    151\n",
            "4.0      3\n",
            "Name: score, dtype: int64, 0.0     60\n",
            "1.0     86\n",
            "2.0     25\n",
            "3.0     43\n",
            "4.0    151\n",
            "Name: score, dtype: int64, 0.0    124\n",
            "1.0     80\n",
            "2.0     10\n",
            "3.0     99\n",
            "4.0     18\n",
            "5.0     34\n",
            "Name: score, dtype: int64, 0.0    129\n",
            "1.0     29\n",
            "2.0     33\n",
            "3.0     17\n",
            "4.0     61\n",
            "5.0     96\n",
            "Name: score, dtype: int64, 0.0     79\n",
            "1.0     64\n",
            "2.0     55\n",
            "3.0      8\n",
            "4.0      6\n",
            "5.0    153\n",
            "Name: score, dtype: int64, 0.0    122\n",
            "1.0     75\n",
            "2.0     40\n",
            "3.0     22\n",
            "4.0     64\n",
            "5.0     42\n",
            "Name: score, dtype: int64, 0.0     80\n",
            "1.0     14\n",
            "2.0     56\n",
            "3.0     56\n",
            "4.0      8\n",
            "5.0    151\n",
            "Name: score, dtype: int64, 0.0    113\n",
            "1.0     60\n",
            "2.0     38\n",
            "3.0     41\n",
            "4.0     71\n",
            "5.0     42\n",
            "Name: score, dtype: int64, 0.0    121\n",
            "1.0     95\n",
            "2.0     35\n",
            "3.0      8\n",
            "4.0     64\n",
            "5.0     42\n",
            "Name: score, dtype: int64, 0.0    131\n",
            "1.0     58\n",
            "2.0     43\n",
            "3.0     19\n",
            "4.0     94\n",
            "5.0     20\n",
            "Name: score, dtype: int64, 0.0    137\n",
            "1.0     31\n",
            "2.0     54\n",
            "3.0     28\n",
            "4.0     54\n",
            "5.0     61\n",
            "Name: score, dtype: int64, 0.0    114\n",
            "1.0     64\n",
            "2.0     28\n",
            "3.0    103\n",
            "4.0     56\n",
            "Name: score, dtype: int64, 0.0    104\n",
            "1.0     56\n",
            "2.0     14\n",
            "3.0     64\n",
            "4.0    107\n",
            "5.0     20\n",
            "Name: score, dtype: int64, 0.0    128\n",
            "1.0     72\n",
            "2.0     19\n",
            "3.0     94\n",
            "4.0     32\n",
            "5.0     20\n",
            "Name: score, dtype: int64, 0.0    96\n",
            "1.0    54\n",
            "2.0    50\n",
            "3.0     8\n",
            "4.0    61\n",
            "5.0    96\n",
            "Name: score, dtype: int64, 0.0    116\n",
            "1.0     39\n",
            "2.0     50\n",
            "3.0     28\n",
            "4.0     48\n",
            "5.0     84\n",
            "Name: score, dtype: int64, 0.0    106\n",
            "1.0     55\n",
            "2.0     43\n",
            "3.0     34\n",
            "4.0    107\n",
            "5.0     20\n",
            "Name: score, dtype: int64, 0.0    127\n",
            "1.0     40\n",
            "2.0     51\n",
            "3.0     76\n",
            "4.0     51\n",
            "5.0     20\n",
            "Name: score, dtype: int64, 0.0     96\n",
            "1.0     74\n",
            "2.0     24\n",
            "3.0     12\n",
            "4.0      9\n",
            "5.0    150\n",
            "Name: score, dtype: int64, 0.0    114\n",
            "1.0     49\n",
            "2.0     40\n",
            "3.0      5\n",
            "4.0     61\n",
            "5.0     96\n",
            "Name: score, dtype: int64, 0.0     79\n",
            "1.0     15\n",
            "2.0     55\n",
            "3.0     48\n",
            "4.0     32\n",
            "5.0    136\n",
            "Name: score, dtype: int64, 0.0    106\n",
            "1.0     50\n",
            "2.0     18\n",
            "3.0     55\n",
            "4.0     52\n",
            "5.0     84\n",
            "Name: score, dtype: int64, 0.0    120\n",
            "1.0     33\n",
            "2.0     52\n",
            "3.0     42\n",
            "4.0     34\n",
            "5.0     84\n",
            "Name: score, dtype: int64]\n"
          ]
        }
      ],
      "source": [
        "count1=[]\n",
        "count2=[]\n",
        "for fips in ca_fips:\n",
        "    x1=df1[df1['fips']==fips].score.value_counts().sort_index()\n",
        "    x2=df2[df2['fips']==fips].score.value_counts().sort_index()\n",
        "#     print(x)\n",
        "    count1.append(x1)\n",
        "    count2.append(x2)\n",
        "#print(count)\n",
        "# print(count[0])\n",
        "print(count1)\n",
        "print(count2)"
      ]
    },
    {
      "cell_type": "code",
      "execution_count": null,
      "metadata": {
        "scrolled": false,
        "id": "Tg8CyCzrcMjy",
        "outputId": "a6a5af09-e418-4c4e-c80b-619fc39a6195"
      },
      "outputs": [
        {
          "name": "stdout",
          "output_type": "stream",
          "text": [
            "        0.0    1.0    2.0    3.0   4.0\n",
            "6001  126.0   46.0  106.0   88.0   NaN\n",
            "6003  107.0   95.0   95.0   69.0   NaN\n",
            "6005  120.0   58.0  127.0   54.0   7.0\n",
            "6007  118.0   65.0   94.0   81.0   8.0\n",
            "6009  122.0   52.0  132.0   53.0   7.0\n",
            "6011  111.0   41.0  121.0   87.0   6.0\n",
            "6013  113.0   45.0  115.0   93.0   NaN\n",
            "6015  259.0   62.0   22.0   23.0   NaN\n",
            "6017  133.0   94.0   70.0   69.0   NaN\n",
            "6019   87.0   46.0   79.0  147.0   7.0\n",
            "6021  111.0   48.0  114.0   86.0   7.0\n",
            "6023  208.0   66.0   66.0   26.0   NaN\n",
            "6025   76.0   79.0  130.0   43.0  38.0\n",
            "6027   99.0   61.0   66.0  140.0   NaN\n",
            "6029  102.0   12.0   68.0  163.0  21.0\n",
            "6031   85.0   28.0   82.0  150.0  21.0\n",
            "6033  132.0   63.0   93.0   73.0   5.0\n",
            "6035   51.0   13.0  147.0  142.0  13.0\n",
            "6037  102.0   77.0   78.0   66.0  43.0\n",
            "6039  106.0   30.0  154.0   69.0   7.0\n",
            "6041  133.0   75.0  111.0   47.0   NaN\n",
            "6043  120.0   33.0  136.0   70.0   7.0\n",
            "6045  163.0   61.0   61.0   77.0   4.0\n",
            "6047   99.0   24.0  139.0   97.0   7.0\n",
            "6049   53.0   23.0  170.0  120.0   NaN\n",
            "6051   83.0  103.0   73.0  107.0   NaN\n",
            "6053  110.0   62.0  115.0   79.0   NaN\n",
            "6055  123.0   68.0   97.0   75.0   3.0\n",
            "6057  131.0   63.0  112.0   54.0   6.0\n",
            "6059  105.0   82.0   73.0   68.0  38.0\n",
            "6061  130.0   65.0  100.0   65.0   6.0\n",
            "6063   60.0   97.0  132.0   71.0   6.0\n",
            "6065   71.0   61.0  166.0   30.0  38.0\n",
            "6067  118.0   37.0  118.0   86.0   7.0\n",
            "6069   94.0   34.0  125.0  113.0   NaN\n",
            "6071   97.0   46.0  115.0   70.0  38.0\n",
            "6073  139.0   59.0   71.0   69.0  28.0\n",
            "6075  133.0   62.0  137.0   34.0   NaN\n",
            "6077  105.0   49.0  118.0   87.0   7.0\n",
            "6079   98.0   53.0   99.0   62.0  54.0\n",
            "6081  132.0   47.0  133.0   54.0   NaN\n",
            "6083  117.0   68.0   77.0   50.0  54.0\n",
            "6085  122.0   47.0  109.0   88.0   NaN\n",
            "6087  132.0   43.0  127.0   64.0   NaN\n",
            "6089  110.0   97.0  106.0   49.0   4.0\n",
            "6091   66.0   93.0  128.0   72.0   7.0\n",
            "6093  124.0  118.0   95.0   29.0   NaN\n",
            "6095  125.0   44.0  108.0   89.0   NaN\n",
            "6097  132.0   68.0   89.0   77.0   NaN\n",
            "6099   99.0   48.0  123.0   89.0   7.0\n",
            "6101  115.0   35.0  123.0   87.0   6.0\n",
            "6103  112.0   78.0   73.0   96.0   7.0\n",
            "6105  182.0   66.0   65.0   53.0   NaN\n",
            "6107  100.0   18.0  103.0  138.0   7.0\n",
            "6109  131.0   72.0   86.0   70.0   7.0\n",
            "6111  117.0   70.0   86.0   55.0  38.0\n",
            "6113  123.0   35.0  115.0   87.0   6.0\n",
            "6115  124.0   42.0  111.0   83.0   6.0\n"
          ]
        }
      ],
      "source": [
        "final_df1=pd.DataFrame(count1,index=ca_fips)\n",
        "print(final_df1)"
      ]
    },
    {
      "cell_type": "code",
      "execution_count": null,
      "metadata": {
        "id": "06XQ8pm0cMjz",
        "outputId": "aa8a8fd5-1f7a-4bc2-e9b1-45f85d1e33cb"
      },
      "outputs": [
        {
          "name": "stdout",
          "output_type": "stream",
          "text": [
            "      2000_2013_0  2000_2013_1  2000_2013_2  2000_2013_3  2000_2013_4  \\\n",
            "6001        126.0         46.0        106.0         88.0          NaN   \n",
            "6003        107.0         95.0         95.0         69.0          NaN   \n",
            "6005        120.0         58.0        127.0         54.0          7.0   \n",
            "6007        118.0         65.0         94.0         81.0          8.0   \n",
            "6009        122.0         52.0        132.0         53.0          7.0   \n",
            "6011        111.0         41.0        121.0         87.0          6.0   \n",
            "6013        113.0         45.0        115.0         93.0          NaN   \n",
            "6015        259.0         62.0         22.0         23.0          NaN   \n",
            "6017        133.0         94.0         70.0         69.0          NaN   \n",
            "6019         87.0         46.0         79.0        147.0          7.0   \n",
            "6021        111.0         48.0        114.0         86.0          7.0   \n",
            "6023        208.0         66.0         66.0         26.0          NaN   \n",
            "6025         76.0         79.0        130.0         43.0         38.0   \n",
            "6027         99.0         61.0         66.0        140.0          NaN   \n",
            "6029        102.0         12.0         68.0        163.0         21.0   \n",
            "6031         85.0         28.0         82.0        150.0         21.0   \n",
            "6033        132.0         63.0         93.0         73.0          5.0   \n",
            "6035         51.0         13.0        147.0        142.0         13.0   \n",
            "6037        102.0         77.0         78.0         66.0         43.0   \n",
            "6039        106.0         30.0        154.0         69.0          7.0   \n",
            "6041        133.0         75.0        111.0         47.0          NaN   \n",
            "6043        120.0         33.0        136.0         70.0          7.0   \n",
            "6045        163.0         61.0         61.0         77.0          4.0   \n",
            "6047         99.0         24.0        139.0         97.0          7.0   \n",
            "6049         53.0         23.0        170.0        120.0          NaN   \n",
            "6051         83.0        103.0         73.0        107.0          NaN   \n",
            "6053        110.0         62.0        115.0         79.0          NaN   \n",
            "6055        123.0         68.0         97.0         75.0          3.0   \n",
            "6057        131.0         63.0        112.0         54.0          6.0   \n",
            "6059        105.0         82.0         73.0         68.0         38.0   \n",
            "6061        130.0         65.0        100.0         65.0          6.0   \n",
            "6063         60.0         97.0        132.0         71.0          6.0   \n",
            "6065         71.0         61.0        166.0         30.0         38.0   \n",
            "6067        118.0         37.0        118.0         86.0          7.0   \n",
            "6069         94.0         34.0        125.0        113.0          NaN   \n",
            "6071         97.0         46.0        115.0         70.0         38.0   \n",
            "6073        139.0         59.0         71.0         69.0         28.0   \n",
            "6075        133.0         62.0        137.0         34.0          NaN   \n",
            "6077        105.0         49.0        118.0         87.0          7.0   \n",
            "6079         98.0         53.0         99.0         62.0         54.0   \n",
            "6081        132.0         47.0        133.0         54.0          NaN   \n",
            "6083        117.0         68.0         77.0         50.0         54.0   \n",
            "6085        122.0         47.0        109.0         88.0          NaN   \n",
            "6087        132.0         43.0        127.0         64.0          NaN   \n",
            "6089        110.0         97.0        106.0         49.0          4.0   \n",
            "6091         66.0         93.0        128.0         72.0          7.0   \n",
            "6093        124.0        118.0         95.0         29.0          NaN   \n",
            "6095        125.0         44.0        108.0         89.0          NaN   \n",
            "6097        132.0         68.0         89.0         77.0          NaN   \n",
            "6099         99.0         48.0        123.0         89.0          7.0   \n",
            "6101        115.0         35.0        123.0         87.0          6.0   \n",
            "6103        112.0         78.0         73.0         96.0          7.0   \n",
            "6105        182.0         66.0         65.0         53.0          NaN   \n",
            "6107        100.0         18.0        103.0        138.0          7.0   \n",
            "6109        131.0         72.0         86.0         70.0          7.0   \n",
            "6111        117.0         70.0         86.0         55.0         38.0   \n",
            "6113        123.0         35.0        115.0         87.0          6.0   \n",
            "6115        124.0         42.0        111.0         83.0          6.0   \n",
            "\n",
            "      2000_2013_5  \n",
            "6001          0.0  \n",
            "6003          0.0  \n",
            "6005          0.0  \n",
            "6007          0.0  \n",
            "6009          0.0  \n",
            "6011          0.0  \n",
            "6013          0.0  \n",
            "6015          0.0  \n",
            "6017          0.0  \n",
            "6019          0.0  \n",
            "6021          0.0  \n",
            "6023          0.0  \n",
            "6025          0.0  \n",
            "6027          0.0  \n",
            "6029          0.0  \n",
            "6031          0.0  \n",
            "6033          0.0  \n",
            "6035          0.0  \n",
            "6037          0.0  \n",
            "6039          0.0  \n",
            "6041          0.0  \n",
            "6043          0.0  \n",
            "6045          0.0  \n",
            "6047          0.0  \n",
            "6049          0.0  \n",
            "6051          0.0  \n",
            "6053          0.0  \n",
            "6055          0.0  \n",
            "6057          0.0  \n",
            "6059          0.0  \n",
            "6061          0.0  \n",
            "6063          0.0  \n",
            "6065          0.0  \n",
            "6067          0.0  \n",
            "6069          0.0  \n",
            "6071          0.0  \n",
            "6073          0.0  \n",
            "6075          0.0  \n",
            "6077          0.0  \n",
            "6079          0.0  \n",
            "6081          0.0  \n",
            "6083          0.0  \n",
            "6085          0.0  \n",
            "6087          0.0  \n",
            "6089          0.0  \n",
            "6091          0.0  \n",
            "6093          0.0  \n",
            "6095          0.0  \n",
            "6097          0.0  \n",
            "6099          0.0  \n",
            "6101          0.0  \n",
            "6103          0.0  \n",
            "6105          0.0  \n",
            "6107          0.0  \n",
            "6109          0.0  \n",
            "6111          0.0  \n",
            "6113          0.0  \n",
            "6115          0.0  \n"
          ]
        }
      ],
      "source": [
        "tdf1 = np.zeros((58,1))\n",
        "tdf2 = pd.DataFrame(tdf1,index=ca_fips)\n",
        "final_df1['5.0'] = tdf2[0]\n",
        "ss_cols1 = ['2000_2013_0','2000_2013_1','2000_2013_2','2000_2013_3','2000_2013_4','2000_2013_5']\n",
        "final_df1.columns = ss_cols1\n",
        "print(final_df1)"
      ]
    },
    {
      "cell_type": "code",
      "execution_count": null,
      "metadata": {
        "id": "YQXHzkzEcMjz",
        "outputId": "ec418c2a-b232-46b7-c1bc-51080a71f102"
      },
      "outputs": [
        {
          "name": "stdout",
          "output_type": "stream",
          "text": [
            "      2000_2013_0  2000_2013_1  2000_2013_2  2000_2013_3  2000_2013_4  \\\n",
            "6001        126.0         46.0        106.0         88.0          0.0   \n",
            "6003        107.0         95.0         95.0         69.0          0.0   \n",
            "6005        120.0         58.0        127.0         54.0          7.0   \n",
            "6007        118.0         65.0         94.0         81.0          8.0   \n",
            "6009        122.0         52.0        132.0         53.0          7.0   \n",
            "6011        111.0         41.0        121.0         87.0          6.0   \n",
            "6013        113.0         45.0        115.0         93.0          0.0   \n",
            "6015        259.0         62.0         22.0         23.0          0.0   \n",
            "6017        133.0         94.0         70.0         69.0          0.0   \n",
            "6019         87.0         46.0         79.0        147.0          7.0   \n",
            "6021        111.0         48.0        114.0         86.0          7.0   \n",
            "6023        208.0         66.0         66.0         26.0          0.0   \n",
            "6025         76.0         79.0        130.0         43.0         38.0   \n",
            "6027         99.0         61.0         66.0        140.0          0.0   \n",
            "6029        102.0         12.0         68.0        163.0         21.0   \n",
            "6031         85.0         28.0         82.0        150.0         21.0   \n",
            "6033        132.0         63.0         93.0         73.0          5.0   \n",
            "6035         51.0         13.0        147.0        142.0         13.0   \n",
            "6037        102.0         77.0         78.0         66.0         43.0   \n",
            "6039        106.0         30.0        154.0         69.0          7.0   \n",
            "6041        133.0         75.0        111.0         47.0          0.0   \n",
            "6043        120.0         33.0        136.0         70.0          7.0   \n",
            "6045        163.0         61.0         61.0         77.0          4.0   \n",
            "6047         99.0         24.0        139.0         97.0          7.0   \n",
            "6049         53.0         23.0        170.0        120.0          0.0   \n",
            "6051         83.0        103.0         73.0        107.0          0.0   \n",
            "6053        110.0         62.0        115.0         79.0          0.0   \n",
            "6055        123.0         68.0         97.0         75.0          3.0   \n",
            "6057        131.0         63.0        112.0         54.0          6.0   \n",
            "6059        105.0         82.0         73.0         68.0         38.0   \n",
            "6061        130.0         65.0        100.0         65.0          6.0   \n",
            "6063         60.0         97.0        132.0         71.0          6.0   \n",
            "6065         71.0         61.0        166.0         30.0         38.0   \n",
            "6067        118.0         37.0        118.0         86.0          7.0   \n",
            "6069         94.0         34.0        125.0        113.0          0.0   \n",
            "6071         97.0         46.0        115.0         70.0         38.0   \n",
            "6073        139.0         59.0         71.0         69.0         28.0   \n",
            "6075        133.0         62.0        137.0         34.0          0.0   \n",
            "6077        105.0         49.0        118.0         87.0          7.0   \n",
            "6079         98.0         53.0         99.0         62.0         54.0   \n",
            "6081        132.0         47.0        133.0         54.0          0.0   \n",
            "6083        117.0         68.0         77.0         50.0         54.0   \n",
            "6085        122.0         47.0        109.0         88.0          0.0   \n",
            "6087        132.0         43.0        127.0         64.0          0.0   \n",
            "6089        110.0         97.0        106.0         49.0          4.0   \n",
            "6091         66.0         93.0        128.0         72.0          7.0   \n",
            "6093        124.0        118.0         95.0         29.0          0.0   \n",
            "6095        125.0         44.0        108.0         89.0          0.0   \n",
            "6097        132.0         68.0         89.0         77.0          0.0   \n",
            "6099         99.0         48.0        123.0         89.0          7.0   \n",
            "6101        115.0         35.0        123.0         87.0          6.0   \n",
            "6103        112.0         78.0         73.0         96.0          7.0   \n",
            "6105        182.0         66.0         65.0         53.0          0.0   \n",
            "6107        100.0         18.0        103.0        138.0          7.0   \n",
            "6109        131.0         72.0         86.0         70.0          7.0   \n",
            "6111        117.0         70.0         86.0         55.0         38.0   \n",
            "6113        123.0         35.0        115.0         87.0          6.0   \n",
            "6115        124.0         42.0        111.0         83.0          6.0   \n",
            "\n",
            "      2000_2013_5  \n",
            "6001          0.0  \n",
            "6003          0.0  \n",
            "6005          0.0  \n",
            "6007          0.0  \n",
            "6009          0.0  \n",
            "6011          0.0  \n",
            "6013          0.0  \n",
            "6015          0.0  \n",
            "6017          0.0  \n",
            "6019          0.0  \n",
            "6021          0.0  \n",
            "6023          0.0  \n",
            "6025          0.0  \n",
            "6027          0.0  \n",
            "6029          0.0  \n",
            "6031          0.0  \n",
            "6033          0.0  \n",
            "6035          0.0  \n",
            "6037          0.0  \n",
            "6039          0.0  \n",
            "6041          0.0  \n",
            "6043          0.0  \n",
            "6045          0.0  \n",
            "6047          0.0  \n",
            "6049          0.0  \n",
            "6051          0.0  \n",
            "6053          0.0  \n",
            "6055          0.0  \n",
            "6057          0.0  \n",
            "6059          0.0  \n",
            "6061          0.0  \n",
            "6063          0.0  \n",
            "6065          0.0  \n",
            "6067          0.0  \n",
            "6069          0.0  \n",
            "6071          0.0  \n",
            "6073          0.0  \n",
            "6075          0.0  \n",
            "6077          0.0  \n",
            "6079          0.0  \n",
            "6081          0.0  \n",
            "6083          0.0  \n",
            "6085          0.0  \n",
            "6087          0.0  \n",
            "6089          0.0  \n",
            "6091          0.0  \n",
            "6093          0.0  \n",
            "6095          0.0  \n",
            "6097          0.0  \n",
            "6099          0.0  \n",
            "6101          0.0  \n",
            "6103          0.0  \n",
            "6105          0.0  \n",
            "6107          0.0  \n",
            "6109          0.0  \n",
            "6111          0.0  \n",
            "6113          0.0  \n",
            "6115          0.0  \n"
          ]
        }
      ],
      "source": [
        "final_df1 = final_df1.fillna(0.0)\n",
        "print(final_df1)"
      ]
    },
    {
      "cell_type": "code",
      "execution_count": null,
      "metadata": {
        "id": "yH58zt1gcMjz",
        "outputId": "b015b1d4-e2dd-4745-9cc3-659dffe9e9ce"
      },
      "outputs": [
        {
          "name": "stdout",
          "output_type": "stream",
          "text": [
            "      2000_2013_0  2000_2013_1  2000_2013_2  2000_2013_3  2000_2013_4  \\\n",
            "6001     0.172367     0.062927     0.145007     0.120383     0.000000   \n",
            "6003     0.146375     0.129959     0.129959     0.094391     0.000000   \n",
            "6005     0.164159     0.079343     0.173735     0.073871     0.009576   \n",
            "6007     0.161423     0.088919     0.128591     0.110807     0.010944   \n",
            "6009     0.166895     0.071135     0.180575     0.072503     0.009576   \n",
            "6011     0.151847     0.056088     0.165527     0.119015     0.008208   \n",
            "6013     0.154583     0.061560     0.157319     0.127223     0.000000   \n",
            "6015     0.354309     0.084815     0.030096     0.031464     0.000000   \n",
            "6017     0.181943     0.128591     0.095759     0.094391     0.000000   \n",
            "6019     0.119015     0.062927     0.108071     0.201094     0.009576   \n",
            "6021     0.151847     0.065663     0.155951     0.117647     0.009576   \n",
            "6023     0.284542     0.090287     0.090287     0.035568     0.000000   \n",
            "6025     0.103967     0.108071     0.177839     0.058824     0.051984   \n",
            "6027     0.135431     0.083447     0.090287     0.191518     0.000000   \n",
            "6029     0.139535     0.016416     0.093023     0.222982     0.028728   \n",
            "6031     0.116279     0.038304     0.112175     0.205198     0.028728   \n",
            "6033     0.180575     0.086183     0.127223     0.099863     0.006840   \n",
            "6035     0.069767     0.017784     0.201094     0.194254     0.017784   \n",
            "6037     0.139535     0.105335     0.106703     0.090287     0.058824   \n",
            "6039     0.145007     0.041040     0.210670     0.094391     0.009576   \n",
            "6041     0.181943     0.102599     0.151847     0.064295     0.000000   \n",
            "6043     0.164159     0.045144     0.186047     0.095759     0.009576   \n",
            "6045     0.222982     0.083447     0.083447     0.105335     0.005472   \n",
            "6047     0.135431     0.032832     0.190150     0.132695     0.009576   \n",
            "6049     0.072503     0.031464     0.232558     0.164159     0.000000   \n",
            "6051     0.113543     0.140903     0.099863     0.146375     0.000000   \n",
            "6053     0.150479     0.084815     0.157319     0.108071     0.000000   \n",
            "6055     0.168263     0.093023     0.132695     0.102599     0.004104   \n",
            "6057     0.179207     0.086183     0.153215     0.073871     0.008208   \n",
            "6059     0.143639     0.112175     0.099863     0.093023     0.051984   \n",
            "6061     0.177839     0.088919     0.136799     0.088919     0.008208   \n",
            "6063     0.082079     0.132695     0.180575     0.097127     0.008208   \n",
            "6065     0.097127     0.083447     0.227086     0.041040     0.051984   \n",
            "6067     0.161423     0.050616     0.161423     0.117647     0.009576   \n",
            "6069     0.128591     0.046512     0.170999     0.154583     0.000000   \n",
            "6071     0.132695     0.062927     0.157319     0.095759     0.051984   \n",
            "6073     0.190150     0.080711     0.097127     0.094391     0.038304   \n",
            "6075     0.181943     0.084815     0.187415     0.046512     0.000000   \n",
            "6077     0.143639     0.067031     0.161423     0.119015     0.009576   \n",
            "6079     0.134063     0.072503     0.135431     0.084815     0.073871   \n",
            "6081     0.180575     0.064295     0.181943     0.073871     0.000000   \n",
            "6083     0.160055     0.093023     0.105335     0.068399     0.073871   \n",
            "6085     0.166895     0.064295     0.149111     0.120383     0.000000   \n",
            "6087     0.180575     0.058824     0.173735     0.087551     0.000000   \n",
            "6089     0.150479     0.132695     0.145007     0.067031     0.005472   \n",
            "6091     0.090287     0.127223     0.175103     0.098495     0.009576   \n",
            "6093     0.169631     0.161423     0.129959     0.039672     0.000000   \n",
            "6095     0.170999     0.060192     0.147743     0.121751     0.000000   \n",
            "6097     0.180575     0.093023     0.121751     0.105335     0.000000   \n",
            "6099     0.135431     0.065663     0.168263     0.121751     0.009576   \n",
            "6101     0.157319     0.047880     0.168263     0.119015     0.008208   \n",
            "6103     0.153215     0.106703     0.099863     0.131327     0.009576   \n",
            "6105     0.248974     0.090287     0.088919     0.072503     0.000000   \n",
            "6107     0.136799     0.024624     0.140903     0.188782     0.009576   \n",
            "6109     0.179207     0.098495     0.117647     0.095759     0.009576   \n",
            "6111     0.160055     0.095759     0.117647     0.075239     0.051984   \n",
            "6113     0.168263     0.047880     0.157319     0.119015     0.008208   \n",
            "6115     0.169631     0.057456     0.151847     0.113543     0.008208   \n",
            "\n",
            "      2000_2013_5  \n",
            "6001          0.0  \n",
            "6003          0.0  \n",
            "6005          0.0  \n",
            "6007          0.0  \n",
            "6009          0.0  \n",
            "6011          0.0  \n",
            "6013          0.0  \n",
            "6015          0.0  \n",
            "6017          0.0  \n",
            "6019          0.0  \n",
            "6021          0.0  \n",
            "6023          0.0  \n",
            "6025          0.0  \n",
            "6027          0.0  \n",
            "6029          0.0  \n",
            "6031          0.0  \n",
            "6033          0.0  \n",
            "6035          0.0  \n",
            "6037          0.0  \n",
            "6039          0.0  \n",
            "6041          0.0  \n",
            "6043          0.0  \n",
            "6045          0.0  \n",
            "6047          0.0  \n",
            "6049          0.0  \n",
            "6051          0.0  \n",
            "6053          0.0  \n",
            "6055          0.0  \n",
            "6057          0.0  \n",
            "6059          0.0  \n",
            "6061          0.0  \n",
            "6063          0.0  \n",
            "6065          0.0  \n",
            "6067          0.0  \n",
            "6069          0.0  \n",
            "6071          0.0  \n",
            "6073          0.0  \n",
            "6075          0.0  \n",
            "6077          0.0  \n",
            "6079          0.0  \n",
            "6081          0.0  \n",
            "6083          0.0  \n",
            "6085          0.0  \n",
            "6087          0.0  \n",
            "6089          0.0  \n",
            "6091          0.0  \n",
            "6093          0.0  \n",
            "6095          0.0  \n",
            "6097          0.0  \n",
            "6099          0.0  \n",
            "6101          0.0  \n",
            "6103          0.0  \n",
            "6105          0.0  \n",
            "6107          0.0  \n",
            "6109          0.0  \n",
            "6111          0.0  \n",
            "6113          0.0  \n",
            "6115          0.0  \n"
          ]
        }
      ],
      "source": [
        "final_df1_pct = final_df1/731.0\n",
        "print(final_df1_pct)"
      ]
    },
    {
      "cell_type": "code",
      "execution_count": null,
      "metadata": {
        "id": "R16Rr9ETcMjz",
        "outputId": "777173b8-3061-47bd-f6b6-cab0f05a2649"
      },
      "outputs": [
        {
          "name": "stdout",
          "output_type": "stream",
          "text": [
            "      2014_2020_0  2014_2020_1  2014_2020_2  2014_2020_3  2014_2020_4  \\\n",
            "6001        117.0         44.0         30.0         61.0         71.0   \n",
            "6003        118.0         41.0         45.0         39.0         37.0   \n",
            "6005        137.0         35.0         32.0         40.0         33.0   \n",
            "6007        119.0         43.0         42.0         29.0         51.0   \n",
            "6009        131.0         40.0         33.0          6.0         65.0   \n",
            "6011        104.0         37.0         64.0         28.0        112.0   \n",
            "6013        104.0         56.0         11.0         81.0         79.0   \n",
            "6015        155.0         56.0         50.0        102.0          2.0   \n",
            "6017        135.0         33.0         70.0         14.0         32.0   \n",
            "6019         89.0         57.0         50.0         11.0          8.0   \n",
            "6021        103.0         29.0         72.0         29.0        112.0   \n",
            "6023        149.0         55.0         20.0         87.0         34.0   \n",
            "6025         48.0         46.0        103.0        136.0         32.0   \n",
            "6027         90.0         89.0         21.0         44.0        121.0   \n",
            "6029        116.0         26.0         57.0          7.0          8.0   \n",
            "6031         86.0         53.0         60.0          7.0          5.0   \n",
            "6033        110.0         29.0         74.0         34.0         98.0   \n",
            "6035        142.0         42.0         38.0         30.0         35.0   \n",
            "6037         80.0         15.0         59.0         53.0         26.0   \n",
            "6039         95.0         51.0         48.0         13.0         46.0   \n",
            "6041        128.0         72.0         19.0         99.0         47.0   \n",
            "6043        114.0         35.0         54.0          5.0         45.0   \n",
            "6045        126.0         69.0         23.0         91.0         36.0   \n",
            "6047         94.0         54.0         52.0          7.0         42.0   \n",
            "6049        117.0         68.0         47.0         19.0        100.0   \n",
            "6051        133.0         33.0         37.0          6.0         92.0   \n",
            "6053        132.0         57.0         17.0          3.0        102.0   \n",
            "6055        112.0         79.0         23.0         33.0         98.0   \n",
            "6057        122.0         54.0         47.0         34.0         33.0   \n",
            "6059         55.0         45.0         55.0         52.0         28.0   \n",
            "6061        135.0         39.0         64.0         16.0         36.0   \n",
            "6063        139.0         29.0         55.0         24.0         51.0   \n",
            "6065         68.0         74.0         38.0        185.0          NaN   \n",
            "6067        136.0         24.0         11.0         71.0         39.0   \n",
            "6069         49.0        139.0         15.0          4.0          4.0   \n",
            "6071        113.0         22.0         76.0        151.0          3.0   \n",
            "6073         60.0         86.0         25.0         43.0        151.0   \n",
            "6075        124.0         80.0         10.0         99.0         18.0   \n",
            "6077        129.0         29.0         33.0         17.0         61.0   \n",
            "6079         79.0         64.0         55.0          8.0          6.0   \n",
            "6081        122.0         75.0         40.0         22.0         64.0   \n",
            "6083         80.0         14.0         56.0         56.0          8.0   \n",
            "6085        113.0         60.0         38.0         41.0         71.0   \n",
            "6087        121.0         95.0         35.0          8.0         64.0   \n",
            "6089        131.0         58.0         43.0         19.0         94.0   \n",
            "6091        137.0         31.0         54.0         28.0         54.0   \n",
            "6093        114.0         64.0         28.0        103.0         56.0   \n",
            "6095        104.0         56.0         14.0         64.0        107.0   \n",
            "6097        128.0         72.0         19.0         94.0         32.0   \n",
            "6099         96.0         54.0         50.0          8.0         61.0   \n",
            "6101        116.0         39.0         50.0         28.0         48.0   \n",
            "6103        106.0         55.0         43.0         34.0        107.0   \n",
            "6105        127.0         40.0         51.0         76.0         51.0   \n",
            "6107         96.0         74.0         24.0         12.0          9.0   \n",
            "6109        114.0         49.0         40.0          5.0         61.0   \n",
            "6111         79.0         15.0         55.0         48.0         32.0   \n",
            "6113        106.0         50.0         18.0         55.0         52.0   \n",
            "6115        120.0         33.0         52.0         42.0         34.0   \n",
            "\n",
            "      2014_2020_5  \n",
            "6001         42.0  \n",
            "6003         85.0  \n",
            "6005         88.0  \n",
            "6007         81.0  \n",
            "6009         90.0  \n",
            "6011         20.0  \n",
            "6013         34.0  \n",
            "6015          NaN  \n",
            "6017         81.0  \n",
            "6019        150.0  \n",
            "6021         20.0  \n",
            "6023         20.0  \n",
            "6025          NaN  \n",
            "6027          NaN  \n",
            "6029        151.0  \n",
            "6031        154.0  \n",
            "6033         20.0  \n",
            "6035         78.0  \n",
            "6037        132.0  \n",
            "6039        112.0  \n",
            "6041          NaN  \n",
            "6043        112.0  \n",
            "6045         20.0  \n",
            "6047        116.0  \n",
            "6049         14.0  \n",
            "6051         64.0  \n",
            "6053         54.0  \n",
            "6055         20.0  \n",
            "6057         75.0  \n",
            "6059        130.0  \n",
            "6061         75.0  \n",
            "6063         67.0  \n",
            "6065          NaN  \n",
            "6067         84.0  \n",
            "6069        154.0  \n",
            "6071          NaN  \n",
            "6073          NaN  \n",
            "6075         34.0  \n",
            "6077         96.0  \n",
            "6079        153.0  \n",
            "6081         42.0  \n",
            "6083        151.0  \n",
            "6085         42.0  \n",
            "6087         42.0  \n",
            "6089         20.0  \n",
            "6091         61.0  \n",
            "6093          NaN  \n",
            "6095         20.0  \n",
            "6097         20.0  \n",
            "6099         96.0  \n",
            "6101         84.0  \n",
            "6103         20.0  \n",
            "6105         20.0  \n",
            "6107        150.0  \n",
            "6109         96.0  \n",
            "6111        136.0  \n",
            "6113         84.0  \n",
            "6115         84.0  \n"
          ]
        }
      ],
      "source": [
        "final_df2=pd.DataFrame(count2,index=ca_fips)\n",
        "final_df2.columns = ['2014_2020_0','2014_2020_1','2014_2020_2','2014_2020_3','2014_2020_4','2014_2020_5']\n",
        "print(final_df2)"
      ]
    },
    {
      "cell_type": "code",
      "execution_count": null,
      "metadata": {
        "id": "GOWNZNkPcMjz",
        "outputId": "9d554984-843e-4890-c0c5-84e32ef28785"
      },
      "outputs": [
        {
          "name": "stdout",
          "output_type": "stream",
          "text": [
            "      2014_2020_0  2014_2020_1  2014_2020_2  2014_2020_3  2014_2020_4  \\\n",
            "6001        117.0         44.0         30.0         61.0         71.0   \n",
            "6003        118.0         41.0         45.0         39.0         37.0   \n",
            "6005        137.0         35.0         32.0         40.0         33.0   \n",
            "6007        119.0         43.0         42.0         29.0         51.0   \n",
            "6009        131.0         40.0         33.0          6.0         65.0   \n",
            "6011        104.0         37.0         64.0         28.0        112.0   \n",
            "6013        104.0         56.0         11.0         81.0         79.0   \n",
            "6015        155.0         56.0         50.0        102.0          2.0   \n",
            "6017        135.0         33.0         70.0         14.0         32.0   \n",
            "6019         89.0         57.0         50.0         11.0          8.0   \n",
            "6021        103.0         29.0         72.0         29.0        112.0   \n",
            "6023        149.0         55.0         20.0         87.0         34.0   \n",
            "6025         48.0         46.0        103.0        136.0         32.0   \n",
            "6027         90.0         89.0         21.0         44.0        121.0   \n",
            "6029        116.0         26.0         57.0          7.0          8.0   \n",
            "6031         86.0         53.0         60.0          7.0          5.0   \n",
            "6033        110.0         29.0         74.0         34.0         98.0   \n",
            "6035        142.0         42.0         38.0         30.0         35.0   \n",
            "6037         80.0         15.0         59.0         53.0         26.0   \n",
            "6039         95.0         51.0         48.0         13.0         46.0   \n",
            "6041        128.0         72.0         19.0         99.0         47.0   \n",
            "6043        114.0         35.0         54.0          5.0         45.0   \n",
            "6045        126.0         69.0         23.0         91.0         36.0   \n",
            "6047         94.0         54.0         52.0          7.0         42.0   \n",
            "6049        117.0         68.0         47.0         19.0        100.0   \n",
            "6051        133.0         33.0         37.0          6.0         92.0   \n",
            "6053        132.0         57.0         17.0          3.0        102.0   \n",
            "6055        112.0         79.0         23.0         33.0         98.0   \n",
            "6057        122.0         54.0         47.0         34.0         33.0   \n",
            "6059         55.0         45.0         55.0         52.0         28.0   \n",
            "6061        135.0         39.0         64.0         16.0         36.0   \n",
            "6063        139.0         29.0         55.0         24.0         51.0   \n",
            "6065         68.0         74.0         38.0        185.0          0.0   \n",
            "6067        136.0         24.0         11.0         71.0         39.0   \n",
            "6069         49.0        139.0         15.0          4.0          4.0   \n",
            "6071        113.0         22.0         76.0        151.0          3.0   \n",
            "6073         60.0         86.0         25.0         43.0        151.0   \n",
            "6075        124.0         80.0         10.0         99.0         18.0   \n",
            "6077        129.0         29.0         33.0         17.0         61.0   \n",
            "6079         79.0         64.0         55.0          8.0          6.0   \n",
            "6081        122.0         75.0         40.0         22.0         64.0   \n",
            "6083         80.0         14.0         56.0         56.0          8.0   \n",
            "6085        113.0         60.0         38.0         41.0         71.0   \n",
            "6087        121.0         95.0         35.0          8.0         64.0   \n",
            "6089        131.0         58.0         43.0         19.0         94.0   \n",
            "6091        137.0         31.0         54.0         28.0         54.0   \n",
            "6093        114.0         64.0         28.0        103.0         56.0   \n",
            "6095        104.0         56.0         14.0         64.0        107.0   \n",
            "6097        128.0         72.0         19.0         94.0         32.0   \n",
            "6099         96.0         54.0         50.0          8.0         61.0   \n",
            "6101        116.0         39.0         50.0         28.0         48.0   \n",
            "6103        106.0         55.0         43.0         34.0        107.0   \n",
            "6105        127.0         40.0         51.0         76.0         51.0   \n",
            "6107         96.0         74.0         24.0         12.0          9.0   \n",
            "6109        114.0         49.0         40.0          5.0         61.0   \n",
            "6111         79.0         15.0         55.0         48.0         32.0   \n",
            "6113        106.0         50.0         18.0         55.0         52.0   \n",
            "6115        120.0         33.0         52.0         42.0         34.0   \n",
            "\n",
            "      2014_2020_5  \n",
            "6001         42.0  \n",
            "6003         85.0  \n",
            "6005         88.0  \n",
            "6007         81.0  \n",
            "6009         90.0  \n",
            "6011         20.0  \n",
            "6013         34.0  \n",
            "6015          0.0  \n",
            "6017         81.0  \n",
            "6019        150.0  \n",
            "6021         20.0  \n",
            "6023         20.0  \n",
            "6025          0.0  \n",
            "6027          0.0  \n",
            "6029        151.0  \n",
            "6031        154.0  \n",
            "6033         20.0  \n",
            "6035         78.0  \n",
            "6037        132.0  \n",
            "6039        112.0  \n",
            "6041          0.0  \n",
            "6043        112.0  \n",
            "6045         20.0  \n",
            "6047        116.0  \n",
            "6049         14.0  \n",
            "6051         64.0  \n",
            "6053         54.0  \n",
            "6055         20.0  \n",
            "6057         75.0  \n",
            "6059        130.0  \n",
            "6061         75.0  \n",
            "6063         67.0  \n",
            "6065          0.0  \n",
            "6067         84.0  \n",
            "6069        154.0  \n",
            "6071          0.0  \n",
            "6073          0.0  \n",
            "6075         34.0  \n",
            "6077         96.0  \n",
            "6079        153.0  \n",
            "6081         42.0  \n",
            "6083        151.0  \n",
            "6085         42.0  \n",
            "6087         42.0  \n",
            "6089         20.0  \n",
            "6091         61.0  \n",
            "6093          0.0  \n",
            "6095         20.0  \n",
            "6097         20.0  \n",
            "6099         96.0  \n",
            "6101         84.0  \n",
            "6103         20.0  \n",
            "6105         20.0  \n",
            "6107        150.0  \n",
            "6109         96.0  \n",
            "6111        136.0  \n",
            "6113         84.0  \n",
            "6115         84.0  \n"
          ]
        }
      ],
      "source": [
        "final_df2 = final_df2.fillna(0.0)\n",
        "print(final_df2)"
      ]
    },
    {
      "cell_type": "code",
      "execution_count": null,
      "metadata": {
        "id": "tcyle7kccMj0",
        "outputId": "4801f75e-ee86-42d8-b435-317616c0036d"
      },
      "outputs": [
        {
          "name": "stdout",
          "output_type": "stream",
          "text": [
            "      2014_2020_0  2014_2020_1  2014_2020_2  2014_2020_3  2014_2020_4  \\\n",
            "6001     0.320548     0.120548     0.082192     0.167123     0.194521   \n",
            "6003     0.323288     0.112329     0.123288     0.106849     0.101370   \n",
            "6005     0.375342     0.095890     0.087671     0.109589     0.090411   \n",
            "6007     0.326027     0.117808     0.115068     0.079452     0.139726   \n",
            "6009     0.358904     0.109589     0.090411     0.016438     0.178082   \n",
            "6011     0.284932     0.101370     0.175342     0.076712     0.306849   \n",
            "6013     0.284932     0.153425     0.030137     0.221918     0.216438   \n",
            "6015     0.424658     0.153425     0.136986     0.279452     0.005479   \n",
            "6017     0.369863     0.090411     0.191781     0.038356     0.087671   \n",
            "6019     0.243836     0.156164     0.136986     0.030137     0.021918   \n",
            "6021     0.282192     0.079452     0.197260     0.079452     0.306849   \n",
            "6023     0.408219     0.150685     0.054795     0.238356     0.093151   \n",
            "6025     0.131507     0.126027     0.282192     0.372603     0.087671   \n",
            "6027     0.246575     0.243836     0.057534     0.120548     0.331507   \n",
            "6029     0.317808     0.071233     0.156164     0.019178     0.021918   \n",
            "6031     0.235616     0.145205     0.164384     0.019178     0.013699   \n",
            "6033     0.301370     0.079452     0.202740     0.093151     0.268493   \n",
            "6035     0.389041     0.115068     0.104110     0.082192     0.095890   \n",
            "6037     0.219178     0.041096     0.161644     0.145205     0.071233   \n",
            "6039     0.260274     0.139726     0.131507     0.035616     0.126027   \n",
            "6041     0.350685     0.197260     0.052055     0.271233     0.128767   \n",
            "6043     0.312329     0.095890     0.147945     0.013699     0.123288   \n",
            "6045     0.345205     0.189041     0.063014     0.249315     0.098630   \n",
            "6047     0.257534     0.147945     0.142466     0.019178     0.115068   \n",
            "6049     0.320548     0.186301     0.128767     0.052055     0.273973   \n",
            "6051     0.364384     0.090411     0.101370     0.016438     0.252055   \n",
            "6053     0.361644     0.156164     0.046575     0.008219     0.279452   \n",
            "6055     0.306849     0.216438     0.063014     0.090411     0.268493   \n",
            "6057     0.334247     0.147945     0.128767     0.093151     0.090411   \n",
            "6059     0.150685     0.123288     0.150685     0.142466     0.076712   \n",
            "6061     0.369863     0.106849     0.175342     0.043836     0.098630   \n",
            "6063     0.380822     0.079452     0.150685     0.065753     0.139726   \n",
            "6065     0.186301     0.202740     0.104110     0.506849     0.000000   \n",
            "6067     0.372603     0.065753     0.030137     0.194521     0.106849   \n",
            "6069     0.134247     0.380822     0.041096     0.010959     0.010959   \n",
            "6071     0.309589     0.060274     0.208219     0.413699     0.008219   \n",
            "6073     0.164384     0.235616     0.068493     0.117808     0.413699   \n",
            "6075     0.339726     0.219178     0.027397     0.271233     0.049315   \n",
            "6077     0.353425     0.079452     0.090411     0.046575     0.167123   \n",
            "6079     0.216438     0.175342     0.150685     0.021918     0.016438   \n",
            "6081     0.334247     0.205479     0.109589     0.060274     0.175342   \n",
            "6083     0.219178     0.038356     0.153425     0.153425     0.021918   \n",
            "6085     0.309589     0.164384     0.104110     0.112329     0.194521   \n",
            "6087     0.331507     0.260274     0.095890     0.021918     0.175342   \n",
            "6089     0.358904     0.158904     0.117808     0.052055     0.257534   \n",
            "6091     0.375342     0.084932     0.147945     0.076712     0.147945   \n",
            "6093     0.312329     0.175342     0.076712     0.282192     0.153425   \n",
            "6095     0.284932     0.153425     0.038356     0.175342     0.293151   \n",
            "6097     0.350685     0.197260     0.052055     0.257534     0.087671   \n",
            "6099     0.263014     0.147945     0.136986     0.021918     0.167123   \n",
            "6101     0.317808     0.106849     0.136986     0.076712     0.131507   \n",
            "6103     0.290411     0.150685     0.117808     0.093151     0.293151   \n",
            "6105     0.347945     0.109589     0.139726     0.208219     0.139726   \n",
            "6107     0.263014     0.202740     0.065753     0.032877     0.024658   \n",
            "6109     0.312329     0.134247     0.109589     0.013699     0.167123   \n",
            "6111     0.216438     0.041096     0.150685     0.131507     0.087671   \n",
            "6113     0.290411     0.136986     0.049315     0.150685     0.142466   \n",
            "6115     0.328767     0.090411     0.142466     0.115068     0.093151   \n",
            "\n",
            "      2014_2020_5  \n",
            "6001     0.115068  \n",
            "6003     0.232877  \n",
            "6005     0.241096  \n",
            "6007     0.221918  \n",
            "6009     0.246575  \n",
            "6011     0.054795  \n",
            "6013     0.093151  \n",
            "6015     0.000000  \n",
            "6017     0.221918  \n",
            "6019     0.410959  \n",
            "6021     0.054795  \n",
            "6023     0.054795  \n",
            "6025     0.000000  \n",
            "6027     0.000000  \n",
            "6029     0.413699  \n",
            "6031     0.421918  \n",
            "6033     0.054795  \n",
            "6035     0.213699  \n",
            "6037     0.361644  \n",
            "6039     0.306849  \n",
            "6041     0.000000  \n",
            "6043     0.306849  \n",
            "6045     0.054795  \n",
            "6047     0.317808  \n",
            "6049     0.038356  \n",
            "6051     0.175342  \n",
            "6053     0.147945  \n",
            "6055     0.054795  \n",
            "6057     0.205479  \n",
            "6059     0.356164  \n",
            "6061     0.205479  \n",
            "6063     0.183562  \n",
            "6065     0.000000  \n",
            "6067     0.230137  \n",
            "6069     0.421918  \n",
            "6071     0.000000  \n",
            "6073     0.000000  \n",
            "6075     0.093151  \n",
            "6077     0.263014  \n",
            "6079     0.419178  \n",
            "6081     0.115068  \n",
            "6083     0.413699  \n",
            "6085     0.115068  \n",
            "6087     0.115068  \n",
            "6089     0.054795  \n",
            "6091     0.167123  \n",
            "6093     0.000000  \n",
            "6095     0.054795  \n",
            "6097     0.054795  \n",
            "6099     0.263014  \n",
            "6101     0.230137  \n",
            "6103     0.054795  \n",
            "6105     0.054795  \n",
            "6107     0.410959  \n",
            "6109     0.263014  \n",
            "6111     0.372603  \n",
            "6113     0.230137  \n",
            "6115     0.230137  \n"
          ]
        }
      ],
      "source": [
        "final_df2_pct = final_df2/365.0\n",
        "print(final_df2_pct)"
      ]
    },
    {
      "cell_type": "code",
      "execution_count": null,
      "metadata": {
        "id": "MJ62ldJccMj0"
      },
      "outputs": [],
      "source": [
        "final_df = pd.concat([final_df1_pct,final_df2_pct],axis=1)"
      ]
    },
    {
      "cell_type": "code",
      "execution_count": null,
      "metadata": {
        "id": "D0Z428rBcMj0",
        "outputId": "ee740941-e83d-48c2-9df2-20523ea79515"
      },
      "outputs": [
        {
          "name": "stdout",
          "output_type": "stream",
          "text": [
            "      2000_2013_0  2000_2013_1  2000_2013_2  2000_2013_3  2000_2013_4  \\\n",
            "6001     0.172367     0.062927     0.145007     0.120383     0.000000   \n",
            "6003     0.146375     0.129959     0.129959     0.094391     0.000000   \n",
            "6005     0.164159     0.079343     0.173735     0.073871     0.009576   \n",
            "6007     0.161423     0.088919     0.128591     0.110807     0.010944   \n",
            "6009     0.166895     0.071135     0.180575     0.072503     0.009576   \n",
            "6011     0.151847     0.056088     0.165527     0.119015     0.008208   \n",
            "6013     0.154583     0.061560     0.157319     0.127223     0.000000   \n",
            "6015     0.354309     0.084815     0.030096     0.031464     0.000000   \n",
            "6017     0.181943     0.128591     0.095759     0.094391     0.000000   \n",
            "6019     0.119015     0.062927     0.108071     0.201094     0.009576   \n",
            "6021     0.151847     0.065663     0.155951     0.117647     0.009576   \n",
            "6023     0.284542     0.090287     0.090287     0.035568     0.000000   \n",
            "6025     0.103967     0.108071     0.177839     0.058824     0.051984   \n",
            "6027     0.135431     0.083447     0.090287     0.191518     0.000000   \n",
            "6029     0.139535     0.016416     0.093023     0.222982     0.028728   \n",
            "6031     0.116279     0.038304     0.112175     0.205198     0.028728   \n",
            "6033     0.180575     0.086183     0.127223     0.099863     0.006840   \n",
            "6035     0.069767     0.017784     0.201094     0.194254     0.017784   \n",
            "6037     0.139535     0.105335     0.106703     0.090287     0.058824   \n",
            "6039     0.145007     0.041040     0.210670     0.094391     0.009576   \n",
            "6041     0.181943     0.102599     0.151847     0.064295     0.000000   \n",
            "6043     0.164159     0.045144     0.186047     0.095759     0.009576   \n",
            "6045     0.222982     0.083447     0.083447     0.105335     0.005472   \n",
            "6047     0.135431     0.032832     0.190150     0.132695     0.009576   \n",
            "6049     0.072503     0.031464     0.232558     0.164159     0.000000   \n",
            "6051     0.113543     0.140903     0.099863     0.146375     0.000000   \n",
            "6053     0.150479     0.084815     0.157319     0.108071     0.000000   \n",
            "6055     0.168263     0.093023     0.132695     0.102599     0.004104   \n",
            "6057     0.179207     0.086183     0.153215     0.073871     0.008208   \n",
            "6059     0.143639     0.112175     0.099863     0.093023     0.051984   \n",
            "6061     0.177839     0.088919     0.136799     0.088919     0.008208   \n",
            "6063     0.082079     0.132695     0.180575     0.097127     0.008208   \n",
            "6065     0.097127     0.083447     0.227086     0.041040     0.051984   \n",
            "6067     0.161423     0.050616     0.161423     0.117647     0.009576   \n",
            "6069     0.128591     0.046512     0.170999     0.154583     0.000000   \n",
            "6071     0.132695     0.062927     0.157319     0.095759     0.051984   \n",
            "6073     0.190150     0.080711     0.097127     0.094391     0.038304   \n",
            "6075     0.181943     0.084815     0.187415     0.046512     0.000000   \n",
            "6077     0.143639     0.067031     0.161423     0.119015     0.009576   \n",
            "6079     0.134063     0.072503     0.135431     0.084815     0.073871   \n",
            "6081     0.180575     0.064295     0.181943     0.073871     0.000000   \n",
            "6083     0.160055     0.093023     0.105335     0.068399     0.073871   \n",
            "6085     0.166895     0.064295     0.149111     0.120383     0.000000   \n",
            "6087     0.180575     0.058824     0.173735     0.087551     0.000000   \n",
            "6089     0.150479     0.132695     0.145007     0.067031     0.005472   \n",
            "6091     0.090287     0.127223     0.175103     0.098495     0.009576   \n",
            "6093     0.169631     0.161423     0.129959     0.039672     0.000000   \n",
            "6095     0.170999     0.060192     0.147743     0.121751     0.000000   \n",
            "6097     0.180575     0.093023     0.121751     0.105335     0.000000   \n",
            "6099     0.135431     0.065663     0.168263     0.121751     0.009576   \n",
            "6101     0.157319     0.047880     0.168263     0.119015     0.008208   \n",
            "6103     0.153215     0.106703     0.099863     0.131327     0.009576   \n",
            "6105     0.248974     0.090287     0.088919     0.072503     0.000000   \n",
            "6107     0.136799     0.024624     0.140903     0.188782     0.009576   \n",
            "6109     0.179207     0.098495     0.117647     0.095759     0.009576   \n",
            "6111     0.160055     0.095759     0.117647     0.075239     0.051984   \n",
            "6113     0.168263     0.047880     0.157319     0.119015     0.008208   \n",
            "6115     0.169631     0.057456     0.151847     0.113543     0.008208   \n",
            "\n",
            "      2000_2013_5  2014_2020_0  2014_2020_1  2014_2020_2  2014_2020_3  \\\n",
            "6001          0.0     0.320548     0.120548     0.082192     0.167123   \n",
            "6003          0.0     0.323288     0.112329     0.123288     0.106849   \n",
            "6005          0.0     0.375342     0.095890     0.087671     0.109589   \n",
            "6007          0.0     0.326027     0.117808     0.115068     0.079452   \n",
            "6009          0.0     0.358904     0.109589     0.090411     0.016438   \n",
            "6011          0.0     0.284932     0.101370     0.175342     0.076712   \n",
            "6013          0.0     0.284932     0.153425     0.030137     0.221918   \n",
            "6015          0.0     0.424658     0.153425     0.136986     0.279452   \n",
            "6017          0.0     0.369863     0.090411     0.191781     0.038356   \n",
            "6019          0.0     0.243836     0.156164     0.136986     0.030137   \n",
            "6021          0.0     0.282192     0.079452     0.197260     0.079452   \n",
            "6023          0.0     0.408219     0.150685     0.054795     0.238356   \n",
            "6025          0.0     0.131507     0.126027     0.282192     0.372603   \n",
            "6027          0.0     0.246575     0.243836     0.057534     0.120548   \n",
            "6029          0.0     0.317808     0.071233     0.156164     0.019178   \n",
            "6031          0.0     0.235616     0.145205     0.164384     0.019178   \n",
            "6033          0.0     0.301370     0.079452     0.202740     0.093151   \n",
            "6035          0.0     0.389041     0.115068     0.104110     0.082192   \n",
            "6037          0.0     0.219178     0.041096     0.161644     0.145205   \n",
            "6039          0.0     0.260274     0.139726     0.131507     0.035616   \n",
            "6041          0.0     0.350685     0.197260     0.052055     0.271233   \n",
            "6043          0.0     0.312329     0.095890     0.147945     0.013699   \n",
            "6045          0.0     0.345205     0.189041     0.063014     0.249315   \n",
            "6047          0.0     0.257534     0.147945     0.142466     0.019178   \n",
            "6049          0.0     0.320548     0.186301     0.128767     0.052055   \n",
            "6051          0.0     0.364384     0.090411     0.101370     0.016438   \n",
            "6053          0.0     0.361644     0.156164     0.046575     0.008219   \n",
            "6055          0.0     0.306849     0.216438     0.063014     0.090411   \n",
            "6057          0.0     0.334247     0.147945     0.128767     0.093151   \n",
            "6059          0.0     0.150685     0.123288     0.150685     0.142466   \n",
            "6061          0.0     0.369863     0.106849     0.175342     0.043836   \n",
            "6063          0.0     0.380822     0.079452     0.150685     0.065753   \n",
            "6065          0.0     0.186301     0.202740     0.104110     0.506849   \n",
            "6067          0.0     0.372603     0.065753     0.030137     0.194521   \n",
            "6069          0.0     0.134247     0.380822     0.041096     0.010959   \n",
            "6071          0.0     0.309589     0.060274     0.208219     0.413699   \n",
            "6073          0.0     0.164384     0.235616     0.068493     0.117808   \n",
            "6075          0.0     0.339726     0.219178     0.027397     0.271233   \n",
            "6077          0.0     0.353425     0.079452     0.090411     0.046575   \n",
            "6079          0.0     0.216438     0.175342     0.150685     0.021918   \n",
            "6081          0.0     0.334247     0.205479     0.109589     0.060274   \n",
            "6083          0.0     0.219178     0.038356     0.153425     0.153425   \n",
            "6085          0.0     0.309589     0.164384     0.104110     0.112329   \n",
            "6087          0.0     0.331507     0.260274     0.095890     0.021918   \n",
            "6089          0.0     0.358904     0.158904     0.117808     0.052055   \n",
            "6091          0.0     0.375342     0.084932     0.147945     0.076712   \n",
            "6093          0.0     0.312329     0.175342     0.076712     0.282192   \n",
            "6095          0.0     0.284932     0.153425     0.038356     0.175342   \n",
            "6097          0.0     0.350685     0.197260     0.052055     0.257534   \n",
            "6099          0.0     0.263014     0.147945     0.136986     0.021918   \n",
            "6101          0.0     0.317808     0.106849     0.136986     0.076712   \n",
            "6103          0.0     0.290411     0.150685     0.117808     0.093151   \n",
            "6105          0.0     0.347945     0.109589     0.139726     0.208219   \n",
            "6107          0.0     0.263014     0.202740     0.065753     0.032877   \n",
            "6109          0.0     0.312329     0.134247     0.109589     0.013699   \n",
            "6111          0.0     0.216438     0.041096     0.150685     0.131507   \n",
            "6113          0.0     0.290411     0.136986     0.049315     0.150685   \n",
            "6115          0.0     0.328767     0.090411     0.142466     0.115068   \n",
            "\n",
            "      2014_2020_4  2014_2020_5  \n",
            "6001     0.194521     0.115068  \n",
            "6003     0.101370     0.232877  \n",
            "6005     0.090411     0.241096  \n",
            "6007     0.139726     0.221918  \n",
            "6009     0.178082     0.246575  \n",
            "6011     0.306849     0.054795  \n",
            "6013     0.216438     0.093151  \n",
            "6015     0.005479     0.000000  \n",
            "6017     0.087671     0.221918  \n",
            "6019     0.021918     0.410959  \n",
            "6021     0.306849     0.054795  \n",
            "6023     0.093151     0.054795  \n",
            "6025     0.087671     0.000000  \n",
            "6027     0.331507     0.000000  \n",
            "6029     0.021918     0.413699  \n",
            "6031     0.013699     0.421918  \n",
            "6033     0.268493     0.054795  \n",
            "6035     0.095890     0.213699  \n",
            "6037     0.071233     0.361644  \n",
            "6039     0.126027     0.306849  \n",
            "6041     0.128767     0.000000  \n",
            "6043     0.123288     0.306849  \n",
            "6045     0.098630     0.054795  \n",
            "6047     0.115068     0.317808  \n",
            "6049     0.273973     0.038356  \n",
            "6051     0.252055     0.175342  \n",
            "6053     0.279452     0.147945  \n",
            "6055     0.268493     0.054795  \n",
            "6057     0.090411     0.205479  \n",
            "6059     0.076712     0.356164  \n",
            "6061     0.098630     0.205479  \n",
            "6063     0.139726     0.183562  \n",
            "6065     0.000000     0.000000  \n",
            "6067     0.106849     0.230137  \n",
            "6069     0.010959     0.421918  \n",
            "6071     0.008219     0.000000  \n",
            "6073     0.413699     0.000000  \n",
            "6075     0.049315     0.093151  \n",
            "6077     0.167123     0.263014  \n",
            "6079     0.016438     0.419178  \n",
            "6081     0.175342     0.115068  \n",
            "6083     0.021918     0.413699  \n",
            "6085     0.194521     0.115068  \n",
            "6087     0.175342     0.115068  \n",
            "6089     0.257534     0.054795  \n",
            "6091     0.147945     0.167123  \n",
            "6093     0.153425     0.000000  \n",
            "6095     0.293151     0.054795  \n",
            "6097     0.087671     0.054795  \n",
            "6099     0.167123     0.263014  \n",
            "6101     0.131507     0.230137  \n",
            "6103     0.293151     0.054795  \n",
            "6105     0.139726     0.054795  \n",
            "6107     0.024658     0.410959  \n",
            "6109     0.167123     0.263014  \n",
            "6111     0.087671     0.372603  \n",
            "6113     0.142466     0.230137  \n",
            "6115     0.093151     0.230137  \n"
          ]
        }
      ],
      "source": [
        "print(final_df)"
      ]
    },
    {
      "cell_type": "code",
      "execution_count": null,
      "metadata": {
        "id": "YpLtCSmjcMj0",
        "outputId": "6bcbb9c3-1e29-4e19-83af-62e4206400b8"
      },
      "outputs": [
        {
          "name": "stdout",
          "output_type": "stream",
          "text": [
            "      2000_2013_0  2000_2013_1  2000_2013_2  2000_2013_3  2000_2013_4  \\\n",
            "6001     0.172367     0.062927     0.145007     0.120383     0.000000   \n",
            "6003     0.146375     0.129959     0.129959     0.094391     0.000000   \n",
            "6005     0.164159     0.079343     0.173735     0.073871     0.009576   \n",
            "6007     0.161423     0.088919     0.128591     0.110807     0.010944   \n",
            "6009     0.166895     0.071135     0.180575     0.072503     0.009576   \n",
            "6011     0.151847     0.056088     0.165527     0.119015     0.008208   \n",
            "6013     0.154583     0.061560     0.157319     0.127223     0.000000   \n",
            "6015     0.354309     0.084815     0.030096     0.031464     0.000000   \n",
            "6017     0.181943     0.128591     0.095759     0.094391     0.000000   \n",
            "6019     0.119015     0.062927     0.108071     0.201094     0.009576   \n",
            "6021     0.151847     0.065663     0.155951     0.117647     0.009576   \n",
            "6023     0.284542     0.090287     0.090287     0.035568     0.000000   \n",
            "6025     0.103967     0.108071     0.177839     0.058824     0.051984   \n",
            "6027     0.135431     0.083447     0.090287     0.191518     0.000000   \n",
            "6029     0.139535     0.016416     0.093023     0.222982     0.028728   \n",
            "6031     0.116279     0.038304     0.112175     0.205198     0.028728   \n",
            "6033     0.180575     0.086183     0.127223     0.099863     0.006840   \n",
            "6035     0.069767     0.017784     0.201094     0.194254     0.017784   \n",
            "6037     0.139535     0.105335     0.106703     0.090287     0.058824   \n",
            "6039     0.145007     0.041040     0.210670     0.094391     0.009576   \n",
            "6041     0.181943     0.102599     0.151847     0.064295     0.000000   \n",
            "6043     0.164159     0.045144     0.186047     0.095759     0.009576   \n",
            "6045     0.222982     0.083447     0.083447     0.105335     0.005472   \n",
            "6047     0.135431     0.032832     0.190150     0.132695     0.009576   \n",
            "6049     0.072503     0.031464     0.232558     0.164159     0.000000   \n",
            "6051     0.113543     0.140903     0.099863     0.146375     0.000000   \n",
            "6053     0.150479     0.084815     0.157319     0.108071     0.000000   \n",
            "6055     0.168263     0.093023     0.132695     0.102599     0.004104   \n",
            "6057     0.179207     0.086183     0.153215     0.073871     0.008208   \n",
            "6059     0.143639     0.112175     0.099863     0.093023     0.051984   \n",
            "6061     0.177839     0.088919     0.136799     0.088919     0.008208   \n",
            "6063     0.082079     0.132695     0.180575     0.097127     0.008208   \n",
            "6065     0.097127     0.083447     0.227086     0.041040     0.051984   \n",
            "6067     0.161423     0.050616     0.161423     0.117647     0.009576   \n",
            "6069     0.128591     0.046512     0.170999     0.154583     0.000000   \n",
            "6071     0.132695     0.062927     0.157319     0.095759     0.051984   \n",
            "6073     0.190150     0.080711     0.097127     0.094391     0.038304   \n",
            "6075     0.181943     0.084815     0.187415     0.046512     0.000000   \n",
            "6077     0.143639     0.067031     0.161423     0.119015     0.009576   \n",
            "6079     0.134063     0.072503     0.135431     0.084815     0.073871   \n",
            "6081     0.180575     0.064295     0.181943     0.073871     0.000000   \n",
            "6083     0.160055     0.093023     0.105335     0.068399     0.073871   \n",
            "6085     0.166895     0.064295     0.149111     0.120383     0.000000   \n",
            "6087     0.180575     0.058824     0.173735     0.087551     0.000000   \n",
            "6089     0.150479     0.132695     0.145007     0.067031     0.005472   \n",
            "6091     0.090287     0.127223     0.175103     0.098495     0.009576   \n",
            "6093     0.169631     0.161423     0.129959     0.039672     0.000000   \n",
            "6095     0.170999     0.060192     0.147743     0.121751     0.000000   \n",
            "6097     0.180575     0.093023     0.121751     0.105335     0.000000   \n",
            "6099     0.135431     0.065663     0.168263     0.121751     0.009576   \n",
            "6101     0.157319     0.047880     0.168263     0.119015     0.008208   \n",
            "6103     0.153215     0.106703     0.099863     0.131327     0.009576   \n",
            "6105     0.248974     0.090287     0.088919     0.072503     0.000000   \n",
            "6107     0.136799     0.024624     0.140903     0.188782     0.009576   \n",
            "6109     0.179207     0.098495     0.117647     0.095759     0.009576   \n",
            "6111     0.160055     0.095759     0.117647     0.075239     0.051984   \n",
            "6113     0.168263     0.047880     0.157319     0.119015     0.008208   \n",
            "6115     0.169631     0.057456     0.151847     0.113543     0.008208   \n",
            "\n",
            "      2000_2013_5  2014_2020_0  2014_2020_1  2014_2020_2  2014_2020_3  \\\n",
            "6001          0.0     0.320548     0.120548     0.082192     0.167123   \n",
            "6003          0.0     0.323288     0.112329     0.123288     0.106849   \n",
            "6005          0.0     0.375342     0.095890     0.087671     0.109589   \n",
            "6007          0.0     0.326027     0.117808     0.115068     0.079452   \n",
            "6009          0.0     0.358904     0.109589     0.090411     0.016438   \n",
            "6011          0.0     0.284932     0.101370     0.175342     0.076712   \n",
            "6013          0.0     0.284932     0.153425     0.030137     0.221918   \n",
            "6015          0.0     0.424658     0.153425     0.136986     0.279452   \n",
            "6017          0.0     0.369863     0.090411     0.191781     0.038356   \n",
            "6019          0.0     0.243836     0.156164     0.136986     0.030137   \n",
            "6021          0.0     0.282192     0.079452     0.197260     0.079452   \n",
            "6023          0.0     0.408219     0.150685     0.054795     0.238356   \n",
            "6025          0.0     0.131507     0.126027     0.282192     0.372603   \n",
            "6027          0.0     0.246575     0.243836     0.057534     0.120548   \n",
            "6029          0.0     0.317808     0.071233     0.156164     0.019178   \n",
            "6031          0.0     0.235616     0.145205     0.164384     0.019178   \n",
            "6033          0.0     0.301370     0.079452     0.202740     0.093151   \n",
            "6035          0.0     0.389041     0.115068     0.104110     0.082192   \n",
            "6037          0.0     0.219178     0.041096     0.161644     0.145205   \n",
            "6039          0.0     0.260274     0.139726     0.131507     0.035616   \n",
            "6041          0.0     0.350685     0.197260     0.052055     0.271233   \n",
            "6043          0.0     0.312329     0.095890     0.147945     0.013699   \n",
            "6045          0.0     0.345205     0.189041     0.063014     0.249315   \n",
            "6047          0.0     0.257534     0.147945     0.142466     0.019178   \n",
            "6049          0.0     0.320548     0.186301     0.128767     0.052055   \n",
            "6051          0.0     0.364384     0.090411     0.101370     0.016438   \n",
            "6053          0.0     0.361644     0.156164     0.046575     0.008219   \n",
            "6055          0.0     0.306849     0.216438     0.063014     0.090411   \n",
            "6057          0.0     0.334247     0.147945     0.128767     0.093151   \n",
            "6059          0.0     0.150685     0.123288     0.150685     0.142466   \n",
            "6061          0.0     0.369863     0.106849     0.175342     0.043836   \n",
            "6063          0.0     0.380822     0.079452     0.150685     0.065753   \n",
            "6065          0.0     0.186301     0.202740     0.104110     0.506849   \n",
            "6067          0.0     0.372603     0.065753     0.030137     0.194521   \n",
            "6069          0.0     0.134247     0.380822     0.041096     0.010959   \n",
            "6071          0.0     0.309589     0.060274     0.208219     0.413699   \n",
            "6073          0.0     0.164384     0.235616     0.068493     0.117808   \n",
            "6075          0.0     0.339726     0.219178     0.027397     0.271233   \n",
            "6077          0.0     0.353425     0.079452     0.090411     0.046575   \n",
            "6079          0.0     0.216438     0.175342     0.150685     0.021918   \n",
            "6081          0.0     0.334247     0.205479     0.109589     0.060274   \n",
            "6083          0.0     0.219178     0.038356     0.153425     0.153425   \n",
            "6085          0.0     0.309589     0.164384     0.104110     0.112329   \n",
            "6087          0.0     0.331507     0.260274     0.095890     0.021918   \n",
            "6089          0.0     0.358904     0.158904     0.117808     0.052055   \n",
            "6091          0.0     0.375342     0.084932     0.147945     0.076712   \n",
            "6093          0.0     0.312329     0.175342     0.076712     0.282192   \n",
            "6095          0.0     0.284932     0.153425     0.038356     0.175342   \n",
            "6097          0.0     0.350685     0.197260     0.052055     0.257534   \n",
            "6099          0.0     0.263014     0.147945     0.136986     0.021918   \n",
            "6101          0.0     0.317808     0.106849     0.136986     0.076712   \n",
            "6103          0.0     0.290411     0.150685     0.117808     0.093151   \n",
            "6105          0.0     0.347945     0.109589     0.139726     0.208219   \n",
            "6107          0.0     0.263014     0.202740     0.065753     0.032877   \n",
            "6109          0.0     0.312329     0.134247     0.109589     0.013699   \n",
            "6111          0.0     0.216438     0.041096     0.150685     0.131507   \n",
            "6113          0.0     0.290411     0.136986     0.049315     0.150685   \n",
            "6115          0.0     0.328767     0.090411     0.142466     0.115068   \n",
            "\n",
            "      2014_2020_4  2014_2020_5  pct_ch_0  pct_ch_1  pct_ch_2  pct_ch_3  \\\n",
            "6001     0.194521     0.115068  0.148181  0.057620 -0.062815  0.046740   \n",
            "6003     0.101370     0.232877  0.176913 -0.017630 -0.006671  0.012458   \n",
            "6005     0.090411     0.241096  0.211184  0.016547 -0.086063  0.035718   \n",
            "6007     0.139726     0.221918  0.164605  0.028889 -0.013522 -0.031355   \n",
            "6009     0.178082     0.246575  0.192009  0.038454 -0.090164 -0.056065   \n",
            "6011     0.306849     0.054795  0.133085  0.045282  0.009816 -0.042303   \n",
            "6013     0.216438     0.093151  0.130349  0.091865 -0.127182  0.094695   \n",
            "6015     0.005479     0.000000  0.070348  0.068609  0.106891  0.247988   \n",
            "6017     0.087671     0.221918  0.187920 -0.038180  0.096022 -0.056035   \n",
            "6019     0.021918     0.410959  0.124821  0.093237  0.028915 -0.170957   \n",
            "6021     0.306849     0.054795  0.130345  0.013789  0.041310 -0.038195   \n",
            "6023     0.093151     0.054795  0.123677  0.060398 -0.035493  0.202788   \n",
            "6025     0.087671     0.000000  0.027540  0.017956  0.104353  0.313779   \n",
            "6027     0.331507     0.000000  0.111144  0.160388 -0.032753 -0.070971   \n",
            "6029     0.021918     0.413699  0.178273  0.054817  0.063141 -0.203804   \n",
            "6031     0.013699     0.421918  0.119337  0.106902  0.052208 -0.186020   \n",
            "6033     0.268493     0.054795  0.120795 -0.006731  0.075517 -0.006713   \n",
            "6035     0.095890     0.213699  0.319274  0.097285 -0.096985 -0.112063   \n",
            "6037     0.071233     0.361644  0.079643 -0.064239  0.054941  0.054918   \n",
            "6039     0.126027     0.306849  0.115267  0.098686 -0.079163 -0.058775   \n",
            "6041     0.128767     0.000000  0.168742  0.094661 -0.099792  0.206937   \n",
            "6043     0.123288     0.306849  0.148170  0.050747 -0.038101 -0.082061   \n",
            "6045     0.098630     0.054795  0.122223  0.105594 -0.020434  0.143980   \n",
            "6047     0.115068     0.317808  0.122103  0.115113 -0.047685 -0.113517   \n",
            "6049     0.273973     0.038356  0.248045  0.154838 -0.103791 -0.112104   \n",
            "6051     0.252055     0.175342  0.250840 -0.050492  0.001507 -0.129936   \n",
            "6053     0.279452     0.147945  0.211165  0.071349 -0.110743 -0.099852   \n",
            "6055     0.268493     0.054795  0.138587  0.123415 -0.069681 -0.012188   \n",
            "6057     0.090411     0.205479  0.155040  0.061762 -0.024448  0.019279   \n",
            "6059     0.076712     0.356164  0.007046  0.011113  0.050822  0.049442   \n",
            "6061     0.098630     0.205479  0.192024  0.017930  0.038544 -0.045084   \n",
            "6063     0.139726     0.183562  0.298743 -0.053243 -0.029890 -0.031374   \n",
            "6065     0.000000     0.000000  0.089174  0.119292 -0.122977  0.465810   \n",
            "6067     0.106849     0.230137  0.211180  0.015138 -0.131286  0.076873   \n",
            "6069     0.010959     0.421918  0.005656  0.334310 -0.129903 -0.143624   \n",
            "6071     0.008219     0.000000  0.176894 -0.002654  0.050900  0.317939   \n",
            "6073     0.413699     0.000000 -0.025767  0.154905 -0.028634  0.023417   \n",
            "6075     0.049315     0.093151  0.157783  0.134363 -0.160017  0.224721   \n",
            "6077     0.167123     0.263014  0.209786  0.012421 -0.071012 -0.072440   \n",
            "6079     0.016438     0.419178  0.082375  0.102839  0.015254 -0.062898   \n",
            "6081     0.175342     0.115068  0.153672  0.141184 -0.072354 -0.013597   \n",
            "6083     0.021918     0.413699  0.059123 -0.054667  0.048090  0.085025   \n",
            "6085     0.194521     0.115068  0.142694  0.100088 -0.045001 -0.008054   \n",
            "6087     0.175342     0.115068  0.150932  0.201450 -0.077844 -0.065633   \n",
            "6089     0.257534     0.054795  0.208425  0.026209 -0.027199 -0.014977   \n",
            "6091     0.147945     0.167123  0.285055 -0.042291 -0.027157 -0.021783   \n",
            "6093     0.153425     0.000000  0.142698  0.013920 -0.053247  0.242520   \n",
            "6095     0.293151     0.054795  0.113933  0.093233 -0.109387  0.053591   \n",
            "6097     0.087671     0.054795  0.170110  0.104237 -0.069696  0.152199   \n",
            "6099     0.167123     0.263014  0.127583  0.082282 -0.031276 -0.099833   \n",
            "6101     0.131507     0.230137  0.160489  0.058970 -0.031276 -0.042303   \n",
            "6103     0.293151     0.054795  0.137196  0.043982  0.017945 -0.038176   \n",
            "6105     0.139726     0.054795  0.098971  0.019302  0.050807  0.135716   \n",
            "6107     0.024658     0.410959  0.126215  0.178116 -0.075149 -0.155906   \n",
            "6109     0.167123     0.263014  0.133122  0.035751 -0.008058 -0.082061   \n",
            "6111     0.087671     0.372603  0.056384 -0.054663  0.033038  0.056267   \n",
            "6113     0.142466     0.230137  0.122148  0.089107 -0.108004  0.031670   \n",
            "6115     0.093151     0.230137  0.159136  0.032955 -0.009381  0.001525   \n",
            "\n",
            "      pct_ch_4  pct_ch_5  \n",
            "6001  0.194521  0.115068  \n",
            "6003  0.101370  0.232877  \n",
            "6005  0.080835  0.241096  \n",
            "6007  0.128782  0.221918  \n",
            "6009  0.168506  0.246575  \n",
            "6011  0.298641  0.054795  \n",
            "6013  0.216438  0.093151  \n",
            "6015  0.005479  0.000000  \n",
            "6017  0.087671  0.221918  \n",
            "6019  0.012342  0.410959  \n",
            "6021  0.297273  0.054795  \n",
            "6023  0.093151  0.054795  \n",
            "6025  0.035688  0.000000  \n",
            "6027  0.331507  0.000000  \n",
            "6029 -0.006810  0.413699  \n",
            "6031 -0.015029  0.421918  \n",
            "6033  0.261653  0.054795  \n",
            "6035  0.078107  0.213699  \n",
            "6037  0.012409  0.361644  \n",
            "6039  0.116451  0.306849  \n",
            "6041  0.128767  0.000000  \n",
            "6043  0.113712  0.306849  \n",
            "6045  0.093158  0.054795  \n",
            "6047  0.105493  0.317808  \n",
            "6049  0.273973  0.038356  \n",
            "6051  0.252055  0.175342  \n",
            "6053  0.279452  0.147945  \n",
            "6055  0.264389  0.054795  \n",
            "6057  0.082203  0.205479  \n",
            "6059  0.024729  0.356164  \n",
            "6061  0.090422  0.205479  \n",
            "6063  0.131518  0.183562  \n",
            "6065 -0.051984  0.000000  \n",
            "6067  0.097273  0.230137  \n",
            "6069  0.010959  0.421918  \n",
            "6071 -0.043764  0.000000  \n",
            "6073  0.375395  0.000000  \n",
            "6075  0.049315  0.093151  \n",
            "6077  0.157547  0.263014  \n",
            "6079 -0.057433  0.419178  \n",
            "6081  0.175342  0.115068  \n",
            "6083 -0.051954  0.413699  \n",
            "6085  0.194521  0.115068  \n",
            "6087  0.175342  0.115068  \n",
            "6089  0.252062  0.054795  \n",
            "6091  0.138369  0.167123  \n",
            "6093  0.153425  0.000000  \n",
            "6095  0.293151  0.054795  \n",
            "6097  0.087671  0.054795  \n",
            "6099  0.157547  0.263014  \n",
            "6101  0.123299  0.230137  \n",
            "6103  0.283575  0.054795  \n",
            "6105  0.139726  0.054795  \n",
            "6107  0.015082  0.410959  \n",
            "6109  0.157547  0.263014  \n",
            "6111  0.035688  0.372603  \n",
            "6113  0.134258  0.230137  \n",
            "6115  0.084943  0.230137  \n"
          ]
        }
      ],
      "source": [
        "final_df['pct_ch_0'] = final_df['2014_2020_0']-final_df['2000_2013_0']\n",
        "final_df['pct_ch_1'] = final_df['2014_2020_1']-final_df['2000_2013_1']\n",
        "final_df['pct_ch_2'] = final_df['2014_2020_2']-final_df['2000_2013_2']\n",
        "final_df['pct_ch_3'] = final_df['2014_2020_3']-final_df['2000_2013_3']\n",
        "final_df['pct_ch_4'] = final_df['2014_2020_4']-final_df['2000_2013_4']\n",
        "final_df['pct_ch_5'] = final_df['2014_2020_5']-final_df['2000_2013_5']\n",
        "print(final_df)"
      ]
    },
    {
      "cell_type": "code",
      "execution_count": null,
      "metadata": {
        "id": "x48Tppr5cMj1",
        "outputId": "cdc99c95-b1a3-445e-aab7-a040b1d7bb84"
      },
      "outputs": [
        {
          "name": "stdout",
          "output_type": "stream",
          "text": [
            "    fips        lat         lon  elevation             Name State\n",
            "0   6001  37.648081 -121.913304        146          Alameda    CA\n",
            "1   6003  38.617610 -119.798999       2630           Alpine    CA\n",
            "2   6005  38.443550 -120.653856        719           Amador    CA\n",
            "3   6007  39.665959 -121.601919        373            Butte    CA\n",
            "4   6009  38.187844 -120.555115        499        Calaveras    CA\n",
            "5   6011  39.177739 -122.237563         40           Colusa    CA\n",
            "6   6013  37.919479 -121.951543        395     Contra Costa    CA\n",
            "7   6015  41.749903 -123.980998        493        Del Norte    CA\n",
            "8   6017  38.785532 -120.534398       1442        El Dorado    CA\n",
            "9   6019  36.761006 -119.655019        106           Fresno    CA\n",
            "10  6021  39.602546 -122.401700        140            Glenn    CA\n",
            "11  6023  40.706673 -123.925818        628         Humboldt    CA\n",
            "12  6025  33.040816 -115.355395          7         Imperial    CA\n",
            "13  6027  36.561977 -117.403927       1259             Inyo    CA\n",
            "14  6029  35.346629 -118.729506        407             Kern    CA\n",
            "15  6031  36.072478 -119.815530         56            Kings    CA\n",
            "16  6033  39.094802 -122.746757        546             Lake    CA\n",
            "17  6035  40.721089 -120.629931       1954           Lassen    CA\n",
            "18  6037  34.196398 -118.261862        197      Los Angeles    CA\n",
            "19  6039  37.210039 -119.749852        633           Madera    CA\n",
            "20  6041  38.051817 -122.745974        164            Marin    CA\n",
            "21  6043  37.570034 -119.912860       1079         Mariposa    CA\n",
            "22  6045  39.432388 -123.442881        550        Mendocino    CA\n",
            "23  6047  37.194806 -120.722802         30           Merced    CA\n",
            "24  6049  41.592919 -120.718370       1534            Modoc    CA\n",
            "25  6051  37.915836 -118.875167       2480             Mono    CA\n",
            "26  6053  36.240107 -121.315573        393         Monterey    CA\n",
            "27  6055  38.507351 -122.325995        444             Napa    CA\n",
            "28  6057  39.295191 -120.773446       1514           Nevada    CA\n",
            "29  6059  33.675687 -117.777207        124           Orange    CA\n",
            "30  6061  39.062032 -120.722718        903           Placer    CA\n",
            "31  6063  39.995170 -120.829516       1728           Plumas    CA\n",
            "32  6065  33.729828 -116.002239        718        Riverside    CA\n",
            "33  6067  38.450011 -121.340441         18       Sacramento    CA\n",
            "34  6069  36.610702 -121.085296        818       San Benito    CA\n",
            "35  6071  34.857220 -116.181197        467   San Bernardino    CA\n",
            "36  6073  33.023604 -116.776117        704        San Diego    CA\n",
            "37  6075  37.727239 -123.032229          0    San Francisco    CA\n",
            "38  6077  37.935034 -121.272237         10      San Joaquin    CA\n",
            "39  6079  35.385227 -120.447540        640  San Luis Obispo    CA\n",
            "40  6081  37.414664 -122.371542        387        San Mateo    CA\n",
            "41  6083  34.537378 -120.038485        150    Santa Barbara    CA\n",
            "42  6085  37.220777 -121.690622        376      Santa Clara    CA\n",
            "43  6087  37.012488 -122.007205         31       Santa Cruz    CA\n",
            "44  6089  40.760522 -122.043550        484           Shasta    CA\n",
            "45  6091  39.576925 -120.521993       2239           Sierra    CA\n",
            "46  6093  41.587986 -122.533287        825         Siskiyou    CA\n",
            "47  6095  38.267226 -121.939594         15           Solano    CA\n",
            "48  6097  38.532574 -122.945194         52           Sonoma    CA\n",
            "49  6099  37.562384 -121.002656         23       Stanislaus    CA\n",
            "50  6101  39.035257 -121.702758         10           Sutter    CA\n",
            "51  6103  40.126156 -122.232276         87           Tehama    CA\n",
            "52  6105  40.647724 -123.114404       1005          Trinity    CA\n",
            "53  6107  36.230453 -118.780542       1451           Tulare    CA\n",
            "54  6109  38.021451 -119.964708       1570         Tuolumne    CA\n",
            "55  6111  34.358742 -119.133143         67          Ventura    CA\n",
            "56  6113  38.679268 -121.903178         30             Yolo    CA\n",
            "57  6115  39.270026 -121.344280        260             Yuba    CA\n",
            "    index  2000_2013_0  2000_2013_1  2000_2013_2  2000_2013_3  2000_2013_4  \\\n",
            "0    6001     0.172367     0.062927     0.145007     0.120383     0.000000   \n",
            "1    6003     0.146375     0.129959     0.129959     0.094391     0.000000   \n",
            "2    6005     0.164159     0.079343     0.173735     0.073871     0.009576   \n",
            "3    6007     0.161423     0.088919     0.128591     0.110807     0.010944   \n",
            "4    6009     0.166895     0.071135     0.180575     0.072503     0.009576   \n",
            "5    6011     0.151847     0.056088     0.165527     0.119015     0.008208   \n",
            "6    6013     0.154583     0.061560     0.157319     0.127223     0.000000   \n",
            "7    6015     0.354309     0.084815     0.030096     0.031464     0.000000   \n",
            "8    6017     0.181943     0.128591     0.095759     0.094391     0.000000   \n",
            "9    6019     0.119015     0.062927     0.108071     0.201094     0.009576   \n",
            "10   6021     0.151847     0.065663     0.155951     0.117647     0.009576   \n",
            "11   6023     0.284542     0.090287     0.090287     0.035568     0.000000   \n",
            "12   6025     0.103967     0.108071     0.177839     0.058824     0.051984   \n",
            "13   6027     0.135431     0.083447     0.090287     0.191518     0.000000   \n",
            "14   6029     0.139535     0.016416     0.093023     0.222982     0.028728   \n",
            "15   6031     0.116279     0.038304     0.112175     0.205198     0.028728   \n",
            "16   6033     0.180575     0.086183     0.127223     0.099863     0.006840   \n",
            "17   6035     0.069767     0.017784     0.201094     0.194254     0.017784   \n",
            "18   6037     0.139535     0.105335     0.106703     0.090287     0.058824   \n",
            "19   6039     0.145007     0.041040     0.210670     0.094391     0.009576   \n",
            "20   6041     0.181943     0.102599     0.151847     0.064295     0.000000   \n",
            "21   6043     0.164159     0.045144     0.186047     0.095759     0.009576   \n",
            "22   6045     0.222982     0.083447     0.083447     0.105335     0.005472   \n",
            "23   6047     0.135431     0.032832     0.190150     0.132695     0.009576   \n",
            "24   6049     0.072503     0.031464     0.232558     0.164159     0.000000   \n",
            "25   6051     0.113543     0.140903     0.099863     0.146375     0.000000   \n",
            "26   6053     0.150479     0.084815     0.157319     0.108071     0.000000   \n",
            "27   6055     0.168263     0.093023     0.132695     0.102599     0.004104   \n",
            "28   6057     0.179207     0.086183     0.153215     0.073871     0.008208   \n",
            "29   6059     0.143639     0.112175     0.099863     0.093023     0.051984   \n",
            "30   6061     0.177839     0.088919     0.136799     0.088919     0.008208   \n",
            "31   6063     0.082079     0.132695     0.180575     0.097127     0.008208   \n",
            "32   6065     0.097127     0.083447     0.227086     0.041040     0.051984   \n",
            "33   6067     0.161423     0.050616     0.161423     0.117647     0.009576   \n",
            "34   6069     0.128591     0.046512     0.170999     0.154583     0.000000   \n",
            "35   6071     0.132695     0.062927     0.157319     0.095759     0.051984   \n",
            "36   6073     0.190150     0.080711     0.097127     0.094391     0.038304   \n",
            "37   6075     0.181943     0.084815     0.187415     0.046512     0.000000   \n",
            "38   6077     0.143639     0.067031     0.161423     0.119015     0.009576   \n",
            "39   6079     0.134063     0.072503     0.135431     0.084815     0.073871   \n",
            "40   6081     0.180575     0.064295     0.181943     0.073871     0.000000   \n",
            "41   6083     0.160055     0.093023     0.105335     0.068399     0.073871   \n",
            "42   6085     0.166895     0.064295     0.149111     0.120383     0.000000   \n",
            "43   6087     0.180575     0.058824     0.173735     0.087551     0.000000   \n",
            "44   6089     0.150479     0.132695     0.145007     0.067031     0.005472   \n",
            "45   6091     0.090287     0.127223     0.175103     0.098495     0.009576   \n",
            "46   6093     0.169631     0.161423     0.129959     0.039672     0.000000   \n",
            "47   6095     0.170999     0.060192     0.147743     0.121751     0.000000   \n",
            "48   6097     0.180575     0.093023     0.121751     0.105335     0.000000   \n",
            "49   6099     0.135431     0.065663     0.168263     0.121751     0.009576   \n",
            "50   6101     0.157319     0.047880     0.168263     0.119015     0.008208   \n",
            "51   6103     0.153215     0.106703     0.099863     0.131327     0.009576   \n",
            "52   6105     0.248974     0.090287     0.088919     0.072503     0.000000   \n",
            "53   6107     0.136799     0.024624     0.140903     0.188782     0.009576   \n",
            "54   6109     0.179207     0.098495     0.117647     0.095759     0.009576   \n",
            "55   6111     0.160055     0.095759     0.117647     0.075239     0.051984   \n",
            "56   6113     0.168263     0.047880     0.157319     0.119015     0.008208   \n",
            "57   6115     0.169631     0.057456     0.151847     0.113543     0.008208   \n",
            "\n",
            "    2000_2013_5  2014_2020_0  2014_2020_1  2014_2020_2  2014_2020_3  \\\n",
            "0           0.0     0.320548     0.120548     0.082192     0.167123   \n",
            "1           0.0     0.323288     0.112329     0.123288     0.106849   \n",
            "2           0.0     0.375342     0.095890     0.087671     0.109589   \n",
            "3           0.0     0.326027     0.117808     0.115068     0.079452   \n",
            "4           0.0     0.358904     0.109589     0.090411     0.016438   \n",
            "5           0.0     0.284932     0.101370     0.175342     0.076712   \n",
            "6           0.0     0.284932     0.153425     0.030137     0.221918   \n",
            "7           0.0     0.424658     0.153425     0.136986     0.279452   \n",
            "8           0.0     0.369863     0.090411     0.191781     0.038356   \n",
            "9           0.0     0.243836     0.156164     0.136986     0.030137   \n",
            "10          0.0     0.282192     0.079452     0.197260     0.079452   \n",
            "11          0.0     0.408219     0.150685     0.054795     0.238356   \n",
            "12          0.0     0.131507     0.126027     0.282192     0.372603   \n",
            "13          0.0     0.246575     0.243836     0.057534     0.120548   \n",
            "14          0.0     0.317808     0.071233     0.156164     0.019178   \n",
            "15          0.0     0.235616     0.145205     0.164384     0.019178   \n",
            "16          0.0     0.301370     0.079452     0.202740     0.093151   \n",
            "17          0.0     0.389041     0.115068     0.104110     0.082192   \n",
            "18          0.0     0.219178     0.041096     0.161644     0.145205   \n",
            "19          0.0     0.260274     0.139726     0.131507     0.035616   \n",
            "20          0.0     0.350685     0.197260     0.052055     0.271233   \n",
            "21          0.0     0.312329     0.095890     0.147945     0.013699   \n",
            "22          0.0     0.345205     0.189041     0.063014     0.249315   \n",
            "23          0.0     0.257534     0.147945     0.142466     0.019178   \n",
            "24          0.0     0.320548     0.186301     0.128767     0.052055   \n",
            "25          0.0     0.364384     0.090411     0.101370     0.016438   \n",
            "26          0.0     0.361644     0.156164     0.046575     0.008219   \n",
            "27          0.0     0.306849     0.216438     0.063014     0.090411   \n",
            "28          0.0     0.334247     0.147945     0.128767     0.093151   \n",
            "29          0.0     0.150685     0.123288     0.150685     0.142466   \n",
            "30          0.0     0.369863     0.106849     0.175342     0.043836   \n",
            "31          0.0     0.380822     0.079452     0.150685     0.065753   \n",
            "32          0.0     0.186301     0.202740     0.104110     0.506849   \n",
            "33          0.0     0.372603     0.065753     0.030137     0.194521   \n",
            "34          0.0     0.134247     0.380822     0.041096     0.010959   \n",
            "35          0.0     0.309589     0.060274     0.208219     0.413699   \n",
            "36          0.0     0.164384     0.235616     0.068493     0.117808   \n",
            "37          0.0     0.339726     0.219178     0.027397     0.271233   \n",
            "38          0.0     0.353425     0.079452     0.090411     0.046575   \n",
            "39          0.0     0.216438     0.175342     0.150685     0.021918   \n",
            "40          0.0     0.334247     0.205479     0.109589     0.060274   \n",
            "41          0.0     0.219178     0.038356     0.153425     0.153425   \n",
            "42          0.0     0.309589     0.164384     0.104110     0.112329   \n",
            "43          0.0     0.331507     0.260274     0.095890     0.021918   \n",
            "44          0.0     0.358904     0.158904     0.117808     0.052055   \n",
            "45          0.0     0.375342     0.084932     0.147945     0.076712   \n",
            "46          0.0     0.312329     0.175342     0.076712     0.282192   \n",
            "47          0.0     0.284932     0.153425     0.038356     0.175342   \n",
            "48          0.0     0.350685     0.197260     0.052055     0.257534   \n",
            "49          0.0     0.263014     0.147945     0.136986     0.021918   \n",
            "50          0.0     0.317808     0.106849     0.136986     0.076712   \n",
            "51          0.0     0.290411     0.150685     0.117808     0.093151   \n",
            "52          0.0     0.347945     0.109589     0.139726     0.208219   \n",
            "53          0.0     0.263014     0.202740     0.065753     0.032877   \n",
            "54          0.0     0.312329     0.134247     0.109589     0.013699   \n",
            "55          0.0     0.216438     0.041096     0.150685     0.131507   \n",
            "56          0.0     0.290411     0.136986     0.049315     0.150685   \n",
            "57          0.0     0.328767     0.090411     0.142466     0.115068   \n",
            "\n",
            "    2014_2020_4  2014_2020_5  pct_ch_0  pct_ch_1  pct_ch_2  pct_ch_3  \\\n",
            "0      0.194521     0.115068  0.148181  0.057620 -0.062815  0.046740   \n",
            "1      0.101370     0.232877  0.176913 -0.017630 -0.006671  0.012458   \n",
            "2      0.090411     0.241096  0.211184  0.016547 -0.086063  0.035718   \n",
            "3      0.139726     0.221918  0.164605  0.028889 -0.013522 -0.031355   \n",
            "4      0.178082     0.246575  0.192009  0.038454 -0.090164 -0.056065   \n",
            "5      0.306849     0.054795  0.133085  0.045282  0.009816 -0.042303   \n",
            "6      0.216438     0.093151  0.130349  0.091865 -0.127182  0.094695   \n",
            "7      0.005479     0.000000  0.070348  0.068609  0.106891  0.247988   \n",
            "8      0.087671     0.221918  0.187920 -0.038180  0.096022 -0.056035   \n",
            "9      0.021918     0.410959  0.124821  0.093237  0.028915 -0.170957   \n",
            "10     0.306849     0.054795  0.130345  0.013789  0.041310 -0.038195   \n",
            "11     0.093151     0.054795  0.123677  0.060398 -0.035493  0.202788   \n",
            "12     0.087671     0.000000  0.027540  0.017956  0.104353  0.313779   \n",
            "13     0.331507     0.000000  0.111144  0.160388 -0.032753 -0.070971   \n",
            "14     0.021918     0.413699  0.178273  0.054817  0.063141 -0.203804   \n",
            "15     0.013699     0.421918  0.119337  0.106902  0.052208 -0.186020   \n",
            "16     0.268493     0.054795  0.120795 -0.006731  0.075517 -0.006713   \n",
            "17     0.095890     0.213699  0.319274  0.097285 -0.096985 -0.112063   \n",
            "18     0.071233     0.361644  0.079643 -0.064239  0.054941  0.054918   \n",
            "19     0.126027     0.306849  0.115267  0.098686 -0.079163 -0.058775   \n",
            "20     0.128767     0.000000  0.168742  0.094661 -0.099792  0.206937   \n",
            "21     0.123288     0.306849  0.148170  0.050747 -0.038101 -0.082061   \n",
            "22     0.098630     0.054795  0.122223  0.105594 -0.020434  0.143980   \n",
            "23     0.115068     0.317808  0.122103  0.115113 -0.047685 -0.113517   \n",
            "24     0.273973     0.038356  0.248045  0.154838 -0.103791 -0.112104   \n",
            "25     0.252055     0.175342  0.250840 -0.050492  0.001507 -0.129936   \n",
            "26     0.279452     0.147945  0.211165  0.071349 -0.110743 -0.099852   \n",
            "27     0.268493     0.054795  0.138587  0.123415 -0.069681 -0.012188   \n",
            "28     0.090411     0.205479  0.155040  0.061762 -0.024448  0.019279   \n",
            "29     0.076712     0.356164  0.007046  0.011113  0.050822  0.049442   \n",
            "30     0.098630     0.205479  0.192024  0.017930  0.038544 -0.045084   \n",
            "31     0.139726     0.183562  0.298743 -0.053243 -0.029890 -0.031374   \n",
            "32     0.000000     0.000000  0.089174  0.119292 -0.122977  0.465810   \n",
            "33     0.106849     0.230137  0.211180  0.015138 -0.131286  0.076873   \n",
            "34     0.010959     0.421918  0.005656  0.334310 -0.129903 -0.143624   \n",
            "35     0.008219     0.000000  0.176894 -0.002654  0.050900  0.317939   \n",
            "36     0.413699     0.000000 -0.025767  0.154905 -0.028634  0.023417   \n",
            "37     0.049315     0.093151  0.157783  0.134363 -0.160017  0.224721   \n",
            "38     0.167123     0.263014  0.209786  0.012421 -0.071012 -0.072440   \n",
            "39     0.016438     0.419178  0.082375  0.102839  0.015254 -0.062898   \n",
            "40     0.175342     0.115068  0.153672  0.141184 -0.072354 -0.013597   \n",
            "41     0.021918     0.413699  0.059123 -0.054667  0.048090  0.085025   \n",
            "42     0.194521     0.115068  0.142694  0.100088 -0.045001 -0.008054   \n",
            "43     0.175342     0.115068  0.150932  0.201450 -0.077844 -0.065633   \n",
            "44     0.257534     0.054795  0.208425  0.026209 -0.027199 -0.014977   \n",
            "45     0.147945     0.167123  0.285055 -0.042291 -0.027157 -0.021783   \n",
            "46     0.153425     0.000000  0.142698  0.013920 -0.053247  0.242520   \n",
            "47     0.293151     0.054795  0.113933  0.093233 -0.109387  0.053591   \n",
            "48     0.087671     0.054795  0.170110  0.104237 -0.069696  0.152199   \n",
            "49     0.167123     0.263014  0.127583  0.082282 -0.031276 -0.099833   \n",
            "50     0.131507     0.230137  0.160489  0.058970 -0.031276 -0.042303   \n",
            "51     0.293151     0.054795  0.137196  0.043982  0.017945 -0.038176   \n",
            "52     0.139726     0.054795  0.098971  0.019302  0.050807  0.135716   \n",
            "53     0.024658     0.410959  0.126215  0.178116 -0.075149 -0.155906   \n",
            "54     0.167123     0.263014  0.133122  0.035751 -0.008058 -0.082061   \n",
            "55     0.087671     0.372603  0.056384 -0.054663  0.033038  0.056267   \n",
            "56     0.142466     0.230137  0.122148  0.089107 -0.108004  0.031670   \n",
            "57     0.093151     0.230137  0.159136  0.032955 -0.009381  0.001525   \n",
            "\n",
            "    pct_ch_4  pct_ch_5  \n",
            "0   0.194521  0.115068  \n",
            "1   0.101370  0.232877  \n",
            "2   0.080835  0.241096  \n",
            "3   0.128782  0.221918  \n",
            "4   0.168506  0.246575  \n",
            "5   0.298641  0.054795  \n",
            "6   0.216438  0.093151  \n",
            "7   0.005479  0.000000  \n",
            "8   0.087671  0.221918  \n",
            "9   0.012342  0.410959  \n",
            "10  0.297273  0.054795  \n",
            "11  0.093151  0.054795  \n",
            "12  0.035688  0.000000  \n",
            "13  0.331507  0.000000  \n",
            "14 -0.006810  0.413699  \n",
            "15 -0.015029  0.421918  \n",
            "16  0.261653  0.054795  \n",
            "17  0.078107  0.213699  \n",
            "18  0.012409  0.361644  \n",
            "19  0.116451  0.306849  \n",
            "20  0.128767  0.000000  \n",
            "21  0.113712  0.306849  \n",
            "22  0.093158  0.054795  \n",
            "23  0.105493  0.317808  \n",
            "24  0.273973  0.038356  \n",
            "25  0.252055  0.175342  \n",
            "26  0.279452  0.147945  \n",
            "27  0.264389  0.054795  \n",
            "28  0.082203  0.205479  \n",
            "29  0.024729  0.356164  \n",
            "30  0.090422  0.205479  \n",
            "31  0.131518  0.183562  \n",
            "32 -0.051984  0.000000  \n",
            "33  0.097273  0.230137  \n",
            "34  0.010959  0.421918  \n",
            "35 -0.043764  0.000000  \n",
            "36  0.375395  0.000000  \n",
            "37  0.049315  0.093151  \n",
            "38  0.157547  0.263014  \n",
            "39 -0.057433  0.419178  \n",
            "40  0.175342  0.115068  \n",
            "41 -0.051954  0.413699  \n",
            "42  0.194521  0.115068  \n",
            "43  0.175342  0.115068  \n",
            "44  0.252062  0.054795  \n",
            "45  0.138369  0.167123  \n",
            "46  0.153425  0.000000  \n",
            "47  0.293151  0.054795  \n",
            "48  0.087671  0.054795  \n",
            "49  0.157547  0.263014  \n",
            "50  0.123299  0.230137  \n",
            "51  0.283575  0.054795  \n",
            "52  0.139726  0.054795  \n",
            "53  0.015082  0.410959  \n",
            "54  0.157547  0.263014  \n",
            "55  0.035688  0.372603  \n",
            "56  0.134258  0.230137  \n",
            "57  0.084943  0.230137  \n"
          ]
        }
      ],
      "source": [
        "final_df_fips = fips_df.reset_index(drop=True)\n",
        "print(final_df_fips)\n",
        "final_df_fips_vals = final_df.reset_index()\n",
        "print(final_df_fips_vals)"
      ]
    },
    {
      "cell_type": "code",
      "execution_count": null,
      "metadata": {
        "id": "e003IobfcMj1",
        "outputId": "9322df75-a267-4bc3-d7a8-fc626469299f"
      },
      "outputs": [
        {
          "name": "stdout",
          "output_type": "stream",
          "text": [
            "    fips        lat         lon  elevation             Name State  pct_ch_0  \\\n",
            "0   6001  37.648081 -121.913304        146          Alameda    CA  0.148181   \n",
            "1   6003  38.617610 -119.798999       2630           Alpine    CA  0.176913   \n",
            "2   6005  38.443550 -120.653856        719           Amador    CA  0.211184   \n",
            "3   6007  39.665959 -121.601919        373            Butte    CA  0.164605   \n",
            "4   6009  38.187844 -120.555115        499        Calaveras    CA  0.192009   \n",
            "5   6011  39.177739 -122.237563         40           Colusa    CA  0.133085   \n",
            "6   6013  37.919479 -121.951543        395     Contra Costa    CA  0.130349   \n",
            "7   6015  41.749903 -123.980998        493        Del Norte    CA  0.070348   \n",
            "8   6017  38.785532 -120.534398       1442        El Dorado    CA  0.187920   \n",
            "9   6019  36.761006 -119.655019        106           Fresno    CA  0.124821   \n",
            "10  6021  39.602546 -122.401700        140            Glenn    CA  0.130345   \n",
            "11  6023  40.706673 -123.925818        628         Humboldt    CA  0.123677   \n",
            "12  6025  33.040816 -115.355395          7         Imperial    CA  0.027540   \n",
            "13  6027  36.561977 -117.403927       1259             Inyo    CA  0.111144   \n",
            "14  6029  35.346629 -118.729506        407             Kern    CA  0.178273   \n",
            "15  6031  36.072478 -119.815530         56            Kings    CA  0.119337   \n",
            "16  6033  39.094802 -122.746757        546             Lake    CA  0.120795   \n",
            "17  6035  40.721089 -120.629931       1954           Lassen    CA  0.319274   \n",
            "18  6037  34.196398 -118.261862        197      Los Angeles    CA  0.079643   \n",
            "19  6039  37.210039 -119.749852        633           Madera    CA  0.115267   \n",
            "20  6041  38.051817 -122.745974        164            Marin    CA  0.168742   \n",
            "21  6043  37.570034 -119.912860       1079         Mariposa    CA  0.148170   \n",
            "22  6045  39.432388 -123.442881        550        Mendocino    CA  0.122223   \n",
            "23  6047  37.194806 -120.722802         30           Merced    CA  0.122103   \n",
            "24  6049  41.592919 -120.718370       1534            Modoc    CA  0.248045   \n",
            "25  6051  37.915836 -118.875167       2480             Mono    CA  0.250840   \n",
            "26  6053  36.240107 -121.315573        393         Monterey    CA  0.211165   \n",
            "27  6055  38.507351 -122.325995        444             Napa    CA  0.138587   \n",
            "28  6057  39.295191 -120.773446       1514           Nevada    CA  0.155040   \n",
            "29  6059  33.675687 -117.777207        124           Orange    CA  0.007046   \n",
            "30  6061  39.062032 -120.722718        903           Placer    CA  0.192024   \n",
            "31  6063  39.995170 -120.829516       1728           Plumas    CA  0.298743   \n",
            "32  6065  33.729828 -116.002239        718        Riverside    CA  0.089174   \n",
            "33  6067  38.450011 -121.340441         18       Sacramento    CA  0.211180   \n",
            "34  6069  36.610702 -121.085296        818       San Benito    CA  0.005656   \n",
            "35  6071  34.857220 -116.181197        467   San Bernardino    CA  0.176894   \n",
            "36  6073  33.023604 -116.776117        704        San Diego    CA -0.025767   \n",
            "37  6075  37.727239 -123.032229          0    San Francisco    CA  0.157783   \n",
            "38  6077  37.935034 -121.272237         10      San Joaquin    CA  0.209786   \n",
            "39  6079  35.385227 -120.447540        640  San Luis Obispo    CA  0.082375   \n",
            "40  6081  37.414664 -122.371542        387        San Mateo    CA  0.153672   \n",
            "41  6083  34.537378 -120.038485        150    Santa Barbara    CA  0.059123   \n",
            "42  6085  37.220777 -121.690622        376      Santa Clara    CA  0.142694   \n",
            "43  6087  37.012488 -122.007205         31       Santa Cruz    CA  0.150932   \n",
            "44  6089  40.760522 -122.043550        484           Shasta    CA  0.208425   \n",
            "45  6091  39.576925 -120.521993       2239           Sierra    CA  0.285055   \n",
            "46  6093  41.587986 -122.533287        825         Siskiyou    CA  0.142698   \n",
            "47  6095  38.267226 -121.939594         15           Solano    CA  0.113933   \n",
            "48  6097  38.532574 -122.945194         52           Sonoma    CA  0.170110   \n",
            "49  6099  37.562384 -121.002656         23       Stanislaus    CA  0.127583   \n",
            "50  6101  39.035257 -121.702758         10           Sutter    CA  0.160489   \n",
            "51  6103  40.126156 -122.232276         87           Tehama    CA  0.137196   \n",
            "52  6105  40.647724 -123.114404       1005          Trinity    CA  0.098971   \n",
            "53  6107  36.230453 -118.780542       1451           Tulare    CA  0.126215   \n",
            "54  6109  38.021451 -119.964708       1570         Tuolumne    CA  0.133122   \n",
            "55  6111  34.358742 -119.133143         67          Ventura    CA  0.056384   \n",
            "56  6113  38.679268 -121.903178         30             Yolo    CA  0.122148   \n",
            "57  6115  39.270026 -121.344280        260             Yuba    CA  0.159136   \n",
            "\n",
            "    pct_ch_1  pct_ch_2  pct_ch_3  pct_ch_4  pct_ch_5  \n",
            "0   0.057620 -0.062815  0.046740  0.194521  0.115068  \n",
            "1  -0.017630 -0.006671  0.012458  0.101370  0.232877  \n",
            "2   0.016547 -0.086063  0.035718  0.080835  0.241096  \n",
            "3   0.028889 -0.013522 -0.031355  0.128782  0.221918  \n",
            "4   0.038454 -0.090164 -0.056065  0.168506  0.246575  \n",
            "5   0.045282  0.009816 -0.042303  0.298641  0.054795  \n",
            "6   0.091865 -0.127182  0.094695  0.216438  0.093151  \n",
            "7   0.068609  0.106891  0.247988  0.005479  0.000000  \n",
            "8  -0.038180  0.096022 -0.056035  0.087671  0.221918  \n",
            "9   0.093237  0.028915 -0.170957  0.012342  0.410959  \n",
            "10  0.013789  0.041310 -0.038195  0.297273  0.054795  \n",
            "11  0.060398 -0.035493  0.202788  0.093151  0.054795  \n",
            "12  0.017956  0.104353  0.313779  0.035688  0.000000  \n",
            "13  0.160388 -0.032753 -0.070971  0.331507  0.000000  \n",
            "14  0.054817  0.063141 -0.203804 -0.006810  0.413699  \n",
            "15  0.106902  0.052208 -0.186020 -0.015029  0.421918  \n",
            "16 -0.006731  0.075517 -0.006713  0.261653  0.054795  \n",
            "17  0.097285 -0.096985 -0.112063  0.078107  0.213699  \n",
            "18 -0.064239  0.054941  0.054918  0.012409  0.361644  \n",
            "19  0.098686 -0.079163 -0.058775  0.116451  0.306849  \n",
            "20  0.094661 -0.099792  0.206937  0.128767  0.000000  \n",
            "21  0.050747 -0.038101 -0.082061  0.113712  0.306849  \n",
            "22  0.105594 -0.020434  0.143980  0.093158  0.054795  \n",
            "23  0.115113 -0.047685 -0.113517  0.105493  0.317808  \n",
            "24  0.154838 -0.103791 -0.112104  0.273973  0.038356  \n",
            "25 -0.050492  0.001507 -0.129936  0.252055  0.175342  \n",
            "26  0.071349 -0.110743 -0.099852  0.279452  0.147945  \n",
            "27  0.123415 -0.069681 -0.012188  0.264389  0.054795  \n",
            "28  0.061762 -0.024448  0.019279  0.082203  0.205479  \n",
            "29  0.011113  0.050822  0.049442  0.024729  0.356164  \n",
            "30  0.017930  0.038544 -0.045084  0.090422  0.205479  \n",
            "31 -0.053243 -0.029890 -0.031374  0.131518  0.183562  \n",
            "32  0.119292 -0.122977  0.465810 -0.051984  0.000000  \n",
            "33  0.015138 -0.131286  0.076873  0.097273  0.230137  \n",
            "34  0.334310 -0.129903 -0.143624  0.010959  0.421918  \n",
            "35 -0.002654  0.050900  0.317939 -0.043764  0.000000  \n",
            "36  0.154905 -0.028634  0.023417  0.375395  0.000000  \n",
            "37  0.134363 -0.160017  0.224721  0.049315  0.093151  \n",
            "38  0.012421 -0.071012 -0.072440  0.157547  0.263014  \n",
            "39  0.102839  0.015254 -0.062898 -0.057433  0.419178  \n",
            "40  0.141184 -0.072354 -0.013597  0.175342  0.115068  \n",
            "41 -0.054667  0.048090  0.085025 -0.051954  0.413699  \n",
            "42  0.100088 -0.045001 -0.008054  0.194521  0.115068  \n",
            "43  0.201450 -0.077844 -0.065633  0.175342  0.115068  \n",
            "44  0.026209 -0.027199 -0.014977  0.252062  0.054795  \n",
            "45 -0.042291 -0.027157 -0.021783  0.138369  0.167123  \n",
            "46  0.013920 -0.053247  0.242520  0.153425  0.000000  \n",
            "47  0.093233 -0.109387  0.053591  0.293151  0.054795  \n",
            "48  0.104237 -0.069696  0.152199  0.087671  0.054795  \n",
            "49  0.082282 -0.031276 -0.099833  0.157547  0.263014  \n",
            "50  0.058970 -0.031276 -0.042303  0.123299  0.230137  \n",
            "51  0.043982  0.017945 -0.038176  0.283575  0.054795  \n",
            "52  0.019302  0.050807  0.135716  0.139726  0.054795  \n",
            "53  0.178116 -0.075149 -0.155906  0.015082  0.410959  \n",
            "54  0.035751 -0.008058 -0.082061  0.157547  0.263014  \n",
            "55 -0.054663  0.033038  0.056267  0.035688  0.372603  \n",
            "56  0.089107 -0.108004  0.031670  0.134258  0.230137  \n",
            "57  0.032955 -0.009381  0.001525  0.084943  0.230137  \n"
          ]
        }
      ],
      "source": [
        "final_df_fips['pct_ch_0'] = final_df_fips_vals['pct_ch_0'] \n",
        "final_df_fips['pct_ch_1'] = final_df_fips_vals['pct_ch_1']\n",
        "final_df_fips['pct_ch_2'] = final_df_fips_vals['pct_ch_2']\n",
        "final_df_fips['pct_ch_3'] = final_df_fips_vals['pct_ch_3']\n",
        "final_df_fips['pct_ch_4'] = final_df_fips_vals['pct_ch_4']\n",
        "final_df_fips['pct_ch_5'] = final_df_fips_vals['pct_ch_5']\n",
        "print(final_df_fips)"
      ]
    },
    {
      "cell_type": "code",
      "execution_count": null,
      "metadata": {
        "id": "ElrC8Jg-cMj1",
        "outputId": "409ee5e3-a832-407e-eb63-1553898f8d3d"
      },
      "outputs": [
        {
          "name": "stdout",
          "output_type": "stream",
          "text": [
            "    fips        lat         lon  elevation             Name State  pct_ch_0  \\\n",
            "0   6001  37.648081 -121.913304        146          Alameda    CA  0.148181   \n",
            "1   6003  38.617610 -119.798999       2630           Alpine    CA  0.176913   \n",
            "2   6005  38.443550 -120.653856        719           Amador    CA  0.211184   \n",
            "3   6007  39.665959 -121.601919        373            Butte    CA  0.164605   \n",
            "4   6009  38.187844 -120.555115        499        Calaveras    CA  0.192009   \n",
            "5   6011  39.177739 -122.237563         40           Colusa    CA  0.133085   \n",
            "6   6013  37.919479 -121.951543        395     Contra Costa    CA  0.130349   \n",
            "7   6015  41.749903 -123.980998        493        Del Norte    CA  0.070348   \n",
            "8   6017  38.785532 -120.534398       1442        El Dorado    CA  0.187920   \n",
            "9   6019  36.761006 -119.655019        106           Fresno    CA  0.124821   \n",
            "10  6021  39.602546 -122.401700        140            Glenn    CA  0.130345   \n",
            "11  6023  40.706673 -123.925818        628         Humboldt    CA  0.123677   \n",
            "12  6025  33.040816 -115.355395          7         Imperial    CA  0.027540   \n",
            "13  6027  36.561977 -117.403927       1259             Inyo    CA  0.111144   \n",
            "14  6029  35.346629 -118.729506        407             Kern    CA  0.178273   \n",
            "15  6031  36.072478 -119.815530         56            Kings    CA  0.119337   \n",
            "16  6033  39.094802 -122.746757        546             Lake    CA  0.120795   \n",
            "17  6035  40.721089 -120.629931       1954           Lassen    CA  0.319274   \n",
            "18  6037  34.196398 -118.261862        197      Los Angeles    CA  0.079643   \n",
            "19  6039  37.210039 -119.749852        633           Madera    CA  0.115267   \n",
            "20  6041  38.051817 -122.745974        164            Marin    CA  0.168742   \n",
            "21  6043  37.570034 -119.912860       1079         Mariposa    CA  0.148170   \n",
            "22  6045  39.432388 -123.442881        550        Mendocino    CA  0.122223   \n",
            "23  6047  37.194806 -120.722802         30           Merced    CA  0.122103   \n",
            "24  6049  41.592919 -120.718370       1534            Modoc    CA  0.248045   \n",
            "25  6051  37.915836 -118.875167       2480             Mono    CA  0.250840   \n",
            "26  6053  36.240107 -121.315573        393         Monterey    CA  0.211165   \n",
            "27  6055  38.507351 -122.325995        444             Napa    CA  0.138587   \n",
            "28  6057  39.295191 -120.773446       1514           Nevada    CA  0.155040   \n",
            "29  6059  33.675687 -117.777207        124           Orange    CA  0.007046   \n",
            "30  6061  39.062032 -120.722718        903           Placer    CA  0.192024   \n",
            "31  6063  39.995170 -120.829516       1728           Plumas    CA  0.298743   \n",
            "32  6065  33.729828 -116.002239        718        Riverside    CA  0.089174   \n",
            "33  6067  38.450011 -121.340441         18       Sacramento    CA  0.211180   \n",
            "34  6069  36.610702 -121.085296        818       San Benito    CA  0.005656   \n",
            "35  6071  34.857220 -116.181197        467   San Bernardino    CA  0.176894   \n",
            "36  6073  33.023604 -116.776117        704        San Diego    CA -0.025767   \n",
            "37  6075  37.727239 -123.032229          0    San Francisco    CA  0.157783   \n",
            "38  6077  37.935034 -121.272237         10      San Joaquin    CA  0.209786   \n",
            "39  6079  35.385227 -120.447540        640  San Luis Obispo    CA  0.082375   \n",
            "40  6081  37.414664 -122.371542        387        San Mateo    CA  0.153672   \n",
            "41  6083  34.537378 -120.038485        150    Santa Barbara    CA  0.059123   \n",
            "42  6085  37.220777 -121.690622        376      Santa Clara    CA  0.142694   \n",
            "43  6087  37.012488 -122.007205         31       Santa Cruz    CA  0.150932   \n",
            "44  6089  40.760522 -122.043550        484           Shasta    CA  0.208425   \n",
            "45  6091  39.576925 -120.521993       2239           Sierra    CA  0.285055   \n",
            "46  6093  41.587986 -122.533287        825         Siskiyou    CA  0.142698   \n",
            "47  6095  38.267226 -121.939594         15           Solano    CA  0.113933   \n",
            "48  6097  38.532574 -122.945194         52           Sonoma    CA  0.170110   \n",
            "49  6099  37.562384 -121.002656         23       Stanislaus    CA  0.127583   \n",
            "50  6101  39.035257 -121.702758         10           Sutter    CA  0.160489   \n",
            "51  6103  40.126156 -122.232276         87           Tehama    CA  0.137196   \n",
            "52  6105  40.647724 -123.114404       1005          Trinity    CA  0.098971   \n",
            "53  6107  36.230453 -118.780542       1451           Tulare    CA  0.126215   \n",
            "54  6109  38.021451 -119.964708       1570         Tuolumne    CA  0.133122   \n",
            "55  6111  34.358742 -119.133143         67          Ventura    CA  0.056384   \n",
            "56  6113  38.679268 -121.903178         30             Yolo    CA  0.122148   \n",
            "57  6115  39.270026 -121.344280        260             Yuba    CA  0.159136   \n",
            "\n",
            "    pct_ch_1  pct_ch_2  pct_ch_3  pct_ch_4  pct_ch_5    size_0    size_1  \\\n",
            "0   0.057620 -0.062815  0.046740  0.194521  0.115068  0.148181  0.057620   \n",
            "1  -0.017630 -0.006671  0.012458  0.101370  0.232877  0.176913  0.017630   \n",
            "2   0.016547 -0.086063  0.035718  0.080835  0.241096  0.211184  0.016547   \n",
            "3   0.028889 -0.013522 -0.031355  0.128782  0.221918  0.164605  0.028889   \n",
            "4   0.038454 -0.090164 -0.056065  0.168506  0.246575  0.192009  0.038454   \n",
            "5   0.045282  0.009816 -0.042303  0.298641  0.054795  0.133085  0.045282   \n",
            "6   0.091865 -0.127182  0.094695  0.216438  0.093151  0.130349  0.091865   \n",
            "7   0.068609  0.106891  0.247988  0.005479  0.000000  0.070348  0.068609   \n",
            "8  -0.038180  0.096022 -0.056035  0.087671  0.221918  0.187920  0.038180   \n",
            "9   0.093237  0.028915 -0.170957  0.012342  0.410959  0.124821  0.093237   \n",
            "10  0.013789  0.041310 -0.038195  0.297273  0.054795  0.130345  0.013789   \n",
            "11  0.060398 -0.035493  0.202788  0.093151  0.054795  0.123677  0.060398   \n",
            "12  0.017956  0.104353  0.313779  0.035688  0.000000  0.027540  0.017956   \n",
            "13  0.160388 -0.032753 -0.070971  0.331507  0.000000  0.111144  0.160388   \n",
            "14  0.054817  0.063141 -0.203804 -0.006810  0.413699  0.178273  0.054817   \n",
            "15  0.106902  0.052208 -0.186020 -0.015029  0.421918  0.119337  0.106902   \n",
            "16 -0.006731  0.075517 -0.006713  0.261653  0.054795  0.120795  0.006731   \n",
            "17  0.097285 -0.096985 -0.112063  0.078107  0.213699  0.319274  0.097285   \n",
            "18 -0.064239  0.054941  0.054918  0.012409  0.361644  0.079643  0.064239   \n",
            "19  0.098686 -0.079163 -0.058775  0.116451  0.306849  0.115267  0.098686   \n",
            "20  0.094661 -0.099792  0.206937  0.128767  0.000000  0.168742  0.094661   \n",
            "21  0.050747 -0.038101 -0.082061  0.113712  0.306849  0.148170  0.050747   \n",
            "22  0.105594 -0.020434  0.143980  0.093158  0.054795  0.122223  0.105594   \n",
            "23  0.115113 -0.047685 -0.113517  0.105493  0.317808  0.122103  0.115113   \n",
            "24  0.154838 -0.103791 -0.112104  0.273973  0.038356  0.248045  0.154838   \n",
            "25 -0.050492  0.001507 -0.129936  0.252055  0.175342  0.250840  0.050492   \n",
            "26  0.071349 -0.110743 -0.099852  0.279452  0.147945  0.211165  0.071349   \n",
            "27  0.123415 -0.069681 -0.012188  0.264389  0.054795  0.138587  0.123415   \n",
            "28  0.061762 -0.024448  0.019279  0.082203  0.205479  0.155040  0.061762   \n",
            "29  0.011113  0.050822  0.049442  0.024729  0.356164  0.007046  0.011113   \n",
            "30  0.017930  0.038544 -0.045084  0.090422  0.205479  0.192024  0.017930   \n",
            "31 -0.053243 -0.029890 -0.031374  0.131518  0.183562  0.298743  0.053243   \n",
            "32  0.119292 -0.122977  0.465810 -0.051984  0.000000  0.089174  0.119292   \n",
            "33  0.015138 -0.131286  0.076873  0.097273  0.230137  0.211180  0.015138   \n",
            "34  0.334310 -0.129903 -0.143624  0.010959  0.421918  0.005656  0.334310   \n",
            "35 -0.002654  0.050900  0.317939 -0.043764  0.000000  0.176894  0.002654   \n",
            "36  0.154905 -0.028634  0.023417  0.375395  0.000000  0.025767  0.154905   \n",
            "37  0.134363 -0.160017  0.224721  0.049315  0.093151  0.157783  0.134363   \n",
            "38  0.012421 -0.071012 -0.072440  0.157547  0.263014  0.209786  0.012421   \n",
            "39  0.102839  0.015254 -0.062898 -0.057433  0.419178  0.082375  0.102839   \n",
            "40  0.141184 -0.072354 -0.013597  0.175342  0.115068  0.153672  0.141184   \n",
            "41 -0.054667  0.048090  0.085025 -0.051954  0.413699  0.059123  0.054667   \n",
            "42  0.100088 -0.045001 -0.008054  0.194521  0.115068  0.142694  0.100088   \n",
            "43  0.201450 -0.077844 -0.065633  0.175342  0.115068  0.150932  0.201450   \n",
            "44  0.026209 -0.027199 -0.014977  0.252062  0.054795  0.208425  0.026209   \n",
            "45 -0.042291 -0.027157 -0.021783  0.138369  0.167123  0.285055  0.042291   \n",
            "46  0.013920 -0.053247  0.242520  0.153425  0.000000  0.142698  0.013920   \n",
            "47  0.093233 -0.109387  0.053591  0.293151  0.054795  0.113933  0.093233   \n",
            "48  0.104237 -0.069696  0.152199  0.087671  0.054795  0.170110  0.104237   \n",
            "49  0.082282 -0.031276 -0.099833  0.157547  0.263014  0.127583  0.082282   \n",
            "50  0.058970 -0.031276 -0.042303  0.123299  0.230137  0.160489  0.058970   \n",
            "51  0.043982  0.017945 -0.038176  0.283575  0.054795  0.137196  0.043982   \n",
            "52  0.019302  0.050807  0.135716  0.139726  0.054795  0.098971  0.019302   \n",
            "53  0.178116 -0.075149 -0.155906  0.015082  0.410959  0.126215  0.178116   \n",
            "54  0.035751 -0.008058 -0.082061  0.157547  0.263014  0.133122  0.035751   \n",
            "55 -0.054663  0.033038  0.056267  0.035688  0.372603  0.056384  0.054663   \n",
            "56  0.089107 -0.108004  0.031670  0.134258  0.230137  0.122148  0.089107   \n",
            "57  0.032955 -0.009381  0.001525  0.084943  0.230137  0.159136  0.032955   \n",
            "\n",
            "      size_2    size_3    size_4    size_5  \n",
            "0   0.062815  0.046740  0.194521  0.115068  \n",
            "1   0.006671  0.012458  0.101370  0.232877  \n",
            "2   0.086063  0.035718  0.080835  0.241096  \n",
            "3   0.013522  0.031355  0.128782  0.221918  \n",
            "4   0.090164  0.056065  0.168506  0.246575  \n",
            "5   0.009816  0.042303  0.298641  0.054795  \n",
            "6   0.127182  0.094695  0.216438  0.093151  \n",
            "7   0.106891  0.247988  0.005479  0.000000  \n",
            "8   0.096022  0.056035  0.087671  0.221918  \n",
            "9   0.028915  0.170957  0.012342  0.410959  \n",
            "10  0.041310  0.038195  0.297273  0.054795  \n",
            "11  0.035493  0.202788  0.093151  0.054795  \n",
            "12  0.104353  0.313779  0.035688  0.000000  \n",
            "13  0.032753  0.070971  0.331507  0.000000  \n",
            "14  0.063141  0.203804  0.006810  0.413699  \n",
            "15  0.052208  0.186020  0.015029  0.421918  \n",
            "16  0.075517  0.006713  0.261653  0.054795  \n",
            "17  0.096985  0.112063  0.078107  0.213699  \n",
            "18  0.054941  0.054918  0.012409  0.361644  \n",
            "19  0.079163  0.058775  0.116451  0.306849  \n",
            "20  0.099792  0.206937  0.128767  0.000000  \n",
            "21  0.038101  0.082061  0.113712  0.306849  \n",
            "22  0.020434  0.143980  0.093158  0.054795  \n",
            "23  0.047685  0.113517  0.105493  0.317808  \n",
            "24  0.103791  0.112104  0.273973  0.038356  \n",
            "25  0.001507  0.129936  0.252055  0.175342  \n",
            "26  0.110743  0.099852  0.279452  0.147945  \n",
            "27  0.069681  0.012188  0.264389  0.054795  \n",
            "28  0.024448  0.019279  0.082203  0.205479  \n",
            "29  0.050822  0.049442  0.024729  0.356164  \n",
            "30  0.038544  0.045084  0.090422  0.205479  \n",
            "31  0.029890  0.031374  0.131518  0.183562  \n",
            "32  0.122977  0.465810  0.051984  0.000000  \n",
            "33  0.131286  0.076873  0.097273  0.230137  \n",
            "34  0.129903  0.143624  0.010959  0.421918  \n",
            "35  0.050900  0.317939  0.043764  0.000000  \n",
            "36  0.028634  0.023417  0.375395  0.000000  \n",
            "37  0.160017  0.224721  0.049315  0.093151  \n",
            "38  0.071012  0.072440  0.157547  0.263014  \n",
            "39  0.015254  0.062898  0.057433  0.419178  \n",
            "40  0.072354  0.013597  0.175342  0.115068  \n",
            "41  0.048090  0.085025  0.051954  0.413699  \n",
            "42  0.045001  0.008054  0.194521  0.115068  \n",
            "43  0.077844  0.065633  0.175342  0.115068  \n",
            "44  0.027199  0.014977  0.252062  0.054795  \n",
            "45  0.027157  0.021783  0.138369  0.167123  \n",
            "46  0.053247  0.242520  0.153425  0.000000  \n",
            "47  0.109387  0.053591  0.293151  0.054795  \n",
            "48  0.069696  0.152199  0.087671  0.054795  \n",
            "49  0.031276  0.099833  0.157547  0.263014  \n",
            "50  0.031276  0.042303  0.123299  0.230137  \n",
            "51  0.017945  0.038176  0.283575  0.054795  \n",
            "52  0.050807  0.135716  0.139726  0.054795  \n",
            "53  0.075149  0.155906  0.015082  0.410959  \n",
            "54  0.008058  0.082061  0.157547  0.263014  \n",
            "55  0.033038  0.056267  0.035688  0.372603  \n",
            "56  0.108004  0.031670  0.134258  0.230137  \n",
            "57  0.009381  0.001525  0.084943  0.230137  \n"
          ]
        }
      ],
      "source": [
        "final_df_fips['size_0'] = final_df_fips['pct_ch_0'].abs()\n",
        "final_df_fips['size_1'] = final_df_fips['pct_ch_1'].abs()\n",
        "final_df_fips['size_2'] = final_df_fips['pct_ch_2'].abs()\n",
        "final_df_fips['size_3'] = final_df_fips['pct_ch_3'].abs()\n",
        "final_df_fips['size_4'] = final_df_fips['pct_ch_4'].abs()\n",
        "final_df_fips['size_5'] = final_df_fips['pct_ch_5'].abs()\n",
        "print(final_df_fips)"
      ]
    },
    {
      "cell_type": "code",
      "execution_count": null,
      "metadata": {
        "id": "GkDljn4jcMj1"
      },
      "outputs": [],
      "source": [
        "def count_val(list_):\n",
        "    neg_count = len(list(filter(lambda x: (x < 0), list_)))\n",
        "    pos_count = len(list(filter(lambda x: (x >= 0), list_)))\n",
        "    return (pos_count, neg_count)"
      ]
    },
    {
      "cell_type": "code",
      "execution_count": null,
      "metadata": {
        "id": "wn2-ENh5cMj1",
        "outputId": "3c47d08a-908d-46df-d6e1-506b9fc2087a"
      },
      "outputs": [
        {
          "name": "stdout",
          "output_type": "stream",
          "text": [
            "(57, 1)\n",
            "(48, 10)\n",
            "(19, 39)\n",
            "(25, 33)\n",
            "(52, 6)\n",
            "(58, 0)\n"
          ]
        }
      ],
      "source": [
        "list0 = list(final_df_fips['pct_ch_0'])\n",
        "list1 = list(final_df_fips['pct_ch_1'])\n",
        "list2 = list(final_df_fips['pct_ch_2'])\n",
        "list3 = list(final_df_fips['pct_ch_3'])\n",
        "list4 = list(final_df_fips['pct_ch_4'])\n",
        "list5 = list(final_df_fips['pct_ch_5'])\n",
        "print(count_val(list0))\n",
        "print(count_val(list1))\n",
        "print(count_val(list2))\n",
        "print(count_val(list3))\n",
        "print(count_val(list4))\n",
        "print(count_val(list5))"
      ]
    },
    {
      "cell_type": "code",
      "execution_count": null,
      "metadata": {
        "id": "mIuCjuVUcMj2"
      },
      "outputs": [],
      "source": [
        "import plotly as py\n",
        "from plotly.offline import download_plotlyjs,init_notebook_mode,plot,iplot"
      ]
    },
    {
      "cell_type": "code",
      "execution_count": null,
      "metadata": {
        "id": "-CDNgVKncMj2",
        "outputId": "236b2695-6483-4666-ecc9-1436a53611c7"
      },
      "outputs": [
        {
          "data": {
            "text/html": [
              "        <script type=\"text/javascript\">\n",
              "        window.PlotlyConfig = {MathJaxConfig: 'local'};\n",
              "        if (window.MathJax) {MathJax.Hub.Config({SVG: {font: \"STIX-Web\"}});}\n",
              "        if (typeof require !== 'undefined') {\n",
              "        require.undef(\"plotly\");\n",
              "        requirejs.config({\n",
              "            paths: {\n",
              "                'plotly': ['https://cdn.plot.ly/plotly-latest.min']\n",
              "            }\n",
              "        });\n",
              "        require(['plotly'], function(Plotly) {\n",
              "            window._Plotly = Plotly;\n",
              "        });\n",
              "        }\n",
              "        </script>\n",
              "        "
            ]
          },
          "metadata": {},
          "output_type": "display_data"
        }
      ],
      "source": [
        "init_notebook_mode(connected=True)"
      ]
    },
    {
      "cell_type": "code",
      "execution_count": null,
      "metadata": {
        "id": "SMWGVPDscMj2"
      },
      "outputs": [],
      "source": [
        "import plotly.express as px"
      ]
    },
    {
      "cell_type": "code",
      "execution_count": null,
      "metadata": {
        "id": "I2o4V2Y8cMj2",
        "outputId": "11f1e44c-315b-40e3-e3e4-59b5c12bbe1c"
      },
      "outputs": [
        {
          "data": {
            "text/plain": [
              "Templates configuration\n",
              "-----------------------\n",
              "    Default template: 'plotly'\n",
              "    Available templates:\n",
              "        ['ggplot2', 'seaborn', 'simple_white', 'plotly',\n",
              "         'plotly_white', 'plotly_dark', 'presentation', 'xgridoff',\n",
              "         'ygridoff', 'gridon', 'none']"
            ]
          },
          "execution_count": 51,
          "metadata": {},
          "output_type": "execute_result"
        }
      ],
      "source": [
        "import plotly.io as pio\n",
        "pio.templates"
      ]
    },
    {
      "cell_type": "code",
      "execution_count": null,
      "metadata": {
        "id": "d89xdkyTcMj3",
        "outputId": "8073e791-adff-4a75-b808-eabd30f99f9b"
      },
      "outputs": [
        {
          "name": "stdout",
          "output_type": "stream",
          "text": [
            "37.83800610344828 \n",
            " -120.74952093103452\n",
            "42.749903 \n",
            " -114.355395\n",
            "31.023604 \n",
            " -125.980998\n"
          ]
        }
      ],
      "source": [
        "lat1 = final_df_fips['lat'].mean()\n",
        "lon1 = final_df_fips['lon'].mean()\n",
        "print(lat1,'\\n',lon1)\n",
        "latr1 = final_df_fips['lat'].max()+1\n",
        "lonr1 = final_df_fips['lon'].max()+1\n",
        "print(latr1,'\\n',lonr1)\n",
        "latr2 = final_df_fips['lat'].min()-2\n",
        "lonr2 = final_df_fips['lon'].min()-2\n",
        "print(latr2,'\\n',lonr2)"
      ]
    },
    {
      "cell_type": "code",
      "execution_count": null,
      "metadata": {
        "scrolled": false,
        "id": "Qsof7ckNcMj3",
        "outputId": "b61f758f-883a-43ee-9e6d-8341617b56db"
      },
      "outputs": [
        {
          "data": {
            "application/vnd.plotly.v1+json": {
              "config": {
                "plotlyServerURL": "https://plot.ly"
              },
              "data": [
                {
                  "customdata": [
                    [
                      6001,
                      "CA",
                      0.148181324138448
                    ],
                    [
                      6003,
                      "CA",
                      0.17691284223150872
                    ],
                    [
                      6005,
                      "CA",
                      0.21118377902291852
                    ],
                    [
                      6007,
                      "CA",
                      0.16460468864194291
                    ],
                    [
                      6009,
                      "CA",
                      0.19200944474635986
                    ],
                    [
                      6011,
                      "CA",
                      0.13308472162359686
                    ],
                    [
                      6013,
                      "CA",
                      0.13034874351142176
                    ],
                    [
                      6015,
                      "CA",
                      0.07034836871989952
                    ],
                    [
                      6017,
                      "CA",
                      0.18792046923898578
                    ],
                    [
                      6019,
                      "CA",
                      0.1248205685587392
                    ],
                    [
                      6021,
                      "CA",
                      0.1303449955961996
                    ],
                    [
                      6023,
                      "CA",
                      0.1236774544159811
                    ],
                    [
                      6025,
                      "CA",
                      0.027539681052414583
                    ],
                    [
                      6027,
                      "CA",
                      0.11114442591308582
                    ],
                    [
                      6029,
                      "CA",
                      0.178273335457152
                    ],
                    [
                      6031,
                      "CA",
                      0.11933736858872253
                    ],
                    [
                      6033,
                      "CA",
                      0.12079530761014184
                    ],
                    [
                      6035,
                      "CA",
                      0.31927365402994584
                    ],
                    [
                      6037,
                      "CA",
                      0.07964319847085058
                    ],
                    [
                      6039,
                      "CA",
                      0.11526713265745928
                    ],
                    [
                      6041,
                      "CA",
                      0.16874238704720498
                    ],
                    [
                      6043,
                      "CA",
                      0.1481700803927815
                    ],
                    [
                      6045,
                      "CA",
                      0.12222326330978395
                    ],
                    [
                      6047,
                      "CA",
                      0.12210333002267487
                    ],
                    [
                      6049,
                      "CA",
                      0.24804452523283926
                    ],
                    [
                      6051,
                      "CA",
                      0.25084046998856885
                    ],
                    [
                      6053,
                      "CA",
                      0.21116503944680773
                    ],
                    [
                      6055,
                      "CA",
                      0.13858666116972435
                    ],
                    [
                      6057,
                      "CA",
                      0.15504000899499654
                    ],
                    [
                      6059,
                      "CA",
                      0.007046080617656408
                    ],
                    [
                      6061,
                      "CA",
                      0.19202443640724845
                    ],
                    [
                      6063,
                      "CA",
                      0.2987425744429661
                    ],
                    [
                      6065,
                      "CA",
                      0.08917414688079757
                    ],
                    [
                      6067,
                      "CA",
                      0.21118003110769637
                    ],
                    [
                      6069,
                      "CA",
                      0.005655604070235937
                    ],
                    [
                      6071,
                      "CA",
                      0.17689410265539793
                    ],
                    [
                      6073,
                      "CA",
                      -0.025766917152334035
                    ],
                    [
                      6075,
                      "CA",
                      0.15778348293761593
                    ],
                    [
                      6077,
                      "CA",
                      0.20978580664505367
                    ],
                    [
                      6079,
                      "CA",
                      0.08237542866780354
                    ],
                    [
                      6081,
                      "CA",
                      0.153672019938909
                    ],
                    [
                      6083,
                      "CA",
                      0.059123362629537296
                    ],
                    [
                      6085,
                      "CA",
                      0.14269437625320916
                    ],
                    [
                      6087,
                      "CA",
                      0.15093229391151175
                    ],
                    [
                      6089,
                      "CA",
                      0.20842531341941048
                    ],
                    [
                      6091,
                      "CA",
                      0.2850551880516463
                    ],
                    [
                      6093,
                      "CA",
                      0.1426981241684313
                    ],
                    [
                      6095,
                      "CA",
                      0.11393287483837114
                    ],
                    [
                      6097,
                      "CA",
                      0.17011037610329255
                    ],
                    [
                      6099,
                      "CA",
                      0.12758278207746937
                    ],
                    [
                      6101,
                      "CA",
                      0.1604894777280138
                    ],
                    [
                      6103,
                      "CA",
                      0.13719618462230382
                    ],
                    [
                      6105,
                      "CA",
                      0.09897119727151774
                    ],
                    [
                      6107,
                      "CA",
                      0.12621479302138183
                    ],
                    [
                      6109,
                      "CA",
                      0.13312220077581843
                    ],
                    [
                      6111,
                      "CA",
                      0.05638363660214005
                    ],
                    [
                      6113,
                      "CA",
                      0.12214830500534074
                    ],
                    [
                      6115,
                      "CA",
                      0.15913648033281486
                    ]
                  ],
                  "geo": "geo",
                  "hovertemplate": "<b>%{hovertext}</b><br><br>size_0=%{marker.size}<br>lat=%{lat}<br>lon=%{lon}<br>fips=%{customdata[0]}<br>State=%{customdata[1]}<br>pct_ch_0=%{marker.color}<extra></extra>",
                  "hovertext": [
                    "Alameda",
                    "Alpine",
                    "Amador",
                    "Butte",
                    "Calaveras",
                    "Colusa",
                    "Contra Costa",
                    "Del Norte",
                    "El Dorado",
                    "Fresno",
                    "Glenn",
                    "Humboldt",
                    "Imperial",
                    "Inyo",
                    "Kern",
                    "Kings",
                    "Lake",
                    "Lassen",
                    "Los Angeles",
                    "Madera",
                    "Marin",
                    "Mariposa",
                    "Mendocino",
                    "Merced",
                    "Modoc",
                    "Mono",
                    "Monterey",
                    "Napa",
                    "Nevada",
                    "Orange",
                    "Placer",
                    "Plumas",
                    "Riverside",
                    "Sacramento",
                    "San Benito",
                    "San Bernardino",
                    "San Diego",
                    "San Francisco",
                    "San Joaquin",
                    "San Luis Obispo",
                    "San Mateo",
                    "Santa Barbara",
                    "Santa Clara",
                    "Santa Cruz",
                    "Shasta",
                    "Sierra",
                    "Siskiyou",
                    "Solano",
                    "Sonoma",
                    "Stanislaus",
                    "Sutter",
                    "Tehama",
                    "Trinity",
                    "Tulare",
                    "Tuolumne",
                    "Ventura",
                    "Yolo",
                    "Yuba"
                  ],
                  "lat": [
                    37.648081,
                    38.61761,
                    38.44355,
                    39.665959,
                    38.187844,
                    39.177739,
                    37.919478999999995,
                    41.749903,
                    38.785532,
                    36.761006,
                    39.602546000000004,
                    40.706672999999995,
                    33.040816,
                    36.561977,
                    35.346629,
                    36.072478000000004,
                    39.094802,
                    40.721089,
                    34.196397999999995,
                    37.210039,
                    38.051817,
                    37.570034,
                    39.432388,
                    37.194806,
                    41.592919,
                    37.915836,
                    36.240107,
                    38.507351,
                    39.295190999999996,
                    33.675686999999996,
                    39.062032,
                    39.99517,
                    33.729828000000005,
                    38.450010999999996,
                    36.610702,
                    34.85722,
                    33.023604,
                    37.727239000000004,
                    37.935034,
                    35.385227,
                    37.414664,
                    34.537378000000004,
                    37.220777000000005,
                    37.012488,
                    40.760521999999995,
                    39.576925,
                    41.587986,
                    38.267226,
                    38.532574,
                    37.562384,
                    39.035257,
                    40.126156,
                    40.647724,
                    36.230453000000004,
                    38.021451,
                    34.358742,
                    38.679268,
                    39.270026
                  ],
                  "legendgroup": "",
                  "lon": [
                    -121.91330400000001,
                    -119.798999,
                    -120.653856,
                    -121.601919,
                    -120.55511499999999,
                    -122.237563,
                    -121.95154299999999,
                    -123.980998,
                    -120.534398,
                    -119.655019,
                    -122.4017,
                    -123.92581799999999,
                    -115.355395,
                    -117.403927,
                    -118.729506,
                    -119.81553000000001,
                    -122.746757,
                    -120.629931,
                    -118.26186200000001,
                    -119.749852,
                    -122.745974,
                    -119.91286000000001,
                    -123.442881,
                    -120.722802,
                    -120.71837,
                    -118.87516699999999,
                    -121.315573,
                    -122.32599499999999,
                    -120.77344599999999,
                    -117.777207,
                    -120.722718,
                    -120.829516,
                    -116.00223899999999,
                    -121.340441,
                    -121.085296,
                    -116.181197,
                    -116.776117,
                    -123.032229,
                    -121.27223700000002,
                    -120.44753999999999,
                    -122.37154199999999,
                    -120.03848500000001,
                    -121.69062199999999,
                    -122.007205,
                    -122.04355,
                    -120.521993,
                    -122.53328700000002,
                    -121.939594,
                    -122.945194,
                    -121.002656,
                    -121.702758,
                    -122.232276,
                    -123.11440400000001,
                    -118.780542,
                    -119.964708,
                    -119.13314299999999,
                    -121.903178,
                    -121.34428
                  ],
                  "marker": {
                    "color": [
                      0.148181324138448,
                      0.17691284223150872,
                      0.21118377902291852,
                      0.16460468864194291,
                      0.19200944474635986,
                      0.13308472162359686,
                      0.13034874351142176,
                      0.07034836871989952,
                      0.18792046923898578,
                      0.1248205685587392,
                      0.1303449955961996,
                      0.1236774544159811,
                      0.027539681052414583,
                      0.11114442591308582,
                      0.178273335457152,
                      0.11933736858872253,
                      0.12079530761014184,
                      0.31927365402994584,
                      0.07964319847085058,
                      0.11526713265745928,
                      0.16874238704720498,
                      0.1481700803927815,
                      0.12222326330978395,
                      0.12210333002267487,
                      0.24804452523283926,
                      0.25084046998856885,
                      0.21116503944680773,
                      0.13858666116972435,
                      0.15504000899499654,
                      0.007046080617656408,
                      0.19202443640724845,
                      0.2987425744429661,
                      0.08917414688079757,
                      0.21118003110769637,
                      0.005655604070235937,
                      0.17689410265539793,
                      -0.025766917152334035,
                      0.15778348293761593,
                      0.20978580664505367,
                      0.08237542866780354,
                      0.153672019938909,
                      0.059123362629537296,
                      0.14269437625320916,
                      0.15093229391151175,
                      0.20842531341941048,
                      0.2850551880516463,
                      0.1426981241684313,
                      0.11393287483837114,
                      0.17011037610329255,
                      0.12758278207746937,
                      0.1604894777280138,
                      0.13719618462230382,
                      0.09897119727151774,
                      0.12621479302138183,
                      0.13312220077581843,
                      0.05638363660214005,
                      0.12214830500534074,
                      0.15913648033281486
                    ],
                    "coloraxis": "coloraxis",
                    "opacity": 1,
                    "size": [
                      0.148181324138448,
                      0.17691284223150872,
                      0.21118377902291852,
                      0.16460468864194291,
                      0.19200944474635986,
                      0.13308472162359686,
                      0.13034874351142176,
                      0.07034836871989952,
                      0.18792046923898578,
                      0.1248205685587392,
                      0.1303449955961996,
                      0.1236774544159811,
                      0.027539681052414583,
                      0.11114442591308582,
                      0.178273335457152,
                      0.11933736858872253,
                      0.12079530761014184,
                      0.31927365402994584,
                      0.07964319847085058,
                      0.11526713265745928,
                      0.16874238704720498,
                      0.1481700803927815,
                      0.12222326330978395,
                      0.12210333002267487,
                      0.24804452523283926,
                      0.25084046998856885,
                      0.21116503944680773,
                      0.13858666116972435,
                      0.15504000899499654,
                      0.007046080617656408,
                      0.19202443640724845,
                      0.2987425744429661,
                      0.08917414688079757,
                      0.21118003110769637,
                      0.005655604070235937,
                      0.17689410265539793,
                      0.025766917152334035,
                      0.15778348293761593,
                      0.20978580664505367,
                      0.08237542866780354,
                      0.153672019938909,
                      0.059123362629537296,
                      0.14269437625320916,
                      0.15093229391151175,
                      0.20842531341941048,
                      0.2850551880516463,
                      0.1426981241684313,
                      0.11393287483837114,
                      0.17011037610329255,
                      0.12758278207746937,
                      0.1604894777280138,
                      0.13719618462230382,
                      0.09897119727151774,
                      0.12621479302138183,
                      0.13312220077581843,
                      0.05638363660214005,
                      0.12214830500534074,
                      0.15913648033281486
                    ],
                    "sizemode": "area",
                    "sizeref": 0.0007981841350748646,
                    "symbol": "circle"
                  },
                  "mode": "markers",
                  "name": "",
                  "showlegend": false,
                  "type": "scattergeo"
                }
              ],
              "layout": {
                "coloraxis": {
                  "colorbar": {
                    "title": {
                      "text": "pct_ch_0"
                    }
                  },
                  "colorscale": [
                    [
                      0,
                      "rgb(3, 5, 18)"
                    ],
                    [
                      0.09090909090909091,
                      "rgb(25, 25, 51)"
                    ],
                    [
                      0.18181818181818182,
                      "rgb(44, 42, 87)"
                    ],
                    [
                      0.2727272727272727,
                      "rgb(58, 60, 125)"
                    ],
                    [
                      0.36363636363636365,
                      "rgb(62, 83, 160)"
                    ],
                    [
                      0.45454545454545453,
                      "rgb(62, 109, 178)"
                    ],
                    [
                      0.5454545454545454,
                      "rgb(72, 134, 187)"
                    ],
                    [
                      0.6363636363636364,
                      "rgb(89, 159, 196)"
                    ],
                    [
                      0.7272727272727273,
                      "rgb(114, 184, 205)"
                    ],
                    [
                      0.8181818181818182,
                      "rgb(149, 207, 216)"
                    ],
                    [
                      0.9090909090909091,
                      "rgb(192, 229, 232)"
                    ],
                    [
                      1,
                      "rgb(234, 252, 253)"
                    ]
                  ]
                },
                "geo": {
                  "center": {
                    "lat": 37.83800610344828,
                    "lon": -120.74952093103452
                  },
                  "domain": {
                    "x": [
                      0,
                      1
                    ],
                    "y": [
                      0,
                      1
                    ]
                  },
                  "landcolor": "thistle",
                  "lataxis": {
                    "range": [
                      42.749903,
                      31.023604
                    ]
                  },
                  "lonaxis": {
                    "range": [
                      -114.355395,
                      -125.980998
                    ]
                  },
                  "resolution": 50,
                  "scope": "usa",
                  "showland": true,
                  "showsubunits": true,
                  "subunitcolor": "black",
                  "subunitwidth": 1.5
                },
                "height": 1080,
                "legend": {
                  "itemsizing": "constant",
                  "tracegroupgap": 0
                },
                "margin": {
                  "t": 60
                },
                "template": {
                  "data": {
                    "bar": [
                      {
                        "error_x": {
                          "color": "#2a3f5f"
                        },
                        "error_y": {
                          "color": "#2a3f5f"
                        },
                        "marker": {
                          "line": {
                            "color": "#E5ECF6",
                            "width": 0.5
                          }
                        },
                        "type": "bar"
                      }
                    ],
                    "barpolar": [
                      {
                        "marker": {
                          "line": {
                            "color": "#E5ECF6",
                            "width": 0.5
                          }
                        },
                        "type": "barpolar"
                      }
                    ],
                    "carpet": [
                      {
                        "aaxis": {
                          "endlinecolor": "#2a3f5f",
                          "gridcolor": "white",
                          "linecolor": "white",
                          "minorgridcolor": "white",
                          "startlinecolor": "#2a3f5f"
                        },
                        "baxis": {
                          "endlinecolor": "#2a3f5f",
                          "gridcolor": "white",
                          "linecolor": "white",
                          "minorgridcolor": "white",
                          "startlinecolor": "#2a3f5f"
                        },
                        "type": "carpet"
                      }
                    ],
                    "choropleth": [
                      {
                        "colorbar": {
                          "outlinewidth": 0,
                          "ticks": ""
                        },
                        "type": "choropleth"
                      }
                    ],
                    "contour": [
                      {
                        "colorbar": {
                          "outlinewidth": 0,
                          "ticks": ""
                        },
                        "colorscale": [
                          [
                            0,
                            "#0d0887"
                          ],
                          [
                            0.1111111111111111,
                            "#46039f"
                          ],
                          [
                            0.2222222222222222,
                            "#7201a8"
                          ],
                          [
                            0.3333333333333333,
                            "#9c179e"
                          ],
                          [
                            0.4444444444444444,
                            "#bd3786"
                          ],
                          [
                            0.5555555555555556,
                            "#d8576b"
                          ],
                          [
                            0.6666666666666666,
                            "#ed7953"
                          ],
                          [
                            0.7777777777777778,
                            "#fb9f3a"
                          ],
                          [
                            0.8888888888888888,
                            "#fdca26"
                          ],
                          [
                            1,
                            "#f0f921"
                          ]
                        ],
                        "type": "contour"
                      }
                    ],
                    "contourcarpet": [
                      {
                        "colorbar": {
                          "outlinewidth": 0,
                          "ticks": ""
                        },
                        "type": "contourcarpet"
                      }
                    ],
                    "heatmap": [
                      {
                        "colorbar": {
                          "outlinewidth": 0,
                          "ticks": ""
                        },
                        "colorscale": [
                          [
                            0,
                            "#0d0887"
                          ],
                          [
                            0.1111111111111111,
                            "#46039f"
                          ],
                          [
                            0.2222222222222222,
                            "#7201a8"
                          ],
                          [
                            0.3333333333333333,
                            "#9c179e"
                          ],
                          [
                            0.4444444444444444,
                            "#bd3786"
                          ],
                          [
                            0.5555555555555556,
                            "#d8576b"
                          ],
                          [
                            0.6666666666666666,
                            "#ed7953"
                          ],
                          [
                            0.7777777777777778,
                            "#fb9f3a"
                          ],
                          [
                            0.8888888888888888,
                            "#fdca26"
                          ],
                          [
                            1,
                            "#f0f921"
                          ]
                        ],
                        "type": "heatmap"
                      }
                    ],
                    "heatmapgl": [
                      {
                        "colorbar": {
                          "outlinewidth": 0,
                          "ticks": ""
                        },
                        "colorscale": [
                          [
                            0,
                            "#0d0887"
                          ],
                          [
                            0.1111111111111111,
                            "#46039f"
                          ],
                          [
                            0.2222222222222222,
                            "#7201a8"
                          ],
                          [
                            0.3333333333333333,
                            "#9c179e"
                          ],
                          [
                            0.4444444444444444,
                            "#bd3786"
                          ],
                          [
                            0.5555555555555556,
                            "#d8576b"
                          ],
                          [
                            0.6666666666666666,
                            "#ed7953"
                          ],
                          [
                            0.7777777777777778,
                            "#fb9f3a"
                          ],
                          [
                            0.8888888888888888,
                            "#fdca26"
                          ],
                          [
                            1,
                            "#f0f921"
                          ]
                        ],
                        "type": "heatmapgl"
                      }
                    ],
                    "histogram": [
                      {
                        "marker": {
                          "colorbar": {
                            "outlinewidth": 0,
                            "ticks": ""
                          }
                        },
                        "type": "histogram"
                      }
                    ],
                    "histogram2d": [
                      {
                        "colorbar": {
                          "outlinewidth": 0,
                          "ticks": ""
                        },
                        "colorscale": [
                          [
                            0,
                            "#0d0887"
                          ],
                          [
                            0.1111111111111111,
                            "#46039f"
                          ],
                          [
                            0.2222222222222222,
                            "#7201a8"
                          ],
                          [
                            0.3333333333333333,
                            "#9c179e"
                          ],
                          [
                            0.4444444444444444,
                            "#bd3786"
                          ],
                          [
                            0.5555555555555556,
                            "#d8576b"
                          ],
                          [
                            0.6666666666666666,
                            "#ed7953"
                          ],
                          [
                            0.7777777777777778,
                            "#fb9f3a"
                          ],
                          [
                            0.8888888888888888,
                            "#fdca26"
                          ],
                          [
                            1,
                            "#f0f921"
                          ]
                        ],
                        "type": "histogram2d"
                      }
                    ],
                    "histogram2dcontour": [
                      {
                        "colorbar": {
                          "outlinewidth": 0,
                          "ticks": ""
                        },
                        "colorscale": [
                          [
                            0,
                            "#0d0887"
                          ],
                          [
                            0.1111111111111111,
                            "#46039f"
                          ],
                          [
                            0.2222222222222222,
                            "#7201a8"
                          ],
                          [
                            0.3333333333333333,
                            "#9c179e"
                          ],
                          [
                            0.4444444444444444,
                            "#bd3786"
                          ],
                          [
                            0.5555555555555556,
                            "#d8576b"
                          ],
                          [
                            0.6666666666666666,
                            "#ed7953"
                          ],
                          [
                            0.7777777777777778,
                            "#fb9f3a"
                          ],
                          [
                            0.8888888888888888,
                            "#fdca26"
                          ],
                          [
                            1,
                            "#f0f921"
                          ]
                        ],
                        "type": "histogram2dcontour"
                      }
                    ],
                    "mesh3d": [
                      {
                        "colorbar": {
                          "outlinewidth": 0,
                          "ticks": ""
                        },
                        "type": "mesh3d"
                      }
                    ],
                    "parcoords": [
                      {
                        "line": {
                          "colorbar": {
                            "outlinewidth": 0,
                            "ticks": ""
                          }
                        },
                        "type": "parcoords"
                      }
                    ],
                    "pie": [
                      {
                        "automargin": true,
                        "type": "pie"
                      }
                    ],
                    "scatter": [
                      {
                        "marker": {
                          "colorbar": {
                            "outlinewidth": 0,
                            "ticks": ""
                          }
                        },
                        "type": "scatter"
                      }
                    ],
                    "scatter3d": [
                      {
                        "line": {
                          "colorbar": {
                            "outlinewidth": 0,
                            "ticks": ""
                          }
                        },
                        "marker": {
                          "colorbar": {
                            "outlinewidth": 0,
                            "ticks": ""
                          }
                        },
                        "type": "scatter3d"
                      }
                    ],
                    "scattercarpet": [
                      {
                        "marker": {
                          "colorbar": {
                            "outlinewidth": 0,
                            "ticks": ""
                          }
                        },
                        "type": "scattercarpet"
                      }
                    ],
                    "scattergeo": [
                      {
                        "marker": {
                          "colorbar": {
                            "outlinewidth": 0,
                            "ticks": ""
                          }
                        },
                        "type": "scattergeo"
                      }
                    ],
                    "scattergl": [
                      {
                        "marker": {
                          "colorbar": {
                            "outlinewidth": 0,
                            "ticks": ""
                          }
                        },
                        "type": "scattergl"
                      }
                    ],
                    "scattermapbox": [
                      {
                        "marker": {
                          "colorbar": {
                            "outlinewidth": 0,
                            "ticks": ""
                          }
                        },
                        "type": "scattermapbox"
                      }
                    ],
                    "scatterpolar": [
                      {
                        "marker": {
                          "colorbar": {
                            "outlinewidth": 0,
                            "ticks": ""
                          }
                        },
                        "type": "scatterpolar"
                      }
                    ],
                    "scatterpolargl": [
                      {
                        "marker": {
                          "colorbar": {
                            "outlinewidth": 0,
                            "ticks": ""
                          }
                        },
                        "type": "scatterpolargl"
                      }
                    ],
                    "scatterternary": [
                      {
                        "marker": {
                          "colorbar": {
                            "outlinewidth": 0,
                            "ticks": ""
                          }
                        },
                        "type": "scatterternary"
                      }
                    ],
                    "surface": [
                      {
                        "colorbar": {
                          "outlinewidth": 0,
                          "ticks": ""
                        },
                        "colorscale": [
                          [
                            0,
                            "#0d0887"
                          ],
                          [
                            0.1111111111111111,
                            "#46039f"
                          ],
                          [
                            0.2222222222222222,
                            "#7201a8"
                          ],
                          [
                            0.3333333333333333,
                            "#9c179e"
                          ],
                          [
                            0.4444444444444444,
                            "#bd3786"
                          ],
                          [
                            0.5555555555555556,
                            "#d8576b"
                          ],
                          [
                            0.6666666666666666,
                            "#ed7953"
                          ],
                          [
                            0.7777777777777778,
                            "#fb9f3a"
                          ],
                          [
                            0.8888888888888888,
                            "#fdca26"
                          ],
                          [
                            1,
                            "#f0f921"
                          ]
                        ],
                        "type": "surface"
                      }
                    ],
                    "table": [
                      {
                        "cells": {
                          "fill": {
                            "color": "#EBF0F8"
                          },
                          "line": {
                            "color": "white"
                          }
                        },
                        "header": {
                          "fill": {
                            "color": "#C8D4E3"
                          },
                          "line": {
                            "color": "white"
                          }
                        },
                        "type": "table"
                      }
                    ]
                  },
                  "layout": {
                    "annotationdefaults": {
                      "arrowcolor": "#2a3f5f",
                      "arrowhead": 0,
                      "arrowwidth": 1
                    },
                    "autotypenumbers": "strict",
                    "coloraxis": {
                      "colorbar": {
                        "outlinewidth": 0,
                        "ticks": ""
                      }
                    },
                    "colorscale": {
                      "diverging": [
                        [
                          0,
                          "#8e0152"
                        ],
                        [
                          0.1,
                          "#c51b7d"
                        ],
                        [
                          0.2,
                          "#de77ae"
                        ],
                        [
                          0.3,
                          "#f1b6da"
                        ],
                        [
                          0.4,
                          "#fde0ef"
                        ],
                        [
                          0.5,
                          "#f7f7f7"
                        ],
                        [
                          0.6,
                          "#e6f5d0"
                        ],
                        [
                          0.7,
                          "#b8e186"
                        ],
                        [
                          0.8,
                          "#7fbc41"
                        ],
                        [
                          0.9,
                          "#4d9221"
                        ],
                        [
                          1,
                          "#276419"
                        ]
                      ],
                      "sequential": [
                        [
                          0,
                          "#0d0887"
                        ],
                        [
                          0.1111111111111111,
                          "#46039f"
                        ],
                        [
                          0.2222222222222222,
                          "#7201a8"
                        ],
                        [
                          0.3333333333333333,
                          "#9c179e"
                        ],
                        [
                          0.4444444444444444,
                          "#bd3786"
                        ],
                        [
                          0.5555555555555556,
                          "#d8576b"
                        ],
                        [
                          0.6666666666666666,
                          "#ed7953"
                        ],
                        [
                          0.7777777777777778,
                          "#fb9f3a"
                        ],
                        [
                          0.8888888888888888,
                          "#fdca26"
                        ],
                        [
                          1,
                          "#f0f921"
                        ]
                      ],
                      "sequentialminus": [
                        [
                          0,
                          "#0d0887"
                        ],
                        [
                          0.1111111111111111,
                          "#46039f"
                        ],
                        [
                          0.2222222222222222,
                          "#7201a8"
                        ],
                        [
                          0.3333333333333333,
                          "#9c179e"
                        ],
                        [
                          0.4444444444444444,
                          "#bd3786"
                        ],
                        [
                          0.5555555555555556,
                          "#d8576b"
                        ],
                        [
                          0.6666666666666666,
                          "#ed7953"
                        ],
                        [
                          0.7777777777777778,
                          "#fb9f3a"
                        ],
                        [
                          0.8888888888888888,
                          "#fdca26"
                        ],
                        [
                          1,
                          "#f0f921"
                        ]
                      ]
                    },
                    "colorway": [
                      "#636efa",
                      "#EF553B",
                      "#00cc96",
                      "#ab63fa",
                      "#FFA15A",
                      "#19d3f3",
                      "#FF6692",
                      "#B6E880",
                      "#FF97FF",
                      "#FECB52"
                    ],
                    "font": {
                      "color": "#2a3f5f"
                    },
                    "geo": {
                      "bgcolor": "white",
                      "lakecolor": "white",
                      "landcolor": "#E5ECF6",
                      "showlakes": true,
                      "showland": true,
                      "subunitcolor": "white"
                    },
                    "hoverlabel": {
                      "align": "left"
                    },
                    "hovermode": "closest",
                    "mapbox": {
                      "style": "light"
                    },
                    "paper_bgcolor": "white",
                    "plot_bgcolor": "#E5ECF6",
                    "polar": {
                      "angularaxis": {
                        "gridcolor": "white",
                        "linecolor": "white",
                        "ticks": ""
                      },
                      "bgcolor": "#E5ECF6",
                      "radialaxis": {
                        "gridcolor": "white",
                        "linecolor": "white",
                        "ticks": ""
                      }
                    },
                    "scene": {
                      "xaxis": {
                        "backgroundcolor": "#E5ECF6",
                        "gridcolor": "white",
                        "gridwidth": 2,
                        "linecolor": "white",
                        "showbackground": true,
                        "ticks": "",
                        "zerolinecolor": "white"
                      },
                      "yaxis": {
                        "backgroundcolor": "#E5ECF6",
                        "gridcolor": "white",
                        "gridwidth": 2,
                        "linecolor": "white",
                        "showbackground": true,
                        "ticks": "",
                        "zerolinecolor": "white"
                      },
                      "zaxis": {
                        "backgroundcolor": "#E5ECF6",
                        "gridcolor": "white",
                        "gridwidth": 2,
                        "linecolor": "white",
                        "showbackground": true,
                        "ticks": "",
                        "zerolinecolor": "white"
                      }
                    },
                    "shapedefaults": {
                      "line": {
                        "color": "#2a3f5f"
                      }
                    },
                    "ternary": {
                      "aaxis": {
                        "gridcolor": "white",
                        "linecolor": "white",
                        "ticks": ""
                      },
                      "baxis": {
                        "gridcolor": "white",
                        "linecolor": "white",
                        "ticks": ""
                      },
                      "bgcolor": "#E5ECF6",
                      "caxis": {
                        "gridcolor": "white",
                        "linecolor": "white",
                        "ticks": ""
                      }
                    },
                    "title": {
                      "x": 0.05
                    },
                    "xaxis": {
                      "automargin": true,
                      "gridcolor": "white",
                      "linecolor": "white",
                      "ticks": "",
                      "title": {
                        "standoff": 15
                      },
                      "zerolinecolor": "white",
                      "zerolinewidth": 2
                    },
                    "yaxis": {
                      "automargin": true,
                      "gridcolor": "white",
                      "linecolor": "white",
                      "ticks": "",
                      "title": {
                        "standoff": 15
                      },
                      "zerolinecolor": "white",
                      "zerolinewidth": 2
                    }
                  }
                },
                "width": 1080
              }
            },
            "text/html": [
              "<div>                            <div id=\"c8cc9a4b-76d5-4d7c-bec0-ea3e4fd908aa\" class=\"plotly-graph-div\" style=\"height:1080px; width:1080px;\"></div>            <script type=\"text/javascript\">                require([\"plotly\"], function(Plotly) {                    window.PLOTLYENV=window.PLOTLYENV || {};                                    if (document.getElementById(\"c8cc9a4b-76d5-4d7c-bec0-ea3e4fd908aa\")) {                    Plotly.newPlot(                        \"c8cc9a4b-76d5-4d7c-bec0-ea3e4fd908aa\",                        [{\"customdata\": [[6001, \"CA\", 0.148181324138448], [6003, \"CA\", 0.17691284223150872], [6005, \"CA\", 0.21118377902291852], [6007, \"CA\", 0.16460468864194291], [6009, \"CA\", 0.19200944474635986], [6011, \"CA\", 0.13308472162359686], [6013, \"CA\", 0.13034874351142176], [6015, \"CA\", 0.07034836871989952], [6017, \"CA\", 0.18792046923898578], [6019, \"CA\", 0.1248205685587392], [6021, \"CA\", 0.1303449955961996], [6023, \"CA\", 0.1236774544159811], [6025, \"CA\", 0.027539681052414583], [6027, \"CA\", 0.11114442591308582], [6029, \"CA\", 0.178273335457152], [6031, \"CA\", 0.11933736858872253], [6033, \"CA\", 0.12079530761014184], [6035, \"CA\", 0.31927365402994584], [6037, \"CA\", 0.07964319847085058], [6039, \"CA\", 0.11526713265745928], [6041, \"CA\", 0.16874238704720498], [6043, \"CA\", 0.1481700803927815], [6045, \"CA\", 0.12222326330978395], [6047, \"CA\", 0.12210333002267487], [6049, \"CA\", 0.24804452523283926], [6051, \"CA\", 0.25084046998856885], [6053, \"CA\", 0.21116503944680773], [6055, \"CA\", 0.13858666116972435], [6057, \"CA\", 0.15504000899499654], [6059, \"CA\", 0.007046080617656408], [6061, \"CA\", 0.19202443640724845], [6063, \"CA\", 0.2987425744429661], [6065, \"CA\", 0.08917414688079757], [6067, \"CA\", 0.21118003110769637], [6069, \"CA\", 0.005655604070235937], [6071, \"CA\", 0.17689410265539793], [6073, \"CA\", -0.025766917152334035], [6075, \"CA\", 0.15778348293761593], [6077, \"CA\", 0.20978580664505367], [6079, \"CA\", 0.08237542866780354], [6081, \"CA\", 0.153672019938909], [6083, \"CA\", 0.059123362629537296], [6085, \"CA\", 0.14269437625320916], [6087, \"CA\", 0.15093229391151175], [6089, \"CA\", 0.20842531341941048], [6091, \"CA\", 0.2850551880516463], [6093, \"CA\", 0.1426981241684313], [6095, \"CA\", 0.11393287483837114], [6097, \"CA\", 0.17011037610329255], [6099, \"CA\", 0.12758278207746937], [6101, \"CA\", 0.1604894777280138], [6103, \"CA\", 0.13719618462230382], [6105, \"CA\", 0.09897119727151774], [6107, \"CA\", 0.12621479302138183], [6109, \"CA\", 0.13312220077581843], [6111, \"CA\", 0.05638363660214005], [6113, \"CA\", 0.12214830500534074], [6115, \"CA\", 0.15913648033281486]], \"geo\": \"geo\", \"hovertemplate\": \"<b>%{hovertext}</b><br><br>size_0=%{marker.size}<br>lat=%{lat}<br>lon=%{lon}<br>fips=%{customdata[0]}<br>State=%{customdata[1]}<br>pct_ch_0=%{marker.color}<extra></extra>\", \"hovertext\": [\"Alameda\", \"Alpine\", \"Amador\", \"Butte\", \"Calaveras\", \"Colusa\", \"Contra Costa\", \"Del Norte\", \"El Dorado\", \"Fresno\", \"Glenn\", \"Humboldt\", \"Imperial\", \"Inyo\", \"Kern\", \"Kings\", \"Lake\", \"Lassen\", \"Los Angeles\", \"Madera\", \"Marin\", \"Mariposa\", \"Mendocino\", \"Merced\", \"Modoc\", \"Mono\", \"Monterey\", \"Napa\", \"Nevada\", \"Orange\", \"Placer\", \"Plumas\", \"Riverside\", \"Sacramento\", \"San Benito\", \"San Bernardino\", \"San Diego\", \"San Francisco\", \"San Joaquin\", \"San Luis Obispo\", \"San Mateo\", \"Santa Barbara\", \"Santa Clara\", \"Santa Cruz\", \"Shasta\", \"Sierra\", \"Siskiyou\", \"Solano\", \"Sonoma\", \"Stanislaus\", \"Sutter\", \"Tehama\", \"Trinity\", \"Tulare\", \"Tuolumne\", \"Ventura\", \"Yolo\", \"Yuba\"], \"lat\": [37.648081, 38.61761, 38.44355, 39.665959, 38.187844, 39.177739, 37.919478999999995, 41.749903, 38.785532, 36.761006, 39.602546000000004, 40.706672999999995, 33.040816, 36.561977, 35.346629, 36.072478000000004, 39.094802, 40.721089, 34.196397999999995, 37.210039, 38.051817, 37.570034, 39.432388, 37.194806, 41.592919, 37.915836, 36.240107, 38.507351, 39.295190999999996, 33.675686999999996, 39.062032, 39.99517, 33.729828000000005, 38.450010999999996, 36.610702, 34.85722, 33.023604, 37.727239000000004, 37.935034, 35.385227, 37.414664, 34.537378000000004, 37.220777000000005, 37.012488, 40.760521999999995, 39.576925, 41.587986, 38.267226, 38.532574, 37.562384, 39.035257, 40.126156, 40.647724, 36.230453000000004, 38.021451, 34.358742, 38.679268, 39.270026], \"legendgroup\": \"\", \"lon\": [-121.91330400000001, -119.798999, -120.653856, -121.601919, -120.55511499999999, -122.237563, -121.95154299999999, -123.980998, -120.534398, -119.655019, -122.4017, -123.92581799999999, -115.355395, -117.403927, -118.729506, -119.81553000000001, -122.746757, -120.629931, -118.26186200000001, -119.749852, -122.745974, -119.91286000000001, -123.442881, -120.722802, -120.71837, -118.87516699999999, -121.315573, -122.32599499999999, -120.77344599999999, -117.777207, -120.722718, -120.829516, -116.00223899999999, -121.340441, -121.085296, -116.181197, -116.776117, -123.032229, -121.27223700000002, -120.44753999999999, -122.37154199999999, -120.03848500000001, -121.69062199999999, -122.007205, -122.04355, -120.521993, -122.53328700000002, -121.939594, -122.945194, -121.002656, -121.702758, -122.232276, -123.11440400000001, -118.780542, -119.964708, -119.13314299999999, -121.903178, -121.34428], \"marker\": {\"color\": [0.148181324138448, 0.17691284223150872, 0.21118377902291852, 0.16460468864194291, 0.19200944474635986, 0.13308472162359686, 0.13034874351142176, 0.07034836871989952, 0.18792046923898578, 0.1248205685587392, 0.1303449955961996, 0.1236774544159811, 0.027539681052414583, 0.11114442591308582, 0.178273335457152, 0.11933736858872253, 0.12079530761014184, 0.31927365402994584, 0.07964319847085058, 0.11526713265745928, 0.16874238704720498, 0.1481700803927815, 0.12222326330978395, 0.12210333002267487, 0.24804452523283926, 0.25084046998856885, 0.21116503944680773, 0.13858666116972435, 0.15504000899499654, 0.007046080617656408, 0.19202443640724845, 0.2987425744429661, 0.08917414688079757, 0.21118003110769637, 0.005655604070235937, 0.17689410265539793, -0.025766917152334035, 0.15778348293761593, 0.20978580664505367, 0.08237542866780354, 0.153672019938909, 0.059123362629537296, 0.14269437625320916, 0.15093229391151175, 0.20842531341941048, 0.2850551880516463, 0.1426981241684313, 0.11393287483837114, 0.17011037610329255, 0.12758278207746937, 0.1604894777280138, 0.13719618462230382, 0.09897119727151774, 0.12621479302138183, 0.13312220077581843, 0.05638363660214005, 0.12214830500534074, 0.15913648033281486], \"coloraxis\": \"coloraxis\", \"opacity\": 1, \"size\": [0.148181324138448, 0.17691284223150872, 0.21118377902291852, 0.16460468864194291, 0.19200944474635986, 0.13308472162359686, 0.13034874351142176, 0.07034836871989952, 0.18792046923898578, 0.1248205685587392, 0.1303449955961996, 0.1236774544159811, 0.027539681052414583, 0.11114442591308582, 0.178273335457152, 0.11933736858872253, 0.12079530761014184, 0.31927365402994584, 0.07964319847085058, 0.11526713265745928, 0.16874238704720498, 0.1481700803927815, 0.12222326330978395, 0.12210333002267487, 0.24804452523283926, 0.25084046998856885, 0.21116503944680773, 0.13858666116972435, 0.15504000899499654, 0.007046080617656408, 0.19202443640724845, 0.2987425744429661, 0.08917414688079757, 0.21118003110769637, 0.005655604070235937, 0.17689410265539793, 0.025766917152334035, 0.15778348293761593, 0.20978580664505367, 0.08237542866780354, 0.153672019938909, 0.059123362629537296, 0.14269437625320916, 0.15093229391151175, 0.20842531341941048, 0.2850551880516463, 0.1426981241684313, 0.11393287483837114, 0.17011037610329255, 0.12758278207746937, 0.1604894777280138, 0.13719618462230382, 0.09897119727151774, 0.12621479302138183, 0.13312220077581843, 0.05638363660214005, 0.12214830500534074, 0.15913648033281486], \"sizemode\": \"area\", \"sizeref\": 0.0007981841350748646, \"symbol\": \"circle\"}, \"mode\": \"markers\", \"name\": \"\", \"showlegend\": false, \"type\": \"scattergeo\"}],                        {\"coloraxis\": {\"colorbar\": {\"title\": {\"text\": \"pct_ch_0\"}}, \"colorscale\": [[0.0, \"rgb(3, 5, 18)\"], [0.09090909090909091, \"rgb(25, 25, 51)\"], [0.18181818181818182, \"rgb(44, 42, 87)\"], [0.2727272727272727, \"rgb(58, 60, 125)\"], [0.36363636363636365, \"rgb(62, 83, 160)\"], [0.45454545454545453, \"rgb(62, 109, 178)\"], [0.5454545454545454, \"rgb(72, 134, 187)\"], [0.6363636363636364, \"rgb(89, 159, 196)\"], [0.7272727272727273, \"rgb(114, 184, 205)\"], [0.8181818181818182, \"rgb(149, 207, 216)\"], [0.9090909090909091, \"rgb(192, 229, 232)\"], [1.0, \"rgb(234, 252, 253)\"]]}, \"geo\": {\"center\": {\"lat\": 37.83800610344828, \"lon\": -120.74952093103452}, \"domain\": {\"x\": [0.0, 1.0], \"y\": [0.0, 1.0]}, \"landcolor\": \"thistle\", \"lataxis\": {\"range\": [42.749903, 31.023604]}, \"lonaxis\": {\"range\": [-114.355395, -125.980998]}, \"resolution\": 50, \"scope\": \"usa\", \"showland\": true, \"showsubunits\": true, \"subunitcolor\": \"black\", \"subunitwidth\": 1.5}, \"height\": 1080, \"legend\": {\"itemsizing\": \"constant\", \"tracegroupgap\": 0}, \"margin\": {\"t\": 60}, \"template\": {\"data\": {\"bar\": [{\"error_x\": {\"color\": \"#2a3f5f\"}, \"error_y\": {\"color\": \"#2a3f5f\"}, \"marker\": {\"line\": {\"color\": \"#E5ECF6\", \"width\": 0.5}}, \"type\": \"bar\"}], \"barpolar\": [{\"marker\": {\"line\": {\"color\": \"#E5ECF6\", \"width\": 0.5}}, \"type\": \"barpolar\"}], \"carpet\": [{\"aaxis\": {\"endlinecolor\": \"#2a3f5f\", \"gridcolor\": \"white\", \"linecolor\": \"white\", \"minorgridcolor\": \"white\", \"startlinecolor\": \"#2a3f5f\"}, \"baxis\": {\"endlinecolor\": \"#2a3f5f\", \"gridcolor\": \"white\", \"linecolor\": \"white\", \"minorgridcolor\": \"white\", \"startlinecolor\": \"#2a3f5f\"}, \"type\": \"carpet\"}], \"choropleth\": [{\"colorbar\": {\"outlinewidth\": 0, \"ticks\": \"\"}, \"type\": \"choropleth\"}], \"contour\": [{\"colorbar\": {\"outlinewidth\": 0, \"ticks\": \"\"}, \"colorscale\": [[0.0, \"#0d0887\"], [0.1111111111111111, \"#46039f\"], [0.2222222222222222, \"#7201a8\"], [0.3333333333333333, \"#9c179e\"], [0.4444444444444444, \"#bd3786\"], [0.5555555555555556, \"#d8576b\"], [0.6666666666666666, \"#ed7953\"], [0.7777777777777778, \"#fb9f3a\"], [0.8888888888888888, \"#fdca26\"], [1.0, \"#f0f921\"]], \"type\": \"contour\"}], \"contourcarpet\": [{\"colorbar\": {\"outlinewidth\": 0, \"ticks\": \"\"}, \"type\": \"contourcarpet\"}], \"heatmap\": [{\"colorbar\": {\"outlinewidth\": 0, \"ticks\": \"\"}, \"colorscale\": [[0.0, \"#0d0887\"], [0.1111111111111111, \"#46039f\"], [0.2222222222222222, \"#7201a8\"], [0.3333333333333333, \"#9c179e\"], [0.4444444444444444, \"#bd3786\"], [0.5555555555555556, \"#d8576b\"], [0.6666666666666666, \"#ed7953\"], [0.7777777777777778, \"#fb9f3a\"], [0.8888888888888888, \"#fdca26\"], [1.0, \"#f0f921\"]], \"type\": \"heatmap\"}], \"heatmapgl\": [{\"colorbar\": {\"outlinewidth\": 0, \"ticks\": \"\"}, \"colorscale\": [[0.0, \"#0d0887\"], [0.1111111111111111, \"#46039f\"], [0.2222222222222222, \"#7201a8\"], [0.3333333333333333, \"#9c179e\"], [0.4444444444444444, \"#bd3786\"], [0.5555555555555556, \"#d8576b\"], [0.6666666666666666, \"#ed7953\"], [0.7777777777777778, \"#fb9f3a\"], [0.8888888888888888, \"#fdca26\"], [1.0, \"#f0f921\"]], \"type\": \"heatmapgl\"}], \"histogram\": [{\"marker\": {\"colorbar\": {\"outlinewidth\": 0, \"ticks\": \"\"}}, \"type\": \"histogram\"}], \"histogram2d\": [{\"colorbar\": {\"outlinewidth\": 0, \"ticks\": \"\"}, \"colorscale\": [[0.0, \"#0d0887\"], [0.1111111111111111, \"#46039f\"], [0.2222222222222222, \"#7201a8\"], [0.3333333333333333, \"#9c179e\"], [0.4444444444444444, \"#bd3786\"], [0.5555555555555556, \"#d8576b\"], [0.6666666666666666, \"#ed7953\"], [0.7777777777777778, \"#fb9f3a\"], [0.8888888888888888, \"#fdca26\"], [1.0, \"#f0f921\"]], \"type\": \"histogram2d\"}], \"histogram2dcontour\": [{\"colorbar\": {\"outlinewidth\": 0, \"ticks\": \"\"}, \"colorscale\": [[0.0, \"#0d0887\"], [0.1111111111111111, \"#46039f\"], [0.2222222222222222, \"#7201a8\"], [0.3333333333333333, \"#9c179e\"], [0.4444444444444444, \"#bd3786\"], [0.5555555555555556, \"#d8576b\"], [0.6666666666666666, \"#ed7953\"], [0.7777777777777778, \"#fb9f3a\"], [0.8888888888888888, \"#fdca26\"], [1.0, \"#f0f921\"]], \"type\": \"histogram2dcontour\"}], \"mesh3d\": [{\"colorbar\": {\"outlinewidth\": 0, \"ticks\": \"\"}, \"type\": \"mesh3d\"}], \"parcoords\": [{\"line\": {\"colorbar\": {\"outlinewidth\": 0, \"ticks\": \"\"}}, \"type\": \"parcoords\"}], \"pie\": [{\"automargin\": true, \"type\": \"pie\"}], \"scatter\": [{\"marker\": {\"colorbar\": {\"outlinewidth\": 0, \"ticks\": \"\"}}, \"type\": \"scatter\"}], \"scatter3d\": [{\"line\": {\"colorbar\": {\"outlinewidth\": 0, \"ticks\": \"\"}}, \"marker\": {\"colorbar\": {\"outlinewidth\": 0, \"ticks\": \"\"}}, \"type\": \"scatter3d\"}], \"scattercarpet\": [{\"marker\": {\"colorbar\": {\"outlinewidth\": 0, \"ticks\": \"\"}}, \"type\": \"scattercarpet\"}], \"scattergeo\": [{\"marker\": {\"colorbar\": {\"outlinewidth\": 0, \"ticks\": \"\"}}, \"type\": \"scattergeo\"}], \"scattergl\": [{\"marker\": {\"colorbar\": {\"outlinewidth\": 0, \"ticks\": \"\"}}, \"type\": \"scattergl\"}], \"scattermapbox\": [{\"marker\": {\"colorbar\": {\"outlinewidth\": 0, \"ticks\": \"\"}}, \"type\": \"scattermapbox\"}], \"scatterpolar\": [{\"marker\": {\"colorbar\": {\"outlinewidth\": 0, \"ticks\": \"\"}}, \"type\": \"scatterpolar\"}], \"scatterpolargl\": [{\"marker\": {\"colorbar\": {\"outlinewidth\": 0, \"ticks\": \"\"}}, \"type\": \"scatterpolargl\"}], \"scatterternary\": [{\"marker\": {\"colorbar\": {\"outlinewidth\": 0, \"ticks\": \"\"}}, \"type\": \"scatterternary\"}], \"surface\": [{\"colorbar\": {\"outlinewidth\": 0, \"ticks\": \"\"}, \"colorscale\": [[0.0, \"#0d0887\"], [0.1111111111111111, \"#46039f\"], [0.2222222222222222, \"#7201a8\"], [0.3333333333333333, \"#9c179e\"], [0.4444444444444444, \"#bd3786\"], [0.5555555555555556, \"#d8576b\"], [0.6666666666666666, \"#ed7953\"], [0.7777777777777778, \"#fb9f3a\"], [0.8888888888888888, \"#fdca26\"], [1.0, \"#f0f921\"]], \"type\": \"surface\"}], \"table\": [{\"cells\": {\"fill\": {\"color\": \"#EBF0F8\"}, \"line\": {\"color\": \"white\"}}, \"header\": {\"fill\": {\"color\": \"#C8D4E3\"}, \"line\": {\"color\": \"white\"}}, \"type\": \"table\"}]}, \"layout\": {\"annotationdefaults\": {\"arrowcolor\": \"#2a3f5f\", \"arrowhead\": 0, \"arrowwidth\": 1}, \"autotypenumbers\": \"strict\", \"coloraxis\": {\"colorbar\": {\"outlinewidth\": 0, \"ticks\": \"\"}}, \"colorscale\": {\"diverging\": [[0, \"#8e0152\"], [0.1, \"#c51b7d\"], [0.2, \"#de77ae\"], [0.3, \"#f1b6da\"], [0.4, \"#fde0ef\"], [0.5, \"#f7f7f7\"], [0.6, \"#e6f5d0\"], [0.7, \"#b8e186\"], [0.8, \"#7fbc41\"], [0.9, \"#4d9221\"], [1, \"#276419\"]], \"sequential\": [[0.0, \"#0d0887\"], [0.1111111111111111, \"#46039f\"], [0.2222222222222222, \"#7201a8\"], [0.3333333333333333, \"#9c179e\"], [0.4444444444444444, \"#bd3786\"], [0.5555555555555556, \"#d8576b\"], [0.6666666666666666, \"#ed7953\"], [0.7777777777777778, \"#fb9f3a\"], [0.8888888888888888, \"#fdca26\"], [1.0, \"#f0f921\"]], \"sequentialminus\": [[0.0, \"#0d0887\"], [0.1111111111111111, \"#46039f\"], [0.2222222222222222, \"#7201a8\"], [0.3333333333333333, \"#9c179e\"], [0.4444444444444444, \"#bd3786\"], [0.5555555555555556, \"#d8576b\"], [0.6666666666666666, \"#ed7953\"], [0.7777777777777778, \"#fb9f3a\"], [0.8888888888888888, \"#fdca26\"], [1.0, \"#f0f921\"]]}, \"colorway\": [\"#636efa\", \"#EF553B\", \"#00cc96\", \"#ab63fa\", \"#FFA15A\", \"#19d3f3\", \"#FF6692\", \"#B6E880\", \"#FF97FF\", \"#FECB52\"], \"font\": {\"color\": \"#2a3f5f\"}, \"geo\": {\"bgcolor\": \"white\", \"lakecolor\": \"white\", \"landcolor\": \"#E5ECF6\", \"showlakes\": true, \"showland\": true, \"subunitcolor\": \"white\"}, \"hoverlabel\": {\"align\": \"left\"}, \"hovermode\": \"closest\", \"mapbox\": {\"style\": \"light\"}, \"paper_bgcolor\": \"white\", \"plot_bgcolor\": \"#E5ECF6\", \"polar\": {\"angularaxis\": {\"gridcolor\": \"white\", \"linecolor\": \"white\", \"ticks\": \"\"}, \"bgcolor\": \"#E5ECF6\", \"radialaxis\": {\"gridcolor\": \"white\", \"linecolor\": \"white\", \"ticks\": \"\"}}, \"scene\": {\"xaxis\": {\"backgroundcolor\": \"#E5ECF6\", \"gridcolor\": \"white\", \"gridwidth\": 2, \"linecolor\": \"white\", \"showbackground\": true, \"ticks\": \"\", \"zerolinecolor\": \"white\"}, \"yaxis\": {\"backgroundcolor\": \"#E5ECF6\", \"gridcolor\": \"white\", \"gridwidth\": 2, \"linecolor\": \"white\", \"showbackground\": true, \"ticks\": \"\", \"zerolinecolor\": \"white\"}, \"zaxis\": {\"backgroundcolor\": \"#E5ECF6\", \"gridcolor\": \"white\", \"gridwidth\": 2, \"linecolor\": \"white\", \"showbackground\": true, \"ticks\": \"\", \"zerolinecolor\": \"white\"}}, \"shapedefaults\": {\"line\": {\"color\": \"#2a3f5f\"}}, \"ternary\": {\"aaxis\": {\"gridcolor\": \"white\", \"linecolor\": \"white\", \"ticks\": \"\"}, \"baxis\": {\"gridcolor\": \"white\", \"linecolor\": \"white\", \"ticks\": \"\"}, \"bgcolor\": \"#E5ECF6\", \"caxis\": {\"gridcolor\": \"white\", \"linecolor\": \"white\", \"ticks\": \"\"}}, \"title\": {\"x\": 0.05}, \"xaxis\": {\"automargin\": true, \"gridcolor\": \"white\", \"linecolor\": \"white\", \"ticks\": \"\", \"title\": {\"standoff\": 15}, \"zerolinecolor\": \"white\", \"zerolinewidth\": 2}, \"yaxis\": {\"automargin\": true, \"gridcolor\": \"white\", \"linecolor\": \"white\", \"ticks\": \"\", \"title\": {\"standoff\": 15}, \"zerolinecolor\": \"white\", \"zerolinewidth\": 2}}}, \"width\": 1080},                        {\"responsive\": true}                    ).then(function(){\n",
              "                            \n",
              "var gd = document.getElementById('c8cc9a4b-76d5-4d7c-bec0-ea3e4fd908aa');\n",
              "var x = new MutationObserver(function (mutations, observer) {{\n",
              "        var display = window.getComputedStyle(gd).display;\n",
              "        if (!display || display === 'none') {{\n",
              "            console.log([gd, 'removed!']);\n",
              "            Plotly.purge(gd);\n",
              "            observer.disconnect();\n",
              "        }}\n",
              "}});\n",
              "\n",
              "// Listen for the removal of the full notebook cells\n",
              "var notebookContainer = gd.closest('#notebook-container');\n",
              "if (notebookContainer) {{\n",
              "    x.observe(notebookContainer, {childList: true});\n",
              "}}\n",
              "\n",
              "// Listen for the clearing of the current output cell\n",
              "var outputEl = gd.closest('.output');\n",
              "if (outputEl) {{\n",
              "    x.observe(outputEl, {childList: true});\n",
              "}}\n",
              "\n",
              "                        })                };                });            </script>        </div>"
            ]
          },
          "metadata": {},
          "output_type": "display_data"
        }
      ],
      "source": [
        "# plot 0\n",
        "fig = px.scatter_geo(final_df_fips, lat = \"lat\" , lon = \"lon\", scope = 'usa',center={'lat':lat1,'lon':lon1},hover_data = ['fips','State','pct_ch_0'],color='pct_ch_0',size='size_0',height=1080,width=1080,opacity = 1,hover_name='Name',color_continuous_scale = py.express.colors.sequential.ice)\n",
        "fig.update_geos(\n",
        "    resolution=50,\n",
        "    showland=True, landcolor=\"thistle\",\n",
        "    showsubunits=True, subunitcolor=\"black\", subunitwidth =1.5,\n",
        "    lonaxis_range=[lonr1,lonr2],lataxis_range=[latr1,latr2]\n",
        "    )\n",
        "fig.show()"
      ]
    },
    {
      "cell_type": "code",
      "execution_count": null,
      "metadata": {
        "id": "1SlRaqJ4cMj3",
        "outputId": "7b4966f2-4611-4964-f251-2f8915a41743"
      },
      "outputs": [
        {
          "data": {
            "application/vnd.plotly.v1+json": {
              "config": {
                "plotlyServerURL": "https://plot.ly"
              },
              "data": [
                {
                  "customdata": [
                    [
                      6001,
                      "CA",
                      0.0576204486254521
                    ],
                    [
                      6003,
                      "CA",
                      -0.017630193205029718
                    ],
                    [
                      6005,
                      "CA",
                      0.01654704570582613
                    ],
                    [
                      6007,
                      "CA",
                      0.02888893053239136
                    ],
                    [
                      6009,
                      "CA",
                      0.03845361017933774
                    ],
                    [
                      6011,
                      "CA",
                      0.04528231171410903
                    ],
                    [
                      6013,
                      "CA",
                      0.09186515001030678
                    ],
                    [
                      6015,
                      "CA",
                      0.0686093360568184
                    ],
                    [
                      6017,
                      "CA",
                      -0.03818001236812023
                    ],
                    [
                      6019,
                      "CA",
                      0.09323688698161647
                    ],
                    [
                      6021,
                      "CA",
                      0.013788580102318093
                    ],
                    [
                      6023,
                      "CA",
                      0.06039765380507092
                    ],
                    [
                      6025,
                      "CA",
                      0.01795626182935743
                    ],
                    [
                      6027,
                      "CA",
                      0.16038828401701555
                    ],
                    [
                      6029,
                      "CA",
                      0.05481700803927815
                    ],
                    [
                      6031,
                      "CA",
                      0.10690178588160335
                    ],
                    [
                      6033,
                      "CA",
                      -0.006731255738995176
                    ],
                    [
                      6035,
                      "CA",
                      0.09728463542154676
                    ],
                    [
                      6037,
                      "CA",
                      -0.06423926690778255
                    ],
                    [
                      6039,
                      "CA",
                      0.09868635571463374
                    ],
                    [
                      6041,
                      "CA",
                      0.09466109476603639
                    ],
                    [
                      6043,
                      "CA",
                      0.05074677210801491
                    ],
                    [
                      6045,
                      "CA",
                      0.10559376346907033
                    ],
                    [
                      6047,
                      "CA",
                      0.11511346813335083
                    ],
                    [
                      6049,
                      "CA",
                      0.15483762157300002
                    ],
                    [
                      6051,
                      "CA",
                      -0.0504919138729082
                    ],
                    [
                      6053,
                      "CA",
                      0.07134906208421565
                    ],
                    [
                      6055,
                      "CA",
                      0.12341510035043007
                    ],
                    [
                      6057,
                      "CA",
                      0.06176189494593633
                    ],
                    [
                      6059,
                      "CA",
                      0.0111125686336975
                    ],
                    [
                      6061,
                      "CA",
                      0.017930026422802323
                    ],
                    [
                      6063,
                      "CA",
                      -0.05324288364597193
                    ],
                    [
                      6065,
                      "CA",
                      0.11929239360605663
                    ],
                    [
                      6067,
                      "CA",
                      0.015137829582294843
                    ],
                    [
                      6069,
                      "CA",
                      0.33431028990124245
                    ],
                    [
                      6071,
                      "CA",
                      -0.0026535239772876307
                    ],
                    [
                      6073,
                      "CA",
                      0.15490508404699888
                    ],
                    [
                      6075,
                      "CA",
                      0.13436276071435263
                    ],
                    [
                      6077,
                      "CA",
                      0.012420591046230542
                    ],
                    [
                      6079,
                      "CA",
                      0.10283904578078444
                    ],
                    [
                      6081,
                      "CA",
                      0.14118396641867959
                    ],
                    [
                      6083,
                      "CA",
                      -0.05466709143039184
                    ],
                    [
                      6085,
                      "CA",
                      0.1000880760077207
                    ],
                    [
                      6087,
                      "CA",
                      0.201450443190975
                    ],
                    [
                      6089,
                      "CA",
                      0.02620917114854862
                    ],
                    [
                      6091,
                      "CA",
                      -0.042291475366827216
                    ],
                    [
                      6093,
                      "CA",
                      0.013919757135093608
                    ],
                    [
                      6095,
                      "CA",
                      0.09323313906639433
                    ],
                    [
                      6097,
                      "CA",
                      0.10423701815864925
                    ],
                    [
                      6099,
                      "CA",
                      0.0822817307872496
                    ],
                    [
                      6101,
                      "CA",
                      0.05896969810542886
                    ],
                    [
                      6103,
                      "CA",
                      0.04398178513202031
                    ],
                    [
                      6105,
                      "CA",
                      0.01930176339411202
                    ],
                    [
                      6107,
                      "CA",
                      0.17811592301782134
                    ],
                    [
                      6109,
                      "CA",
                      0.035751363304162065
                    ],
                    [
                      6111,
                      "CA",
                      -0.05466334351516969
                    ],
                    [
                      6113,
                      "CA",
                      0.08910668440679871
                    ],
                    [
                      6115,
                      "CA",
                      0.03295541854843244
                    ]
                  ],
                  "geo": "geo",
                  "hovertemplate": "<b>%{hovertext}</b><br><br>size_1=%{marker.size}<br>lat=%{lat}<br>lon=%{lon}<br>fips=%{customdata[0]}<br>State=%{customdata[1]}<br>pct_ch_1=%{marker.color}<extra></extra>",
                  "hovertext": [
                    "Alameda",
                    "Alpine",
                    "Amador",
                    "Butte",
                    "Calaveras",
                    "Colusa",
                    "Contra Costa",
                    "Del Norte",
                    "El Dorado",
                    "Fresno",
                    "Glenn",
                    "Humboldt",
                    "Imperial",
                    "Inyo",
                    "Kern",
                    "Kings",
                    "Lake",
                    "Lassen",
                    "Los Angeles",
                    "Madera",
                    "Marin",
                    "Mariposa",
                    "Mendocino",
                    "Merced",
                    "Modoc",
                    "Mono",
                    "Monterey",
                    "Napa",
                    "Nevada",
                    "Orange",
                    "Placer",
                    "Plumas",
                    "Riverside",
                    "Sacramento",
                    "San Benito",
                    "San Bernardino",
                    "San Diego",
                    "San Francisco",
                    "San Joaquin",
                    "San Luis Obispo",
                    "San Mateo",
                    "Santa Barbara",
                    "Santa Clara",
                    "Santa Cruz",
                    "Shasta",
                    "Sierra",
                    "Siskiyou",
                    "Solano",
                    "Sonoma",
                    "Stanislaus",
                    "Sutter",
                    "Tehama",
                    "Trinity",
                    "Tulare",
                    "Tuolumne",
                    "Ventura",
                    "Yolo",
                    "Yuba"
                  ],
                  "lat": [
                    37.648081,
                    38.61761,
                    38.44355,
                    39.665959,
                    38.187844,
                    39.177739,
                    37.919478999999995,
                    41.749903,
                    38.785532,
                    36.761006,
                    39.602546000000004,
                    40.706672999999995,
                    33.040816,
                    36.561977,
                    35.346629,
                    36.072478000000004,
                    39.094802,
                    40.721089,
                    34.196397999999995,
                    37.210039,
                    38.051817,
                    37.570034,
                    39.432388,
                    37.194806,
                    41.592919,
                    37.915836,
                    36.240107,
                    38.507351,
                    39.295190999999996,
                    33.675686999999996,
                    39.062032,
                    39.99517,
                    33.729828000000005,
                    38.450010999999996,
                    36.610702,
                    34.85722,
                    33.023604,
                    37.727239000000004,
                    37.935034,
                    35.385227,
                    37.414664,
                    34.537378000000004,
                    37.220777000000005,
                    37.012488,
                    40.760521999999995,
                    39.576925,
                    41.587986,
                    38.267226,
                    38.532574,
                    37.562384,
                    39.035257,
                    40.126156,
                    40.647724,
                    36.230453000000004,
                    38.021451,
                    34.358742,
                    38.679268,
                    39.270026
                  ],
                  "legendgroup": "",
                  "lon": [
                    -121.91330400000001,
                    -119.798999,
                    -120.653856,
                    -121.601919,
                    -120.55511499999999,
                    -122.237563,
                    -121.95154299999999,
                    -123.980998,
                    -120.534398,
                    -119.655019,
                    -122.4017,
                    -123.92581799999999,
                    -115.355395,
                    -117.403927,
                    -118.729506,
                    -119.81553000000001,
                    -122.746757,
                    -120.629931,
                    -118.26186200000001,
                    -119.749852,
                    -122.745974,
                    -119.91286000000001,
                    -123.442881,
                    -120.722802,
                    -120.71837,
                    -118.87516699999999,
                    -121.315573,
                    -122.32599499999999,
                    -120.77344599999999,
                    -117.777207,
                    -120.722718,
                    -120.829516,
                    -116.00223899999999,
                    -121.340441,
                    -121.085296,
                    -116.181197,
                    -116.776117,
                    -123.032229,
                    -121.27223700000002,
                    -120.44753999999999,
                    -122.37154199999999,
                    -120.03848500000001,
                    -121.69062199999999,
                    -122.007205,
                    -122.04355,
                    -120.521993,
                    -122.53328700000002,
                    -121.939594,
                    -122.945194,
                    -121.002656,
                    -121.702758,
                    -122.232276,
                    -123.11440400000001,
                    -118.780542,
                    -119.964708,
                    -119.13314299999999,
                    -121.903178,
                    -121.34428
                  ],
                  "marker": {
                    "color": [
                      0.0576204486254521,
                      -0.017630193205029718,
                      0.01654704570582613,
                      0.02888893053239136,
                      0.03845361017933774,
                      0.04528231171410903,
                      0.09186515001030678,
                      0.0686093360568184,
                      -0.03818001236812023,
                      0.09323688698161647,
                      0.013788580102318093,
                      0.06039765380507092,
                      0.01795626182935743,
                      0.16038828401701555,
                      0.05481700803927815,
                      0.10690178588160335,
                      -0.006731255738995176,
                      0.09728463542154676,
                      -0.06423926690778255,
                      0.09868635571463374,
                      0.09466109476603639,
                      0.05074677210801491,
                      0.10559376346907033,
                      0.11511346813335083,
                      0.15483762157300002,
                      -0.0504919138729082,
                      0.07134906208421565,
                      0.12341510035043007,
                      0.06176189494593633,
                      0.0111125686336975,
                      0.017930026422802323,
                      -0.05324288364597193,
                      0.11929239360605663,
                      0.015137829582294843,
                      0.33431028990124245,
                      -0.0026535239772876307,
                      0.15490508404699888,
                      0.13436276071435263,
                      0.012420591046230542,
                      0.10283904578078444,
                      0.14118396641867959,
                      -0.05466709143039184,
                      0.1000880760077207,
                      0.201450443190975,
                      0.02620917114854862,
                      -0.042291475366827216,
                      0.013919757135093608,
                      0.09323313906639433,
                      0.10423701815864925,
                      0.0822817307872496,
                      0.05896969810542886,
                      0.04398178513202031,
                      0.01930176339411202,
                      0.17811592301782134,
                      0.035751363304162065,
                      -0.05466334351516969,
                      0.08910668440679871,
                      0.03295541854843244
                    ],
                    "coloraxis": "coloraxis",
                    "opacity": 1,
                    "size": [
                      0.0576204486254521,
                      0.017630193205029718,
                      0.01654704570582613,
                      0.02888893053239136,
                      0.03845361017933774,
                      0.04528231171410903,
                      0.09186515001030678,
                      0.0686093360568184,
                      0.03818001236812023,
                      0.09323688698161647,
                      0.013788580102318093,
                      0.06039765380507092,
                      0.01795626182935743,
                      0.16038828401701555,
                      0.05481700803927815,
                      0.10690178588160335,
                      0.006731255738995176,
                      0.09728463542154676,
                      0.06423926690778255,
                      0.09868635571463374,
                      0.09466109476603639,
                      0.05074677210801491,
                      0.10559376346907033,
                      0.11511346813335083,
                      0.15483762157300002,
                      0.0504919138729082,
                      0.07134906208421565,
                      0.12341510035043007,
                      0.06176189494593633,
                      0.0111125686336975,
                      0.017930026422802323,
                      0.05324288364597193,
                      0.11929239360605663,
                      0.015137829582294843,
                      0.33431028990124245,
                      0.0026535239772876307,
                      0.15490508404699888,
                      0.13436276071435263,
                      0.012420591046230542,
                      0.10283904578078444,
                      0.14118396641867959,
                      0.05466709143039184,
                      0.1000880760077207,
                      0.201450443190975,
                      0.02620917114854862,
                      0.042291475366827216,
                      0.013919757135093608,
                      0.09323313906639433,
                      0.10423701815864925,
                      0.0822817307872496,
                      0.05896969810542886,
                      0.04398178513202031,
                      0.01930176339411202,
                      0.17811592301782134,
                      0.035751363304162065,
                      0.05466334351516969,
                      0.08910668440679871,
                      0.03295541854843244
                    ],
                    "sizemode": "area",
                    "sizeref": 0.0008357757247531061,
                    "symbol": "circle"
                  },
                  "mode": "markers",
                  "name": "",
                  "showlegend": false,
                  "type": "scattergeo"
                }
              ],
              "layout": {
                "coloraxis": {
                  "colorbar": {
                    "title": {
                      "text": "pct_ch_1"
                    }
                  },
                  "colorscale": [
                    [
                      0,
                      "rgb(41, 24, 107)"
                    ],
                    [
                      0.09090909090909091,
                      "rgb(42, 35, 160)"
                    ],
                    [
                      0.18181818181818182,
                      "rgb(15, 71, 153)"
                    ],
                    [
                      0.2727272727272727,
                      "rgb(18, 95, 142)"
                    ],
                    [
                      0.36363636363636365,
                      "rgb(38, 116, 137)"
                    ],
                    [
                      0.45454545454545453,
                      "rgb(53, 136, 136)"
                    ],
                    [
                      0.5454545454545454,
                      "rgb(65, 157, 133)"
                    ],
                    [
                      0.6363636363636364,
                      "rgb(81, 178, 124)"
                    ],
                    [
                      0.7272727272727273,
                      "rgb(111, 198, 107)"
                    ],
                    [
                      0.8181818181818182,
                      "rgb(160, 214, 91)"
                    ],
                    [
                      0.9090909090909091,
                      "rgb(212, 225, 112)"
                    ],
                    [
                      1,
                      "rgb(253, 238, 153)"
                    ]
                  ]
                },
                "geo": {
                  "center": {
                    "lat": 37.83800610344828,
                    "lon": -120.74952093103452
                  },
                  "domain": {
                    "x": [
                      0,
                      1
                    ],
                    "y": [
                      0,
                      1
                    ]
                  },
                  "landcolor": "lightsteelblue",
                  "lataxis": {
                    "range": [
                      42.749903,
                      31.023604
                    ]
                  },
                  "lonaxis": {
                    "range": [
                      -114.355395,
                      -125.980998
                    ]
                  },
                  "resolution": 50,
                  "scope": "usa",
                  "showland": true,
                  "showsubunits": true,
                  "subunitcolor": "black",
                  "subunitwidth": 1.5
                },
                "height": 1080,
                "legend": {
                  "itemsizing": "constant",
                  "tracegroupgap": 0
                },
                "margin": {
                  "t": 60
                },
                "template": {
                  "data": {
                    "bar": [
                      {
                        "error_x": {
                          "color": "#2a3f5f"
                        },
                        "error_y": {
                          "color": "#2a3f5f"
                        },
                        "marker": {
                          "line": {
                            "color": "#E5ECF6",
                            "width": 0.5
                          }
                        },
                        "type": "bar"
                      }
                    ],
                    "barpolar": [
                      {
                        "marker": {
                          "line": {
                            "color": "#E5ECF6",
                            "width": 0.5
                          }
                        },
                        "type": "barpolar"
                      }
                    ],
                    "carpet": [
                      {
                        "aaxis": {
                          "endlinecolor": "#2a3f5f",
                          "gridcolor": "white",
                          "linecolor": "white",
                          "minorgridcolor": "white",
                          "startlinecolor": "#2a3f5f"
                        },
                        "baxis": {
                          "endlinecolor": "#2a3f5f",
                          "gridcolor": "white",
                          "linecolor": "white",
                          "minorgridcolor": "white",
                          "startlinecolor": "#2a3f5f"
                        },
                        "type": "carpet"
                      }
                    ],
                    "choropleth": [
                      {
                        "colorbar": {
                          "outlinewidth": 0,
                          "ticks": ""
                        },
                        "type": "choropleth"
                      }
                    ],
                    "contour": [
                      {
                        "colorbar": {
                          "outlinewidth": 0,
                          "ticks": ""
                        },
                        "colorscale": [
                          [
                            0,
                            "#0d0887"
                          ],
                          [
                            0.1111111111111111,
                            "#46039f"
                          ],
                          [
                            0.2222222222222222,
                            "#7201a8"
                          ],
                          [
                            0.3333333333333333,
                            "#9c179e"
                          ],
                          [
                            0.4444444444444444,
                            "#bd3786"
                          ],
                          [
                            0.5555555555555556,
                            "#d8576b"
                          ],
                          [
                            0.6666666666666666,
                            "#ed7953"
                          ],
                          [
                            0.7777777777777778,
                            "#fb9f3a"
                          ],
                          [
                            0.8888888888888888,
                            "#fdca26"
                          ],
                          [
                            1,
                            "#f0f921"
                          ]
                        ],
                        "type": "contour"
                      }
                    ],
                    "contourcarpet": [
                      {
                        "colorbar": {
                          "outlinewidth": 0,
                          "ticks": ""
                        },
                        "type": "contourcarpet"
                      }
                    ],
                    "heatmap": [
                      {
                        "colorbar": {
                          "outlinewidth": 0,
                          "ticks": ""
                        },
                        "colorscale": [
                          [
                            0,
                            "#0d0887"
                          ],
                          [
                            0.1111111111111111,
                            "#46039f"
                          ],
                          [
                            0.2222222222222222,
                            "#7201a8"
                          ],
                          [
                            0.3333333333333333,
                            "#9c179e"
                          ],
                          [
                            0.4444444444444444,
                            "#bd3786"
                          ],
                          [
                            0.5555555555555556,
                            "#d8576b"
                          ],
                          [
                            0.6666666666666666,
                            "#ed7953"
                          ],
                          [
                            0.7777777777777778,
                            "#fb9f3a"
                          ],
                          [
                            0.8888888888888888,
                            "#fdca26"
                          ],
                          [
                            1,
                            "#f0f921"
                          ]
                        ],
                        "type": "heatmap"
                      }
                    ],
                    "heatmapgl": [
                      {
                        "colorbar": {
                          "outlinewidth": 0,
                          "ticks": ""
                        },
                        "colorscale": [
                          [
                            0,
                            "#0d0887"
                          ],
                          [
                            0.1111111111111111,
                            "#46039f"
                          ],
                          [
                            0.2222222222222222,
                            "#7201a8"
                          ],
                          [
                            0.3333333333333333,
                            "#9c179e"
                          ],
                          [
                            0.4444444444444444,
                            "#bd3786"
                          ],
                          [
                            0.5555555555555556,
                            "#d8576b"
                          ],
                          [
                            0.6666666666666666,
                            "#ed7953"
                          ],
                          [
                            0.7777777777777778,
                            "#fb9f3a"
                          ],
                          [
                            0.8888888888888888,
                            "#fdca26"
                          ],
                          [
                            1,
                            "#f0f921"
                          ]
                        ],
                        "type": "heatmapgl"
                      }
                    ],
                    "histogram": [
                      {
                        "marker": {
                          "colorbar": {
                            "outlinewidth": 0,
                            "ticks": ""
                          }
                        },
                        "type": "histogram"
                      }
                    ],
                    "histogram2d": [
                      {
                        "colorbar": {
                          "outlinewidth": 0,
                          "ticks": ""
                        },
                        "colorscale": [
                          [
                            0,
                            "#0d0887"
                          ],
                          [
                            0.1111111111111111,
                            "#46039f"
                          ],
                          [
                            0.2222222222222222,
                            "#7201a8"
                          ],
                          [
                            0.3333333333333333,
                            "#9c179e"
                          ],
                          [
                            0.4444444444444444,
                            "#bd3786"
                          ],
                          [
                            0.5555555555555556,
                            "#d8576b"
                          ],
                          [
                            0.6666666666666666,
                            "#ed7953"
                          ],
                          [
                            0.7777777777777778,
                            "#fb9f3a"
                          ],
                          [
                            0.8888888888888888,
                            "#fdca26"
                          ],
                          [
                            1,
                            "#f0f921"
                          ]
                        ],
                        "type": "histogram2d"
                      }
                    ],
                    "histogram2dcontour": [
                      {
                        "colorbar": {
                          "outlinewidth": 0,
                          "ticks": ""
                        },
                        "colorscale": [
                          [
                            0,
                            "#0d0887"
                          ],
                          [
                            0.1111111111111111,
                            "#46039f"
                          ],
                          [
                            0.2222222222222222,
                            "#7201a8"
                          ],
                          [
                            0.3333333333333333,
                            "#9c179e"
                          ],
                          [
                            0.4444444444444444,
                            "#bd3786"
                          ],
                          [
                            0.5555555555555556,
                            "#d8576b"
                          ],
                          [
                            0.6666666666666666,
                            "#ed7953"
                          ],
                          [
                            0.7777777777777778,
                            "#fb9f3a"
                          ],
                          [
                            0.8888888888888888,
                            "#fdca26"
                          ],
                          [
                            1,
                            "#f0f921"
                          ]
                        ],
                        "type": "histogram2dcontour"
                      }
                    ],
                    "mesh3d": [
                      {
                        "colorbar": {
                          "outlinewidth": 0,
                          "ticks": ""
                        },
                        "type": "mesh3d"
                      }
                    ],
                    "parcoords": [
                      {
                        "line": {
                          "colorbar": {
                            "outlinewidth": 0,
                            "ticks": ""
                          }
                        },
                        "type": "parcoords"
                      }
                    ],
                    "pie": [
                      {
                        "automargin": true,
                        "type": "pie"
                      }
                    ],
                    "scatter": [
                      {
                        "marker": {
                          "colorbar": {
                            "outlinewidth": 0,
                            "ticks": ""
                          }
                        },
                        "type": "scatter"
                      }
                    ],
                    "scatter3d": [
                      {
                        "line": {
                          "colorbar": {
                            "outlinewidth": 0,
                            "ticks": ""
                          }
                        },
                        "marker": {
                          "colorbar": {
                            "outlinewidth": 0,
                            "ticks": ""
                          }
                        },
                        "type": "scatter3d"
                      }
                    ],
                    "scattercarpet": [
                      {
                        "marker": {
                          "colorbar": {
                            "outlinewidth": 0,
                            "ticks": ""
                          }
                        },
                        "type": "scattercarpet"
                      }
                    ],
                    "scattergeo": [
                      {
                        "marker": {
                          "colorbar": {
                            "outlinewidth": 0,
                            "ticks": ""
                          }
                        },
                        "type": "scattergeo"
                      }
                    ],
                    "scattergl": [
                      {
                        "marker": {
                          "colorbar": {
                            "outlinewidth": 0,
                            "ticks": ""
                          }
                        },
                        "type": "scattergl"
                      }
                    ],
                    "scattermapbox": [
                      {
                        "marker": {
                          "colorbar": {
                            "outlinewidth": 0,
                            "ticks": ""
                          }
                        },
                        "type": "scattermapbox"
                      }
                    ],
                    "scatterpolar": [
                      {
                        "marker": {
                          "colorbar": {
                            "outlinewidth": 0,
                            "ticks": ""
                          }
                        },
                        "type": "scatterpolar"
                      }
                    ],
                    "scatterpolargl": [
                      {
                        "marker": {
                          "colorbar": {
                            "outlinewidth": 0,
                            "ticks": ""
                          }
                        },
                        "type": "scatterpolargl"
                      }
                    ],
                    "scatterternary": [
                      {
                        "marker": {
                          "colorbar": {
                            "outlinewidth": 0,
                            "ticks": ""
                          }
                        },
                        "type": "scatterternary"
                      }
                    ],
                    "surface": [
                      {
                        "colorbar": {
                          "outlinewidth": 0,
                          "ticks": ""
                        },
                        "colorscale": [
                          [
                            0,
                            "#0d0887"
                          ],
                          [
                            0.1111111111111111,
                            "#46039f"
                          ],
                          [
                            0.2222222222222222,
                            "#7201a8"
                          ],
                          [
                            0.3333333333333333,
                            "#9c179e"
                          ],
                          [
                            0.4444444444444444,
                            "#bd3786"
                          ],
                          [
                            0.5555555555555556,
                            "#d8576b"
                          ],
                          [
                            0.6666666666666666,
                            "#ed7953"
                          ],
                          [
                            0.7777777777777778,
                            "#fb9f3a"
                          ],
                          [
                            0.8888888888888888,
                            "#fdca26"
                          ],
                          [
                            1,
                            "#f0f921"
                          ]
                        ],
                        "type": "surface"
                      }
                    ],
                    "table": [
                      {
                        "cells": {
                          "fill": {
                            "color": "#EBF0F8"
                          },
                          "line": {
                            "color": "white"
                          }
                        },
                        "header": {
                          "fill": {
                            "color": "#C8D4E3"
                          },
                          "line": {
                            "color": "white"
                          }
                        },
                        "type": "table"
                      }
                    ]
                  },
                  "layout": {
                    "annotationdefaults": {
                      "arrowcolor": "#2a3f5f",
                      "arrowhead": 0,
                      "arrowwidth": 1
                    },
                    "autotypenumbers": "strict",
                    "coloraxis": {
                      "colorbar": {
                        "outlinewidth": 0,
                        "ticks": ""
                      }
                    },
                    "colorscale": {
                      "diverging": [
                        [
                          0,
                          "#8e0152"
                        ],
                        [
                          0.1,
                          "#c51b7d"
                        ],
                        [
                          0.2,
                          "#de77ae"
                        ],
                        [
                          0.3,
                          "#f1b6da"
                        ],
                        [
                          0.4,
                          "#fde0ef"
                        ],
                        [
                          0.5,
                          "#f7f7f7"
                        ],
                        [
                          0.6,
                          "#e6f5d0"
                        ],
                        [
                          0.7,
                          "#b8e186"
                        ],
                        [
                          0.8,
                          "#7fbc41"
                        ],
                        [
                          0.9,
                          "#4d9221"
                        ],
                        [
                          1,
                          "#276419"
                        ]
                      ],
                      "sequential": [
                        [
                          0,
                          "#0d0887"
                        ],
                        [
                          0.1111111111111111,
                          "#46039f"
                        ],
                        [
                          0.2222222222222222,
                          "#7201a8"
                        ],
                        [
                          0.3333333333333333,
                          "#9c179e"
                        ],
                        [
                          0.4444444444444444,
                          "#bd3786"
                        ],
                        [
                          0.5555555555555556,
                          "#d8576b"
                        ],
                        [
                          0.6666666666666666,
                          "#ed7953"
                        ],
                        [
                          0.7777777777777778,
                          "#fb9f3a"
                        ],
                        [
                          0.8888888888888888,
                          "#fdca26"
                        ],
                        [
                          1,
                          "#f0f921"
                        ]
                      ],
                      "sequentialminus": [
                        [
                          0,
                          "#0d0887"
                        ],
                        [
                          0.1111111111111111,
                          "#46039f"
                        ],
                        [
                          0.2222222222222222,
                          "#7201a8"
                        ],
                        [
                          0.3333333333333333,
                          "#9c179e"
                        ],
                        [
                          0.4444444444444444,
                          "#bd3786"
                        ],
                        [
                          0.5555555555555556,
                          "#d8576b"
                        ],
                        [
                          0.6666666666666666,
                          "#ed7953"
                        ],
                        [
                          0.7777777777777778,
                          "#fb9f3a"
                        ],
                        [
                          0.8888888888888888,
                          "#fdca26"
                        ],
                        [
                          1,
                          "#f0f921"
                        ]
                      ]
                    },
                    "colorway": [
                      "#636efa",
                      "#EF553B",
                      "#00cc96",
                      "#ab63fa",
                      "#FFA15A",
                      "#19d3f3",
                      "#FF6692",
                      "#B6E880",
                      "#FF97FF",
                      "#FECB52"
                    ],
                    "font": {
                      "color": "#2a3f5f"
                    },
                    "geo": {
                      "bgcolor": "white",
                      "lakecolor": "white",
                      "landcolor": "#E5ECF6",
                      "showlakes": true,
                      "showland": true,
                      "subunitcolor": "white"
                    },
                    "hoverlabel": {
                      "align": "left"
                    },
                    "hovermode": "closest",
                    "mapbox": {
                      "style": "light"
                    },
                    "paper_bgcolor": "white",
                    "plot_bgcolor": "#E5ECF6",
                    "polar": {
                      "angularaxis": {
                        "gridcolor": "white",
                        "linecolor": "white",
                        "ticks": ""
                      },
                      "bgcolor": "#E5ECF6",
                      "radialaxis": {
                        "gridcolor": "white",
                        "linecolor": "white",
                        "ticks": ""
                      }
                    },
                    "scene": {
                      "xaxis": {
                        "backgroundcolor": "#E5ECF6",
                        "gridcolor": "white",
                        "gridwidth": 2,
                        "linecolor": "white",
                        "showbackground": true,
                        "ticks": "",
                        "zerolinecolor": "white"
                      },
                      "yaxis": {
                        "backgroundcolor": "#E5ECF6",
                        "gridcolor": "white",
                        "gridwidth": 2,
                        "linecolor": "white",
                        "showbackground": true,
                        "ticks": "",
                        "zerolinecolor": "white"
                      },
                      "zaxis": {
                        "backgroundcolor": "#E5ECF6",
                        "gridcolor": "white",
                        "gridwidth": 2,
                        "linecolor": "white",
                        "showbackground": true,
                        "ticks": "",
                        "zerolinecolor": "white"
                      }
                    },
                    "shapedefaults": {
                      "line": {
                        "color": "#2a3f5f"
                      }
                    },
                    "ternary": {
                      "aaxis": {
                        "gridcolor": "white",
                        "linecolor": "white",
                        "ticks": ""
                      },
                      "baxis": {
                        "gridcolor": "white",
                        "linecolor": "white",
                        "ticks": ""
                      },
                      "bgcolor": "#E5ECF6",
                      "caxis": {
                        "gridcolor": "white",
                        "linecolor": "white",
                        "ticks": ""
                      }
                    },
                    "title": {
                      "x": 0.05
                    },
                    "xaxis": {
                      "automargin": true,
                      "gridcolor": "white",
                      "linecolor": "white",
                      "ticks": "",
                      "title": {
                        "standoff": 15
                      },
                      "zerolinecolor": "white",
                      "zerolinewidth": 2
                    },
                    "yaxis": {
                      "automargin": true,
                      "gridcolor": "white",
                      "linecolor": "white",
                      "ticks": "",
                      "title": {
                        "standoff": 15
                      },
                      "zerolinecolor": "white",
                      "zerolinewidth": 2
                    }
                  }
                },
                "width": 1080
              }
            },
            "text/html": [
              "<div>                            <div id=\"8f51efad-7782-4bf4-9e09-6b2015852a0d\" class=\"plotly-graph-div\" style=\"height:1080px; width:1080px;\"></div>            <script type=\"text/javascript\">                require([\"plotly\"], function(Plotly) {                    window.PLOTLYENV=window.PLOTLYENV || {};                                    if (document.getElementById(\"8f51efad-7782-4bf4-9e09-6b2015852a0d\")) {                    Plotly.newPlot(                        \"8f51efad-7782-4bf4-9e09-6b2015852a0d\",                        [{\"customdata\": [[6001, \"CA\", 0.0576204486254521], [6003, \"CA\", -0.017630193205029718], [6005, \"CA\", 0.01654704570582613], [6007, \"CA\", 0.02888893053239136], [6009, \"CA\", 0.03845361017933774], [6011, \"CA\", 0.04528231171410903], [6013, \"CA\", 0.09186515001030678], [6015, \"CA\", 0.0686093360568184], [6017, \"CA\", -0.03818001236812023], [6019, \"CA\", 0.09323688698161647], [6021, \"CA\", 0.013788580102318093], [6023, \"CA\", 0.06039765380507092], [6025, \"CA\", 0.01795626182935743], [6027, \"CA\", 0.16038828401701555], [6029, \"CA\", 0.05481700803927815], [6031, \"CA\", 0.10690178588160335], [6033, \"CA\", -0.006731255738995176], [6035, \"CA\", 0.09728463542154676], [6037, \"CA\", -0.06423926690778255], [6039, \"CA\", 0.09868635571463374], [6041, \"CA\", 0.09466109476603639], [6043, \"CA\", 0.05074677210801491], [6045, \"CA\", 0.10559376346907033], [6047, \"CA\", 0.11511346813335083], [6049, \"CA\", 0.15483762157300002], [6051, \"CA\", -0.0504919138729082], [6053, \"CA\", 0.07134906208421565], [6055, \"CA\", 0.12341510035043007], [6057, \"CA\", 0.06176189494593633], [6059, \"CA\", 0.0111125686336975], [6061, \"CA\", 0.017930026422802323], [6063, \"CA\", -0.05324288364597193], [6065, \"CA\", 0.11929239360605663], [6067, \"CA\", 0.015137829582294843], [6069, \"CA\", 0.33431028990124245], [6071, \"CA\", -0.0026535239772876307], [6073, \"CA\", 0.15490508404699888], [6075, \"CA\", 0.13436276071435263], [6077, \"CA\", 0.012420591046230542], [6079, \"CA\", 0.10283904578078444], [6081, \"CA\", 0.14118396641867959], [6083, \"CA\", -0.05466709143039184], [6085, \"CA\", 0.1000880760077207], [6087, \"CA\", 0.201450443190975], [6089, \"CA\", 0.02620917114854862], [6091, \"CA\", -0.042291475366827216], [6093, \"CA\", 0.013919757135093608], [6095, \"CA\", 0.09323313906639433], [6097, \"CA\", 0.10423701815864925], [6099, \"CA\", 0.0822817307872496], [6101, \"CA\", 0.05896969810542886], [6103, \"CA\", 0.04398178513202031], [6105, \"CA\", 0.01930176339411202], [6107, \"CA\", 0.17811592301782134], [6109, \"CA\", 0.035751363304162065], [6111, \"CA\", -0.05466334351516969], [6113, \"CA\", 0.08910668440679871], [6115, \"CA\", 0.03295541854843244]], \"geo\": \"geo\", \"hovertemplate\": \"<b>%{hovertext}</b><br><br>size_1=%{marker.size}<br>lat=%{lat}<br>lon=%{lon}<br>fips=%{customdata[0]}<br>State=%{customdata[1]}<br>pct_ch_1=%{marker.color}<extra></extra>\", \"hovertext\": [\"Alameda\", \"Alpine\", \"Amador\", \"Butte\", \"Calaveras\", \"Colusa\", \"Contra Costa\", \"Del Norte\", \"El Dorado\", \"Fresno\", \"Glenn\", \"Humboldt\", \"Imperial\", \"Inyo\", \"Kern\", \"Kings\", \"Lake\", \"Lassen\", \"Los Angeles\", \"Madera\", \"Marin\", \"Mariposa\", \"Mendocino\", \"Merced\", \"Modoc\", \"Mono\", \"Monterey\", \"Napa\", \"Nevada\", \"Orange\", \"Placer\", \"Plumas\", \"Riverside\", \"Sacramento\", \"San Benito\", \"San Bernardino\", \"San Diego\", \"San Francisco\", \"San Joaquin\", \"San Luis Obispo\", \"San Mateo\", \"Santa Barbara\", \"Santa Clara\", \"Santa Cruz\", \"Shasta\", \"Sierra\", \"Siskiyou\", \"Solano\", \"Sonoma\", \"Stanislaus\", \"Sutter\", \"Tehama\", \"Trinity\", \"Tulare\", \"Tuolumne\", \"Ventura\", \"Yolo\", \"Yuba\"], \"lat\": [37.648081, 38.61761, 38.44355, 39.665959, 38.187844, 39.177739, 37.919478999999995, 41.749903, 38.785532, 36.761006, 39.602546000000004, 40.706672999999995, 33.040816, 36.561977, 35.346629, 36.072478000000004, 39.094802, 40.721089, 34.196397999999995, 37.210039, 38.051817, 37.570034, 39.432388, 37.194806, 41.592919, 37.915836, 36.240107, 38.507351, 39.295190999999996, 33.675686999999996, 39.062032, 39.99517, 33.729828000000005, 38.450010999999996, 36.610702, 34.85722, 33.023604, 37.727239000000004, 37.935034, 35.385227, 37.414664, 34.537378000000004, 37.220777000000005, 37.012488, 40.760521999999995, 39.576925, 41.587986, 38.267226, 38.532574, 37.562384, 39.035257, 40.126156, 40.647724, 36.230453000000004, 38.021451, 34.358742, 38.679268, 39.270026], \"legendgroup\": \"\", \"lon\": [-121.91330400000001, -119.798999, -120.653856, -121.601919, -120.55511499999999, -122.237563, -121.95154299999999, -123.980998, -120.534398, -119.655019, -122.4017, -123.92581799999999, -115.355395, -117.403927, -118.729506, -119.81553000000001, -122.746757, -120.629931, -118.26186200000001, -119.749852, -122.745974, -119.91286000000001, -123.442881, -120.722802, -120.71837, -118.87516699999999, -121.315573, -122.32599499999999, -120.77344599999999, -117.777207, -120.722718, -120.829516, -116.00223899999999, -121.340441, -121.085296, -116.181197, -116.776117, -123.032229, -121.27223700000002, -120.44753999999999, -122.37154199999999, -120.03848500000001, -121.69062199999999, -122.007205, -122.04355, -120.521993, -122.53328700000002, -121.939594, -122.945194, -121.002656, -121.702758, -122.232276, -123.11440400000001, -118.780542, -119.964708, -119.13314299999999, -121.903178, -121.34428], \"marker\": {\"color\": [0.0576204486254521, -0.017630193205029718, 0.01654704570582613, 0.02888893053239136, 0.03845361017933774, 0.04528231171410903, 0.09186515001030678, 0.0686093360568184, -0.03818001236812023, 0.09323688698161647, 0.013788580102318093, 0.06039765380507092, 0.01795626182935743, 0.16038828401701555, 0.05481700803927815, 0.10690178588160335, -0.006731255738995176, 0.09728463542154676, -0.06423926690778255, 0.09868635571463374, 0.09466109476603639, 0.05074677210801491, 0.10559376346907033, 0.11511346813335083, 0.15483762157300002, -0.0504919138729082, 0.07134906208421565, 0.12341510035043007, 0.06176189494593633, 0.0111125686336975, 0.017930026422802323, -0.05324288364597193, 0.11929239360605663, 0.015137829582294843, 0.33431028990124245, -0.0026535239772876307, 0.15490508404699888, 0.13436276071435263, 0.012420591046230542, 0.10283904578078444, 0.14118396641867959, -0.05466709143039184, 0.1000880760077207, 0.201450443190975, 0.02620917114854862, -0.042291475366827216, 0.013919757135093608, 0.09323313906639433, 0.10423701815864925, 0.0822817307872496, 0.05896969810542886, 0.04398178513202031, 0.01930176339411202, 0.17811592301782134, 0.035751363304162065, -0.05466334351516969, 0.08910668440679871, 0.03295541854843244], \"coloraxis\": \"coloraxis\", \"opacity\": 1, \"size\": [0.0576204486254521, 0.017630193205029718, 0.01654704570582613, 0.02888893053239136, 0.03845361017933774, 0.04528231171410903, 0.09186515001030678, 0.0686093360568184, 0.03818001236812023, 0.09323688698161647, 0.013788580102318093, 0.06039765380507092, 0.01795626182935743, 0.16038828401701555, 0.05481700803927815, 0.10690178588160335, 0.006731255738995176, 0.09728463542154676, 0.06423926690778255, 0.09868635571463374, 0.09466109476603639, 0.05074677210801491, 0.10559376346907033, 0.11511346813335083, 0.15483762157300002, 0.0504919138729082, 0.07134906208421565, 0.12341510035043007, 0.06176189494593633, 0.0111125686336975, 0.017930026422802323, 0.05324288364597193, 0.11929239360605663, 0.015137829582294843, 0.33431028990124245, 0.0026535239772876307, 0.15490508404699888, 0.13436276071435263, 0.012420591046230542, 0.10283904578078444, 0.14118396641867959, 0.05466709143039184, 0.1000880760077207, 0.201450443190975, 0.02620917114854862, 0.042291475366827216, 0.013919757135093608, 0.09323313906639433, 0.10423701815864925, 0.0822817307872496, 0.05896969810542886, 0.04398178513202031, 0.01930176339411202, 0.17811592301782134, 0.035751363304162065, 0.05466334351516969, 0.08910668440679871, 0.03295541854843244], \"sizemode\": \"area\", \"sizeref\": 0.0008357757247531061, \"symbol\": \"circle\"}, \"mode\": \"markers\", \"name\": \"\", \"showlegend\": false, \"type\": \"scattergeo\"}],                        {\"coloraxis\": {\"colorbar\": {\"title\": {\"text\": \"pct_ch_1\"}}, \"colorscale\": [[0.0, \"rgb(41, 24, 107)\"], [0.09090909090909091, \"rgb(42, 35, 160)\"], [0.18181818181818182, \"rgb(15, 71, 153)\"], [0.2727272727272727, \"rgb(18, 95, 142)\"], [0.36363636363636365, \"rgb(38, 116, 137)\"], [0.45454545454545453, \"rgb(53, 136, 136)\"], [0.5454545454545454, \"rgb(65, 157, 133)\"], [0.6363636363636364, \"rgb(81, 178, 124)\"], [0.7272727272727273, \"rgb(111, 198, 107)\"], [0.8181818181818182, \"rgb(160, 214, 91)\"], [0.9090909090909091, \"rgb(212, 225, 112)\"], [1.0, \"rgb(253, 238, 153)\"]]}, \"geo\": {\"center\": {\"lat\": 37.83800610344828, \"lon\": -120.74952093103452}, \"domain\": {\"x\": [0.0, 1.0], \"y\": [0.0, 1.0]}, \"landcolor\": \"lightsteelblue\", \"lataxis\": {\"range\": [42.749903, 31.023604]}, \"lonaxis\": {\"range\": [-114.355395, -125.980998]}, \"resolution\": 50, \"scope\": \"usa\", \"showland\": true, \"showsubunits\": true, \"subunitcolor\": \"black\", \"subunitwidth\": 1.5}, \"height\": 1080, \"legend\": {\"itemsizing\": \"constant\", \"tracegroupgap\": 0}, \"margin\": {\"t\": 60}, \"template\": {\"data\": {\"bar\": [{\"error_x\": {\"color\": \"#2a3f5f\"}, \"error_y\": {\"color\": \"#2a3f5f\"}, \"marker\": {\"line\": {\"color\": \"#E5ECF6\", \"width\": 0.5}}, \"type\": \"bar\"}], \"barpolar\": [{\"marker\": {\"line\": {\"color\": \"#E5ECF6\", \"width\": 0.5}}, \"type\": \"barpolar\"}], \"carpet\": [{\"aaxis\": {\"endlinecolor\": \"#2a3f5f\", \"gridcolor\": \"white\", \"linecolor\": \"white\", \"minorgridcolor\": \"white\", \"startlinecolor\": \"#2a3f5f\"}, \"baxis\": {\"endlinecolor\": \"#2a3f5f\", \"gridcolor\": \"white\", \"linecolor\": \"white\", \"minorgridcolor\": \"white\", \"startlinecolor\": \"#2a3f5f\"}, \"type\": \"carpet\"}], \"choropleth\": [{\"colorbar\": {\"outlinewidth\": 0, \"ticks\": \"\"}, \"type\": \"choropleth\"}], \"contour\": [{\"colorbar\": {\"outlinewidth\": 0, \"ticks\": \"\"}, \"colorscale\": [[0.0, \"#0d0887\"], [0.1111111111111111, \"#46039f\"], [0.2222222222222222, \"#7201a8\"], [0.3333333333333333, \"#9c179e\"], [0.4444444444444444, \"#bd3786\"], [0.5555555555555556, \"#d8576b\"], [0.6666666666666666, \"#ed7953\"], [0.7777777777777778, \"#fb9f3a\"], [0.8888888888888888, \"#fdca26\"], [1.0, \"#f0f921\"]], \"type\": \"contour\"}], \"contourcarpet\": [{\"colorbar\": {\"outlinewidth\": 0, \"ticks\": \"\"}, \"type\": \"contourcarpet\"}], \"heatmap\": [{\"colorbar\": {\"outlinewidth\": 0, \"ticks\": \"\"}, \"colorscale\": [[0.0, \"#0d0887\"], [0.1111111111111111, \"#46039f\"], [0.2222222222222222, \"#7201a8\"], [0.3333333333333333, \"#9c179e\"], [0.4444444444444444, \"#bd3786\"], [0.5555555555555556, \"#d8576b\"], [0.6666666666666666, \"#ed7953\"], [0.7777777777777778, \"#fb9f3a\"], [0.8888888888888888, \"#fdca26\"], [1.0, \"#f0f921\"]], \"type\": \"heatmap\"}], \"heatmapgl\": [{\"colorbar\": {\"outlinewidth\": 0, \"ticks\": \"\"}, \"colorscale\": [[0.0, \"#0d0887\"], [0.1111111111111111, \"#46039f\"], [0.2222222222222222, \"#7201a8\"], [0.3333333333333333, \"#9c179e\"], [0.4444444444444444, \"#bd3786\"], [0.5555555555555556, \"#d8576b\"], [0.6666666666666666, \"#ed7953\"], [0.7777777777777778, \"#fb9f3a\"], [0.8888888888888888, \"#fdca26\"], [1.0, \"#f0f921\"]], \"type\": \"heatmapgl\"}], \"histogram\": [{\"marker\": {\"colorbar\": {\"outlinewidth\": 0, \"ticks\": \"\"}}, \"type\": \"histogram\"}], \"histogram2d\": [{\"colorbar\": {\"outlinewidth\": 0, \"ticks\": \"\"}, \"colorscale\": [[0.0, \"#0d0887\"], [0.1111111111111111, \"#46039f\"], [0.2222222222222222, \"#7201a8\"], [0.3333333333333333, \"#9c179e\"], [0.4444444444444444, \"#bd3786\"], [0.5555555555555556, \"#d8576b\"], [0.6666666666666666, \"#ed7953\"], [0.7777777777777778, \"#fb9f3a\"], [0.8888888888888888, \"#fdca26\"], [1.0, \"#f0f921\"]], \"type\": \"histogram2d\"}], \"histogram2dcontour\": [{\"colorbar\": {\"outlinewidth\": 0, \"ticks\": \"\"}, \"colorscale\": [[0.0, \"#0d0887\"], [0.1111111111111111, \"#46039f\"], [0.2222222222222222, \"#7201a8\"], [0.3333333333333333, \"#9c179e\"], [0.4444444444444444, \"#bd3786\"], [0.5555555555555556, \"#d8576b\"], [0.6666666666666666, \"#ed7953\"], [0.7777777777777778, \"#fb9f3a\"], [0.8888888888888888, \"#fdca26\"], [1.0, \"#f0f921\"]], \"type\": \"histogram2dcontour\"}], \"mesh3d\": [{\"colorbar\": {\"outlinewidth\": 0, \"ticks\": \"\"}, \"type\": \"mesh3d\"}], \"parcoords\": [{\"line\": {\"colorbar\": {\"outlinewidth\": 0, \"ticks\": \"\"}}, \"type\": \"parcoords\"}], \"pie\": [{\"automargin\": true, \"type\": \"pie\"}], \"scatter\": [{\"marker\": {\"colorbar\": {\"outlinewidth\": 0, \"ticks\": \"\"}}, \"type\": \"scatter\"}], \"scatter3d\": [{\"line\": {\"colorbar\": {\"outlinewidth\": 0, \"ticks\": \"\"}}, \"marker\": {\"colorbar\": {\"outlinewidth\": 0, \"ticks\": \"\"}}, \"type\": \"scatter3d\"}], \"scattercarpet\": [{\"marker\": {\"colorbar\": {\"outlinewidth\": 0, \"ticks\": \"\"}}, \"type\": \"scattercarpet\"}], \"scattergeo\": [{\"marker\": {\"colorbar\": {\"outlinewidth\": 0, \"ticks\": \"\"}}, \"type\": \"scattergeo\"}], \"scattergl\": [{\"marker\": {\"colorbar\": {\"outlinewidth\": 0, \"ticks\": \"\"}}, \"type\": \"scattergl\"}], \"scattermapbox\": [{\"marker\": {\"colorbar\": {\"outlinewidth\": 0, \"ticks\": \"\"}}, \"type\": \"scattermapbox\"}], \"scatterpolar\": [{\"marker\": {\"colorbar\": {\"outlinewidth\": 0, \"ticks\": \"\"}}, \"type\": \"scatterpolar\"}], \"scatterpolargl\": [{\"marker\": {\"colorbar\": {\"outlinewidth\": 0, \"ticks\": \"\"}}, \"type\": \"scatterpolargl\"}], \"scatterternary\": [{\"marker\": {\"colorbar\": {\"outlinewidth\": 0, \"ticks\": \"\"}}, \"type\": \"scatterternary\"}], \"surface\": [{\"colorbar\": {\"outlinewidth\": 0, \"ticks\": \"\"}, \"colorscale\": [[0.0, \"#0d0887\"], [0.1111111111111111, \"#46039f\"], [0.2222222222222222, \"#7201a8\"], [0.3333333333333333, \"#9c179e\"], [0.4444444444444444, \"#bd3786\"], [0.5555555555555556, \"#d8576b\"], [0.6666666666666666, \"#ed7953\"], [0.7777777777777778, \"#fb9f3a\"], [0.8888888888888888, \"#fdca26\"], [1.0, \"#f0f921\"]], \"type\": \"surface\"}], \"table\": [{\"cells\": {\"fill\": {\"color\": \"#EBF0F8\"}, \"line\": {\"color\": \"white\"}}, \"header\": {\"fill\": {\"color\": \"#C8D4E3\"}, \"line\": {\"color\": \"white\"}}, \"type\": \"table\"}]}, \"layout\": {\"annotationdefaults\": {\"arrowcolor\": \"#2a3f5f\", \"arrowhead\": 0, \"arrowwidth\": 1}, \"autotypenumbers\": \"strict\", \"coloraxis\": {\"colorbar\": {\"outlinewidth\": 0, \"ticks\": \"\"}}, \"colorscale\": {\"diverging\": [[0, \"#8e0152\"], [0.1, \"#c51b7d\"], [0.2, \"#de77ae\"], [0.3, \"#f1b6da\"], [0.4, \"#fde0ef\"], [0.5, \"#f7f7f7\"], [0.6, \"#e6f5d0\"], [0.7, \"#b8e186\"], [0.8, \"#7fbc41\"], [0.9, \"#4d9221\"], [1, \"#276419\"]], \"sequential\": [[0.0, \"#0d0887\"], [0.1111111111111111, \"#46039f\"], [0.2222222222222222, \"#7201a8\"], [0.3333333333333333, \"#9c179e\"], [0.4444444444444444, \"#bd3786\"], [0.5555555555555556, \"#d8576b\"], [0.6666666666666666, \"#ed7953\"], [0.7777777777777778, \"#fb9f3a\"], [0.8888888888888888, \"#fdca26\"], [1.0, \"#f0f921\"]], \"sequentialminus\": [[0.0, \"#0d0887\"], [0.1111111111111111, \"#46039f\"], [0.2222222222222222, \"#7201a8\"], [0.3333333333333333, \"#9c179e\"], [0.4444444444444444, \"#bd3786\"], [0.5555555555555556, \"#d8576b\"], [0.6666666666666666, \"#ed7953\"], [0.7777777777777778, \"#fb9f3a\"], [0.8888888888888888, \"#fdca26\"], [1.0, \"#f0f921\"]]}, \"colorway\": [\"#636efa\", \"#EF553B\", \"#00cc96\", \"#ab63fa\", \"#FFA15A\", \"#19d3f3\", \"#FF6692\", \"#B6E880\", \"#FF97FF\", \"#FECB52\"], \"font\": {\"color\": \"#2a3f5f\"}, \"geo\": {\"bgcolor\": \"white\", \"lakecolor\": \"white\", \"landcolor\": \"#E5ECF6\", \"showlakes\": true, \"showland\": true, \"subunitcolor\": \"white\"}, \"hoverlabel\": {\"align\": \"left\"}, \"hovermode\": \"closest\", \"mapbox\": {\"style\": \"light\"}, \"paper_bgcolor\": \"white\", \"plot_bgcolor\": \"#E5ECF6\", \"polar\": {\"angularaxis\": {\"gridcolor\": \"white\", \"linecolor\": \"white\", \"ticks\": \"\"}, \"bgcolor\": \"#E5ECF6\", \"radialaxis\": {\"gridcolor\": \"white\", \"linecolor\": \"white\", \"ticks\": \"\"}}, \"scene\": {\"xaxis\": {\"backgroundcolor\": \"#E5ECF6\", \"gridcolor\": \"white\", \"gridwidth\": 2, \"linecolor\": \"white\", \"showbackground\": true, \"ticks\": \"\", \"zerolinecolor\": \"white\"}, \"yaxis\": {\"backgroundcolor\": \"#E5ECF6\", \"gridcolor\": \"white\", \"gridwidth\": 2, \"linecolor\": \"white\", \"showbackground\": true, \"ticks\": \"\", \"zerolinecolor\": \"white\"}, \"zaxis\": {\"backgroundcolor\": \"#E5ECF6\", \"gridcolor\": \"white\", \"gridwidth\": 2, \"linecolor\": \"white\", \"showbackground\": true, \"ticks\": \"\", \"zerolinecolor\": \"white\"}}, \"shapedefaults\": {\"line\": {\"color\": \"#2a3f5f\"}}, \"ternary\": {\"aaxis\": {\"gridcolor\": \"white\", \"linecolor\": \"white\", \"ticks\": \"\"}, \"baxis\": {\"gridcolor\": \"white\", \"linecolor\": \"white\", \"ticks\": \"\"}, \"bgcolor\": \"#E5ECF6\", \"caxis\": {\"gridcolor\": \"white\", \"linecolor\": \"white\", \"ticks\": \"\"}}, \"title\": {\"x\": 0.05}, \"xaxis\": {\"automargin\": true, \"gridcolor\": \"white\", \"linecolor\": \"white\", \"ticks\": \"\", \"title\": {\"standoff\": 15}, \"zerolinecolor\": \"white\", \"zerolinewidth\": 2}, \"yaxis\": {\"automargin\": true, \"gridcolor\": \"white\", \"linecolor\": \"white\", \"ticks\": \"\", \"title\": {\"standoff\": 15}, \"zerolinecolor\": \"white\", \"zerolinewidth\": 2}}}, \"width\": 1080},                        {\"responsive\": true}                    ).then(function(){\n",
              "                            \n",
              "var gd = document.getElementById('8f51efad-7782-4bf4-9e09-6b2015852a0d');\n",
              "var x = new MutationObserver(function (mutations, observer) {{\n",
              "        var display = window.getComputedStyle(gd).display;\n",
              "        if (!display || display === 'none') {{\n",
              "            console.log([gd, 'removed!']);\n",
              "            Plotly.purge(gd);\n",
              "            observer.disconnect();\n",
              "        }}\n",
              "}});\n",
              "\n",
              "// Listen for the removal of the full notebook cells\n",
              "var notebookContainer = gd.closest('#notebook-container');\n",
              "if (notebookContainer) {{\n",
              "    x.observe(notebookContainer, {childList: true});\n",
              "}}\n",
              "\n",
              "// Listen for the clearing of the current output cell\n",
              "var outputEl = gd.closest('.output');\n",
              "if (outputEl) {{\n",
              "    x.observe(outputEl, {childList: true});\n",
              "}}\n",
              "\n",
              "                        })                };                });            </script>        </div>"
            ]
          },
          "metadata": {},
          "output_type": "display_data"
        }
      ],
      "source": [
        "# plot 1\n",
        "fig1 = px.scatter_geo(final_df_fips, lat = \"lat\" , lon = \"lon\",hover_name='Name',center={'lat':lat1,'lon':lon1},height=1080,width=1080,opacity=1,color_continuous_scale = py.express.colors.sequential.haline, scope = 'usa',hover_data = ['fips','State','pct_ch_1'],color='pct_ch_1',size='size_1')\n",
        "fig1.update_geos(\n",
        "    resolution=50,\n",
        "    showland=True, landcolor=\"lightsteelblue\",\n",
        "    showsubunits=True, subunitcolor=\"black\", subunitwidth =1.5,\n",
        "    lonaxis_range=[lonr1,lonr2],lataxis_range=[latr1,latr2]\n",
        "    )\n",
        "fig1.show()"
      ]
    },
    {
      "cell_type": "code",
      "execution_count": null,
      "metadata": {
        "id": "EvxN33cDcMj3",
        "outputId": "06eb2673-6f73-4bbe-966d-2b5ec49b863b"
      },
      "outputs": [
        {
          "data": {
            "application/vnd.plotly.v1+json": {
              "config": {
                "plotlyServerURL": "https://plot.ly"
              },
              "data": [
                {
                  "customdata": [
                    [
                      6001,
                      "CA",
                      -0.06281505912336263
                    ],
                    [
                      6003,
                      "CA",
                      -0.00667128909544068
                    ],
                    [
                      6005,
                      "CA",
                      -0.0860633772464067
                    ],
                    [
                      6007,
                      "CA",
                      -0.01352247812154489
                    ],
                    [
                      6009,
                      "CA",
                      -0.09016359649944718
                    ],
                    [
                      6011,
                      "CA",
                      0.00981578996683094
                    ],
                    [
                      6013,
                      "CA",
                      -0.12718175514869856
                    ],
                    [
                      6015,
                      "CA",
                      0.10689054213593688
                    ],
                    [
                      6017,
                      "CA",
                      0.09602158799167962
                    ],
                    [
                      6019,
                      "CA",
                      0.028915165938946455
                    ],
                    [
                      6021,
                      "CA",
                      0.04130952157862189
                    ],
                    [
                      6023,
                      "CA",
                      -0.03549275715383318
                    ],
                    [
                      6025,
                      "CA",
                      0.10435320353053615
                    ],
                    [
                      6027,
                      "CA",
                      -0.03275303112643592
                    ],
                    [
                      6029,
                      "CA",
                      0.06314112774769035
                    ],
                    [
                      6031,
                      "CA",
                      0.0522084590446564
                    ],
                    [
                      6033,
                      "CA",
                      0.07551674381125498
                    ],
                    [
                      6035,
                      "CA",
                      -0.09698480220377416
                    ],
                    [
                      6037,
                      "CA",
                      0.05494068924160936
                    ],
                    [
                      6039,
                      "CA",
                      -0.07916346532241442
                    ],
                    [
                      6041,
                      "CA",
                      -0.09979199070517025
                    ],
                    [
                      6043,
                      "CA",
                      -0.038101306148454916
                    ],
                    [
                      6045,
                      "CA",
                      -0.020433633791203637
                    ],
                    [
                      6047,
                      "CA",
                      -0.04768472537151211
                    ],
                    [
                      6049,
                      "CA",
                      -0.10379101624721249
                    ],
                    [
                      6051,
                      "CA",
                      0.0015066619193073866
                    ],
                    [
                      6053,
                      "CA",
                      -0.11074339898431498
                    ],
                    [
                      6055,
                      "CA",
                      -0.0696812398103555
                    ],
                    [
                      6057,
                      "CA",
                      -0.024447650994134512
                    ],
                    [
                      6059,
                      "CA",
                      0.05082173041245806
                    ],
                    [
                      6061,
                      "CA",
                      0.03854356014466953
                    ],
                    [
                      6063,
                      "CA",
                      -0.029889623896707462
                    ],
                    [
                      6065,
                      "CA",
                      -0.12297659426943762
                    ],
                    [
                      6067,
                      "CA",
                      -0.13128572231696117
                    ],
                    [
                      6069,
                      "CA",
                      -0.12990274159998502
                    ],
                    [
                      6071,
                      "CA",
                      0.050900436632123375
                    ],
                    [
                      6073,
                      "CA",
                      -0.028634072297284638
                    ],
                    [
                      6075,
                      "CA",
                      -0.16001724041002194
                    ],
                    [
                      6077,
                      "CA",
                      -0.07101174971422146
                    ],
                    [
                      6079,
                      "CA",
                      0.015254014954181716
                    ],
                    [
                      6081,
                      "CA",
                      -0.07235350336375393
                    ],
                    [
                      6083,
                      "CA",
                      0.048089500215505135
                    ],
                    [
                      6085,
                      "CA",
                      -0.04500121807244721
                    ],
                    [
                      6087,
                      "CA",
                      -0.07784419916421492
                    ],
                    [
                      6089,
                      "CA",
                      -0.027198620767198242
                    ],
                    [
                      6091,
                      "CA",
                      -0.027157393699754506
                    ],
                    [
                      6093,
                      "CA",
                      -0.053246631561194094
                    ],
                    [
                      6095,
                      "CA",
                      -0.10938665367389389
                    ],
                    [
                      6097,
                      "CA",
                      -0.06969623147124412
                    ],
                    [
                      6099,
                      "CA",
                      -0.031276352528905815
                    ],
                    [
                      6101,
                      "CA",
                      -0.031276352528905815
                    ],
                    [
                      6103,
                      "CA",
                      0.01794501808369095
                    ],
                    [
                      6105,
                      "CA",
                      0.05080673875156945
                    ],
                    [
                      6107,
                      "CA",
                      -0.07514944811948356
                    ],
                    [
                      6109,
                      "CA",
                      -0.008058017727639005
                    ],
                    [
                      6111,
                      "CA",
                      0.0330378726833199
                    ],
                    [
                      6113,
                      "CA",
                      -0.10800367295691773
                    ],
                    [
                      6115,
                      "CA",
                      -0.009381031801060674
                    ]
                  ],
                  "geo": "geo",
                  "hovertemplate": "<b>%{hovertext}</b><br><br>size_2=%{marker.size}<br>lat=%{lat}<br>lon=%{lon}<br>fips=%{customdata[0]}<br>State=%{customdata[1]}<br>pct_ch_2=%{marker.color}<extra></extra>",
                  "hovertext": [
                    "Alameda",
                    "Alpine",
                    "Amador",
                    "Butte",
                    "Calaveras",
                    "Colusa",
                    "Contra Costa",
                    "Del Norte",
                    "El Dorado",
                    "Fresno",
                    "Glenn",
                    "Humboldt",
                    "Imperial",
                    "Inyo",
                    "Kern",
                    "Kings",
                    "Lake",
                    "Lassen",
                    "Los Angeles",
                    "Madera",
                    "Marin",
                    "Mariposa",
                    "Mendocino",
                    "Merced",
                    "Modoc",
                    "Mono",
                    "Monterey",
                    "Napa",
                    "Nevada",
                    "Orange",
                    "Placer",
                    "Plumas",
                    "Riverside",
                    "Sacramento",
                    "San Benito",
                    "San Bernardino",
                    "San Diego",
                    "San Francisco",
                    "San Joaquin",
                    "San Luis Obispo",
                    "San Mateo",
                    "Santa Barbara",
                    "Santa Clara",
                    "Santa Cruz",
                    "Shasta",
                    "Sierra",
                    "Siskiyou",
                    "Solano",
                    "Sonoma",
                    "Stanislaus",
                    "Sutter",
                    "Tehama",
                    "Trinity",
                    "Tulare",
                    "Tuolumne",
                    "Ventura",
                    "Yolo",
                    "Yuba"
                  ],
                  "lat": [
                    37.648081,
                    38.61761,
                    38.44355,
                    39.665959,
                    38.187844,
                    39.177739,
                    37.919478999999995,
                    41.749903,
                    38.785532,
                    36.761006,
                    39.602546000000004,
                    40.706672999999995,
                    33.040816,
                    36.561977,
                    35.346629,
                    36.072478000000004,
                    39.094802,
                    40.721089,
                    34.196397999999995,
                    37.210039,
                    38.051817,
                    37.570034,
                    39.432388,
                    37.194806,
                    41.592919,
                    37.915836,
                    36.240107,
                    38.507351,
                    39.295190999999996,
                    33.675686999999996,
                    39.062032,
                    39.99517,
                    33.729828000000005,
                    38.450010999999996,
                    36.610702,
                    34.85722,
                    33.023604,
                    37.727239000000004,
                    37.935034,
                    35.385227,
                    37.414664,
                    34.537378000000004,
                    37.220777000000005,
                    37.012488,
                    40.760521999999995,
                    39.576925,
                    41.587986,
                    38.267226,
                    38.532574,
                    37.562384,
                    39.035257,
                    40.126156,
                    40.647724,
                    36.230453000000004,
                    38.021451,
                    34.358742,
                    38.679268,
                    39.270026
                  ],
                  "legendgroup": "",
                  "lon": [
                    -121.91330400000001,
                    -119.798999,
                    -120.653856,
                    -121.601919,
                    -120.55511499999999,
                    -122.237563,
                    -121.95154299999999,
                    -123.980998,
                    -120.534398,
                    -119.655019,
                    -122.4017,
                    -123.92581799999999,
                    -115.355395,
                    -117.403927,
                    -118.729506,
                    -119.81553000000001,
                    -122.746757,
                    -120.629931,
                    -118.26186200000001,
                    -119.749852,
                    -122.745974,
                    -119.91286000000001,
                    -123.442881,
                    -120.722802,
                    -120.71837,
                    -118.87516699999999,
                    -121.315573,
                    -122.32599499999999,
                    -120.77344599999999,
                    -117.777207,
                    -120.722718,
                    -120.829516,
                    -116.00223899999999,
                    -121.340441,
                    -121.085296,
                    -116.181197,
                    -116.776117,
                    -123.032229,
                    -121.27223700000002,
                    -120.44753999999999,
                    -122.37154199999999,
                    -120.03848500000001,
                    -121.69062199999999,
                    -122.007205,
                    -122.04355,
                    -120.521993,
                    -122.53328700000002,
                    -121.939594,
                    -122.945194,
                    -121.002656,
                    -121.702758,
                    -122.232276,
                    -123.11440400000001,
                    -118.780542,
                    -119.964708,
                    -119.13314299999999,
                    -121.903178,
                    -121.34428
                  ],
                  "marker": {
                    "color": [
                      -0.06281505912336263,
                      -0.00667128909544068,
                      -0.0860633772464067,
                      -0.01352247812154489,
                      -0.09016359649944718,
                      0.00981578996683094,
                      -0.12718175514869856,
                      0.10689054213593688,
                      0.09602158799167962,
                      0.028915165938946455,
                      0.04130952157862189,
                      -0.03549275715383318,
                      0.10435320353053615,
                      -0.03275303112643592,
                      0.06314112774769035,
                      0.0522084590446564,
                      0.07551674381125498,
                      -0.09698480220377416,
                      0.05494068924160936,
                      -0.07916346532241442,
                      -0.09979199070517025,
                      -0.038101306148454916,
                      -0.020433633791203637,
                      -0.04768472537151211,
                      -0.10379101624721249,
                      0.0015066619193073866,
                      -0.11074339898431498,
                      -0.0696812398103555,
                      -0.024447650994134512,
                      0.05082173041245806,
                      0.03854356014466953,
                      -0.029889623896707462,
                      -0.12297659426943762,
                      -0.13128572231696117,
                      -0.12990274159998502,
                      0.050900436632123375,
                      -0.028634072297284638,
                      -0.16001724041002194,
                      -0.07101174971422146,
                      0.015254014954181716,
                      -0.07235350336375393,
                      0.048089500215505135,
                      -0.04500121807244721,
                      -0.07784419916421492,
                      -0.027198620767198242,
                      -0.027157393699754506,
                      -0.053246631561194094,
                      -0.10938665367389389,
                      -0.06969623147124412,
                      -0.031276352528905815,
                      -0.031276352528905815,
                      0.01794501808369095,
                      0.05080673875156945,
                      -0.07514944811948356,
                      -0.008058017727639005,
                      0.0330378726833199,
                      -0.10800367295691773,
                      -0.009381031801060674
                    ],
                    "coloraxis": "coloraxis",
                    "opacity": 1,
                    "size": [
                      0.06281505912336263,
                      0.00667128909544068,
                      0.0860633772464067,
                      0.01352247812154489,
                      0.09016359649944718,
                      0.00981578996683094,
                      0.12718175514869856,
                      0.10689054213593688,
                      0.09602158799167962,
                      0.028915165938946455,
                      0.04130952157862189,
                      0.03549275715383318,
                      0.10435320353053615,
                      0.03275303112643592,
                      0.06314112774769035,
                      0.0522084590446564,
                      0.07551674381125498,
                      0.09698480220377416,
                      0.05494068924160936,
                      0.07916346532241442,
                      0.09979199070517025,
                      0.038101306148454916,
                      0.020433633791203637,
                      0.04768472537151211,
                      0.10379101624721249,
                      0.0015066619193073866,
                      0.11074339898431498,
                      0.0696812398103555,
                      0.024447650994134512,
                      0.05082173041245806,
                      0.03854356014466953,
                      0.029889623896707462,
                      0.12297659426943762,
                      0.13128572231696117,
                      0.12990274159998502,
                      0.050900436632123375,
                      0.028634072297284638,
                      0.16001724041002194,
                      0.07101174971422146,
                      0.015254014954181716,
                      0.07235350336375393,
                      0.048089500215505135,
                      0.04500121807244721,
                      0.07784419916421492,
                      0.027198620767198242,
                      0.027157393699754506,
                      0.053246631561194094,
                      0.10938665367389389,
                      0.06969623147124412,
                      0.031276352528905815,
                      0.031276352528905815,
                      0.01794501808369095,
                      0.05080673875156945,
                      0.07514944811948356,
                      0.008058017727639005,
                      0.0330378726833199,
                      0.10800367295691773,
                      0.009381031801060674
                    ],
                    "sizemode": "area",
                    "sizeref": 0.00040004310102505485,
                    "symbol": "circle"
                  },
                  "mode": "markers",
                  "name": "",
                  "showlegend": false,
                  "type": "scattergeo"
                }
              ],
              "layout": {
                "coloraxis": {
                  "colorbar": {
                    "title": {
                      "text": "pct_ch_2"
                    }
                  },
                  "colorscale": [
                    [
                      0,
                      "rgb(36, 86, 104)"
                    ],
                    [
                      0.16666666666666666,
                      "rgb(15, 114, 121)"
                    ],
                    [
                      0.3333333333333333,
                      "rgb(13, 143, 129)"
                    ],
                    [
                      0.5,
                      "rgb(57, 171, 126)"
                    ],
                    [
                      0.6666666666666666,
                      "rgb(110, 197, 116)"
                    ],
                    [
                      0.8333333333333334,
                      "rgb(169, 220, 103)"
                    ],
                    [
                      1,
                      "rgb(237, 239, 93)"
                    ]
                  ]
                },
                "geo": {
                  "center": {
                    "lat": 37.83800610344828,
                    "lon": -120.74952093103452
                  },
                  "domain": {
                    "x": [
                      0,
                      1
                    ],
                    "y": [
                      0,
                      1
                    ]
                  },
                  "lataxis": {
                    "range": [
                      42.749903,
                      31.023604
                    ]
                  },
                  "lonaxis": {
                    "range": [
                      -114.355395,
                      -125.980998
                    ]
                  },
                  "resolution": 50,
                  "scope": "usa",
                  "showsubunits": true,
                  "subunitcolor": "white",
                  "subunitwidth": 1.5
                },
                "height": 1080,
                "legend": {
                  "itemsizing": "constant",
                  "tracegroupgap": 0
                },
                "margin": {
                  "t": 60
                },
                "template": {
                  "data": {
                    "bar": [
                      {
                        "error_x": {
                          "color": "#f2f5fa"
                        },
                        "error_y": {
                          "color": "#f2f5fa"
                        },
                        "marker": {
                          "line": {
                            "color": "rgb(17,17,17)",
                            "width": 0.5
                          }
                        },
                        "type": "bar"
                      }
                    ],
                    "barpolar": [
                      {
                        "marker": {
                          "line": {
                            "color": "rgb(17,17,17)",
                            "width": 0.5
                          }
                        },
                        "type": "barpolar"
                      }
                    ],
                    "carpet": [
                      {
                        "aaxis": {
                          "endlinecolor": "#A2B1C6",
                          "gridcolor": "#506784",
                          "linecolor": "#506784",
                          "minorgridcolor": "#506784",
                          "startlinecolor": "#A2B1C6"
                        },
                        "baxis": {
                          "endlinecolor": "#A2B1C6",
                          "gridcolor": "#506784",
                          "linecolor": "#506784",
                          "minorgridcolor": "#506784",
                          "startlinecolor": "#A2B1C6"
                        },
                        "type": "carpet"
                      }
                    ],
                    "choropleth": [
                      {
                        "colorbar": {
                          "outlinewidth": 0,
                          "ticks": ""
                        },
                        "type": "choropleth"
                      }
                    ],
                    "contour": [
                      {
                        "colorbar": {
                          "outlinewidth": 0,
                          "ticks": ""
                        },
                        "colorscale": [
                          [
                            0,
                            "#0d0887"
                          ],
                          [
                            0.1111111111111111,
                            "#46039f"
                          ],
                          [
                            0.2222222222222222,
                            "#7201a8"
                          ],
                          [
                            0.3333333333333333,
                            "#9c179e"
                          ],
                          [
                            0.4444444444444444,
                            "#bd3786"
                          ],
                          [
                            0.5555555555555556,
                            "#d8576b"
                          ],
                          [
                            0.6666666666666666,
                            "#ed7953"
                          ],
                          [
                            0.7777777777777778,
                            "#fb9f3a"
                          ],
                          [
                            0.8888888888888888,
                            "#fdca26"
                          ],
                          [
                            1,
                            "#f0f921"
                          ]
                        ],
                        "type": "contour"
                      }
                    ],
                    "contourcarpet": [
                      {
                        "colorbar": {
                          "outlinewidth": 0,
                          "ticks": ""
                        },
                        "type": "contourcarpet"
                      }
                    ],
                    "heatmap": [
                      {
                        "colorbar": {
                          "outlinewidth": 0,
                          "ticks": ""
                        },
                        "colorscale": [
                          [
                            0,
                            "#0d0887"
                          ],
                          [
                            0.1111111111111111,
                            "#46039f"
                          ],
                          [
                            0.2222222222222222,
                            "#7201a8"
                          ],
                          [
                            0.3333333333333333,
                            "#9c179e"
                          ],
                          [
                            0.4444444444444444,
                            "#bd3786"
                          ],
                          [
                            0.5555555555555556,
                            "#d8576b"
                          ],
                          [
                            0.6666666666666666,
                            "#ed7953"
                          ],
                          [
                            0.7777777777777778,
                            "#fb9f3a"
                          ],
                          [
                            0.8888888888888888,
                            "#fdca26"
                          ],
                          [
                            1,
                            "#f0f921"
                          ]
                        ],
                        "type": "heatmap"
                      }
                    ],
                    "heatmapgl": [
                      {
                        "colorbar": {
                          "outlinewidth": 0,
                          "ticks": ""
                        },
                        "colorscale": [
                          [
                            0,
                            "#0d0887"
                          ],
                          [
                            0.1111111111111111,
                            "#46039f"
                          ],
                          [
                            0.2222222222222222,
                            "#7201a8"
                          ],
                          [
                            0.3333333333333333,
                            "#9c179e"
                          ],
                          [
                            0.4444444444444444,
                            "#bd3786"
                          ],
                          [
                            0.5555555555555556,
                            "#d8576b"
                          ],
                          [
                            0.6666666666666666,
                            "#ed7953"
                          ],
                          [
                            0.7777777777777778,
                            "#fb9f3a"
                          ],
                          [
                            0.8888888888888888,
                            "#fdca26"
                          ],
                          [
                            1,
                            "#f0f921"
                          ]
                        ],
                        "type": "heatmapgl"
                      }
                    ],
                    "histogram": [
                      {
                        "marker": {
                          "colorbar": {
                            "outlinewidth": 0,
                            "ticks": ""
                          }
                        },
                        "type": "histogram"
                      }
                    ],
                    "histogram2d": [
                      {
                        "colorbar": {
                          "outlinewidth": 0,
                          "ticks": ""
                        },
                        "colorscale": [
                          [
                            0,
                            "#0d0887"
                          ],
                          [
                            0.1111111111111111,
                            "#46039f"
                          ],
                          [
                            0.2222222222222222,
                            "#7201a8"
                          ],
                          [
                            0.3333333333333333,
                            "#9c179e"
                          ],
                          [
                            0.4444444444444444,
                            "#bd3786"
                          ],
                          [
                            0.5555555555555556,
                            "#d8576b"
                          ],
                          [
                            0.6666666666666666,
                            "#ed7953"
                          ],
                          [
                            0.7777777777777778,
                            "#fb9f3a"
                          ],
                          [
                            0.8888888888888888,
                            "#fdca26"
                          ],
                          [
                            1,
                            "#f0f921"
                          ]
                        ],
                        "type": "histogram2d"
                      }
                    ],
                    "histogram2dcontour": [
                      {
                        "colorbar": {
                          "outlinewidth": 0,
                          "ticks": ""
                        },
                        "colorscale": [
                          [
                            0,
                            "#0d0887"
                          ],
                          [
                            0.1111111111111111,
                            "#46039f"
                          ],
                          [
                            0.2222222222222222,
                            "#7201a8"
                          ],
                          [
                            0.3333333333333333,
                            "#9c179e"
                          ],
                          [
                            0.4444444444444444,
                            "#bd3786"
                          ],
                          [
                            0.5555555555555556,
                            "#d8576b"
                          ],
                          [
                            0.6666666666666666,
                            "#ed7953"
                          ],
                          [
                            0.7777777777777778,
                            "#fb9f3a"
                          ],
                          [
                            0.8888888888888888,
                            "#fdca26"
                          ],
                          [
                            1,
                            "#f0f921"
                          ]
                        ],
                        "type": "histogram2dcontour"
                      }
                    ],
                    "mesh3d": [
                      {
                        "colorbar": {
                          "outlinewidth": 0,
                          "ticks": ""
                        },
                        "type": "mesh3d"
                      }
                    ],
                    "parcoords": [
                      {
                        "line": {
                          "colorbar": {
                            "outlinewidth": 0,
                            "ticks": ""
                          }
                        },
                        "type": "parcoords"
                      }
                    ],
                    "pie": [
                      {
                        "automargin": true,
                        "type": "pie"
                      }
                    ],
                    "scatter": [
                      {
                        "marker": {
                          "line": {
                            "color": "#283442"
                          }
                        },
                        "type": "scatter"
                      }
                    ],
                    "scatter3d": [
                      {
                        "line": {
                          "colorbar": {
                            "outlinewidth": 0,
                            "ticks": ""
                          }
                        },
                        "marker": {
                          "colorbar": {
                            "outlinewidth": 0,
                            "ticks": ""
                          }
                        },
                        "type": "scatter3d"
                      }
                    ],
                    "scattercarpet": [
                      {
                        "marker": {
                          "colorbar": {
                            "outlinewidth": 0,
                            "ticks": ""
                          }
                        },
                        "type": "scattercarpet"
                      }
                    ],
                    "scattergeo": [
                      {
                        "marker": {
                          "colorbar": {
                            "outlinewidth": 0,
                            "ticks": ""
                          }
                        },
                        "type": "scattergeo"
                      }
                    ],
                    "scattergl": [
                      {
                        "marker": {
                          "line": {
                            "color": "#283442"
                          }
                        },
                        "type": "scattergl"
                      }
                    ],
                    "scattermapbox": [
                      {
                        "marker": {
                          "colorbar": {
                            "outlinewidth": 0,
                            "ticks": ""
                          }
                        },
                        "type": "scattermapbox"
                      }
                    ],
                    "scatterpolar": [
                      {
                        "marker": {
                          "colorbar": {
                            "outlinewidth": 0,
                            "ticks": ""
                          }
                        },
                        "type": "scatterpolar"
                      }
                    ],
                    "scatterpolargl": [
                      {
                        "marker": {
                          "colorbar": {
                            "outlinewidth": 0,
                            "ticks": ""
                          }
                        },
                        "type": "scatterpolargl"
                      }
                    ],
                    "scatterternary": [
                      {
                        "marker": {
                          "colorbar": {
                            "outlinewidth": 0,
                            "ticks": ""
                          }
                        },
                        "type": "scatterternary"
                      }
                    ],
                    "surface": [
                      {
                        "colorbar": {
                          "outlinewidth": 0,
                          "ticks": ""
                        },
                        "colorscale": [
                          [
                            0,
                            "#0d0887"
                          ],
                          [
                            0.1111111111111111,
                            "#46039f"
                          ],
                          [
                            0.2222222222222222,
                            "#7201a8"
                          ],
                          [
                            0.3333333333333333,
                            "#9c179e"
                          ],
                          [
                            0.4444444444444444,
                            "#bd3786"
                          ],
                          [
                            0.5555555555555556,
                            "#d8576b"
                          ],
                          [
                            0.6666666666666666,
                            "#ed7953"
                          ],
                          [
                            0.7777777777777778,
                            "#fb9f3a"
                          ],
                          [
                            0.8888888888888888,
                            "#fdca26"
                          ],
                          [
                            1,
                            "#f0f921"
                          ]
                        ],
                        "type": "surface"
                      }
                    ],
                    "table": [
                      {
                        "cells": {
                          "fill": {
                            "color": "#506784"
                          },
                          "line": {
                            "color": "rgb(17,17,17)"
                          }
                        },
                        "header": {
                          "fill": {
                            "color": "#2a3f5f"
                          },
                          "line": {
                            "color": "rgb(17,17,17)"
                          }
                        },
                        "type": "table"
                      }
                    ]
                  },
                  "layout": {
                    "annotationdefaults": {
                      "arrowcolor": "#f2f5fa",
                      "arrowhead": 0,
                      "arrowwidth": 1
                    },
                    "autotypenumbers": "strict",
                    "coloraxis": {
                      "colorbar": {
                        "outlinewidth": 0,
                        "ticks": ""
                      }
                    },
                    "colorscale": {
                      "diverging": [
                        [
                          0,
                          "#8e0152"
                        ],
                        [
                          0.1,
                          "#c51b7d"
                        ],
                        [
                          0.2,
                          "#de77ae"
                        ],
                        [
                          0.3,
                          "#f1b6da"
                        ],
                        [
                          0.4,
                          "#fde0ef"
                        ],
                        [
                          0.5,
                          "#f7f7f7"
                        ],
                        [
                          0.6,
                          "#e6f5d0"
                        ],
                        [
                          0.7,
                          "#b8e186"
                        ],
                        [
                          0.8,
                          "#7fbc41"
                        ],
                        [
                          0.9,
                          "#4d9221"
                        ],
                        [
                          1,
                          "#276419"
                        ]
                      ],
                      "sequential": [
                        [
                          0,
                          "#0d0887"
                        ],
                        [
                          0.1111111111111111,
                          "#46039f"
                        ],
                        [
                          0.2222222222222222,
                          "#7201a8"
                        ],
                        [
                          0.3333333333333333,
                          "#9c179e"
                        ],
                        [
                          0.4444444444444444,
                          "#bd3786"
                        ],
                        [
                          0.5555555555555556,
                          "#d8576b"
                        ],
                        [
                          0.6666666666666666,
                          "#ed7953"
                        ],
                        [
                          0.7777777777777778,
                          "#fb9f3a"
                        ],
                        [
                          0.8888888888888888,
                          "#fdca26"
                        ],
                        [
                          1,
                          "#f0f921"
                        ]
                      ],
                      "sequentialminus": [
                        [
                          0,
                          "#0d0887"
                        ],
                        [
                          0.1111111111111111,
                          "#46039f"
                        ],
                        [
                          0.2222222222222222,
                          "#7201a8"
                        ],
                        [
                          0.3333333333333333,
                          "#9c179e"
                        ],
                        [
                          0.4444444444444444,
                          "#bd3786"
                        ],
                        [
                          0.5555555555555556,
                          "#d8576b"
                        ],
                        [
                          0.6666666666666666,
                          "#ed7953"
                        ],
                        [
                          0.7777777777777778,
                          "#fb9f3a"
                        ],
                        [
                          0.8888888888888888,
                          "#fdca26"
                        ],
                        [
                          1,
                          "#f0f921"
                        ]
                      ]
                    },
                    "colorway": [
                      "#636efa",
                      "#EF553B",
                      "#00cc96",
                      "#ab63fa",
                      "#FFA15A",
                      "#19d3f3",
                      "#FF6692",
                      "#B6E880",
                      "#FF97FF",
                      "#FECB52"
                    ],
                    "font": {
                      "color": "#f2f5fa"
                    },
                    "geo": {
                      "bgcolor": "rgb(17,17,17)",
                      "lakecolor": "rgb(17,17,17)",
                      "landcolor": "rgb(17,17,17)",
                      "showlakes": true,
                      "showland": true,
                      "subunitcolor": "#506784"
                    },
                    "hoverlabel": {
                      "align": "left"
                    },
                    "hovermode": "closest",
                    "mapbox": {
                      "style": "dark"
                    },
                    "paper_bgcolor": "rgb(17,17,17)",
                    "plot_bgcolor": "rgb(17,17,17)",
                    "polar": {
                      "angularaxis": {
                        "gridcolor": "#506784",
                        "linecolor": "#506784",
                        "ticks": ""
                      },
                      "bgcolor": "rgb(17,17,17)",
                      "radialaxis": {
                        "gridcolor": "#506784",
                        "linecolor": "#506784",
                        "ticks": ""
                      }
                    },
                    "scene": {
                      "xaxis": {
                        "backgroundcolor": "rgb(17,17,17)",
                        "gridcolor": "#506784",
                        "gridwidth": 2,
                        "linecolor": "#506784",
                        "showbackground": true,
                        "ticks": "",
                        "zerolinecolor": "#C8D4E3"
                      },
                      "yaxis": {
                        "backgroundcolor": "rgb(17,17,17)",
                        "gridcolor": "#506784",
                        "gridwidth": 2,
                        "linecolor": "#506784",
                        "showbackground": true,
                        "ticks": "",
                        "zerolinecolor": "#C8D4E3"
                      },
                      "zaxis": {
                        "backgroundcolor": "rgb(17,17,17)",
                        "gridcolor": "#506784",
                        "gridwidth": 2,
                        "linecolor": "#506784",
                        "showbackground": true,
                        "ticks": "",
                        "zerolinecolor": "#C8D4E3"
                      }
                    },
                    "shapedefaults": {
                      "line": {
                        "color": "#f2f5fa"
                      }
                    },
                    "sliderdefaults": {
                      "bgcolor": "#C8D4E3",
                      "bordercolor": "rgb(17,17,17)",
                      "borderwidth": 1,
                      "tickwidth": 0
                    },
                    "ternary": {
                      "aaxis": {
                        "gridcolor": "#506784",
                        "linecolor": "#506784",
                        "ticks": ""
                      },
                      "baxis": {
                        "gridcolor": "#506784",
                        "linecolor": "#506784",
                        "ticks": ""
                      },
                      "bgcolor": "rgb(17,17,17)",
                      "caxis": {
                        "gridcolor": "#506784",
                        "linecolor": "#506784",
                        "ticks": ""
                      }
                    },
                    "title": {
                      "x": 0.05
                    },
                    "updatemenudefaults": {
                      "bgcolor": "#506784",
                      "borderwidth": 0
                    },
                    "xaxis": {
                      "automargin": true,
                      "gridcolor": "#283442",
                      "linecolor": "#506784",
                      "ticks": "",
                      "title": {
                        "standoff": 15
                      },
                      "zerolinecolor": "#283442",
                      "zerolinewidth": 2
                    },
                    "yaxis": {
                      "automargin": true,
                      "gridcolor": "#283442",
                      "linecolor": "#506784",
                      "ticks": "",
                      "title": {
                        "standoff": 15
                      },
                      "zerolinecolor": "#283442",
                      "zerolinewidth": 2
                    }
                  }
                },
                "width": 1080
              }
            },
            "text/html": [
              "<div>                            <div id=\"886d8193-dd32-414f-8ccd-55df5fb671b8\" class=\"plotly-graph-div\" style=\"height:1080px; width:1080px;\"></div>            <script type=\"text/javascript\">                require([\"plotly\"], function(Plotly) {                    window.PLOTLYENV=window.PLOTLYENV || {};                                    if (document.getElementById(\"886d8193-dd32-414f-8ccd-55df5fb671b8\")) {                    Plotly.newPlot(                        \"886d8193-dd32-414f-8ccd-55df5fb671b8\",                        [{\"customdata\": [[6001, \"CA\", -0.06281505912336263], [6003, \"CA\", -0.00667128909544068], [6005, \"CA\", -0.0860633772464067], [6007, \"CA\", -0.01352247812154489], [6009, \"CA\", -0.09016359649944718], [6011, \"CA\", 0.00981578996683094], [6013, \"CA\", -0.12718175514869856], [6015, \"CA\", 0.10689054213593688], [6017, \"CA\", 0.09602158799167962], [6019, \"CA\", 0.028915165938946455], [6021, \"CA\", 0.04130952157862189], [6023, \"CA\", -0.03549275715383318], [6025, \"CA\", 0.10435320353053615], [6027, \"CA\", -0.03275303112643592], [6029, \"CA\", 0.06314112774769035], [6031, \"CA\", 0.0522084590446564], [6033, \"CA\", 0.07551674381125498], [6035, \"CA\", -0.09698480220377416], [6037, \"CA\", 0.05494068924160936], [6039, \"CA\", -0.07916346532241442], [6041, \"CA\", -0.09979199070517025], [6043, \"CA\", -0.038101306148454916], [6045, \"CA\", -0.020433633791203637], [6047, \"CA\", -0.04768472537151211], [6049, \"CA\", -0.10379101624721249], [6051, \"CA\", 0.0015066619193073866], [6053, \"CA\", -0.11074339898431498], [6055, \"CA\", -0.0696812398103555], [6057, \"CA\", -0.024447650994134512], [6059, \"CA\", 0.05082173041245806], [6061, \"CA\", 0.03854356014466953], [6063, \"CA\", -0.029889623896707462], [6065, \"CA\", -0.12297659426943762], [6067, \"CA\", -0.13128572231696117], [6069, \"CA\", -0.12990274159998502], [6071, \"CA\", 0.050900436632123375], [6073, \"CA\", -0.028634072297284638], [6075, \"CA\", -0.16001724041002194], [6077, \"CA\", -0.07101174971422146], [6079, \"CA\", 0.015254014954181716], [6081, \"CA\", -0.07235350336375393], [6083, \"CA\", 0.048089500215505135], [6085, \"CA\", -0.04500121807244721], [6087, \"CA\", -0.07784419916421492], [6089, \"CA\", -0.027198620767198242], [6091, \"CA\", -0.027157393699754506], [6093, \"CA\", -0.053246631561194094], [6095, \"CA\", -0.10938665367389389], [6097, \"CA\", -0.06969623147124412], [6099, \"CA\", -0.031276352528905815], [6101, \"CA\", -0.031276352528905815], [6103, \"CA\", 0.01794501808369095], [6105, \"CA\", 0.05080673875156945], [6107, \"CA\", -0.07514944811948356], [6109, \"CA\", -0.008058017727639005], [6111, \"CA\", 0.0330378726833199], [6113, \"CA\", -0.10800367295691773], [6115, \"CA\", -0.009381031801060674]], \"geo\": \"geo\", \"hovertemplate\": \"<b>%{hovertext}</b><br><br>size_2=%{marker.size}<br>lat=%{lat}<br>lon=%{lon}<br>fips=%{customdata[0]}<br>State=%{customdata[1]}<br>pct_ch_2=%{marker.color}<extra></extra>\", \"hovertext\": [\"Alameda\", \"Alpine\", \"Amador\", \"Butte\", \"Calaveras\", \"Colusa\", \"Contra Costa\", \"Del Norte\", \"El Dorado\", \"Fresno\", \"Glenn\", \"Humboldt\", \"Imperial\", \"Inyo\", \"Kern\", \"Kings\", \"Lake\", \"Lassen\", \"Los Angeles\", \"Madera\", \"Marin\", \"Mariposa\", \"Mendocino\", \"Merced\", \"Modoc\", \"Mono\", \"Monterey\", \"Napa\", \"Nevada\", \"Orange\", \"Placer\", \"Plumas\", \"Riverside\", \"Sacramento\", \"San Benito\", \"San Bernardino\", \"San Diego\", \"San Francisco\", \"San Joaquin\", \"San Luis Obispo\", \"San Mateo\", \"Santa Barbara\", \"Santa Clara\", \"Santa Cruz\", \"Shasta\", \"Sierra\", \"Siskiyou\", \"Solano\", \"Sonoma\", \"Stanislaus\", \"Sutter\", \"Tehama\", \"Trinity\", \"Tulare\", \"Tuolumne\", \"Ventura\", \"Yolo\", \"Yuba\"], \"lat\": [37.648081, 38.61761, 38.44355, 39.665959, 38.187844, 39.177739, 37.919478999999995, 41.749903, 38.785532, 36.761006, 39.602546000000004, 40.706672999999995, 33.040816, 36.561977, 35.346629, 36.072478000000004, 39.094802, 40.721089, 34.196397999999995, 37.210039, 38.051817, 37.570034, 39.432388, 37.194806, 41.592919, 37.915836, 36.240107, 38.507351, 39.295190999999996, 33.675686999999996, 39.062032, 39.99517, 33.729828000000005, 38.450010999999996, 36.610702, 34.85722, 33.023604, 37.727239000000004, 37.935034, 35.385227, 37.414664, 34.537378000000004, 37.220777000000005, 37.012488, 40.760521999999995, 39.576925, 41.587986, 38.267226, 38.532574, 37.562384, 39.035257, 40.126156, 40.647724, 36.230453000000004, 38.021451, 34.358742, 38.679268, 39.270026], \"legendgroup\": \"\", \"lon\": [-121.91330400000001, -119.798999, -120.653856, -121.601919, -120.55511499999999, -122.237563, -121.95154299999999, -123.980998, -120.534398, -119.655019, -122.4017, -123.92581799999999, -115.355395, -117.403927, -118.729506, -119.81553000000001, -122.746757, -120.629931, -118.26186200000001, -119.749852, -122.745974, -119.91286000000001, -123.442881, -120.722802, -120.71837, -118.87516699999999, -121.315573, -122.32599499999999, -120.77344599999999, -117.777207, -120.722718, -120.829516, -116.00223899999999, -121.340441, -121.085296, -116.181197, -116.776117, -123.032229, -121.27223700000002, -120.44753999999999, -122.37154199999999, -120.03848500000001, -121.69062199999999, -122.007205, -122.04355, -120.521993, -122.53328700000002, -121.939594, -122.945194, -121.002656, -121.702758, -122.232276, -123.11440400000001, -118.780542, -119.964708, -119.13314299999999, -121.903178, -121.34428], \"marker\": {\"color\": [-0.06281505912336263, -0.00667128909544068, -0.0860633772464067, -0.01352247812154489, -0.09016359649944718, 0.00981578996683094, -0.12718175514869856, 0.10689054213593688, 0.09602158799167962, 0.028915165938946455, 0.04130952157862189, -0.03549275715383318, 0.10435320353053615, -0.03275303112643592, 0.06314112774769035, 0.0522084590446564, 0.07551674381125498, -0.09698480220377416, 0.05494068924160936, -0.07916346532241442, -0.09979199070517025, -0.038101306148454916, -0.020433633791203637, -0.04768472537151211, -0.10379101624721249, 0.0015066619193073866, -0.11074339898431498, -0.0696812398103555, -0.024447650994134512, 0.05082173041245806, 0.03854356014466953, -0.029889623896707462, -0.12297659426943762, -0.13128572231696117, -0.12990274159998502, 0.050900436632123375, -0.028634072297284638, -0.16001724041002194, -0.07101174971422146, 0.015254014954181716, -0.07235350336375393, 0.048089500215505135, -0.04500121807244721, -0.07784419916421492, -0.027198620767198242, -0.027157393699754506, -0.053246631561194094, -0.10938665367389389, -0.06969623147124412, -0.031276352528905815, -0.031276352528905815, 0.01794501808369095, 0.05080673875156945, -0.07514944811948356, -0.008058017727639005, 0.0330378726833199, -0.10800367295691773, -0.009381031801060674], \"coloraxis\": \"coloraxis\", \"opacity\": 1, \"size\": [0.06281505912336263, 0.00667128909544068, 0.0860633772464067, 0.01352247812154489, 0.09016359649944718, 0.00981578996683094, 0.12718175514869856, 0.10689054213593688, 0.09602158799167962, 0.028915165938946455, 0.04130952157862189, 0.03549275715383318, 0.10435320353053615, 0.03275303112643592, 0.06314112774769035, 0.0522084590446564, 0.07551674381125498, 0.09698480220377416, 0.05494068924160936, 0.07916346532241442, 0.09979199070517025, 0.038101306148454916, 0.020433633791203637, 0.04768472537151211, 0.10379101624721249, 0.0015066619193073866, 0.11074339898431498, 0.0696812398103555, 0.024447650994134512, 0.05082173041245806, 0.03854356014466953, 0.029889623896707462, 0.12297659426943762, 0.13128572231696117, 0.12990274159998502, 0.050900436632123375, 0.028634072297284638, 0.16001724041002194, 0.07101174971422146, 0.015254014954181716, 0.07235350336375393, 0.048089500215505135, 0.04500121807244721, 0.07784419916421492, 0.027198620767198242, 0.027157393699754506, 0.053246631561194094, 0.10938665367389389, 0.06969623147124412, 0.031276352528905815, 0.031276352528905815, 0.01794501808369095, 0.05080673875156945, 0.07514944811948356, 0.008058017727639005, 0.0330378726833199, 0.10800367295691773, 0.009381031801060674], \"sizemode\": \"area\", \"sizeref\": 0.00040004310102505485, \"symbol\": \"circle\"}, \"mode\": \"markers\", \"name\": \"\", \"showlegend\": false, \"type\": \"scattergeo\"}],                        {\"coloraxis\": {\"colorbar\": {\"title\": {\"text\": \"pct_ch_2\"}}, \"colorscale\": [[0.0, \"rgb(36, 86, 104)\"], [0.16666666666666666, \"rgb(15, 114, 121)\"], [0.3333333333333333, \"rgb(13, 143, 129)\"], [0.5, \"rgb(57, 171, 126)\"], [0.6666666666666666, \"rgb(110, 197, 116)\"], [0.8333333333333334, \"rgb(169, 220, 103)\"], [1.0, \"rgb(237, 239, 93)\"]]}, \"geo\": {\"center\": {\"lat\": 37.83800610344828, \"lon\": -120.74952093103452}, \"domain\": {\"x\": [0.0, 1.0], \"y\": [0.0, 1.0]}, \"lataxis\": {\"range\": [42.749903, 31.023604]}, \"lonaxis\": {\"range\": [-114.355395, -125.980998]}, \"resolution\": 50, \"scope\": \"usa\", \"showsubunits\": true, \"subunitcolor\": \"white\", \"subunitwidth\": 1.5}, \"height\": 1080, \"legend\": {\"itemsizing\": \"constant\", \"tracegroupgap\": 0}, \"margin\": {\"t\": 60}, \"template\": {\"data\": {\"bar\": [{\"error_x\": {\"color\": \"#f2f5fa\"}, \"error_y\": {\"color\": \"#f2f5fa\"}, \"marker\": {\"line\": {\"color\": \"rgb(17,17,17)\", \"width\": 0.5}}, \"type\": \"bar\"}], \"barpolar\": [{\"marker\": {\"line\": {\"color\": \"rgb(17,17,17)\", \"width\": 0.5}}, \"type\": \"barpolar\"}], \"carpet\": [{\"aaxis\": {\"endlinecolor\": \"#A2B1C6\", \"gridcolor\": \"#506784\", \"linecolor\": \"#506784\", \"minorgridcolor\": \"#506784\", \"startlinecolor\": \"#A2B1C6\"}, \"baxis\": {\"endlinecolor\": \"#A2B1C6\", \"gridcolor\": \"#506784\", \"linecolor\": \"#506784\", \"minorgridcolor\": \"#506784\", \"startlinecolor\": \"#A2B1C6\"}, \"type\": \"carpet\"}], \"choropleth\": [{\"colorbar\": {\"outlinewidth\": 0, \"ticks\": \"\"}, \"type\": \"choropleth\"}], \"contour\": [{\"colorbar\": {\"outlinewidth\": 0, \"ticks\": \"\"}, \"colorscale\": [[0.0, \"#0d0887\"], [0.1111111111111111, \"#46039f\"], [0.2222222222222222, \"#7201a8\"], [0.3333333333333333, \"#9c179e\"], [0.4444444444444444, \"#bd3786\"], [0.5555555555555556, \"#d8576b\"], [0.6666666666666666, \"#ed7953\"], [0.7777777777777778, \"#fb9f3a\"], [0.8888888888888888, \"#fdca26\"], [1.0, \"#f0f921\"]], \"type\": \"contour\"}], \"contourcarpet\": [{\"colorbar\": {\"outlinewidth\": 0, \"ticks\": \"\"}, \"type\": \"contourcarpet\"}], \"heatmap\": [{\"colorbar\": {\"outlinewidth\": 0, \"ticks\": \"\"}, \"colorscale\": [[0.0, \"#0d0887\"], [0.1111111111111111, \"#46039f\"], [0.2222222222222222, \"#7201a8\"], [0.3333333333333333, \"#9c179e\"], [0.4444444444444444, \"#bd3786\"], [0.5555555555555556, \"#d8576b\"], [0.6666666666666666, \"#ed7953\"], [0.7777777777777778, \"#fb9f3a\"], [0.8888888888888888, \"#fdca26\"], [1.0, \"#f0f921\"]], \"type\": \"heatmap\"}], \"heatmapgl\": [{\"colorbar\": {\"outlinewidth\": 0, \"ticks\": \"\"}, \"colorscale\": [[0.0, \"#0d0887\"], [0.1111111111111111, \"#46039f\"], [0.2222222222222222, \"#7201a8\"], [0.3333333333333333, \"#9c179e\"], [0.4444444444444444, \"#bd3786\"], [0.5555555555555556, \"#d8576b\"], [0.6666666666666666, \"#ed7953\"], [0.7777777777777778, \"#fb9f3a\"], [0.8888888888888888, \"#fdca26\"], [1.0, \"#f0f921\"]], \"type\": \"heatmapgl\"}], \"histogram\": [{\"marker\": {\"colorbar\": {\"outlinewidth\": 0, \"ticks\": \"\"}}, \"type\": \"histogram\"}], \"histogram2d\": [{\"colorbar\": {\"outlinewidth\": 0, \"ticks\": \"\"}, \"colorscale\": [[0.0, \"#0d0887\"], [0.1111111111111111, \"#46039f\"], [0.2222222222222222, \"#7201a8\"], [0.3333333333333333, \"#9c179e\"], [0.4444444444444444, \"#bd3786\"], [0.5555555555555556, \"#d8576b\"], [0.6666666666666666, \"#ed7953\"], [0.7777777777777778, \"#fb9f3a\"], [0.8888888888888888, \"#fdca26\"], [1.0, \"#f0f921\"]], \"type\": \"histogram2d\"}], \"histogram2dcontour\": [{\"colorbar\": {\"outlinewidth\": 0, \"ticks\": \"\"}, \"colorscale\": [[0.0, \"#0d0887\"], [0.1111111111111111, \"#46039f\"], [0.2222222222222222, \"#7201a8\"], [0.3333333333333333, \"#9c179e\"], [0.4444444444444444, \"#bd3786\"], [0.5555555555555556, \"#d8576b\"], [0.6666666666666666, \"#ed7953\"], [0.7777777777777778, \"#fb9f3a\"], [0.8888888888888888, \"#fdca26\"], [1.0, \"#f0f921\"]], \"type\": \"histogram2dcontour\"}], \"mesh3d\": [{\"colorbar\": {\"outlinewidth\": 0, \"ticks\": \"\"}, \"type\": \"mesh3d\"}], \"parcoords\": [{\"line\": {\"colorbar\": {\"outlinewidth\": 0, \"ticks\": \"\"}}, \"type\": \"parcoords\"}], \"pie\": [{\"automargin\": true, \"type\": \"pie\"}], \"scatter\": [{\"marker\": {\"line\": {\"color\": \"#283442\"}}, \"type\": \"scatter\"}], \"scatter3d\": [{\"line\": {\"colorbar\": {\"outlinewidth\": 0, \"ticks\": \"\"}}, \"marker\": {\"colorbar\": {\"outlinewidth\": 0, \"ticks\": \"\"}}, \"type\": \"scatter3d\"}], \"scattercarpet\": [{\"marker\": {\"colorbar\": {\"outlinewidth\": 0, \"ticks\": \"\"}}, \"type\": \"scattercarpet\"}], \"scattergeo\": [{\"marker\": {\"colorbar\": {\"outlinewidth\": 0, \"ticks\": \"\"}}, \"type\": \"scattergeo\"}], \"scattergl\": [{\"marker\": {\"line\": {\"color\": \"#283442\"}}, \"type\": \"scattergl\"}], \"scattermapbox\": [{\"marker\": {\"colorbar\": {\"outlinewidth\": 0, \"ticks\": \"\"}}, \"type\": \"scattermapbox\"}], \"scatterpolar\": [{\"marker\": {\"colorbar\": {\"outlinewidth\": 0, \"ticks\": \"\"}}, \"type\": \"scatterpolar\"}], \"scatterpolargl\": [{\"marker\": {\"colorbar\": {\"outlinewidth\": 0, \"ticks\": \"\"}}, \"type\": \"scatterpolargl\"}], \"scatterternary\": [{\"marker\": {\"colorbar\": {\"outlinewidth\": 0, \"ticks\": \"\"}}, \"type\": \"scatterternary\"}], \"surface\": [{\"colorbar\": {\"outlinewidth\": 0, \"ticks\": \"\"}, \"colorscale\": [[0.0, \"#0d0887\"], [0.1111111111111111, \"#46039f\"], [0.2222222222222222, \"#7201a8\"], [0.3333333333333333, \"#9c179e\"], [0.4444444444444444, \"#bd3786\"], [0.5555555555555556, \"#d8576b\"], [0.6666666666666666, \"#ed7953\"], [0.7777777777777778, \"#fb9f3a\"], [0.8888888888888888, \"#fdca26\"], [1.0, \"#f0f921\"]], \"type\": \"surface\"}], \"table\": [{\"cells\": {\"fill\": {\"color\": \"#506784\"}, \"line\": {\"color\": \"rgb(17,17,17)\"}}, \"header\": {\"fill\": {\"color\": \"#2a3f5f\"}, \"line\": {\"color\": \"rgb(17,17,17)\"}}, \"type\": \"table\"}]}, \"layout\": {\"annotationdefaults\": {\"arrowcolor\": \"#f2f5fa\", \"arrowhead\": 0, \"arrowwidth\": 1}, \"autotypenumbers\": \"strict\", \"coloraxis\": {\"colorbar\": {\"outlinewidth\": 0, \"ticks\": \"\"}}, \"colorscale\": {\"diverging\": [[0, \"#8e0152\"], [0.1, \"#c51b7d\"], [0.2, \"#de77ae\"], [0.3, \"#f1b6da\"], [0.4, \"#fde0ef\"], [0.5, \"#f7f7f7\"], [0.6, \"#e6f5d0\"], [0.7, \"#b8e186\"], [0.8, \"#7fbc41\"], [0.9, \"#4d9221\"], [1, \"#276419\"]], \"sequential\": [[0.0, \"#0d0887\"], [0.1111111111111111, \"#46039f\"], [0.2222222222222222, \"#7201a8\"], [0.3333333333333333, \"#9c179e\"], [0.4444444444444444, \"#bd3786\"], [0.5555555555555556, \"#d8576b\"], [0.6666666666666666, \"#ed7953\"], [0.7777777777777778, \"#fb9f3a\"], [0.8888888888888888, \"#fdca26\"], [1.0, \"#f0f921\"]], \"sequentialminus\": [[0.0, \"#0d0887\"], [0.1111111111111111, \"#46039f\"], [0.2222222222222222, \"#7201a8\"], [0.3333333333333333, \"#9c179e\"], [0.4444444444444444, \"#bd3786\"], [0.5555555555555556, \"#d8576b\"], [0.6666666666666666, \"#ed7953\"], [0.7777777777777778, \"#fb9f3a\"], [0.8888888888888888, \"#fdca26\"], [1.0, \"#f0f921\"]]}, \"colorway\": [\"#636efa\", \"#EF553B\", \"#00cc96\", \"#ab63fa\", \"#FFA15A\", \"#19d3f3\", \"#FF6692\", \"#B6E880\", \"#FF97FF\", \"#FECB52\"], \"font\": {\"color\": \"#f2f5fa\"}, \"geo\": {\"bgcolor\": \"rgb(17,17,17)\", \"lakecolor\": \"rgb(17,17,17)\", \"landcolor\": \"rgb(17,17,17)\", \"showlakes\": true, \"showland\": true, \"subunitcolor\": \"#506784\"}, \"hoverlabel\": {\"align\": \"left\"}, \"hovermode\": \"closest\", \"mapbox\": {\"style\": \"dark\"}, \"paper_bgcolor\": \"rgb(17,17,17)\", \"plot_bgcolor\": \"rgb(17,17,17)\", \"polar\": {\"angularaxis\": {\"gridcolor\": \"#506784\", \"linecolor\": \"#506784\", \"ticks\": \"\"}, \"bgcolor\": \"rgb(17,17,17)\", \"radialaxis\": {\"gridcolor\": \"#506784\", \"linecolor\": \"#506784\", \"ticks\": \"\"}}, \"scene\": {\"xaxis\": {\"backgroundcolor\": \"rgb(17,17,17)\", \"gridcolor\": \"#506784\", \"gridwidth\": 2, \"linecolor\": \"#506784\", \"showbackground\": true, \"ticks\": \"\", \"zerolinecolor\": \"#C8D4E3\"}, \"yaxis\": {\"backgroundcolor\": \"rgb(17,17,17)\", \"gridcolor\": \"#506784\", \"gridwidth\": 2, \"linecolor\": \"#506784\", \"showbackground\": true, \"ticks\": \"\", \"zerolinecolor\": \"#C8D4E3\"}, \"zaxis\": {\"backgroundcolor\": \"rgb(17,17,17)\", \"gridcolor\": \"#506784\", \"gridwidth\": 2, \"linecolor\": \"#506784\", \"showbackground\": true, \"ticks\": \"\", \"zerolinecolor\": \"#C8D4E3\"}}, \"shapedefaults\": {\"line\": {\"color\": \"#f2f5fa\"}}, \"sliderdefaults\": {\"bgcolor\": \"#C8D4E3\", \"bordercolor\": \"rgb(17,17,17)\", \"borderwidth\": 1, \"tickwidth\": 0}, \"ternary\": {\"aaxis\": {\"gridcolor\": \"#506784\", \"linecolor\": \"#506784\", \"ticks\": \"\"}, \"baxis\": {\"gridcolor\": \"#506784\", \"linecolor\": \"#506784\", \"ticks\": \"\"}, \"bgcolor\": \"rgb(17,17,17)\", \"caxis\": {\"gridcolor\": \"#506784\", \"linecolor\": \"#506784\", \"ticks\": \"\"}}, \"title\": {\"x\": 0.05}, \"updatemenudefaults\": {\"bgcolor\": \"#506784\", \"borderwidth\": 0}, \"xaxis\": {\"automargin\": true, \"gridcolor\": \"#283442\", \"linecolor\": \"#506784\", \"ticks\": \"\", \"title\": {\"standoff\": 15}, \"zerolinecolor\": \"#283442\", \"zerolinewidth\": 2}, \"yaxis\": {\"automargin\": true, \"gridcolor\": \"#283442\", \"linecolor\": \"#506784\", \"ticks\": \"\", \"title\": {\"standoff\": 15}, \"zerolinecolor\": \"#283442\", \"zerolinewidth\": 2}}}, \"width\": 1080},                        {\"responsive\": true}                    ).then(function(){\n",
              "                            \n",
              "var gd = document.getElementById('886d8193-dd32-414f-8ccd-55df5fb671b8');\n",
              "var x = new MutationObserver(function (mutations, observer) {{\n",
              "        var display = window.getComputedStyle(gd).display;\n",
              "        if (!display || display === 'none') {{\n",
              "            console.log([gd, 'removed!']);\n",
              "            Plotly.purge(gd);\n",
              "            observer.disconnect();\n",
              "        }}\n",
              "}});\n",
              "\n",
              "// Listen for the removal of the full notebook cells\n",
              "var notebookContainer = gd.closest('#notebook-container');\n",
              "if (notebookContainer) {{\n",
              "    x.observe(notebookContainer, {childList: true});\n",
              "}}\n",
              "\n",
              "// Listen for the clearing of the current output cell\n",
              "var outputEl = gd.closest('.output');\n",
              "if (outputEl) {{\n",
              "    x.observe(outputEl, {childList: true});\n",
              "}}\n",
              "\n",
              "                        })                };                });            </script>        </div>"
            ]
          },
          "metadata": {},
          "output_type": "display_data"
        }
      ],
      "source": [
        "# plot 2\n",
        "fig2 = px.scatter_geo(final_df_fips, lat = \"lat\" , lon = \"lon\",hover_name='Name',height=1080,width=1080,center={'lat':lat1,'lon':lon1},template='plotly_dark',opacity=1,color_continuous_scale = py.express.colors.sequential.Aggrnyl, scope = 'usa',hover_data = ['fips','State','pct_ch_2'],color='pct_ch_2',size='size_2')\n",
        "fig2.update_geos(\n",
        "    resolution=50,\n",
        "#     showland=True, landcolor=\"pink\",\n",
        "    showsubunits=True, subunitcolor=\"white\", subunitwidth =1.5,\n",
        "    lonaxis_range=[lonr1,lonr2],lataxis_range=[latr1,latr2]\n",
        "    )\n",
        "fig2.show()"
      ]
    },
    {
      "cell_type": "code",
      "execution_count": null,
      "metadata": {
        "id": "gGj23YSWcMj4",
        "outputId": "6bbad282-268d-434c-a89c-efe737296ed5"
      },
      "outputs": [
        {
          "data": {
            "application/vnd.plotly.v1+json": {
              "config": {
                "plotlyServerURL": "https://plot.ly"
              },
              "data": [
                {
                  "customdata": [
                    [
                      6001,
                      "CA",
                      0.04674025073552837
                    ],
                    [
                      6003,
                      "CA",
                      0.012458070198452117
                    ],
                    [
                      6005,
                      "CA",
                      0.035717632067162636
                    ],
                    [
                      6007,
                      "CA",
                      -0.0313550587485711
                    ],
                    [
                      6009,
                      "CA",
                      -0.056065063808256654
                    ],
                    [
                      6011,
                      "CA",
                      -0.04230271911249367
                    ],
                    [
                      6013,
                      "CA",
                      0.0946948260030358
                    ],
                    [
                      6015,
                      "CA",
                      0.24798830650450687
                    ],
                    [
                      6017,
                      "CA",
                      -0.05603508048647939
                    ],
                    [
                      6019,
                      "CA",
                      -0.1709574049435002
                    ],
                    [
                      6021,
                      "CA",
                      -0.038195004029008855
                    ],
                    [
                      6023,
                      "CA",
                      0.2027884489252853
                    ],
                    [
                      6025,
                      "CA",
                      0.3137792103142627
                    ],
                    [
                      6027,
                      "CA",
                      -0.07097052264677772
                    ],
                    [
                      6029,
                      "CA",
                      -0.20380413395049005
                    ],
                    [
                      6031,
                      "CA",
                      -0.18602027622135187
                    ],
                    [
                      6033,
                      "CA",
                      -0.006712516162884388
                    ],
                    [
                      6035,
                      "CA",
                      -0.11206266514251448
                    ],
                    [
                      6037,
                      "CA",
                      0.054918201750276396
                    ],
                    [
                      6039,
                      "CA",
                      -0.058774806513876655
                    ],
                    [
                      6041,
                      "CA",
                      0.20693739107621384
                    ],
                    [
                      6043,
                      "CA",
                      -0.08206060378914229
                    ],
                    [
                      6045,
                      "CA",
                      0.14397991117440923
                    ],
                    [
                      6047,
                      "CA",
                      -0.11351685624871166
                    ],
                    [
                      6049,
                      "CA",
                      -0.1121038922099582
                    ],
                    [
                      6051,
                      "CA",
                      -0.12993647283698445
                    ],
                    [
                      6053,
                      "CA",
                      -0.09985195734872478
                    ],
                    [
                      6055,
                      "CA",
                      -0.012188220302456754
                    ],
                    [
                      6057,
                      "CA",
                      0.019279275902779086
                    ],
                    [
                      6059,
                      "CA",
                      0.049442497610704045
                    ],
                    [
                      6061,
                      "CA",
                      -0.04508367220733467
                    ],
                    [
                      6063,
                      "CA",
                      -0.0313737983246819
                    ],
                    [
                      6065,
                      "CA",
                      0.4658096433858666
                    ],
                    [
                      6067,
                      "CA",
                      0.07687348912167608
                    ],
                    [
                      6069,
                      "CA",
                      -0.14362385922830426
                    ],
                    [
                      6071,
                      "CA",
                      0.31793939621085776
                    ],
                    [
                      6073,
                      "CA",
                      0.023416974308041155
                    ],
                    [
                      6075,
                      "CA",
                      0.22472124880535202
                    ],
                    [
                      6077,
                      "CA",
                      -0.07243970541386353
                    ],
                    [
                      6079,
                      "CA",
                      -0.0628975132582501
                    ],
                    [
                      6081,
                      "CA",
                      -0.013597436425988041
                    ],
                    [
                      6083,
                      "CA",
                      0.08502520472986902
                    ],
                    [
                      6085,
                      "CA",
                      -0.008054269812416845
                    ],
                    [
                      6087,
                      "CA",
                      -0.0656334913704252
                    ],
                    [
                      6089,
                      "CA",
                      -0.014976669227742066
                    ],
                    [
                      6091,
                      "CA",
                      -0.0217828832711804
                    ],
                    [
                      6093,
                      "CA",
                      0.24252009819537884
                    ],
                    [
                      6095,
                      "CA",
                      0.053591439761632595
                    ],
                    [
                      6097,
                      "CA",
                      0.15219908925660103
                    ],
                    [
                      6099,
                      "CA",
                      -0.09983321777261397
                    ],
                    [
                      6101,
                      "CA",
                      -0.04230271911249367
                    ],
                    [
                      6103,
                      "CA",
                      -0.03817626445289807
                    ],
                    [
                      6105,
                      "CA",
                      0.13571575810955155
                    ],
                    [
                      6107,
                      "CA",
                      -0.15590577741131495
                    ],
                    [
                      6109,
                      "CA",
                      -0.08206060378914229
                    ],
                    [
                      6111,
                      "CA",
                      0.05626745123025316
                    ],
                    [
                      6113,
                      "CA",
                      0.031669883627232345
                    ],
                    [
                      6115,
                      "CA",
                      0.0015254014954181744
                    ]
                  ],
                  "geo": "geo",
                  "hovertemplate": "<b>%{hovertext}</b><br><br>size_3=%{marker.size}<br>lat=%{lat}<br>lon=%{lon}<br>fips=%{customdata[0]}<br>State=%{customdata[1]}<br>pct_ch_3=%{marker.color}<extra></extra>",
                  "hovertext": [
                    "Alameda",
                    "Alpine",
                    "Amador",
                    "Butte",
                    "Calaveras",
                    "Colusa",
                    "Contra Costa",
                    "Del Norte",
                    "El Dorado",
                    "Fresno",
                    "Glenn",
                    "Humboldt",
                    "Imperial",
                    "Inyo",
                    "Kern",
                    "Kings",
                    "Lake",
                    "Lassen",
                    "Los Angeles",
                    "Madera",
                    "Marin",
                    "Mariposa",
                    "Mendocino",
                    "Merced",
                    "Modoc",
                    "Mono",
                    "Monterey",
                    "Napa",
                    "Nevada",
                    "Orange",
                    "Placer",
                    "Plumas",
                    "Riverside",
                    "Sacramento",
                    "San Benito",
                    "San Bernardino",
                    "San Diego",
                    "San Francisco",
                    "San Joaquin",
                    "San Luis Obispo",
                    "San Mateo",
                    "Santa Barbara",
                    "Santa Clara",
                    "Santa Cruz",
                    "Shasta",
                    "Sierra",
                    "Siskiyou",
                    "Solano",
                    "Sonoma",
                    "Stanislaus",
                    "Sutter",
                    "Tehama",
                    "Trinity",
                    "Tulare",
                    "Tuolumne",
                    "Ventura",
                    "Yolo",
                    "Yuba"
                  ],
                  "lat": [
                    37.648081,
                    38.61761,
                    38.44355,
                    39.665959,
                    38.187844,
                    39.177739,
                    37.919478999999995,
                    41.749903,
                    38.785532,
                    36.761006,
                    39.602546000000004,
                    40.706672999999995,
                    33.040816,
                    36.561977,
                    35.346629,
                    36.072478000000004,
                    39.094802,
                    40.721089,
                    34.196397999999995,
                    37.210039,
                    38.051817,
                    37.570034,
                    39.432388,
                    37.194806,
                    41.592919,
                    37.915836,
                    36.240107,
                    38.507351,
                    39.295190999999996,
                    33.675686999999996,
                    39.062032,
                    39.99517,
                    33.729828000000005,
                    38.450010999999996,
                    36.610702,
                    34.85722,
                    33.023604,
                    37.727239000000004,
                    37.935034,
                    35.385227,
                    37.414664,
                    34.537378000000004,
                    37.220777000000005,
                    37.012488,
                    40.760521999999995,
                    39.576925,
                    41.587986,
                    38.267226,
                    38.532574,
                    37.562384,
                    39.035257,
                    40.126156,
                    40.647724,
                    36.230453000000004,
                    38.021451,
                    34.358742,
                    38.679268,
                    39.270026
                  ],
                  "legendgroup": "",
                  "lon": [
                    -121.91330400000001,
                    -119.798999,
                    -120.653856,
                    -121.601919,
                    -120.55511499999999,
                    -122.237563,
                    -121.95154299999999,
                    -123.980998,
                    -120.534398,
                    -119.655019,
                    -122.4017,
                    -123.92581799999999,
                    -115.355395,
                    -117.403927,
                    -118.729506,
                    -119.81553000000001,
                    -122.746757,
                    -120.629931,
                    -118.26186200000001,
                    -119.749852,
                    -122.745974,
                    -119.91286000000001,
                    -123.442881,
                    -120.722802,
                    -120.71837,
                    -118.87516699999999,
                    -121.315573,
                    -122.32599499999999,
                    -120.77344599999999,
                    -117.777207,
                    -120.722718,
                    -120.829516,
                    -116.00223899999999,
                    -121.340441,
                    -121.085296,
                    -116.181197,
                    -116.776117,
                    -123.032229,
                    -121.27223700000002,
                    -120.44753999999999,
                    -122.37154199999999,
                    -120.03848500000001,
                    -121.69062199999999,
                    -122.007205,
                    -122.04355,
                    -120.521993,
                    -122.53328700000002,
                    -121.939594,
                    -122.945194,
                    -121.002656,
                    -121.702758,
                    -122.232276,
                    -123.11440400000001,
                    -118.780542,
                    -119.964708,
                    -119.13314299999999,
                    -121.903178,
                    -121.34428
                  ],
                  "marker": {
                    "color": [
                      0.04674025073552837,
                      0.012458070198452117,
                      0.035717632067162636,
                      -0.0313550587485711,
                      -0.056065063808256654,
                      -0.04230271911249367,
                      0.0946948260030358,
                      0.24798830650450687,
                      -0.05603508048647939,
                      -0.1709574049435002,
                      -0.038195004029008855,
                      0.2027884489252853,
                      0.3137792103142627,
                      -0.07097052264677772,
                      -0.20380413395049005,
                      -0.18602027622135187,
                      -0.006712516162884388,
                      -0.11206266514251448,
                      0.054918201750276396,
                      -0.058774806513876655,
                      0.20693739107621384,
                      -0.08206060378914229,
                      0.14397991117440923,
                      -0.11351685624871166,
                      -0.1121038922099582,
                      -0.12993647283698445,
                      -0.09985195734872478,
                      -0.012188220302456754,
                      0.019279275902779086,
                      0.049442497610704045,
                      -0.04508367220733467,
                      -0.0313737983246819,
                      0.4658096433858666,
                      0.07687348912167608,
                      -0.14362385922830426,
                      0.31793939621085776,
                      0.023416974308041155,
                      0.22472124880535202,
                      -0.07243970541386353,
                      -0.0628975132582501,
                      -0.013597436425988041,
                      0.08502520472986902,
                      -0.008054269812416845,
                      -0.0656334913704252,
                      -0.014976669227742066,
                      -0.0217828832711804,
                      0.24252009819537884,
                      0.053591439761632595,
                      0.15219908925660103,
                      -0.09983321777261397,
                      -0.04230271911249367,
                      -0.03817626445289807,
                      0.13571575810955155,
                      -0.15590577741131495,
                      -0.08206060378914229,
                      0.05626745123025316,
                      0.031669883627232345,
                      0.0015254014954181744
                    ],
                    "coloraxis": "coloraxis",
                    "opacity": 1,
                    "size": [
                      0.04674025073552837,
                      0.012458070198452117,
                      0.035717632067162636,
                      0.0313550587485711,
                      0.056065063808256654,
                      0.04230271911249367,
                      0.0946948260030358,
                      0.24798830650450687,
                      0.05603508048647939,
                      0.1709574049435002,
                      0.038195004029008855,
                      0.2027884489252853,
                      0.3137792103142627,
                      0.07097052264677772,
                      0.20380413395049005,
                      0.18602027622135187,
                      0.006712516162884388,
                      0.11206266514251448,
                      0.054918201750276396,
                      0.058774806513876655,
                      0.20693739107621384,
                      0.08206060378914229,
                      0.14397991117440923,
                      0.11351685624871166,
                      0.1121038922099582,
                      0.12993647283698445,
                      0.09985195734872478,
                      0.012188220302456754,
                      0.019279275902779086,
                      0.049442497610704045,
                      0.04508367220733467,
                      0.0313737983246819,
                      0.4658096433858666,
                      0.07687348912167608,
                      0.14362385922830426,
                      0.31793939621085776,
                      0.023416974308041155,
                      0.22472124880535202,
                      0.07243970541386353,
                      0.0628975132582501,
                      0.013597436425988041,
                      0.08502520472986902,
                      0.008054269812416845,
                      0.0656334913704252,
                      0.014976669227742066,
                      0.0217828832711804,
                      0.24252009819537884,
                      0.053591439761632595,
                      0.15219908925660103,
                      0.09983321777261397,
                      0.04230271911249367,
                      0.03817626445289807,
                      0.13571575810955155,
                      0.15590577741131495,
                      0.08206060378914229,
                      0.05626745123025316,
                      0.031669883627232345,
                      0.0015254014954181744
                    ],
                    "sizemode": "area",
                    "sizeref": 0.0011645241084646666,
                    "symbol": "circle"
                  },
                  "mode": "markers",
                  "name": "",
                  "showlegend": false,
                  "type": "scattergeo"
                }
              ],
              "layout": {
                "coloraxis": {
                  "colorbar": {
                    "title": {
                      "text": "pct_ch_3"
                    }
                  },
                  "colorscale": [
                    [
                      0,
                      "green"
                    ],
                    [
                      0.5,
                      "orange"
                    ],
                    [
                      1,
                      "yellow"
                    ]
                  ]
                },
                "geo": {
                  "center": {
                    "lat": 37.83800610344828,
                    "lon": -120.74952093103452
                  },
                  "domain": {
                    "x": [
                      0,
                      1
                    ],
                    "y": [
                      0,
                      1
                    ]
                  },
                  "lataxis": {
                    "range": [
                      42.749903,
                      31.023604
                    ]
                  },
                  "lonaxis": {
                    "range": [
                      -114.355395,
                      -125.980998
                    ]
                  },
                  "resolution": 50,
                  "scope": "usa",
                  "showsubunits": true,
                  "subunitcolor": "white",
                  "subunitwidth": 1.5
                },
                "height": 1080,
                "legend": {
                  "itemsizing": "constant",
                  "tracegroupgap": 0
                },
                "margin": {
                  "t": 60
                },
                "template": {
                  "data": {
                    "bar": [
                      {
                        "error_x": {
                          "color": "#f2f5fa"
                        },
                        "error_y": {
                          "color": "#f2f5fa"
                        },
                        "marker": {
                          "line": {
                            "color": "rgb(17,17,17)",
                            "width": 0.5
                          }
                        },
                        "type": "bar"
                      }
                    ],
                    "barpolar": [
                      {
                        "marker": {
                          "line": {
                            "color": "rgb(17,17,17)",
                            "width": 0.5
                          }
                        },
                        "type": "barpolar"
                      }
                    ],
                    "carpet": [
                      {
                        "aaxis": {
                          "endlinecolor": "#A2B1C6",
                          "gridcolor": "#506784",
                          "linecolor": "#506784",
                          "minorgridcolor": "#506784",
                          "startlinecolor": "#A2B1C6"
                        },
                        "baxis": {
                          "endlinecolor": "#A2B1C6",
                          "gridcolor": "#506784",
                          "linecolor": "#506784",
                          "minorgridcolor": "#506784",
                          "startlinecolor": "#A2B1C6"
                        },
                        "type": "carpet"
                      }
                    ],
                    "choropleth": [
                      {
                        "colorbar": {
                          "outlinewidth": 0,
                          "ticks": ""
                        },
                        "type": "choropleth"
                      }
                    ],
                    "contour": [
                      {
                        "colorbar": {
                          "outlinewidth": 0,
                          "ticks": ""
                        },
                        "colorscale": [
                          [
                            0,
                            "#0d0887"
                          ],
                          [
                            0.1111111111111111,
                            "#46039f"
                          ],
                          [
                            0.2222222222222222,
                            "#7201a8"
                          ],
                          [
                            0.3333333333333333,
                            "#9c179e"
                          ],
                          [
                            0.4444444444444444,
                            "#bd3786"
                          ],
                          [
                            0.5555555555555556,
                            "#d8576b"
                          ],
                          [
                            0.6666666666666666,
                            "#ed7953"
                          ],
                          [
                            0.7777777777777778,
                            "#fb9f3a"
                          ],
                          [
                            0.8888888888888888,
                            "#fdca26"
                          ],
                          [
                            1,
                            "#f0f921"
                          ]
                        ],
                        "type": "contour"
                      }
                    ],
                    "contourcarpet": [
                      {
                        "colorbar": {
                          "outlinewidth": 0,
                          "ticks": ""
                        },
                        "type": "contourcarpet"
                      }
                    ],
                    "heatmap": [
                      {
                        "colorbar": {
                          "outlinewidth": 0,
                          "ticks": ""
                        },
                        "colorscale": [
                          [
                            0,
                            "#0d0887"
                          ],
                          [
                            0.1111111111111111,
                            "#46039f"
                          ],
                          [
                            0.2222222222222222,
                            "#7201a8"
                          ],
                          [
                            0.3333333333333333,
                            "#9c179e"
                          ],
                          [
                            0.4444444444444444,
                            "#bd3786"
                          ],
                          [
                            0.5555555555555556,
                            "#d8576b"
                          ],
                          [
                            0.6666666666666666,
                            "#ed7953"
                          ],
                          [
                            0.7777777777777778,
                            "#fb9f3a"
                          ],
                          [
                            0.8888888888888888,
                            "#fdca26"
                          ],
                          [
                            1,
                            "#f0f921"
                          ]
                        ],
                        "type": "heatmap"
                      }
                    ],
                    "heatmapgl": [
                      {
                        "colorbar": {
                          "outlinewidth": 0,
                          "ticks": ""
                        },
                        "colorscale": [
                          [
                            0,
                            "#0d0887"
                          ],
                          [
                            0.1111111111111111,
                            "#46039f"
                          ],
                          [
                            0.2222222222222222,
                            "#7201a8"
                          ],
                          [
                            0.3333333333333333,
                            "#9c179e"
                          ],
                          [
                            0.4444444444444444,
                            "#bd3786"
                          ],
                          [
                            0.5555555555555556,
                            "#d8576b"
                          ],
                          [
                            0.6666666666666666,
                            "#ed7953"
                          ],
                          [
                            0.7777777777777778,
                            "#fb9f3a"
                          ],
                          [
                            0.8888888888888888,
                            "#fdca26"
                          ],
                          [
                            1,
                            "#f0f921"
                          ]
                        ],
                        "type": "heatmapgl"
                      }
                    ],
                    "histogram": [
                      {
                        "marker": {
                          "colorbar": {
                            "outlinewidth": 0,
                            "ticks": ""
                          }
                        },
                        "type": "histogram"
                      }
                    ],
                    "histogram2d": [
                      {
                        "colorbar": {
                          "outlinewidth": 0,
                          "ticks": ""
                        },
                        "colorscale": [
                          [
                            0,
                            "#0d0887"
                          ],
                          [
                            0.1111111111111111,
                            "#46039f"
                          ],
                          [
                            0.2222222222222222,
                            "#7201a8"
                          ],
                          [
                            0.3333333333333333,
                            "#9c179e"
                          ],
                          [
                            0.4444444444444444,
                            "#bd3786"
                          ],
                          [
                            0.5555555555555556,
                            "#d8576b"
                          ],
                          [
                            0.6666666666666666,
                            "#ed7953"
                          ],
                          [
                            0.7777777777777778,
                            "#fb9f3a"
                          ],
                          [
                            0.8888888888888888,
                            "#fdca26"
                          ],
                          [
                            1,
                            "#f0f921"
                          ]
                        ],
                        "type": "histogram2d"
                      }
                    ],
                    "histogram2dcontour": [
                      {
                        "colorbar": {
                          "outlinewidth": 0,
                          "ticks": ""
                        },
                        "colorscale": [
                          [
                            0,
                            "#0d0887"
                          ],
                          [
                            0.1111111111111111,
                            "#46039f"
                          ],
                          [
                            0.2222222222222222,
                            "#7201a8"
                          ],
                          [
                            0.3333333333333333,
                            "#9c179e"
                          ],
                          [
                            0.4444444444444444,
                            "#bd3786"
                          ],
                          [
                            0.5555555555555556,
                            "#d8576b"
                          ],
                          [
                            0.6666666666666666,
                            "#ed7953"
                          ],
                          [
                            0.7777777777777778,
                            "#fb9f3a"
                          ],
                          [
                            0.8888888888888888,
                            "#fdca26"
                          ],
                          [
                            1,
                            "#f0f921"
                          ]
                        ],
                        "type": "histogram2dcontour"
                      }
                    ],
                    "mesh3d": [
                      {
                        "colorbar": {
                          "outlinewidth": 0,
                          "ticks": ""
                        },
                        "type": "mesh3d"
                      }
                    ],
                    "parcoords": [
                      {
                        "line": {
                          "colorbar": {
                            "outlinewidth": 0,
                            "ticks": ""
                          }
                        },
                        "type": "parcoords"
                      }
                    ],
                    "pie": [
                      {
                        "automargin": true,
                        "type": "pie"
                      }
                    ],
                    "scatter": [
                      {
                        "marker": {
                          "line": {
                            "color": "#283442"
                          }
                        },
                        "type": "scatter"
                      }
                    ],
                    "scatter3d": [
                      {
                        "line": {
                          "colorbar": {
                            "outlinewidth": 0,
                            "ticks": ""
                          }
                        },
                        "marker": {
                          "colorbar": {
                            "outlinewidth": 0,
                            "ticks": ""
                          }
                        },
                        "type": "scatter3d"
                      }
                    ],
                    "scattercarpet": [
                      {
                        "marker": {
                          "colorbar": {
                            "outlinewidth": 0,
                            "ticks": ""
                          }
                        },
                        "type": "scattercarpet"
                      }
                    ],
                    "scattergeo": [
                      {
                        "marker": {
                          "colorbar": {
                            "outlinewidth": 0,
                            "ticks": ""
                          }
                        },
                        "type": "scattergeo"
                      }
                    ],
                    "scattergl": [
                      {
                        "marker": {
                          "line": {
                            "color": "#283442"
                          }
                        },
                        "type": "scattergl"
                      }
                    ],
                    "scattermapbox": [
                      {
                        "marker": {
                          "colorbar": {
                            "outlinewidth": 0,
                            "ticks": ""
                          }
                        },
                        "type": "scattermapbox"
                      }
                    ],
                    "scatterpolar": [
                      {
                        "marker": {
                          "colorbar": {
                            "outlinewidth": 0,
                            "ticks": ""
                          }
                        },
                        "type": "scatterpolar"
                      }
                    ],
                    "scatterpolargl": [
                      {
                        "marker": {
                          "colorbar": {
                            "outlinewidth": 0,
                            "ticks": ""
                          }
                        },
                        "type": "scatterpolargl"
                      }
                    ],
                    "scatterternary": [
                      {
                        "marker": {
                          "colorbar": {
                            "outlinewidth": 0,
                            "ticks": ""
                          }
                        },
                        "type": "scatterternary"
                      }
                    ],
                    "surface": [
                      {
                        "colorbar": {
                          "outlinewidth": 0,
                          "ticks": ""
                        },
                        "colorscale": [
                          [
                            0,
                            "#0d0887"
                          ],
                          [
                            0.1111111111111111,
                            "#46039f"
                          ],
                          [
                            0.2222222222222222,
                            "#7201a8"
                          ],
                          [
                            0.3333333333333333,
                            "#9c179e"
                          ],
                          [
                            0.4444444444444444,
                            "#bd3786"
                          ],
                          [
                            0.5555555555555556,
                            "#d8576b"
                          ],
                          [
                            0.6666666666666666,
                            "#ed7953"
                          ],
                          [
                            0.7777777777777778,
                            "#fb9f3a"
                          ],
                          [
                            0.8888888888888888,
                            "#fdca26"
                          ],
                          [
                            1,
                            "#f0f921"
                          ]
                        ],
                        "type": "surface"
                      }
                    ],
                    "table": [
                      {
                        "cells": {
                          "fill": {
                            "color": "#506784"
                          },
                          "line": {
                            "color": "rgb(17,17,17)"
                          }
                        },
                        "header": {
                          "fill": {
                            "color": "#2a3f5f"
                          },
                          "line": {
                            "color": "rgb(17,17,17)"
                          }
                        },
                        "type": "table"
                      }
                    ]
                  },
                  "layout": {
                    "annotationdefaults": {
                      "arrowcolor": "#f2f5fa",
                      "arrowhead": 0,
                      "arrowwidth": 1
                    },
                    "autotypenumbers": "strict",
                    "coloraxis": {
                      "colorbar": {
                        "outlinewidth": 0,
                        "ticks": ""
                      }
                    },
                    "colorscale": {
                      "diverging": [
                        [
                          0,
                          "#8e0152"
                        ],
                        [
                          0.1,
                          "#c51b7d"
                        ],
                        [
                          0.2,
                          "#de77ae"
                        ],
                        [
                          0.3,
                          "#f1b6da"
                        ],
                        [
                          0.4,
                          "#fde0ef"
                        ],
                        [
                          0.5,
                          "#f7f7f7"
                        ],
                        [
                          0.6,
                          "#e6f5d0"
                        ],
                        [
                          0.7,
                          "#b8e186"
                        ],
                        [
                          0.8,
                          "#7fbc41"
                        ],
                        [
                          0.9,
                          "#4d9221"
                        ],
                        [
                          1,
                          "#276419"
                        ]
                      ],
                      "sequential": [
                        [
                          0,
                          "#0d0887"
                        ],
                        [
                          0.1111111111111111,
                          "#46039f"
                        ],
                        [
                          0.2222222222222222,
                          "#7201a8"
                        ],
                        [
                          0.3333333333333333,
                          "#9c179e"
                        ],
                        [
                          0.4444444444444444,
                          "#bd3786"
                        ],
                        [
                          0.5555555555555556,
                          "#d8576b"
                        ],
                        [
                          0.6666666666666666,
                          "#ed7953"
                        ],
                        [
                          0.7777777777777778,
                          "#fb9f3a"
                        ],
                        [
                          0.8888888888888888,
                          "#fdca26"
                        ],
                        [
                          1,
                          "#f0f921"
                        ]
                      ],
                      "sequentialminus": [
                        [
                          0,
                          "#0d0887"
                        ],
                        [
                          0.1111111111111111,
                          "#46039f"
                        ],
                        [
                          0.2222222222222222,
                          "#7201a8"
                        ],
                        [
                          0.3333333333333333,
                          "#9c179e"
                        ],
                        [
                          0.4444444444444444,
                          "#bd3786"
                        ],
                        [
                          0.5555555555555556,
                          "#d8576b"
                        ],
                        [
                          0.6666666666666666,
                          "#ed7953"
                        ],
                        [
                          0.7777777777777778,
                          "#fb9f3a"
                        ],
                        [
                          0.8888888888888888,
                          "#fdca26"
                        ],
                        [
                          1,
                          "#f0f921"
                        ]
                      ]
                    },
                    "colorway": [
                      "#636efa",
                      "#EF553B",
                      "#00cc96",
                      "#ab63fa",
                      "#FFA15A",
                      "#19d3f3",
                      "#FF6692",
                      "#B6E880",
                      "#FF97FF",
                      "#FECB52"
                    ],
                    "font": {
                      "color": "#f2f5fa"
                    },
                    "geo": {
                      "bgcolor": "rgb(17,17,17)",
                      "lakecolor": "rgb(17,17,17)",
                      "landcolor": "rgb(17,17,17)",
                      "showlakes": true,
                      "showland": true,
                      "subunitcolor": "#506784"
                    },
                    "hoverlabel": {
                      "align": "left"
                    },
                    "hovermode": "closest",
                    "mapbox": {
                      "style": "dark"
                    },
                    "paper_bgcolor": "rgb(17,17,17)",
                    "plot_bgcolor": "rgb(17,17,17)",
                    "polar": {
                      "angularaxis": {
                        "gridcolor": "#506784",
                        "linecolor": "#506784",
                        "ticks": ""
                      },
                      "bgcolor": "rgb(17,17,17)",
                      "radialaxis": {
                        "gridcolor": "#506784",
                        "linecolor": "#506784",
                        "ticks": ""
                      }
                    },
                    "scene": {
                      "xaxis": {
                        "backgroundcolor": "rgb(17,17,17)",
                        "gridcolor": "#506784",
                        "gridwidth": 2,
                        "linecolor": "#506784",
                        "showbackground": true,
                        "ticks": "",
                        "zerolinecolor": "#C8D4E3"
                      },
                      "yaxis": {
                        "backgroundcolor": "rgb(17,17,17)",
                        "gridcolor": "#506784",
                        "gridwidth": 2,
                        "linecolor": "#506784",
                        "showbackground": true,
                        "ticks": "",
                        "zerolinecolor": "#C8D4E3"
                      },
                      "zaxis": {
                        "backgroundcolor": "rgb(17,17,17)",
                        "gridcolor": "#506784",
                        "gridwidth": 2,
                        "linecolor": "#506784",
                        "showbackground": true,
                        "ticks": "",
                        "zerolinecolor": "#C8D4E3"
                      }
                    },
                    "shapedefaults": {
                      "line": {
                        "color": "#f2f5fa"
                      }
                    },
                    "sliderdefaults": {
                      "bgcolor": "#C8D4E3",
                      "bordercolor": "rgb(17,17,17)",
                      "borderwidth": 1,
                      "tickwidth": 0
                    },
                    "ternary": {
                      "aaxis": {
                        "gridcolor": "#506784",
                        "linecolor": "#506784",
                        "ticks": ""
                      },
                      "baxis": {
                        "gridcolor": "#506784",
                        "linecolor": "#506784",
                        "ticks": ""
                      },
                      "bgcolor": "rgb(17,17,17)",
                      "caxis": {
                        "gridcolor": "#506784",
                        "linecolor": "#506784",
                        "ticks": ""
                      }
                    },
                    "title": {
                      "x": 0.05
                    },
                    "updatemenudefaults": {
                      "bgcolor": "#506784",
                      "borderwidth": 0
                    },
                    "xaxis": {
                      "automargin": true,
                      "gridcolor": "#283442",
                      "linecolor": "#506784",
                      "ticks": "",
                      "title": {
                        "standoff": 15
                      },
                      "zerolinecolor": "#283442",
                      "zerolinewidth": 2
                    },
                    "yaxis": {
                      "automargin": true,
                      "gridcolor": "#283442",
                      "linecolor": "#506784",
                      "ticks": "",
                      "title": {
                        "standoff": 15
                      },
                      "zerolinecolor": "#283442",
                      "zerolinewidth": 2
                    }
                  }
                },
                "width": 1080
              }
            },
            "text/html": [
              "<div>                            <div id=\"61ea3f23-8e29-492d-b75b-92ccc6564ab3\" class=\"plotly-graph-div\" style=\"height:1080px; width:1080px;\"></div>            <script type=\"text/javascript\">                require([\"plotly\"], function(Plotly) {                    window.PLOTLYENV=window.PLOTLYENV || {};                                    if (document.getElementById(\"61ea3f23-8e29-492d-b75b-92ccc6564ab3\")) {                    Plotly.newPlot(                        \"61ea3f23-8e29-492d-b75b-92ccc6564ab3\",                        [{\"customdata\": [[6001, \"CA\", 0.04674025073552837], [6003, \"CA\", 0.012458070198452117], [6005, \"CA\", 0.035717632067162636], [6007, \"CA\", -0.0313550587485711], [6009, \"CA\", -0.056065063808256654], [6011, \"CA\", -0.04230271911249367], [6013, \"CA\", 0.0946948260030358], [6015, \"CA\", 0.24798830650450687], [6017, \"CA\", -0.05603508048647939], [6019, \"CA\", -0.1709574049435002], [6021, \"CA\", -0.038195004029008855], [6023, \"CA\", 0.2027884489252853], [6025, \"CA\", 0.3137792103142627], [6027, \"CA\", -0.07097052264677772], [6029, \"CA\", -0.20380413395049005], [6031, \"CA\", -0.18602027622135187], [6033, \"CA\", -0.006712516162884388], [6035, \"CA\", -0.11206266514251448], [6037, \"CA\", 0.054918201750276396], [6039, \"CA\", -0.058774806513876655], [6041, \"CA\", 0.20693739107621384], [6043, \"CA\", -0.08206060378914229], [6045, \"CA\", 0.14397991117440923], [6047, \"CA\", -0.11351685624871166], [6049, \"CA\", -0.1121038922099582], [6051, \"CA\", -0.12993647283698445], [6053, \"CA\", -0.09985195734872478], [6055, \"CA\", -0.012188220302456754], [6057, \"CA\", 0.019279275902779086], [6059, \"CA\", 0.049442497610704045], [6061, \"CA\", -0.04508367220733467], [6063, \"CA\", -0.0313737983246819], [6065, \"CA\", 0.4658096433858666], [6067, \"CA\", 0.07687348912167608], [6069, \"CA\", -0.14362385922830426], [6071, \"CA\", 0.31793939621085776], [6073, \"CA\", 0.023416974308041155], [6075, \"CA\", 0.22472124880535202], [6077, \"CA\", -0.07243970541386353], [6079, \"CA\", -0.0628975132582501], [6081, \"CA\", -0.013597436425988041], [6083, \"CA\", 0.08502520472986902], [6085, \"CA\", -0.008054269812416845], [6087, \"CA\", -0.0656334913704252], [6089, \"CA\", -0.014976669227742066], [6091, \"CA\", -0.0217828832711804], [6093, \"CA\", 0.24252009819537884], [6095, \"CA\", 0.053591439761632595], [6097, \"CA\", 0.15219908925660103], [6099, \"CA\", -0.09983321777261397], [6101, \"CA\", -0.04230271911249367], [6103, \"CA\", -0.03817626445289807], [6105, \"CA\", 0.13571575810955155], [6107, \"CA\", -0.15590577741131495], [6109, \"CA\", -0.08206060378914229], [6111, \"CA\", 0.05626745123025316], [6113, \"CA\", 0.031669883627232345], [6115, \"CA\", 0.0015254014954181744]], \"geo\": \"geo\", \"hovertemplate\": \"<b>%{hovertext}</b><br><br>size_3=%{marker.size}<br>lat=%{lat}<br>lon=%{lon}<br>fips=%{customdata[0]}<br>State=%{customdata[1]}<br>pct_ch_3=%{marker.color}<extra></extra>\", \"hovertext\": [\"Alameda\", \"Alpine\", \"Amador\", \"Butte\", \"Calaveras\", \"Colusa\", \"Contra Costa\", \"Del Norte\", \"El Dorado\", \"Fresno\", \"Glenn\", \"Humboldt\", \"Imperial\", \"Inyo\", \"Kern\", \"Kings\", \"Lake\", \"Lassen\", \"Los Angeles\", \"Madera\", \"Marin\", \"Mariposa\", \"Mendocino\", \"Merced\", \"Modoc\", \"Mono\", \"Monterey\", \"Napa\", \"Nevada\", \"Orange\", \"Placer\", \"Plumas\", \"Riverside\", \"Sacramento\", \"San Benito\", \"San Bernardino\", \"San Diego\", \"San Francisco\", \"San Joaquin\", \"San Luis Obispo\", \"San Mateo\", \"Santa Barbara\", \"Santa Clara\", \"Santa Cruz\", \"Shasta\", \"Sierra\", \"Siskiyou\", \"Solano\", \"Sonoma\", \"Stanislaus\", \"Sutter\", \"Tehama\", \"Trinity\", \"Tulare\", \"Tuolumne\", \"Ventura\", \"Yolo\", \"Yuba\"], \"lat\": [37.648081, 38.61761, 38.44355, 39.665959, 38.187844, 39.177739, 37.919478999999995, 41.749903, 38.785532, 36.761006, 39.602546000000004, 40.706672999999995, 33.040816, 36.561977, 35.346629, 36.072478000000004, 39.094802, 40.721089, 34.196397999999995, 37.210039, 38.051817, 37.570034, 39.432388, 37.194806, 41.592919, 37.915836, 36.240107, 38.507351, 39.295190999999996, 33.675686999999996, 39.062032, 39.99517, 33.729828000000005, 38.450010999999996, 36.610702, 34.85722, 33.023604, 37.727239000000004, 37.935034, 35.385227, 37.414664, 34.537378000000004, 37.220777000000005, 37.012488, 40.760521999999995, 39.576925, 41.587986, 38.267226, 38.532574, 37.562384, 39.035257, 40.126156, 40.647724, 36.230453000000004, 38.021451, 34.358742, 38.679268, 39.270026], \"legendgroup\": \"\", \"lon\": [-121.91330400000001, -119.798999, -120.653856, -121.601919, -120.55511499999999, -122.237563, -121.95154299999999, -123.980998, -120.534398, -119.655019, -122.4017, -123.92581799999999, -115.355395, -117.403927, -118.729506, -119.81553000000001, -122.746757, -120.629931, -118.26186200000001, -119.749852, -122.745974, -119.91286000000001, -123.442881, -120.722802, -120.71837, -118.87516699999999, -121.315573, -122.32599499999999, -120.77344599999999, -117.777207, -120.722718, -120.829516, -116.00223899999999, -121.340441, -121.085296, -116.181197, -116.776117, -123.032229, -121.27223700000002, -120.44753999999999, -122.37154199999999, -120.03848500000001, -121.69062199999999, -122.007205, -122.04355, -120.521993, -122.53328700000002, -121.939594, -122.945194, -121.002656, -121.702758, -122.232276, -123.11440400000001, -118.780542, -119.964708, -119.13314299999999, -121.903178, -121.34428], \"marker\": {\"color\": [0.04674025073552837, 0.012458070198452117, 0.035717632067162636, -0.0313550587485711, -0.056065063808256654, -0.04230271911249367, 0.0946948260030358, 0.24798830650450687, -0.05603508048647939, -0.1709574049435002, -0.038195004029008855, 0.2027884489252853, 0.3137792103142627, -0.07097052264677772, -0.20380413395049005, -0.18602027622135187, -0.006712516162884388, -0.11206266514251448, 0.054918201750276396, -0.058774806513876655, 0.20693739107621384, -0.08206060378914229, 0.14397991117440923, -0.11351685624871166, -0.1121038922099582, -0.12993647283698445, -0.09985195734872478, -0.012188220302456754, 0.019279275902779086, 0.049442497610704045, -0.04508367220733467, -0.0313737983246819, 0.4658096433858666, 0.07687348912167608, -0.14362385922830426, 0.31793939621085776, 0.023416974308041155, 0.22472124880535202, -0.07243970541386353, -0.0628975132582501, -0.013597436425988041, 0.08502520472986902, -0.008054269812416845, -0.0656334913704252, -0.014976669227742066, -0.0217828832711804, 0.24252009819537884, 0.053591439761632595, 0.15219908925660103, -0.09983321777261397, -0.04230271911249367, -0.03817626445289807, 0.13571575810955155, -0.15590577741131495, -0.08206060378914229, 0.05626745123025316, 0.031669883627232345, 0.0015254014954181744], \"coloraxis\": \"coloraxis\", \"opacity\": 1, \"size\": [0.04674025073552837, 0.012458070198452117, 0.035717632067162636, 0.0313550587485711, 0.056065063808256654, 0.04230271911249367, 0.0946948260030358, 0.24798830650450687, 0.05603508048647939, 0.1709574049435002, 0.038195004029008855, 0.2027884489252853, 0.3137792103142627, 0.07097052264677772, 0.20380413395049005, 0.18602027622135187, 0.006712516162884388, 0.11206266514251448, 0.054918201750276396, 0.058774806513876655, 0.20693739107621384, 0.08206060378914229, 0.14397991117440923, 0.11351685624871166, 0.1121038922099582, 0.12993647283698445, 0.09985195734872478, 0.012188220302456754, 0.019279275902779086, 0.049442497610704045, 0.04508367220733467, 0.0313737983246819, 0.4658096433858666, 0.07687348912167608, 0.14362385922830426, 0.31793939621085776, 0.023416974308041155, 0.22472124880535202, 0.07243970541386353, 0.0628975132582501, 0.013597436425988041, 0.08502520472986902, 0.008054269812416845, 0.0656334913704252, 0.014976669227742066, 0.0217828832711804, 0.24252009819537884, 0.053591439761632595, 0.15219908925660103, 0.09983321777261397, 0.04230271911249367, 0.03817626445289807, 0.13571575810955155, 0.15590577741131495, 0.08206060378914229, 0.05626745123025316, 0.031669883627232345, 0.0015254014954181744], \"sizemode\": \"area\", \"sizeref\": 0.0011645241084646666, \"symbol\": \"circle\"}, \"mode\": \"markers\", \"name\": \"\", \"showlegend\": false, \"type\": \"scattergeo\"}],                        {\"coloraxis\": {\"colorbar\": {\"title\": {\"text\": \"pct_ch_3\"}}, \"colorscale\": [[0.0, \"green\"], [0.5, \"orange\"], [1.0, \"yellow\"]]}, \"geo\": {\"center\": {\"lat\": 37.83800610344828, \"lon\": -120.74952093103452}, \"domain\": {\"x\": [0.0, 1.0], \"y\": [0.0, 1.0]}, \"lataxis\": {\"range\": [42.749903, 31.023604]}, \"lonaxis\": {\"range\": [-114.355395, -125.980998]}, \"resolution\": 50, \"scope\": \"usa\", \"showsubunits\": true, \"subunitcolor\": \"white\", \"subunitwidth\": 1.5}, \"height\": 1080, \"legend\": {\"itemsizing\": \"constant\", \"tracegroupgap\": 0}, \"margin\": {\"t\": 60}, \"template\": {\"data\": {\"bar\": [{\"error_x\": {\"color\": \"#f2f5fa\"}, \"error_y\": {\"color\": \"#f2f5fa\"}, \"marker\": {\"line\": {\"color\": \"rgb(17,17,17)\", \"width\": 0.5}}, \"type\": \"bar\"}], \"barpolar\": [{\"marker\": {\"line\": {\"color\": \"rgb(17,17,17)\", \"width\": 0.5}}, \"type\": \"barpolar\"}], \"carpet\": [{\"aaxis\": {\"endlinecolor\": \"#A2B1C6\", \"gridcolor\": \"#506784\", \"linecolor\": \"#506784\", \"minorgridcolor\": \"#506784\", \"startlinecolor\": \"#A2B1C6\"}, \"baxis\": {\"endlinecolor\": \"#A2B1C6\", \"gridcolor\": \"#506784\", \"linecolor\": \"#506784\", \"minorgridcolor\": \"#506784\", \"startlinecolor\": \"#A2B1C6\"}, \"type\": \"carpet\"}], \"choropleth\": [{\"colorbar\": {\"outlinewidth\": 0, \"ticks\": \"\"}, \"type\": \"choropleth\"}], \"contour\": [{\"colorbar\": {\"outlinewidth\": 0, \"ticks\": \"\"}, \"colorscale\": [[0.0, \"#0d0887\"], [0.1111111111111111, \"#46039f\"], [0.2222222222222222, \"#7201a8\"], [0.3333333333333333, \"#9c179e\"], [0.4444444444444444, \"#bd3786\"], [0.5555555555555556, \"#d8576b\"], [0.6666666666666666, \"#ed7953\"], [0.7777777777777778, \"#fb9f3a\"], [0.8888888888888888, \"#fdca26\"], [1.0, \"#f0f921\"]], \"type\": \"contour\"}], \"contourcarpet\": [{\"colorbar\": {\"outlinewidth\": 0, \"ticks\": \"\"}, \"type\": \"contourcarpet\"}], \"heatmap\": [{\"colorbar\": {\"outlinewidth\": 0, \"ticks\": \"\"}, \"colorscale\": [[0.0, \"#0d0887\"], [0.1111111111111111, \"#46039f\"], [0.2222222222222222, \"#7201a8\"], [0.3333333333333333, \"#9c179e\"], [0.4444444444444444, \"#bd3786\"], [0.5555555555555556, \"#d8576b\"], [0.6666666666666666, \"#ed7953\"], [0.7777777777777778, \"#fb9f3a\"], [0.8888888888888888, \"#fdca26\"], [1.0, \"#f0f921\"]], \"type\": \"heatmap\"}], \"heatmapgl\": [{\"colorbar\": {\"outlinewidth\": 0, \"ticks\": \"\"}, \"colorscale\": [[0.0, \"#0d0887\"], [0.1111111111111111, \"#46039f\"], [0.2222222222222222, \"#7201a8\"], [0.3333333333333333, \"#9c179e\"], [0.4444444444444444, \"#bd3786\"], [0.5555555555555556, \"#d8576b\"], [0.6666666666666666, \"#ed7953\"], [0.7777777777777778, \"#fb9f3a\"], [0.8888888888888888, \"#fdca26\"], [1.0, \"#f0f921\"]], \"type\": \"heatmapgl\"}], \"histogram\": [{\"marker\": {\"colorbar\": {\"outlinewidth\": 0, \"ticks\": \"\"}}, \"type\": \"histogram\"}], \"histogram2d\": [{\"colorbar\": {\"outlinewidth\": 0, \"ticks\": \"\"}, \"colorscale\": [[0.0, \"#0d0887\"], [0.1111111111111111, \"#46039f\"], [0.2222222222222222, \"#7201a8\"], [0.3333333333333333, \"#9c179e\"], [0.4444444444444444, \"#bd3786\"], [0.5555555555555556, \"#d8576b\"], [0.6666666666666666, \"#ed7953\"], [0.7777777777777778, \"#fb9f3a\"], [0.8888888888888888, \"#fdca26\"], [1.0, \"#f0f921\"]], \"type\": \"histogram2d\"}], \"histogram2dcontour\": [{\"colorbar\": {\"outlinewidth\": 0, \"ticks\": \"\"}, \"colorscale\": [[0.0, \"#0d0887\"], [0.1111111111111111, \"#46039f\"], [0.2222222222222222, \"#7201a8\"], [0.3333333333333333, \"#9c179e\"], [0.4444444444444444, \"#bd3786\"], [0.5555555555555556, \"#d8576b\"], [0.6666666666666666, \"#ed7953\"], [0.7777777777777778, \"#fb9f3a\"], [0.8888888888888888, \"#fdca26\"], [1.0, \"#f0f921\"]], \"type\": \"histogram2dcontour\"}], \"mesh3d\": [{\"colorbar\": {\"outlinewidth\": 0, \"ticks\": \"\"}, \"type\": \"mesh3d\"}], \"parcoords\": [{\"line\": {\"colorbar\": {\"outlinewidth\": 0, \"ticks\": \"\"}}, \"type\": \"parcoords\"}], \"pie\": [{\"automargin\": true, \"type\": \"pie\"}], \"scatter\": [{\"marker\": {\"line\": {\"color\": \"#283442\"}}, \"type\": \"scatter\"}], \"scatter3d\": [{\"line\": {\"colorbar\": {\"outlinewidth\": 0, \"ticks\": \"\"}}, \"marker\": {\"colorbar\": {\"outlinewidth\": 0, \"ticks\": \"\"}}, \"type\": \"scatter3d\"}], \"scattercarpet\": [{\"marker\": {\"colorbar\": {\"outlinewidth\": 0, \"ticks\": \"\"}}, \"type\": \"scattercarpet\"}], \"scattergeo\": [{\"marker\": {\"colorbar\": {\"outlinewidth\": 0, \"ticks\": \"\"}}, \"type\": \"scattergeo\"}], \"scattergl\": [{\"marker\": {\"line\": {\"color\": \"#283442\"}}, \"type\": \"scattergl\"}], \"scattermapbox\": [{\"marker\": {\"colorbar\": {\"outlinewidth\": 0, \"ticks\": \"\"}}, \"type\": \"scattermapbox\"}], \"scatterpolar\": [{\"marker\": {\"colorbar\": {\"outlinewidth\": 0, \"ticks\": \"\"}}, \"type\": \"scatterpolar\"}], \"scatterpolargl\": [{\"marker\": {\"colorbar\": {\"outlinewidth\": 0, \"ticks\": \"\"}}, \"type\": \"scatterpolargl\"}], \"scatterternary\": [{\"marker\": {\"colorbar\": {\"outlinewidth\": 0, \"ticks\": \"\"}}, \"type\": \"scatterternary\"}], \"surface\": [{\"colorbar\": {\"outlinewidth\": 0, \"ticks\": \"\"}, \"colorscale\": [[0.0, \"#0d0887\"], [0.1111111111111111, \"#46039f\"], [0.2222222222222222, \"#7201a8\"], [0.3333333333333333, \"#9c179e\"], [0.4444444444444444, \"#bd3786\"], [0.5555555555555556, \"#d8576b\"], [0.6666666666666666, \"#ed7953\"], [0.7777777777777778, \"#fb9f3a\"], [0.8888888888888888, \"#fdca26\"], [1.0, \"#f0f921\"]], \"type\": \"surface\"}], \"table\": [{\"cells\": {\"fill\": {\"color\": \"#506784\"}, \"line\": {\"color\": \"rgb(17,17,17)\"}}, \"header\": {\"fill\": {\"color\": \"#2a3f5f\"}, \"line\": {\"color\": \"rgb(17,17,17)\"}}, \"type\": \"table\"}]}, \"layout\": {\"annotationdefaults\": {\"arrowcolor\": \"#f2f5fa\", \"arrowhead\": 0, \"arrowwidth\": 1}, \"autotypenumbers\": \"strict\", \"coloraxis\": {\"colorbar\": {\"outlinewidth\": 0, \"ticks\": \"\"}}, \"colorscale\": {\"diverging\": [[0, \"#8e0152\"], [0.1, \"#c51b7d\"], [0.2, \"#de77ae\"], [0.3, \"#f1b6da\"], [0.4, \"#fde0ef\"], [0.5, \"#f7f7f7\"], [0.6, \"#e6f5d0\"], [0.7, \"#b8e186\"], [0.8, \"#7fbc41\"], [0.9, \"#4d9221\"], [1, \"#276419\"]], \"sequential\": [[0.0, \"#0d0887\"], [0.1111111111111111, \"#46039f\"], [0.2222222222222222, \"#7201a8\"], [0.3333333333333333, \"#9c179e\"], [0.4444444444444444, \"#bd3786\"], [0.5555555555555556, \"#d8576b\"], [0.6666666666666666, \"#ed7953\"], [0.7777777777777778, \"#fb9f3a\"], [0.8888888888888888, \"#fdca26\"], [1.0, \"#f0f921\"]], \"sequentialminus\": [[0.0, \"#0d0887\"], [0.1111111111111111, \"#46039f\"], [0.2222222222222222, \"#7201a8\"], [0.3333333333333333, \"#9c179e\"], [0.4444444444444444, \"#bd3786\"], [0.5555555555555556, \"#d8576b\"], [0.6666666666666666, \"#ed7953\"], [0.7777777777777778, \"#fb9f3a\"], [0.8888888888888888, \"#fdca26\"], [1.0, \"#f0f921\"]]}, \"colorway\": [\"#636efa\", \"#EF553B\", \"#00cc96\", \"#ab63fa\", \"#FFA15A\", \"#19d3f3\", \"#FF6692\", \"#B6E880\", \"#FF97FF\", \"#FECB52\"], \"font\": {\"color\": \"#f2f5fa\"}, \"geo\": {\"bgcolor\": \"rgb(17,17,17)\", \"lakecolor\": \"rgb(17,17,17)\", \"landcolor\": \"rgb(17,17,17)\", \"showlakes\": true, \"showland\": true, \"subunitcolor\": \"#506784\"}, \"hoverlabel\": {\"align\": \"left\"}, \"hovermode\": \"closest\", \"mapbox\": {\"style\": \"dark\"}, \"paper_bgcolor\": \"rgb(17,17,17)\", \"plot_bgcolor\": \"rgb(17,17,17)\", \"polar\": {\"angularaxis\": {\"gridcolor\": \"#506784\", \"linecolor\": \"#506784\", \"ticks\": \"\"}, \"bgcolor\": \"rgb(17,17,17)\", \"radialaxis\": {\"gridcolor\": \"#506784\", \"linecolor\": \"#506784\", \"ticks\": \"\"}}, \"scene\": {\"xaxis\": {\"backgroundcolor\": \"rgb(17,17,17)\", \"gridcolor\": \"#506784\", \"gridwidth\": 2, \"linecolor\": \"#506784\", \"showbackground\": true, \"ticks\": \"\", \"zerolinecolor\": \"#C8D4E3\"}, \"yaxis\": {\"backgroundcolor\": \"rgb(17,17,17)\", \"gridcolor\": \"#506784\", \"gridwidth\": 2, \"linecolor\": \"#506784\", \"showbackground\": true, \"ticks\": \"\", \"zerolinecolor\": \"#C8D4E3\"}, \"zaxis\": {\"backgroundcolor\": \"rgb(17,17,17)\", \"gridcolor\": \"#506784\", \"gridwidth\": 2, \"linecolor\": \"#506784\", \"showbackground\": true, \"ticks\": \"\", \"zerolinecolor\": \"#C8D4E3\"}}, \"shapedefaults\": {\"line\": {\"color\": \"#f2f5fa\"}}, \"sliderdefaults\": {\"bgcolor\": \"#C8D4E3\", \"bordercolor\": \"rgb(17,17,17)\", \"borderwidth\": 1, \"tickwidth\": 0}, \"ternary\": {\"aaxis\": {\"gridcolor\": \"#506784\", \"linecolor\": \"#506784\", \"ticks\": \"\"}, \"baxis\": {\"gridcolor\": \"#506784\", \"linecolor\": \"#506784\", \"ticks\": \"\"}, \"bgcolor\": \"rgb(17,17,17)\", \"caxis\": {\"gridcolor\": \"#506784\", \"linecolor\": \"#506784\", \"ticks\": \"\"}}, \"title\": {\"x\": 0.05}, \"updatemenudefaults\": {\"bgcolor\": \"#506784\", \"borderwidth\": 0}, \"xaxis\": {\"automargin\": true, \"gridcolor\": \"#283442\", \"linecolor\": \"#506784\", \"ticks\": \"\", \"title\": {\"standoff\": 15}, \"zerolinecolor\": \"#283442\", \"zerolinewidth\": 2}, \"yaxis\": {\"automargin\": true, \"gridcolor\": \"#283442\", \"linecolor\": \"#506784\", \"ticks\": \"\", \"title\": {\"standoff\": 15}, \"zerolinecolor\": \"#283442\", \"zerolinewidth\": 2}}}, \"width\": 1080},                        {\"responsive\": true}                    ).then(function(){\n",
              "                            \n",
              "var gd = document.getElementById('61ea3f23-8e29-492d-b75b-92ccc6564ab3');\n",
              "var x = new MutationObserver(function (mutations, observer) {{\n",
              "        var display = window.getComputedStyle(gd).display;\n",
              "        if (!display || display === 'none') {{\n",
              "            console.log([gd, 'removed!']);\n",
              "            Plotly.purge(gd);\n",
              "            observer.disconnect();\n",
              "        }}\n",
              "}});\n",
              "\n",
              "// Listen for the removal of the full notebook cells\n",
              "var notebookContainer = gd.closest('#notebook-container');\n",
              "if (notebookContainer) {{\n",
              "    x.observe(notebookContainer, {childList: true});\n",
              "}}\n",
              "\n",
              "// Listen for the clearing of the current output cell\n",
              "var outputEl = gd.closest('.output');\n",
              "if (outputEl) {{\n",
              "    x.observe(outputEl, {childList: true});\n",
              "}}\n",
              "\n",
              "                        })                };                });            </script>        </div>"
            ]
          },
          "metadata": {},
          "output_type": "display_data"
        }
      ],
      "source": [
        "# plot 3\n",
        "fig3 = px.scatter_geo(final_df_fips, lat = \"lat\" , lon = \"lon\",hover_name='Name',height=1080,width=1080,opacity=1,center={'lat':lat1,'lon':lon1},template=\"plotly_dark\",color_continuous_scale = [[0.0,'green' ],[0.5,'orange'], [1.0, 'yellow']], scope = 'usa',hover_data = ['fips','State','pct_ch_3'],color='pct_ch_3',size='size_3')\n",
        "fig3.update_geos(\n",
        "    resolution=50,\n",
        "#     showland=True, landcolor=\"pink\",\n",
        "    showsubunits=True, subunitcolor=\"white\", subunitwidth =1.5,\n",
        "    lonaxis_range=[lonr1,lonr2],lataxis_range=[latr1,latr2]\n",
        "    )\n",
        "fig3.show()"
      ]
    },
    {
      "cell_type": "code",
      "execution_count": null,
      "metadata": {
        "id": "HuuNdamlcMj4",
        "outputId": "637d4fb0-05eb-4573-d54b-fe017fd057f0"
      },
      "outputs": [
        {
          "data": {
            "application/vnd.plotly.v1+json": {
              "config": {
                "plotlyServerURL": "https://plot.ly"
              },
              "data": [
                {
                  "customdata": [
                    [
                      6001,
                      "CA",
                      0.19452054794520549
                    ],
                    [
                      6003,
                      "CA",
                      0.10136986301369863
                    ],
                    [
                      6005,
                      "CA",
                      0.08083503551149673
                    ],
                    [
                      6007,
                      "CA",
                      0.12878211494855987
                    ],
                    [
                      6009,
                      "CA",
                      0.16850626838820904
                    ],
                    [
                      6011,
                      "CA",
                      0.2986413807319679
                    ],
                    [
                      6013,
                      "CA",
                      0.21643835616438356
                    ],
                    [
                      6015,
                      "CA",
                      0.005479452054794521
                    ],
                    [
                      6017,
                      "CA",
                      0.08767123287671233
                    ],
                    [
                      6019,
                      "CA",
                      0.012341884826565223
                    ],
                    [
                      6021,
                      "CA",
                      0.2972733916758803
                    ],
                    [
                      6023,
                      "CA",
                      0.09315068493150686
                    ],
                    [
                      6025,
                      "CA",
                      0.03568764874538538
                    ],
                    [
                      6027,
                      "CA",
                      0.3315068493150685
                    ],
                    [
                      6029,
                      "CA",
                      -0.0068099619586604945
                    ],
                    [
                      6031,
                      "CA",
                      -0.015029140040852276
                    ],
                    [
                      6033,
                      "CA",
                      0.26165320540449377
                    ],
                    [
                      6035,
                      "CA",
                      0.07810655322976594
                    ],
                    [
                      6037,
                      "CA",
                      0.012409347300564061
                    ],
                    [
                      6039,
                      "CA",
                      0.11645147386766112
                    ],
                    [
                      6041,
                      "CA",
                      0.12876712328767123
                    ],
                    [
                      6043,
                      "CA",
                      0.11371174784026385
                    ],
                    [
                      6045,
                      "CA",
                      0.09315818076195116
                    ],
                    [
                      6047,
                      "CA",
                      0.10549256975807207
                    ],
                    [
                      6049,
                      "CA",
                      0.273972602739726
                    ],
                    [
                      6051,
                      "CA",
                      0.25205479452054796
                    ],
                    [
                      6053,
                      "CA",
                      0.27945205479452057
                    ],
                    [
                      6055,
                      "CA",
                      0.26438918351666885
                    ],
                    [
                      6057,
                      "CA",
                      0.08220302456758428
                    ],
                    [
                      6059,
                      "CA",
                      0.024728744635796343
                    ],
                    [
                      6061,
                      "CA",
                      0.09042220264977606
                    ],
                    [
                      6063,
                      "CA",
                      0.13151809306073498
                    ],
                    [
                      6065,
                      "CA",
                      -0.05198358413132695
                    ],
                    [
                      6067,
                      "CA",
                      0.0972733916758803
                    ],
                    [
                      6069,
                      "CA",
                      0.010958904109589041
                    ],
                    [
                      6071,
                      "CA",
                      -0.04376440604913517
                    ],
                    [
                      6073,
                      "CA",
                      0.3753949365665349
                    ],
                    [
                      6075,
                      "CA",
                      0.049315068493150684
                    ],
                    [
                      6077,
                      "CA",
                      0.15754736427862004
                    ],
                    [
                      6079,
                      "CA",
                      -0.057433052864344206
                    ],
                    [
                      6081,
                      "CA",
                      0.17534246575342466
                    ],
                    [
                      6083,
                      "CA",
                      -0.05195360080954969
                    ],
                    [
                      6085,
                      "CA",
                      0.19452054794520549
                    ],
                    [
                      6087,
                      "CA",
                      0.17534246575342466
                    ],
                    [
                      6089,
                      "CA",
                      0.25206229035099226
                    ],
                    [
                      6091,
                      "CA",
                      0.13836928208683918
                    ],
                    [
                      6093,
                      "CA",
                      0.15342465753424658
                    ],
                    [
                      6095,
                      "CA",
                      0.29315068493150687
                    ],
                    [
                      6097,
                      "CA",
                      0.08767123287671233
                    ],
                    [
                      6099,
                      "CA",
                      0.15754736427862004
                    ],
                    [
                      6101,
                      "CA",
                      0.12329891497854317
                    ],
                    [
                      6103,
                      "CA",
                      0.283574761538894
                    ],
                    [
                      6105,
                      "CA",
                      0.13972602739726028
                    ],
                    [
                      6107,
                      "CA",
                      0.015081610853962483
                    ],
                    [
                      6109,
                      "CA",
                      0.15754736427862004
                    ],
                    [
                      6111,
                      "CA",
                      0.03568764874538538
                    ],
                    [
                      6113,
                      "CA",
                      0.13425781908813222
                    ],
                    [
                      6115,
                      "CA",
                      0.08494275059498155
                    ]
                  ],
                  "geo": "geo",
                  "hovertemplate": "<b>%{hovertext}</b><br><br>size_4=%{marker.size}<br>lat=%{lat}<br>lon=%{lon}<br>fips=%{customdata[0]}<br>State=%{customdata[1]}<br>pct_ch_4=%{marker.color}<extra></extra>",
                  "hovertext": [
                    "Alameda",
                    "Alpine",
                    "Amador",
                    "Butte",
                    "Calaveras",
                    "Colusa",
                    "Contra Costa",
                    "Del Norte",
                    "El Dorado",
                    "Fresno",
                    "Glenn",
                    "Humboldt",
                    "Imperial",
                    "Inyo",
                    "Kern",
                    "Kings",
                    "Lake",
                    "Lassen",
                    "Los Angeles",
                    "Madera",
                    "Marin",
                    "Mariposa",
                    "Mendocino",
                    "Merced",
                    "Modoc",
                    "Mono",
                    "Monterey",
                    "Napa",
                    "Nevada",
                    "Orange",
                    "Placer",
                    "Plumas",
                    "Riverside",
                    "Sacramento",
                    "San Benito",
                    "San Bernardino",
                    "San Diego",
                    "San Francisco",
                    "San Joaquin",
                    "San Luis Obispo",
                    "San Mateo",
                    "Santa Barbara",
                    "Santa Clara",
                    "Santa Cruz",
                    "Shasta",
                    "Sierra",
                    "Siskiyou",
                    "Solano",
                    "Sonoma",
                    "Stanislaus",
                    "Sutter",
                    "Tehama",
                    "Trinity",
                    "Tulare",
                    "Tuolumne",
                    "Ventura",
                    "Yolo",
                    "Yuba"
                  ],
                  "lat": [
                    37.648081,
                    38.61761,
                    38.44355,
                    39.665959,
                    38.187844,
                    39.177739,
                    37.919478999999995,
                    41.749903,
                    38.785532,
                    36.761006,
                    39.602546000000004,
                    40.706672999999995,
                    33.040816,
                    36.561977,
                    35.346629,
                    36.072478000000004,
                    39.094802,
                    40.721089,
                    34.196397999999995,
                    37.210039,
                    38.051817,
                    37.570034,
                    39.432388,
                    37.194806,
                    41.592919,
                    37.915836,
                    36.240107,
                    38.507351,
                    39.295190999999996,
                    33.675686999999996,
                    39.062032,
                    39.99517,
                    33.729828000000005,
                    38.450010999999996,
                    36.610702,
                    34.85722,
                    33.023604,
                    37.727239000000004,
                    37.935034,
                    35.385227,
                    37.414664,
                    34.537378000000004,
                    37.220777000000005,
                    37.012488,
                    40.760521999999995,
                    39.576925,
                    41.587986,
                    38.267226,
                    38.532574,
                    37.562384,
                    39.035257,
                    40.126156,
                    40.647724,
                    36.230453000000004,
                    38.021451,
                    34.358742,
                    38.679268,
                    39.270026
                  ],
                  "legendgroup": "",
                  "lon": [
                    -121.91330400000001,
                    -119.798999,
                    -120.653856,
                    -121.601919,
                    -120.55511499999999,
                    -122.237563,
                    -121.95154299999999,
                    -123.980998,
                    -120.534398,
                    -119.655019,
                    -122.4017,
                    -123.92581799999999,
                    -115.355395,
                    -117.403927,
                    -118.729506,
                    -119.81553000000001,
                    -122.746757,
                    -120.629931,
                    -118.26186200000001,
                    -119.749852,
                    -122.745974,
                    -119.91286000000001,
                    -123.442881,
                    -120.722802,
                    -120.71837,
                    -118.87516699999999,
                    -121.315573,
                    -122.32599499999999,
                    -120.77344599999999,
                    -117.777207,
                    -120.722718,
                    -120.829516,
                    -116.00223899999999,
                    -121.340441,
                    -121.085296,
                    -116.181197,
                    -116.776117,
                    -123.032229,
                    -121.27223700000002,
                    -120.44753999999999,
                    -122.37154199999999,
                    -120.03848500000001,
                    -121.69062199999999,
                    -122.007205,
                    -122.04355,
                    -120.521993,
                    -122.53328700000002,
                    -121.939594,
                    -122.945194,
                    -121.002656,
                    -121.702758,
                    -122.232276,
                    -123.11440400000001,
                    -118.780542,
                    -119.964708,
                    -119.13314299999999,
                    -121.903178,
                    -121.34428
                  ],
                  "marker": {
                    "color": [
                      0.19452054794520549,
                      0.10136986301369863,
                      0.08083503551149673,
                      0.12878211494855987,
                      0.16850626838820904,
                      0.2986413807319679,
                      0.21643835616438356,
                      0.005479452054794521,
                      0.08767123287671233,
                      0.012341884826565223,
                      0.2972733916758803,
                      0.09315068493150686,
                      0.03568764874538538,
                      0.3315068493150685,
                      -0.0068099619586604945,
                      -0.015029140040852276,
                      0.26165320540449377,
                      0.07810655322976594,
                      0.012409347300564061,
                      0.11645147386766112,
                      0.12876712328767123,
                      0.11371174784026385,
                      0.09315818076195116,
                      0.10549256975807207,
                      0.273972602739726,
                      0.25205479452054796,
                      0.27945205479452057,
                      0.26438918351666885,
                      0.08220302456758428,
                      0.024728744635796343,
                      0.09042220264977606,
                      0.13151809306073498,
                      -0.05198358413132695,
                      0.0972733916758803,
                      0.010958904109589041,
                      -0.04376440604913517,
                      0.3753949365665349,
                      0.049315068493150684,
                      0.15754736427862004,
                      -0.057433052864344206,
                      0.17534246575342466,
                      -0.05195360080954969,
                      0.19452054794520549,
                      0.17534246575342466,
                      0.25206229035099226,
                      0.13836928208683918,
                      0.15342465753424658,
                      0.29315068493150687,
                      0.08767123287671233,
                      0.15754736427862004,
                      0.12329891497854317,
                      0.283574761538894,
                      0.13972602739726028,
                      0.015081610853962483,
                      0.15754736427862004,
                      0.03568764874538538,
                      0.13425781908813222,
                      0.08494275059498155
                    ],
                    "coloraxis": "coloraxis",
                    "opacity": 1,
                    "size": [
                      0.19452054794520549,
                      0.10136986301369863,
                      0.08083503551149673,
                      0.12878211494855987,
                      0.16850626838820904,
                      0.2986413807319679,
                      0.21643835616438356,
                      0.005479452054794521,
                      0.08767123287671233,
                      0.012341884826565223,
                      0.2972733916758803,
                      0.09315068493150686,
                      0.03568764874538538,
                      0.3315068493150685,
                      0.0068099619586604945,
                      0.015029140040852276,
                      0.26165320540449377,
                      0.07810655322976594,
                      0.012409347300564061,
                      0.11645147386766112,
                      0.12876712328767123,
                      0.11371174784026385,
                      0.09315818076195116,
                      0.10549256975807207,
                      0.273972602739726,
                      0.25205479452054796,
                      0.27945205479452057,
                      0.26438918351666885,
                      0.08220302456758428,
                      0.024728744635796343,
                      0.09042220264977606,
                      0.13151809306073498,
                      0.05198358413132695,
                      0.0972733916758803,
                      0.010958904109589041,
                      0.04376440604913517,
                      0.3753949365665349,
                      0.049315068493150684,
                      0.15754736427862004,
                      0.057433052864344206,
                      0.17534246575342466,
                      0.05195360080954969,
                      0.19452054794520549,
                      0.17534246575342466,
                      0.25206229035099226,
                      0.13836928208683918,
                      0.15342465753424658,
                      0.29315068493150687,
                      0.08767123287671233,
                      0.15754736427862004,
                      0.12329891497854317,
                      0.283574761538894,
                      0.13972602739726028,
                      0.015081610853962483,
                      0.15754736427862004,
                      0.03568764874538538,
                      0.13425781908813222,
                      0.08494275059498155
                    ],
                    "sizemode": "area",
                    "sizeref": 0.0009384873414163373,
                    "symbol": "circle"
                  },
                  "mode": "markers",
                  "name": "",
                  "showlegend": false,
                  "type": "scattergeo"
                }
              ],
              "layout": {
                "coloraxis": {
                  "colorbar": {
                    "title": {
                      "text": "pct_ch_4"
                    }
                  },
                  "colorscale": [
                    [
                      0,
                      "rgb(255,255,204)"
                    ],
                    [
                      0.125,
                      "rgb(255,237,160)"
                    ],
                    [
                      0.25,
                      "rgb(254,217,118)"
                    ],
                    [
                      0.375,
                      "rgb(254,178,76)"
                    ],
                    [
                      0.5,
                      "rgb(253,141,60)"
                    ],
                    [
                      0.625,
                      "rgb(252,78,42)"
                    ],
                    [
                      0.75,
                      "rgb(227,26,28)"
                    ],
                    [
                      0.875,
                      "rgb(189,0,38)"
                    ],
                    [
                      1,
                      "rgb(128,0,38)"
                    ]
                  ]
                },
                "geo": {
                  "center": {
                    "lat": 37.83800610344828,
                    "lon": -120.74952093103452
                  },
                  "domain": {
                    "x": [
                      0,
                      1
                    ],
                    "y": [
                      0,
                      1
                    ]
                  },
                  "lataxis": {
                    "range": [
                      42.749903,
                      31.023604
                    ]
                  },
                  "lonaxis": {
                    "range": [
                      -114.355395,
                      -125.980998
                    ]
                  },
                  "resolution": 50,
                  "scope": "usa",
                  "showsubunits": true,
                  "subunitcolor": "white",
                  "subunitwidth": 1.5
                },
                "height": 1080,
                "legend": {
                  "itemsizing": "constant",
                  "tracegroupgap": 0
                },
                "margin": {
                  "t": 60
                },
                "template": {
                  "data": {
                    "bar": [
                      {
                        "error_x": {
                          "color": "#f2f5fa"
                        },
                        "error_y": {
                          "color": "#f2f5fa"
                        },
                        "marker": {
                          "line": {
                            "color": "rgb(17,17,17)",
                            "width": 0.5
                          }
                        },
                        "type": "bar"
                      }
                    ],
                    "barpolar": [
                      {
                        "marker": {
                          "line": {
                            "color": "rgb(17,17,17)",
                            "width": 0.5
                          }
                        },
                        "type": "barpolar"
                      }
                    ],
                    "carpet": [
                      {
                        "aaxis": {
                          "endlinecolor": "#A2B1C6",
                          "gridcolor": "#506784",
                          "linecolor": "#506784",
                          "minorgridcolor": "#506784",
                          "startlinecolor": "#A2B1C6"
                        },
                        "baxis": {
                          "endlinecolor": "#A2B1C6",
                          "gridcolor": "#506784",
                          "linecolor": "#506784",
                          "minorgridcolor": "#506784",
                          "startlinecolor": "#A2B1C6"
                        },
                        "type": "carpet"
                      }
                    ],
                    "choropleth": [
                      {
                        "colorbar": {
                          "outlinewidth": 0,
                          "ticks": ""
                        },
                        "type": "choropleth"
                      }
                    ],
                    "contour": [
                      {
                        "colorbar": {
                          "outlinewidth": 0,
                          "ticks": ""
                        },
                        "colorscale": [
                          [
                            0,
                            "#0d0887"
                          ],
                          [
                            0.1111111111111111,
                            "#46039f"
                          ],
                          [
                            0.2222222222222222,
                            "#7201a8"
                          ],
                          [
                            0.3333333333333333,
                            "#9c179e"
                          ],
                          [
                            0.4444444444444444,
                            "#bd3786"
                          ],
                          [
                            0.5555555555555556,
                            "#d8576b"
                          ],
                          [
                            0.6666666666666666,
                            "#ed7953"
                          ],
                          [
                            0.7777777777777778,
                            "#fb9f3a"
                          ],
                          [
                            0.8888888888888888,
                            "#fdca26"
                          ],
                          [
                            1,
                            "#f0f921"
                          ]
                        ],
                        "type": "contour"
                      }
                    ],
                    "contourcarpet": [
                      {
                        "colorbar": {
                          "outlinewidth": 0,
                          "ticks": ""
                        },
                        "type": "contourcarpet"
                      }
                    ],
                    "heatmap": [
                      {
                        "colorbar": {
                          "outlinewidth": 0,
                          "ticks": ""
                        },
                        "colorscale": [
                          [
                            0,
                            "#0d0887"
                          ],
                          [
                            0.1111111111111111,
                            "#46039f"
                          ],
                          [
                            0.2222222222222222,
                            "#7201a8"
                          ],
                          [
                            0.3333333333333333,
                            "#9c179e"
                          ],
                          [
                            0.4444444444444444,
                            "#bd3786"
                          ],
                          [
                            0.5555555555555556,
                            "#d8576b"
                          ],
                          [
                            0.6666666666666666,
                            "#ed7953"
                          ],
                          [
                            0.7777777777777778,
                            "#fb9f3a"
                          ],
                          [
                            0.8888888888888888,
                            "#fdca26"
                          ],
                          [
                            1,
                            "#f0f921"
                          ]
                        ],
                        "type": "heatmap"
                      }
                    ],
                    "heatmapgl": [
                      {
                        "colorbar": {
                          "outlinewidth": 0,
                          "ticks": ""
                        },
                        "colorscale": [
                          [
                            0,
                            "#0d0887"
                          ],
                          [
                            0.1111111111111111,
                            "#46039f"
                          ],
                          [
                            0.2222222222222222,
                            "#7201a8"
                          ],
                          [
                            0.3333333333333333,
                            "#9c179e"
                          ],
                          [
                            0.4444444444444444,
                            "#bd3786"
                          ],
                          [
                            0.5555555555555556,
                            "#d8576b"
                          ],
                          [
                            0.6666666666666666,
                            "#ed7953"
                          ],
                          [
                            0.7777777777777778,
                            "#fb9f3a"
                          ],
                          [
                            0.8888888888888888,
                            "#fdca26"
                          ],
                          [
                            1,
                            "#f0f921"
                          ]
                        ],
                        "type": "heatmapgl"
                      }
                    ],
                    "histogram": [
                      {
                        "marker": {
                          "colorbar": {
                            "outlinewidth": 0,
                            "ticks": ""
                          }
                        },
                        "type": "histogram"
                      }
                    ],
                    "histogram2d": [
                      {
                        "colorbar": {
                          "outlinewidth": 0,
                          "ticks": ""
                        },
                        "colorscale": [
                          [
                            0,
                            "#0d0887"
                          ],
                          [
                            0.1111111111111111,
                            "#46039f"
                          ],
                          [
                            0.2222222222222222,
                            "#7201a8"
                          ],
                          [
                            0.3333333333333333,
                            "#9c179e"
                          ],
                          [
                            0.4444444444444444,
                            "#bd3786"
                          ],
                          [
                            0.5555555555555556,
                            "#d8576b"
                          ],
                          [
                            0.6666666666666666,
                            "#ed7953"
                          ],
                          [
                            0.7777777777777778,
                            "#fb9f3a"
                          ],
                          [
                            0.8888888888888888,
                            "#fdca26"
                          ],
                          [
                            1,
                            "#f0f921"
                          ]
                        ],
                        "type": "histogram2d"
                      }
                    ],
                    "histogram2dcontour": [
                      {
                        "colorbar": {
                          "outlinewidth": 0,
                          "ticks": ""
                        },
                        "colorscale": [
                          [
                            0,
                            "#0d0887"
                          ],
                          [
                            0.1111111111111111,
                            "#46039f"
                          ],
                          [
                            0.2222222222222222,
                            "#7201a8"
                          ],
                          [
                            0.3333333333333333,
                            "#9c179e"
                          ],
                          [
                            0.4444444444444444,
                            "#bd3786"
                          ],
                          [
                            0.5555555555555556,
                            "#d8576b"
                          ],
                          [
                            0.6666666666666666,
                            "#ed7953"
                          ],
                          [
                            0.7777777777777778,
                            "#fb9f3a"
                          ],
                          [
                            0.8888888888888888,
                            "#fdca26"
                          ],
                          [
                            1,
                            "#f0f921"
                          ]
                        ],
                        "type": "histogram2dcontour"
                      }
                    ],
                    "mesh3d": [
                      {
                        "colorbar": {
                          "outlinewidth": 0,
                          "ticks": ""
                        },
                        "type": "mesh3d"
                      }
                    ],
                    "parcoords": [
                      {
                        "line": {
                          "colorbar": {
                            "outlinewidth": 0,
                            "ticks": ""
                          }
                        },
                        "type": "parcoords"
                      }
                    ],
                    "pie": [
                      {
                        "automargin": true,
                        "type": "pie"
                      }
                    ],
                    "scatter": [
                      {
                        "marker": {
                          "line": {
                            "color": "#283442"
                          }
                        },
                        "type": "scatter"
                      }
                    ],
                    "scatter3d": [
                      {
                        "line": {
                          "colorbar": {
                            "outlinewidth": 0,
                            "ticks": ""
                          }
                        },
                        "marker": {
                          "colorbar": {
                            "outlinewidth": 0,
                            "ticks": ""
                          }
                        },
                        "type": "scatter3d"
                      }
                    ],
                    "scattercarpet": [
                      {
                        "marker": {
                          "colorbar": {
                            "outlinewidth": 0,
                            "ticks": ""
                          }
                        },
                        "type": "scattercarpet"
                      }
                    ],
                    "scattergeo": [
                      {
                        "marker": {
                          "colorbar": {
                            "outlinewidth": 0,
                            "ticks": ""
                          }
                        },
                        "type": "scattergeo"
                      }
                    ],
                    "scattergl": [
                      {
                        "marker": {
                          "line": {
                            "color": "#283442"
                          }
                        },
                        "type": "scattergl"
                      }
                    ],
                    "scattermapbox": [
                      {
                        "marker": {
                          "colorbar": {
                            "outlinewidth": 0,
                            "ticks": ""
                          }
                        },
                        "type": "scattermapbox"
                      }
                    ],
                    "scatterpolar": [
                      {
                        "marker": {
                          "colorbar": {
                            "outlinewidth": 0,
                            "ticks": ""
                          }
                        },
                        "type": "scatterpolar"
                      }
                    ],
                    "scatterpolargl": [
                      {
                        "marker": {
                          "colorbar": {
                            "outlinewidth": 0,
                            "ticks": ""
                          }
                        },
                        "type": "scatterpolargl"
                      }
                    ],
                    "scatterternary": [
                      {
                        "marker": {
                          "colorbar": {
                            "outlinewidth": 0,
                            "ticks": ""
                          }
                        },
                        "type": "scatterternary"
                      }
                    ],
                    "surface": [
                      {
                        "colorbar": {
                          "outlinewidth": 0,
                          "ticks": ""
                        },
                        "colorscale": [
                          [
                            0,
                            "#0d0887"
                          ],
                          [
                            0.1111111111111111,
                            "#46039f"
                          ],
                          [
                            0.2222222222222222,
                            "#7201a8"
                          ],
                          [
                            0.3333333333333333,
                            "#9c179e"
                          ],
                          [
                            0.4444444444444444,
                            "#bd3786"
                          ],
                          [
                            0.5555555555555556,
                            "#d8576b"
                          ],
                          [
                            0.6666666666666666,
                            "#ed7953"
                          ],
                          [
                            0.7777777777777778,
                            "#fb9f3a"
                          ],
                          [
                            0.8888888888888888,
                            "#fdca26"
                          ],
                          [
                            1,
                            "#f0f921"
                          ]
                        ],
                        "type": "surface"
                      }
                    ],
                    "table": [
                      {
                        "cells": {
                          "fill": {
                            "color": "#506784"
                          },
                          "line": {
                            "color": "rgb(17,17,17)"
                          }
                        },
                        "header": {
                          "fill": {
                            "color": "#2a3f5f"
                          },
                          "line": {
                            "color": "rgb(17,17,17)"
                          }
                        },
                        "type": "table"
                      }
                    ]
                  },
                  "layout": {
                    "annotationdefaults": {
                      "arrowcolor": "#f2f5fa",
                      "arrowhead": 0,
                      "arrowwidth": 1
                    },
                    "autotypenumbers": "strict",
                    "coloraxis": {
                      "colorbar": {
                        "outlinewidth": 0,
                        "ticks": ""
                      }
                    },
                    "colorscale": {
                      "diverging": [
                        [
                          0,
                          "#8e0152"
                        ],
                        [
                          0.1,
                          "#c51b7d"
                        ],
                        [
                          0.2,
                          "#de77ae"
                        ],
                        [
                          0.3,
                          "#f1b6da"
                        ],
                        [
                          0.4,
                          "#fde0ef"
                        ],
                        [
                          0.5,
                          "#f7f7f7"
                        ],
                        [
                          0.6,
                          "#e6f5d0"
                        ],
                        [
                          0.7,
                          "#b8e186"
                        ],
                        [
                          0.8,
                          "#7fbc41"
                        ],
                        [
                          0.9,
                          "#4d9221"
                        ],
                        [
                          1,
                          "#276419"
                        ]
                      ],
                      "sequential": [
                        [
                          0,
                          "#0d0887"
                        ],
                        [
                          0.1111111111111111,
                          "#46039f"
                        ],
                        [
                          0.2222222222222222,
                          "#7201a8"
                        ],
                        [
                          0.3333333333333333,
                          "#9c179e"
                        ],
                        [
                          0.4444444444444444,
                          "#bd3786"
                        ],
                        [
                          0.5555555555555556,
                          "#d8576b"
                        ],
                        [
                          0.6666666666666666,
                          "#ed7953"
                        ],
                        [
                          0.7777777777777778,
                          "#fb9f3a"
                        ],
                        [
                          0.8888888888888888,
                          "#fdca26"
                        ],
                        [
                          1,
                          "#f0f921"
                        ]
                      ],
                      "sequentialminus": [
                        [
                          0,
                          "#0d0887"
                        ],
                        [
                          0.1111111111111111,
                          "#46039f"
                        ],
                        [
                          0.2222222222222222,
                          "#7201a8"
                        ],
                        [
                          0.3333333333333333,
                          "#9c179e"
                        ],
                        [
                          0.4444444444444444,
                          "#bd3786"
                        ],
                        [
                          0.5555555555555556,
                          "#d8576b"
                        ],
                        [
                          0.6666666666666666,
                          "#ed7953"
                        ],
                        [
                          0.7777777777777778,
                          "#fb9f3a"
                        ],
                        [
                          0.8888888888888888,
                          "#fdca26"
                        ],
                        [
                          1,
                          "#f0f921"
                        ]
                      ]
                    },
                    "colorway": [
                      "#636efa",
                      "#EF553B",
                      "#00cc96",
                      "#ab63fa",
                      "#FFA15A",
                      "#19d3f3",
                      "#FF6692",
                      "#B6E880",
                      "#FF97FF",
                      "#FECB52"
                    ],
                    "font": {
                      "color": "#f2f5fa"
                    },
                    "geo": {
                      "bgcolor": "rgb(17,17,17)",
                      "lakecolor": "rgb(17,17,17)",
                      "landcolor": "rgb(17,17,17)",
                      "showlakes": true,
                      "showland": true,
                      "subunitcolor": "#506784"
                    },
                    "hoverlabel": {
                      "align": "left"
                    },
                    "hovermode": "closest",
                    "mapbox": {
                      "style": "dark"
                    },
                    "paper_bgcolor": "rgb(17,17,17)",
                    "plot_bgcolor": "rgb(17,17,17)",
                    "polar": {
                      "angularaxis": {
                        "gridcolor": "#506784",
                        "linecolor": "#506784",
                        "ticks": ""
                      },
                      "bgcolor": "rgb(17,17,17)",
                      "radialaxis": {
                        "gridcolor": "#506784",
                        "linecolor": "#506784",
                        "ticks": ""
                      }
                    },
                    "scene": {
                      "xaxis": {
                        "backgroundcolor": "rgb(17,17,17)",
                        "gridcolor": "#506784",
                        "gridwidth": 2,
                        "linecolor": "#506784",
                        "showbackground": true,
                        "ticks": "",
                        "zerolinecolor": "#C8D4E3"
                      },
                      "yaxis": {
                        "backgroundcolor": "rgb(17,17,17)",
                        "gridcolor": "#506784",
                        "gridwidth": 2,
                        "linecolor": "#506784",
                        "showbackground": true,
                        "ticks": "",
                        "zerolinecolor": "#C8D4E3"
                      },
                      "zaxis": {
                        "backgroundcolor": "rgb(17,17,17)",
                        "gridcolor": "#506784",
                        "gridwidth": 2,
                        "linecolor": "#506784",
                        "showbackground": true,
                        "ticks": "",
                        "zerolinecolor": "#C8D4E3"
                      }
                    },
                    "shapedefaults": {
                      "line": {
                        "color": "#f2f5fa"
                      }
                    },
                    "sliderdefaults": {
                      "bgcolor": "#C8D4E3",
                      "bordercolor": "rgb(17,17,17)",
                      "borderwidth": 1,
                      "tickwidth": 0
                    },
                    "ternary": {
                      "aaxis": {
                        "gridcolor": "#506784",
                        "linecolor": "#506784",
                        "ticks": ""
                      },
                      "baxis": {
                        "gridcolor": "#506784",
                        "linecolor": "#506784",
                        "ticks": ""
                      },
                      "bgcolor": "rgb(17,17,17)",
                      "caxis": {
                        "gridcolor": "#506784",
                        "linecolor": "#506784",
                        "ticks": ""
                      }
                    },
                    "title": {
                      "x": 0.05
                    },
                    "updatemenudefaults": {
                      "bgcolor": "#506784",
                      "borderwidth": 0
                    },
                    "xaxis": {
                      "automargin": true,
                      "gridcolor": "#283442",
                      "linecolor": "#506784",
                      "ticks": "",
                      "title": {
                        "standoff": 15
                      },
                      "zerolinecolor": "#283442",
                      "zerolinewidth": 2
                    },
                    "yaxis": {
                      "automargin": true,
                      "gridcolor": "#283442",
                      "linecolor": "#506784",
                      "ticks": "",
                      "title": {
                        "standoff": 15
                      },
                      "zerolinecolor": "#283442",
                      "zerolinewidth": 2
                    }
                  }
                },
                "width": 1080
              }
            },
            "text/html": [
              "<div>                            <div id=\"35869735-f8c9-4e36-9b92-894d984e8565\" class=\"plotly-graph-div\" style=\"height:1080px; width:1080px;\"></div>            <script type=\"text/javascript\">                require([\"plotly\"], function(Plotly) {                    window.PLOTLYENV=window.PLOTLYENV || {};                                    if (document.getElementById(\"35869735-f8c9-4e36-9b92-894d984e8565\")) {                    Plotly.newPlot(                        \"35869735-f8c9-4e36-9b92-894d984e8565\",                        [{\"customdata\": [[6001, \"CA\", 0.19452054794520549], [6003, \"CA\", 0.10136986301369863], [6005, \"CA\", 0.08083503551149673], [6007, \"CA\", 0.12878211494855987], [6009, \"CA\", 0.16850626838820904], [6011, \"CA\", 0.2986413807319679], [6013, \"CA\", 0.21643835616438356], [6015, \"CA\", 0.005479452054794521], [6017, \"CA\", 0.08767123287671233], [6019, \"CA\", 0.012341884826565223], [6021, \"CA\", 0.2972733916758803], [6023, \"CA\", 0.09315068493150686], [6025, \"CA\", 0.03568764874538538], [6027, \"CA\", 0.3315068493150685], [6029, \"CA\", -0.0068099619586604945], [6031, \"CA\", -0.015029140040852276], [6033, \"CA\", 0.26165320540449377], [6035, \"CA\", 0.07810655322976594], [6037, \"CA\", 0.012409347300564061], [6039, \"CA\", 0.11645147386766112], [6041, \"CA\", 0.12876712328767123], [6043, \"CA\", 0.11371174784026385], [6045, \"CA\", 0.09315818076195116], [6047, \"CA\", 0.10549256975807207], [6049, \"CA\", 0.273972602739726], [6051, \"CA\", 0.25205479452054796], [6053, \"CA\", 0.27945205479452057], [6055, \"CA\", 0.26438918351666885], [6057, \"CA\", 0.08220302456758428], [6059, \"CA\", 0.024728744635796343], [6061, \"CA\", 0.09042220264977606], [6063, \"CA\", 0.13151809306073498], [6065, \"CA\", -0.05198358413132695], [6067, \"CA\", 0.0972733916758803], [6069, \"CA\", 0.010958904109589041], [6071, \"CA\", -0.04376440604913517], [6073, \"CA\", 0.3753949365665349], [6075, \"CA\", 0.049315068493150684], [6077, \"CA\", 0.15754736427862004], [6079, \"CA\", -0.057433052864344206], [6081, \"CA\", 0.17534246575342466], [6083, \"CA\", -0.05195360080954969], [6085, \"CA\", 0.19452054794520549], [6087, \"CA\", 0.17534246575342466], [6089, \"CA\", 0.25206229035099226], [6091, \"CA\", 0.13836928208683918], [6093, \"CA\", 0.15342465753424658], [6095, \"CA\", 0.29315068493150687], [6097, \"CA\", 0.08767123287671233], [6099, \"CA\", 0.15754736427862004], [6101, \"CA\", 0.12329891497854317], [6103, \"CA\", 0.283574761538894], [6105, \"CA\", 0.13972602739726028], [6107, \"CA\", 0.015081610853962483], [6109, \"CA\", 0.15754736427862004], [6111, \"CA\", 0.03568764874538538], [6113, \"CA\", 0.13425781908813222], [6115, \"CA\", 0.08494275059498155]], \"geo\": \"geo\", \"hovertemplate\": \"<b>%{hovertext}</b><br><br>size_4=%{marker.size}<br>lat=%{lat}<br>lon=%{lon}<br>fips=%{customdata[0]}<br>State=%{customdata[1]}<br>pct_ch_4=%{marker.color}<extra></extra>\", \"hovertext\": [\"Alameda\", \"Alpine\", \"Amador\", \"Butte\", \"Calaveras\", \"Colusa\", \"Contra Costa\", \"Del Norte\", \"El Dorado\", \"Fresno\", \"Glenn\", \"Humboldt\", \"Imperial\", \"Inyo\", \"Kern\", \"Kings\", \"Lake\", \"Lassen\", \"Los Angeles\", \"Madera\", \"Marin\", \"Mariposa\", \"Mendocino\", \"Merced\", \"Modoc\", \"Mono\", \"Monterey\", \"Napa\", \"Nevada\", \"Orange\", \"Placer\", \"Plumas\", \"Riverside\", \"Sacramento\", \"San Benito\", \"San Bernardino\", \"San Diego\", \"San Francisco\", \"San Joaquin\", \"San Luis Obispo\", \"San Mateo\", \"Santa Barbara\", \"Santa Clara\", \"Santa Cruz\", \"Shasta\", \"Sierra\", \"Siskiyou\", \"Solano\", \"Sonoma\", \"Stanislaus\", \"Sutter\", \"Tehama\", \"Trinity\", \"Tulare\", \"Tuolumne\", \"Ventura\", \"Yolo\", \"Yuba\"], \"lat\": [37.648081, 38.61761, 38.44355, 39.665959, 38.187844, 39.177739, 37.919478999999995, 41.749903, 38.785532, 36.761006, 39.602546000000004, 40.706672999999995, 33.040816, 36.561977, 35.346629, 36.072478000000004, 39.094802, 40.721089, 34.196397999999995, 37.210039, 38.051817, 37.570034, 39.432388, 37.194806, 41.592919, 37.915836, 36.240107, 38.507351, 39.295190999999996, 33.675686999999996, 39.062032, 39.99517, 33.729828000000005, 38.450010999999996, 36.610702, 34.85722, 33.023604, 37.727239000000004, 37.935034, 35.385227, 37.414664, 34.537378000000004, 37.220777000000005, 37.012488, 40.760521999999995, 39.576925, 41.587986, 38.267226, 38.532574, 37.562384, 39.035257, 40.126156, 40.647724, 36.230453000000004, 38.021451, 34.358742, 38.679268, 39.270026], \"legendgroup\": \"\", \"lon\": [-121.91330400000001, -119.798999, -120.653856, -121.601919, -120.55511499999999, -122.237563, -121.95154299999999, -123.980998, -120.534398, -119.655019, -122.4017, -123.92581799999999, -115.355395, -117.403927, -118.729506, -119.81553000000001, -122.746757, -120.629931, -118.26186200000001, -119.749852, -122.745974, -119.91286000000001, -123.442881, -120.722802, -120.71837, -118.87516699999999, -121.315573, -122.32599499999999, -120.77344599999999, -117.777207, -120.722718, -120.829516, -116.00223899999999, -121.340441, -121.085296, -116.181197, -116.776117, -123.032229, -121.27223700000002, -120.44753999999999, -122.37154199999999, -120.03848500000001, -121.69062199999999, -122.007205, -122.04355, -120.521993, -122.53328700000002, -121.939594, -122.945194, -121.002656, -121.702758, -122.232276, -123.11440400000001, -118.780542, -119.964708, -119.13314299999999, -121.903178, -121.34428], \"marker\": {\"color\": [0.19452054794520549, 0.10136986301369863, 0.08083503551149673, 0.12878211494855987, 0.16850626838820904, 0.2986413807319679, 0.21643835616438356, 0.005479452054794521, 0.08767123287671233, 0.012341884826565223, 0.2972733916758803, 0.09315068493150686, 0.03568764874538538, 0.3315068493150685, -0.0068099619586604945, -0.015029140040852276, 0.26165320540449377, 0.07810655322976594, 0.012409347300564061, 0.11645147386766112, 0.12876712328767123, 0.11371174784026385, 0.09315818076195116, 0.10549256975807207, 0.273972602739726, 0.25205479452054796, 0.27945205479452057, 0.26438918351666885, 0.08220302456758428, 0.024728744635796343, 0.09042220264977606, 0.13151809306073498, -0.05198358413132695, 0.0972733916758803, 0.010958904109589041, -0.04376440604913517, 0.3753949365665349, 0.049315068493150684, 0.15754736427862004, -0.057433052864344206, 0.17534246575342466, -0.05195360080954969, 0.19452054794520549, 0.17534246575342466, 0.25206229035099226, 0.13836928208683918, 0.15342465753424658, 0.29315068493150687, 0.08767123287671233, 0.15754736427862004, 0.12329891497854317, 0.283574761538894, 0.13972602739726028, 0.015081610853962483, 0.15754736427862004, 0.03568764874538538, 0.13425781908813222, 0.08494275059498155], \"coloraxis\": \"coloraxis\", \"opacity\": 1, \"size\": [0.19452054794520549, 0.10136986301369863, 0.08083503551149673, 0.12878211494855987, 0.16850626838820904, 0.2986413807319679, 0.21643835616438356, 0.005479452054794521, 0.08767123287671233, 0.012341884826565223, 0.2972733916758803, 0.09315068493150686, 0.03568764874538538, 0.3315068493150685, 0.0068099619586604945, 0.015029140040852276, 0.26165320540449377, 0.07810655322976594, 0.012409347300564061, 0.11645147386766112, 0.12876712328767123, 0.11371174784026385, 0.09315818076195116, 0.10549256975807207, 0.273972602739726, 0.25205479452054796, 0.27945205479452057, 0.26438918351666885, 0.08220302456758428, 0.024728744635796343, 0.09042220264977606, 0.13151809306073498, 0.05198358413132695, 0.0972733916758803, 0.010958904109589041, 0.04376440604913517, 0.3753949365665349, 0.049315068493150684, 0.15754736427862004, 0.057433052864344206, 0.17534246575342466, 0.05195360080954969, 0.19452054794520549, 0.17534246575342466, 0.25206229035099226, 0.13836928208683918, 0.15342465753424658, 0.29315068493150687, 0.08767123287671233, 0.15754736427862004, 0.12329891497854317, 0.283574761538894, 0.13972602739726028, 0.015081610853962483, 0.15754736427862004, 0.03568764874538538, 0.13425781908813222, 0.08494275059498155], \"sizemode\": \"area\", \"sizeref\": 0.0009384873414163373, \"symbol\": \"circle\"}, \"mode\": \"markers\", \"name\": \"\", \"showlegend\": false, \"type\": \"scattergeo\"}],                        {\"coloraxis\": {\"colorbar\": {\"title\": {\"text\": \"pct_ch_4\"}}, \"colorscale\": [[0.0, \"rgb(255,255,204)\"], [0.125, \"rgb(255,237,160)\"], [0.25, \"rgb(254,217,118)\"], [0.375, \"rgb(254,178,76)\"], [0.5, \"rgb(253,141,60)\"], [0.625, \"rgb(252,78,42)\"], [0.75, \"rgb(227,26,28)\"], [0.875, \"rgb(189,0,38)\"], [1.0, \"rgb(128,0,38)\"]]}, \"geo\": {\"center\": {\"lat\": 37.83800610344828, \"lon\": -120.74952093103452}, \"domain\": {\"x\": [0.0, 1.0], \"y\": [0.0, 1.0]}, \"lataxis\": {\"range\": [42.749903, 31.023604]}, \"lonaxis\": {\"range\": [-114.355395, -125.980998]}, \"resolution\": 50, \"scope\": \"usa\", \"showsubunits\": true, \"subunitcolor\": \"white\", \"subunitwidth\": 1.5}, \"height\": 1080, \"legend\": {\"itemsizing\": \"constant\", \"tracegroupgap\": 0}, \"margin\": {\"t\": 60}, \"template\": {\"data\": {\"bar\": [{\"error_x\": {\"color\": \"#f2f5fa\"}, \"error_y\": {\"color\": \"#f2f5fa\"}, \"marker\": {\"line\": {\"color\": \"rgb(17,17,17)\", \"width\": 0.5}}, \"type\": \"bar\"}], \"barpolar\": [{\"marker\": {\"line\": {\"color\": \"rgb(17,17,17)\", \"width\": 0.5}}, \"type\": \"barpolar\"}], \"carpet\": [{\"aaxis\": {\"endlinecolor\": \"#A2B1C6\", \"gridcolor\": \"#506784\", \"linecolor\": \"#506784\", \"minorgridcolor\": \"#506784\", \"startlinecolor\": \"#A2B1C6\"}, \"baxis\": {\"endlinecolor\": \"#A2B1C6\", \"gridcolor\": \"#506784\", \"linecolor\": \"#506784\", \"minorgridcolor\": \"#506784\", \"startlinecolor\": \"#A2B1C6\"}, \"type\": \"carpet\"}], \"choropleth\": [{\"colorbar\": {\"outlinewidth\": 0, \"ticks\": \"\"}, \"type\": \"choropleth\"}], \"contour\": [{\"colorbar\": {\"outlinewidth\": 0, \"ticks\": \"\"}, \"colorscale\": [[0.0, \"#0d0887\"], [0.1111111111111111, \"#46039f\"], [0.2222222222222222, \"#7201a8\"], [0.3333333333333333, \"#9c179e\"], [0.4444444444444444, \"#bd3786\"], [0.5555555555555556, \"#d8576b\"], [0.6666666666666666, \"#ed7953\"], [0.7777777777777778, \"#fb9f3a\"], [0.8888888888888888, \"#fdca26\"], [1.0, \"#f0f921\"]], \"type\": \"contour\"}], \"contourcarpet\": [{\"colorbar\": {\"outlinewidth\": 0, \"ticks\": \"\"}, \"type\": \"contourcarpet\"}], \"heatmap\": [{\"colorbar\": {\"outlinewidth\": 0, \"ticks\": \"\"}, \"colorscale\": [[0.0, \"#0d0887\"], [0.1111111111111111, \"#46039f\"], [0.2222222222222222, \"#7201a8\"], [0.3333333333333333, \"#9c179e\"], [0.4444444444444444, \"#bd3786\"], [0.5555555555555556, \"#d8576b\"], [0.6666666666666666, \"#ed7953\"], [0.7777777777777778, \"#fb9f3a\"], [0.8888888888888888, \"#fdca26\"], [1.0, \"#f0f921\"]], \"type\": \"heatmap\"}], \"heatmapgl\": [{\"colorbar\": {\"outlinewidth\": 0, \"ticks\": \"\"}, \"colorscale\": [[0.0, \"#0d0887\"], [0.1111111111111111, \"#46039f\"], [0.2222222222222222, \"#7201a8\"], [0.3333333333333333, \"#9c179e\"], [0.4444444444444444, \"#bd3786\"], [0.5555555555555556, \"#d8576b\"], [0.6666666666666666, \"#ed7953\"], [0.7777777777777778, \"#fb9f3a\"], [0.8888888888888888, \"#fdca26\"], [1.0, \"#f0f921\"]], \"type\": \"heatmapgl\"}], \"histogram\": [{\"marker\": {\"colorbar\": {\"outlinewidth\": 0, \"ticks\": \"\"}}, \"type\": \"histogram\"}], \"histogram2d\": [{\"colorbar\": {\"outlinewidth\": 0, \"ticks\": \"\"}, \"colorscale\": [[0.0, \"#0d0887\"], [0.1111111111111111, \"#46039f\"], [0.2222222222222222, \"#7201a8\"], [0.3333333333333333, \"#9c179e\"], [0.4444444444444444, \"#bd3786\"], [0.5555555555555556, \"#d8576b\"], [0.6666666666666666, \"#ed7953\"], [0.7777777777777778, \"#fb9f3a\"], [0.8888888888888888, \"#fdca26\"], [1.0, \"#f0f921\"]], \"type\": \"histogram2d\"}], \"histogram2dcontour\": [{\"colorbar\": {\"outlinewidth\": 0, \"ticks\": \"\"}, \"colorscale\": [[0.0, \"#0d0887\"], [0.1111111111111111, \"#46039f\"], [0.2222222222222222, \"#7201a8\"], [0.3333333333333333, \"#9c179e\"], [0.4444444444444444, \"#bd3786\"], [0.5555555555555556, \"#d8576b\"], [0.6666666666666666, \"#ed7953\"], [0.7777777777777778, \"#fb9f3a\"], [0.8888888888888888, \"#fdca26\"], [1.0, \"#f0f921\"]], \"type\": \"histogram2dcontour\"}], \"mesh3d\": [{\"colorbar\": {\"outlinewidth\": 0, \"ticks\": \"\"}, \"type\": \"mesh3d\"}], \"parcoords\": [{\"line\": {\"colorbar\": {\"outlinewidth\": 0, \"ticks\": \"\"}}, \"type\": \"parcoords\"}], \"pie\": [{\"automargin\": true, \"type\": \"pie\"}], \"scatter\": [{\"marker\": {\"line\": {\"color\": \"#283442\"}}, \"type\": \"scatter\"}], \"scatter3d\": [{\"line\": {\"colorbar\": {\"outlinewidth\": 0, \"ticks\": \"\"}}, \"marker\": {\"colorbar\": {\"outlinewidth\": 0, \"ticks\": \"\"}}, \"type\": \"scatter3d\"}], \"scattercarpet\": [{\"marker\": {\"colorbar\": {\"outlinewidth\": 0, \"ticks\": \"\"}}, \"type\": \"scattercarpet\"}], \"scattergeo\": [{\"marker\": {\"colorbar\": {\"outlinewidth\": 0, \"ticks\": \"\"}}, \"type\": \"scattergeo\"}], \"scattergl\": [{\"marker\": {\"line\": {\"color\": \"#283442\"}}, \"type\": \"scattergl\"}], \"scattermapbox\": [{\"marker\": {\"colorbar\": {\"outlinewidth\": 0, \"ticks\": \"\"}}, \"type\": \"scattermapbox\"}], \"scatterpolar\": [{\"marker\": {\"colorbar\": {\"outlinewidth\": 0, \"ticks\": \"\"}}, \"type\": \"scatterpolar\"}], \"scatterpolargl\": [{\"marker\": {\"colorbar\": {\"outlinewidth\": 0, \"ticks\": \"\"}}, \"type\": \"scatterpolargl\"}], \"scatterternary\": [{\"marker\": {\"colorbar\": {\"outlinewidth\": 0, \"ticks\": \"\"}}, \"type\": \"scatterternary\"}], \"surface\": [{\"colorbar\": {\"outlinewidth\": 0, \"ticks\": \"\"}, \"colorscale\": [[0.0, \"#0d0887\"], [0.1111111111111111, \"#46039f\"], [0.2222222222222222, \"#7201a8\"], [0.3333333333333333, \"#9c179e\"], [0.4444444444444444, \"#bd3786\"], [0.5555555555555556, \"#d8576b\"], [0.6666666666666666, \"#ed7953\"], [0.7777777777777778, \"#fb9f3a\"], [0.8888888888888888, \"#fdca26\"], [1.0, \"#f0f921\"]], \"type\": \"surface\"}], \"table\": [{\"cells\": {\"fill\": {\"color\": \"#506784\"}, \"line\": {\"color\": \"rgb(17,17,17)\"}}, \"header\": {\"fill\": {\"color\": \"#2a3f5f\"}, \"line\": {\"color\": \"rgb(17,17,17)\"}}, \"type\": \"table\"}]}, \"layout\": {\"annotationdefaults\": {\"arrowcolor\": \"#f2f5fa\", \"arrowhead\": 0, \"arrowwidth\": 1}, \"autotypenumbers\": \"strict\", \"coloraxis\": {\"colorbar\": {\"outlinewidth\": 0, \"ticks\": \"\"}}, \"colorscale\": {\"diverging\": [[0, \"#8e0152\"], [0.1, \"#c51b7d\"], [0.2, \"#de77ae\"], [0.3, \"#f1b6da\"], [0.4, \"#fde0ef\"], [0.5, \"#f7f7f7\"], [0.6, \"#e6f5d0\"], [0.7, \"#b8e186\"], [0.8, \"#7fbc41\"], [0.9, \"#4d9221\"], [1, \"#276419\"]], \"sequential\": [[0.0, \"#0d0887\"], [0.1111111111111111, \"#46039f\"], [0.2222222222222222, \"#7201a8\"], [0.3333333333333333, \"#9c179e\"], [0.4444444444444444, \"#bd3786\"], [0.5555555555555556, \"#d8576b\"], [0.6666666666666666, \"#ed7953\"], [0.7777777777777778, \"#fb9f3a\"], [0.8888888888888888, \"#fdca26\"], [1.0, \"#f0f921\"]], \"sequentialminus\": [[0.0, \"#0d0887\"], [0.1111111111111111, \"#46039f\"], [0.2222222222222222, \"#7201a8\"], [0.3333333333333333, \"#9c179e\"], [0.4444444444444444, \"#bd3786\"], [0.5555555555555556, \"#d8576b\"], [0.6666666666666666, \"#ed7953\"], [0.7777777777777778, \"#fb9f3a\"], [0.8888888888888888, \"#fdca26\"], [1.0, \"#f0f921\"]]}, \"colorway\": [\"#636efa\", \"#EF553B\", \"#00cc96\", \"#ab63fa\", \"#FFA15A\", \"#19d3f3\", \"#FF6692\", \"#B6E880\", \"#FF97FF\", \"#FECB52\"], \"font\": {\"color\": \"#f2f5fa\"}, \"geo\": {\"bgcolor\": \"rgb(17,17,17)\", \"lakecolor\": \"rgb(17,17,17)\", \"landcolor\": \"rgb(17,17,17)\", \"showlakes\": true, \"showland\": true, \"subunitcolor\": \"#506784\"}, \"hoverlabel\": {\"align\": \"left\"}, \"hovermode\": \"closest\", \"mapbox\": {\"style\": \"dark\"}, \"paper_bgcolor\": \"rgb(17,17,17)\", \"plot_bgcolor\": \"rgb(17,17,17)\", \"polar\": {\"angularaxis\": {\"gridcolor\": \"#506784\", \"linecolor\": \"#506784\", \"ticks\": \"\"}, \"bgcolor\": \"rgb(17,17,17)\", \"radialaxis\": {\"gridcolor\": \"#506784\", \"linecolor\": \"#506784\", \"ticks\": \"\"}}, \"scene\": {\"xaxis\": {\"backgroundcolor\": \"rgb(17,17,17)\", \"gridcolor\": \"#506784\", \"gridwidth\": 2, \"linecolor\": \"#506784\", \"showbackground\": true, \"ticks\": \"\", \"zerolinecolor\": \"#C8D4E3\"}, \"yaxis\": {\"backgroundcolor\": \"rgb(17,17,17)\", \"gridcolor\": \"#506784\", \"gridwidth\": 2, \"linecolor\": \"#506784\", \"showbackground\": true, \"ticks\": \"\", \"zerolinecolor\": \"#C8D4E3\"}, \"zaxis\": {\"backgroundcolor\": \"rgb(17,17,17)\", \"gridcolor\": \"#506784\", \"gridwidth\": 2, \"linecolor\": \"#506784\", \"showbackground\": true, \"ticks\": \"\", \"zerolinecolor\": \"#C8D4E3\"}}, \"shapedefaults\": {\"line\": {\"color\": \"#f2f5fa\"}}, \"sliderdefaults\": {\"bgcolor\": \"#C8D4E3\", \"bordercolor\": \"rgb(17,17,17)\", \"borderwidth\": 1, \"tickwidth\": 0}, \"ternary\": {\"aaxis\": {\"gridcolor\": \"#506784\", \"linecolor\": \"#506784\", \"ticks\": \"\"}, \"baxis\": {\"gridcolor\": \"#506784\", \"linecolor\": \"#506784\", \"ticks\": \"\"}, \"bgcolor\": \"rgb(17,17,17)\", \"caxis\": {\"gridcolor\": \"#506784\", \"linecolor\": \"#506784\", \"ticks\": \"\"}}, \"title\": {\"x\": 0.05}, \"updatemenudefaults\": {\"bgcolor\": \"#506784\", \"borderwidth\": 0}, \"xaxis\": {\"automargin\": true, \"gridcolor\": \"#283442\", \"linecolor\": \"#506784\", \"ticks\": \"\", \"title\": {\"standoff\": 15}, \"zerolinecolor\": \"#283442\", \"zerolinewidth\": 2}, \"yaxis\": {\"automargin\": true, \"gridcolor\": \"#283442\", \"linecolor\": \"#506784\", \"ticks\": \"\", \"title\": {\"standoff\": 15}, \"zerolinecolor\": \"#283442\", \"zerolinewidth\": 2}}}, \"width\": 1080},                        {\"responsive\": true}                    ).then(function(){\n",
              "                            \n",
              "var gd = document.getElementById('35869735-f8c9-4e36-9b92-894d984e8565');\n",
              "var x = new MutationObserver(function (mutations, observer) {{\n",
              "        var display = window.getComputedStyle(gd).display;\n",
              "        if (!display || display === 'none') {{\n",
              "            console.log([gd, 'removed!']);\n",
              "            Plotly.purge(gd);\n",
              "            observer.disconnect();\n",
              "        }}\n",
              "}});\n",
              "\n",
              "// Listen for the removal of the full notebook cells\n",
              "var notebookContainer = gd.closest('#notebook-container');\n",
              "if (notebookContainer) {{\n",
              "    x.observe(notebookContainer, {childList: true});\n",
              "}}\n",
              "\n",
              "// Listen for the clearing of the current output cell\n",
              "var outputEl = gd.closest('.output');\n",
              "if (outputEl) {{\n",
              "    x.observe(outputEl, {childList: true});\n",
              "}}\n",
              "\n",
              "                        })                };                });            </script>        </div>"
            ]
          },
          "metadata": {},
          "output_type": "display_data"
        }
      ],
      "source": [
        "# plot 4\n",
        "fig4 = px.scatter_geo(final_df_fips, lat = \"lat\" , lon = \"lon\",hover_name='Name',height=1080,width=1080, scope = 'usa',center={'lat':lat1,'lon':lon1},template=\"plotly_dark\",opacity=1,color_continuous_scale = py.express.colors.sequential.YlOrRd,hover_data = ['fips','State','pct_ch_4'],color='pct_ch_4',size='size_4')\n",
        "fig4.update_geos(\n",
        "    resolution=50,\n",
        "#     showland=True, landcolor=\"pink\",\n",
        "    showsubunits=True, subunitcolor=\"white\", subunitwidth =1.5,\n",
        "    lonaxis_range=[lonr1,lonr2],lataxis_range=[latr1,latr2]\n",
        "    )\n",
        "fig4.show()"
      ]
    },
    {
      "cell_type": "code",
      "execution_count": null,
      "metadata": {
        "id": "wUMmqpdOcMj4",
        "outputId": "4870ee87-0e1f-4d57-daa2-e9c5c4b94268"
      },
      "outputs": [
        {
          "data": {
            "application/vnd.plotly.v1+json": {
              "config": {
                "plotlyServerURL": "https://plot.ly"
              },
              "data": [
                {
                  "customdata": [
                    [
                      6001,
                      "CA",
                      0.11506849315068493
                    ],
                    [
                      6003,
                      "CA",
                      0.2328767123287671
                    ],
                    [
                      6005,
                      "CA",
                      0.2410958904109589
                    ],
                    [
                      6007,
                      "CA",
                      0.2219178082191781
                    ],
                    [
                      6009,
                      "CA",
                      0.2465753424657534
                    ],
                    [
                      6011,
                      "CA",
                      0.0547945205479452
                    ],
                    [
                      6013,
                      "CA",
                      0.09315068493150686
                    ],
                    [
                      6015,
                      "CA",
                      0
                    ],
                    [
                      6017,
                      "CA",
                      0.2219178082191781
                    ],
                    [
                      6019,
                      "CA",
                      0.410958904109589
                    ],
                    [
                      6021,
                      "CA",
                      0.0547945205479452
                    ],
                    [
                      6023,
                      "CA",
                      0.0547945205479452
                    ],
                    [
                      6025,
                      "CA",
                      0
                    ],
                    [
                      6027,
                      "CA",
                      0
                    ],
                    [
                      6029,
                      "CA",
                      0.4136986301369863
                    ],
                    [
                      6031,
                      "CA",
                      0.42191780821917807
                    ],
                    [
                      6033,
                      "CA",
                      0.0547945205479452
                    ],
                    [
                      6035,
                      "CA",
                      0.2136986301369863
                    ],
                    [
                      6037,
                      "CA",
                      0.36164383561643837
                    ],
                    [
                      6039,
                      "CA",
                      0.30684931506849317
                    ],
                    [
                      6041,
                      "CA",
                      0
                    ],
                    [
                      6043,
                      "CA",
                      0.30684931506849317
                    ],
                    [
                      6045,
                      "CA",
                      0.0547945205479452
                    ],
                    [
                      6047,
                      "CA",
                      0.3178082191780822
                    ],
                    [
                      6049,
                      "CA",
                      0.038356164383561646
                    ],
                    [
                      6051,
                      "CA",
                      0.17534246575342466
                    ],
                    [
                      6053,
                      "CA",
                      0.14794520547945206
                    ],
                    [
                      6055,
                      "CA",
                      0.0547945205479452
                    ],
                    [
                      6057,
                      "CA",
                      0.2054794520547945
                    ],
                    [
                      6059,
                      "CA",
                      0.3561643835616438
                    ],
                    [
                      6061,
                      "CA",
                      0.2054794520547945
                    ],
                    [
                      6063,
                      "CA",
                      0.18356164383561643
                    ],
                    [
                      6065,
                      "CA",
                      0
                    ],
                    [
                      6067,
                      "CA",
                      0.23013698630136986
                    ],
                    [
                      6069,
                      "CA",
                      0.42191780821917807
                    ],
                    [
                      6071,
                      "CA",
                      0
                    ],
                    [
                      6073,
                      "CA",
                      0
                    ],
                    [
                      6075,
                      "CA",
                      0.09315068493150686
                    ],
                    [
                      6077,
                      "CA",
                      0.26301369863013696
                    ],
                    [
                      6079,
                      "CA",
                      0.4191780821917808
                    ],
                    [
                      6081,
                      "CA",
                      0.11506849315068493
                    ],
                    [
                      6083,
                      "CA",
                      0.4136986301369863
                    ],
                    [
                      6085,
                      "CA",
                      0.11506849315068493
                    ],
                    [
                      6087,
                      "CA",
                      0.11506849315068493
                    ],
                    [
                      6089,
                      "CA",
                      0.0547945205479452
                    ],
                    [
                      6091,
                      "CA",
                      0.16712328767123288
                    ],
                    [
                      6093,
                      "CA",
                      0
                    ],
                    [
                      6095,
                      "CA",
                      0.0547945205479452
                    ],
                    [
                      6097,
                      "CA",
                      0.0547945205479452
                    ],
                    [
                      6099,
                      "CA",
                      0.26301369863013696
                    ],
                    [
                      6101,
                      "CA",
                      0.23013698630136986
                    ],
                    [
                      6103,
                      "CA",
                      0.0547945205479452
                    ],
                    [
                      6105,
                      "CA",
                      0.0547945205479452
                    ],
                    [
                      6107,
                      "CA",
                      0.410958904109589
                    ],
                    [
                      6109,
                      "CA",
                      0.26301369863013696
                    ],
                    [
                      6111,
                      "CA",
                      0.3726027397260274
                    ],
                    [
                      6113,
                      "CA",
                      0.23013698630136986
                    ],
                    [
                      6115,
                      "CA",
                      0.23013698630136986
                    ]
                  ],
                  "geo": "geo",
                  "hovertemplate": "<b>%{hovertext}</b><br><br>size_5=%{marker.size}<br>lat=%{lat}<br>lon=%{lon}<br>fips=%{customdata[0]}<br>State=%{customdata[1]}<br>pct_ch_5=%{marker.color}<extra></extra>",
                  "hovertext": [
                    "Alameda",
                    "Alpine",
                    "Amador",
                    "Butte",
                    "Calaveras",
                    "Colusa",
                    "Contra Costa",
                    "Del Norte",
                    "El Dorado",
                    "Fresno",
                    "Glenn",
                    "Humboldt",
                    "Imperial",
                    "Inyo",
                    "Kern",
                    "Kings",
                    "Lake",
                    "Lassen",
                    "Los Angeles",
                    "Madera",
                    "Marin",
                    "Mariposa",
                    "Mendocino",
                    "Merced",
                    "Modoc",
                    "Mono",
                    "Monterey",
                    "Napa",
                    "Nevada",
                    "Orange",
                    "Placer",
                    "Plumas",
                    "Riverside",
                    "Sacramento",
                    "San Benito",
                    "San Bernardino",
                    "San Diego",
                    "San Francisco",
                    "San Joaquin",
                    "San Luis Obispo",
                    "San Mateo",
                    "Santa Barbara",
                    "Santa Clara",
                    "Santa Cruz",
                    "Shasta",
                    "Sierra",
                    "Siskiyou",
                    "Solano",
                    "Sonoma",
                    "Stanislaus",
                    "Sutter",
                    "Tehama",
                    "Trinity",
                    "Tulare",
                    "Tuolumne",
                    "Ventura",
                    "Yolo",
                    "Yuba"
                  ],
                  "lat": [
                    37.648081,
                    38.61761,
                    38.44355,
                    39.665959,
                    38.187844,
                    39.177739,
                    37.919478999999995,
                    41.749903,
                    38.785532,
                    36.761006,
                    39.602546000000004,
                    40.706672999999995,
                    33.040816,
                    36.561977,
                    35.346629,
                    36.072478000000004,
                    39.094802,
                    40.721089,
                    34.196397999999995,
                    37.210039,
                    38.051817,
                    37.570034,
                    39.432388,
                    37.194806,
                    41.592919,
                    37.915836,
                    36.240107,
                    38.507351,
                    39.295190999999996,
                    33.675686999999996,
                    39.062032,
                    39.99517,
                    33.729828000000005,
                    38.450010999999996,
                    36.610702,
                    34.85722,
                    33.023604,
                    37.727239000000004,
                    37.935034,
                    35.385227,
                    37.414664,
                    34.537378000000004,
                    37.220777000000005,
                    37.012488,
                    40.760521999999995,
                    39.576925,
                    41.587986,
                    38.267226,
                    38.532574,
                    37.562384,
                    39.035257,
                    40.126156,
                    40.647724,
                    36.230453000000004,
                    38.021451,
                    34.358742,
                    38.679268,
                    39.270026
                  ],
                  "legendgroup": "",
                  "lon": [
                    -121.91330400000001,
                    -119.798999,
                    -120.653856,
                    -121.601919,
                    -120.55511499999999,
                    -122.237563,
                    -121.95154299999999,
                    -123.980998,
                    -120.534398,
                    -119.655019,
                    -122.4017,
                    -123.92581799999999,
                    -115.355395,
                    -117.403927,
                    -118.729506,
                    -119.81553000000001,
                    -122.746757,
                    -120.629931,
                    -118.26186200000001,
                    -119.749852,
                    -122.745974,
                    -119.91286000000001,
                    -123.442881,
                    -120.722802,
                    -120.71837,
                    -118.87516699999999,
                    -121.315573,
                    -122.32599499999999,
                    -120.77344599999999,
                    -117.777207,
                    -120.722718,
                    -120.829516,
                    -116.00223899999999,
                    -121.340441,
                    -121.085296,
                    -116.181197,
                    -116.776117,
                    -123.032229,
                    -121.27223700000002,
                    -120.44753999999999,
                    -122.37154199999999,
                    -120.03848500000001,
                    -121.69062199999999,
                    -122.007205,
                    -122.04355,
                    -120.521993,
                    -122.53328700000002,
                    -121.939594,
                    -122.945194,
                    -121.002656,
                    -121.702758,
                    -122.232276,
                    -123.11440400000001,
                    -118.780542,
                    -119.964708,
                    -119.13314299999999,
                    -121.903178,
                    -121.34428
                  ],
                  "marker": {
                    "color": [
                      0.11506849315068493,
                      0.2328767123287671,
                      0.2410958904109589,
                      0.2219178082191781,
                      0.2465753424657534,
                      0.0547945205479452,
                      0.09315068493150686,
                      0,
                      0.2219178082191781,
                      0.410958904109589,
                      0.0547945205479452,
                      0.0547945205479452,
                      0,
                      0,
                      0.4136986301369863,
                      0.42191780821917807,
                      0.0547945205479452,
                      0.2136986301369863,
                      0.36164383561643837,
                      0.30684931506849317,
                      0,
                      0.30684931506849317,
                      0.0547945205479452,
                      0.3178082191780822,
                      0.038356164383561646,
                      0.17534246575342466,
                      0.14794520547945206,
                      0.0547945205479452,
                      0.2054794520547945,
                      0.3561643835616438,
                      0.2054794520547945,
                      0.18356164383561643,
                      0,
                      0.23013698630136986,
                      0.42191780821917807,
                      0,
                      0,
                      0.09315068493150686,
                      0.26301369863013696,
                      0.4191780821917808,
                      0.11506849315068493,
                      0.4136986301369863,
                      0.11506849315068493,
                      0.11506849315068493,
                      0.0547945205479452,
                      0.16712328767123288,
                      0,
                      0.0547945205479452,
                      0.0547945205479452,
                      0.26301369863013696,
                      0.23013698630136986,
                      0.0547945205479452,
                      0.0547945205479452,
                      0.410958904109589,
                      0.26301369863013696,
                      0.3726027397260274,
                      0.23013698630136986,
                      0.23013698630136986
                    ],
                    "coloraxis": "coloraxis",
                    "opacity": 1,
                    "size": [
                      0.11506849315068493,
                      0.2328767123287671,
                      0.2410958904109589,
                      0.2219178082191781,
                      0.2465753424657534,
                      0.0547945205479452,
                      0.09315068493150686,
                      0,
                      0.2219178082191781,
                      0.410958904109589,
                      0.0547945205479452,
                      0.0547945205479452,
                      0,
                      0,
                      0.4136986301369863,
                      0.42191780821917807,
                      0.0547945205479452,
                      0.2136986301369863,
                      0.36164383561643837,
                      0.30684931506849317,
                      0,
                      0.30684931506849317,
                      0.0547945205479452,
                      0.3178082191780822,
                      0.038356164383561646,
                      0.17534246575342466,
                      0.14794520547945206,
                      0.0547945205479452,
                      0.2054794520547945,
                      0.3561643835616438,
                      0.2054794520547945,
                      0.18356164383561643,
                      0,
                      0.23013698630136986,
                      0.42191780821917807,
                      0,
                      0,
                      0.09315068493150686,
                      0.26301369863013696,
                      0.4191780821917808,
                      0.11506849315068493,
                      0.4136986301369863,
                      0.11506849315068493,
                      0.11506849315068493,
                      0.0547945205479452,
                      0.16712328767123288,
                      0,
                      0.0547945205479452,
                      0.0547945205479452,
                      0.26301369863013696,
                      0.23013698630136986,
                      0.0547945205479452,
                      0.0547945205479452,
                      0.410958904109589,
                      0.26301369863013696,
                      0.3726027397260274,
                      0.23013698630136986,
                      0.23013698630136986
                    ],
                    "sizemode": "area",
                    "sizeref": 0.0010547945205479452,
                    "symbol": "circle"
                  },
                  "mode": "markers",
                  "name": "",
                  "showlegend": false,
                  "type": "scattergeo"
                }
              ],
              "layout": {
                "coloraxis": {
                  "colorbar": {
                    "title": {
                      "text": "pct_ch_5"
                    }
                  },
                  "colorscale": [
                    [
                      0,
                      "rgb(255,245,240)"
                    ],
                    [
                      0.125,
                      "rgb(254,224,210)"
                    ],
                    [
                      0.25,
                      "rgb(252,187,161)"
                    ],
                    [
                      0.375,
                      "rgb(252,146,114)"
                    ],
                    [
                      0.5,
                      "rgb(251,106,74)"
                    ],
                    [
                      0.625,
                      "rgb(239,59,44)"
                    ],
                    [
                      0.75,
                      "rgb(203,24,29)"
                    ],
                    [
                      0.875,
                      "rgb(165,15,21)"
                    ],
                    [
                      1,
                      "rgb(103,0,13)"
                    ]
                  ]
                },
                "geo": {
                  "center": {
                    "lat": 37.83800610344828,
                    "lon": -120.74952093103452
                  },
                  "domain": {
                    "x": [
                      0,
                      1
                    ],
                    "y": [
                      0,
                      1
                    ]
                  },
                  "lataxis": {
                    "range": [
                      42.749903,
                      31.023604
                    ]
                  },
                  "lonaxis": {
                    "range": [
                      -114.355395,
                      -125.980998
                    ]
                  },
                  "resolution": 50,
                  "scope": "usa",
                  "showsubunits": true,
                  "subunitcolor": "white",
                  "subunitwidth": 1.5
                },
                "height": 1080,
                "legend": {
                  "itemsizing": "constant",
                  "tracegroupgap": 0
                },
                "margin": {
                  "t": 60
                },
                "template": {
                  "data": {
                    "bar": [
                      {
                        "error_x": {
                          "color": "#f2f5fa"
                        },
                        "error_y": {
                          "color": "#f2f5fa"
                        },
                        "marker": {
                          "line": {
                            "color": "rgb(17,17,17)",
                            "width": 0.5
                          }
                        },
                        "type": "bar"
                      }
                    ],
                    "barpolar": [
                      {
                        "marker": {
                          "line": {
                            "color": "rgb(17,17,17)",
                            "width": 0.5
                          }
                        },
                        "type": "barpolar"
                      }
                    ],
                    "carpet": [
                      {
                        "aaxis": {
                          "endlinecolor": "#A2B1C6",
                          "gridcolor": "#506784",
                          "linecolor": "#506784",
                          "minorgridcolor": "#506784",
                          "startlinecolor": "#A2B1C6"
                        },
                        "baxis": {
                          "endlinecolor": "#A2B1C6",
                          "gridcolor": "#506784",
                          "linecolor": "#506784",
                          "minorgridcolor": "#506784",
                          "startlinecolor": "#A2B1C6"
                        },
                        "type": "carpet"
                      }
                    ],
                    "choropleth": [
                      {
                        "colorbar": {
                          "outlinewidth": 0,
                          "ticks": ""
                        },
                        "type": "choropleth"
                      }
                    ],
                    "contour": [
                      {
                        "colorbar": {
                          "outlinewidth": 0,
                          "ticks": ""
                        },
                        "colorscale": [
                          [
                            0,
                            "#0d0887"
                          ],
                          [
                            0.1111111111111111,
                            "#46039f"
                          ],
                          [
                            0.2222222222222222,
                            "#7201a8"
                          ],
                          [
                            0.3333333333333333,
                            "#9c179e"
                          ],
                          [
                            0.4444444444444444,
                            "#bd3786"
                          ],
                          [
                            0.5555555555555556,
                            "#d8576b"
                          ],
                          [
                            0.6666666666666666,
                            "#ed7953"
                          ],
                          [
                            0.7777777777777778,
                            "#fb9f3a"
                          ],
                          [
                            0.8888888888888888,
                            "#fdca26"
                          ],
                          [
                            1,
                            "#f0f921"
                          ]
                        ],
                        "type": "contour"
                      }
                    ],
                    "contourcarpet": [
                      {
                        "colorbar": {
                          "outlinewidth": 0,
                          "ticks": ""
                        },
                        "type": "contourcarpet"
                      }
                    ],
                    "heatmap": [
                      {
                        "colorbar": {
                          "outlinewidth": 0,
                          "ticks": ""
                        },
                        "colorscale": [
                          [
                            0,
                            "#0d0887"
                          ],
                          [
                            0.1111111111111111,
                            "#46039f"
                          ],
                          [
                            0.2222222222222222,
                            "#7201a8"
                          ],
                          [
                            0.3333333333333333,
                            "#9c179e"
                          ],
                          [
                            0.4444444444444444,
                            "#bd3786"
                          ],
                          [
                            0.5555555555555556,
                            "#d8576b"
                          ],
                          [
                            0.6666666666666666,
                            "#ed7953"
                          ],
                          [
                            0.7777777777777778,
                            "#fb9f3a"
                          ],
                          [
                            0.8888888888888888,
                            "#fdca26"
                          ],
                          [
                            1,
                            "#f0f921"
                          ]
                        ],
                        "type": "heatmap"
                      }
                    ],
                    "heatmapgl": [
                      {
                        "colorbar": {
                          "outlinewidth": 0,
                          "ticks": ""
                        },
                        "colorscale": [
                          [
                            0,
                            "#0d0887"
                          ],
                          [
                            0.1111111111111111,
                            "#46039f"
                          ],
                          [
                            0.2222222222222222,
                            "#7201a8"
                          ],
                          [
                            0.3333333333333333,
                            "#9c179e"
                          ],
                          [
                            0.4444444444444444,
                            "#bd3786"
                          ],
                          [
                            0.5555555555555556,
                            "#d8576b"
                          ],
                          [
                            0.6666666666666666,
                            "#ed7953"
                          ],
                          [
                            0.7777777777777778,
                            "#fb9f3a"
                          ],
                          [
                            0.8888888888888888,
                            "#fdca26"
                          ],
                          [
                            1,
                            "#f0f921"
                          ]
                        ],
                        "type": "heatmapgl"
                      }
                    ],
                    "histogram": [
                      {
                        "marker": {
                          "colorbar": {
                            "outlinewidth": 0,
                            "ticks": ""
                          }
                        },
                        "type": "histogram"
                      }
                    ],
                    "histogram2d": [
                      {
                        "colorbar": {
                          "outlinewidth": 0,
                          "ticks": ""
                        },
                        "colorscale": [
                          [
                            0,
                            "#0d0887"
                          ],
                          [
                            0.1111111111111111,
                            "#46039f"
                          ],
                          [
                            0.2222222222222222,
                            "#7201a8"
                          ],
                          [
                            0.3333333333333333,
                            "#9c179e"
                          ],
                          [
                            0.4444444444444444,
                            "#bd3786"
                          ],
                          [
                            0.5555555555555556,
                            "#d8576b"
                          ],
                          [
                            0.6666666666666666,
                            "#ed7953"
                          ],
                          [
                            0.7777777777777778,
                            "#fb9f3a"
                          ],
                          [
                            0.8888888888888888,
                            "#fdca26"
                          ],
                          [
                            1,
                            "#f0f921"
                          ]
                        ],
                        "type": "histogram2d"
                      }
                    ],
                    "histogram2dcontour": [
                      {
                        "colorbar": {
                          "outlinewidth": 0,
                          "ticks": ""
                        },
                        "colorscale": [
                          [
                            0,
                            "#0d0887"
                          ],
                          [
                            0.1111111111111111,
                            "#46039f"
                          ],
                          [
                            0.2222222222222222,
                            "#7201a8"
                          ],
                          [
                            0.3333333333333333,
                            "#9c179e"
                          ],
                          [
                            0.4444444444444444,
                            "#bd3786"
                          ],
                          [
                            0.5555555555555556,
                            "#d8576b"
                          ],
                          [
                            0.6666666666666666,
                            "#ed7953"
                          ],
                          [
                            0.7777777777777778,
                            "#fb9f3a"
                          ],
                          [
                            0.8888888888888888,
                            "#fdca26"
                          ],
                          [
                            1,
                            "#f0f921"
                          ]
                        ],
                        "type": "histogram2dcontour"
                      }
                    ],
                    "mesh3d": [
                      {
                        "colorbar": {
                          "outlinewidth": 0,
                          "ticks": ""
                        },
                        "type": "mesh3d"
                      }
                    ],
                    "parcoords": [
                      {
                        "line": {
                          "colorbar": {
                            "outlinewidth": 0,
                            "ticks": ""
                          }
                        },
                        "type": "parcoords"
                      }
                    ],
                    "pie": [
                      {
                        "automargin": true,
                        "type": "pie"
                      }
                    ],
                    "scatter": [
                      {
                        "marker": {
                          "line": {
                            "color": "#283442"
                          }
                        },
                        "type": "scatter"
                      }
                    ],
                    "scatter3d": [
                      {
                        "line": {
                          "colorbar": {
                            "outlinewidth": 0,
                            "ticks": ""
                          }
                        },
                        "marker": {
                          "colorbar": {
                            "outlinewidth": 0,
                            "ticks": ""
                          }
                        },
                        "type": "scatter3d"
                      }
                    ],
                    "scattercarpet": [
                      {
                        "marker": {
                          "colorbar": {
                            "outlinewidth": 0,
                            "ticks": ""
                          }
                        },
                        "type": "scattercarpet"
                      }
                    ],
                    "scattergeo": [
                      {
                        "marker": {
                          "colorbar": {
                            "outlinewidth": 0,
                            "ticks": ""
                          }
                        },
                        "type": "scattergeo"
                      }
                    ],
                    "scattergl": [
                      {
                        "marker": {
                          "line": {
                            "color": "#283442"
                          }
                        },
                        "type": "scattergl"
                      }
                    ],
                    "scattermapbox": [
                      {
                        "marker": {
                          "colorbar": {
                            "outlinewidth": 0,
                            "ticks": ""
                          }
                        },
                        "type": "scattermapbox"
                      }
                    ],
                    "scatterpolar": [
                      {
                        "marker": {
                          "colorbar": {
                            "outlinewidth": 0,
                            "ticks": ""
                          }
                        },
                        "type": "scatterpolar"
                      }
                    ],
                    "scatterpolargl": [
                      {
                        "marker": {
                          "colorbar": {
                            "outlinewidth": 0,
                            "ticks": ""
                          }
                        },
                        "type": "scatterpolargl"
                      }
                    ],
                    "scatterternary": [
                      {
                        "marker": {
                          "colorbar": {
                            "outlinewidth": 0,
                            "ticks": ""
                          }
                        },
                        "type": "scatterternary"
                      }
                    ],
                    "surface": [
                      {
                        "colorbar": {
                          "outlinewidth": 0,
                          "ticks": ""
                        },
                        "colorscale": [
                          [
                            0,
                            "#0d0887"
                          ],
                          [
                            0.1111111111111111,
                            "#46039f"
                          ],
                          [
                            0.2222222222222222,
                            "#7201a8"
                          ],
                          [
                            0.3333333333333333,
                            "#9c179e"
                          ],
                          [
                            0.4444444444444444,
                            "#bd3786"
                          ],
                          [
                            0.5555555555555556,
                            "#d8576b"
                          ],
                          [
                            0.6666666666666666,
                            "#ed7953"
                          ],
                          [
                            0.7777777777777778,
                            "#fb9f3a"
                          ],
                          [
                            0.8888888888888888,
                            "#fdca26"
                          ],
                          [
                            1,
                            "#f0f921"
                          ]
                        ],
                        "type": "surface"
                      }
                    ],
                    "table": [
                      {
                        "cells": {
                          "fill": {
                            "color": "#506784"
                          },
                          "line": {
                            "color": "rgb(17,17,17)"
                          }
                        },
                        "header": {
                          "fill": {
                            "color": "#2a3f5f"
                          },
                          "line": {
                            "color": "rgb(17,17,17)"
                          }
                        },
                        "type": "table"
                      }
                    ]
                  },
                  "layout": {
                    "annotationdefaults": {
                      "arrowcolor": "#f2f5fa",
                      "arrowhead": 0,
                      "arrowwidth": 1
                    },
                    "autotypenumbers": "strict",
                    "coloraxis": {
                      "colorbar": {
                        "outlinewidth": 0,
                        "ticks": ""
                      }
                    },
                    "colorscale": {
                      "diverging": [
                        [
                          0,
                          "#8e0152"
                        ],
                        [
                          0.1,
                          "#c51b7d"
                        ],
                        [
                          0.2,
                          "#de77ae"
                        ],
                        [
                          0.3,
                          "#f1b6da"
                        ],
                        [
                          0.4,
                          "#fde0ef"
                        ],
                        [
                          0.5,
                          "#f7f7f7"
                        ],
                        [
                          0.6,
                          "#e6f5d0"
                        ],
                        [
                          0.7,
                          "#b8e186"
                        ],
                        [
                          0.8,
                          "#7fbc41"
                        ],
                        [
                          0.9,
                          "#4d9221"
                        ],
                        [
                          1,
                          "#276419"
                        ]
                      ],
                      "sequential": [
                        [
                          0,
                          "#0d0887"
                        ],
                        [
                          0.1111111111111111,
                          "#46039f"
                        ],
                        [
                          0.2222222222222222,
                          "#7201a8"
                        ],
                        [
                          0.3333333333333333,
                          "#9c179e"
                        ],
                        [
                          0.4444444444444444,
                          "#bd3786"
                        ],
                        [
                          0.5555555555555556,
                          "#d8576b"
                        ],
                        [
                          0.6666666666666666,
                          "#ed7953"
                        ],
                        [
                          0.7777777777777778,
                          "#fb9f3a"
                        ],
                        [
                          0.8888888888888888,
                          "#fdca26"
                        ],
                        [
                          1,
                          "#f0f921"
                        ]
                      ],
                      "sequentialminus": [
                        [
                          0,
                          "#0d0887"
                        ],
                        [
                          0.1111111111111111,
                          "#46039f"
                        ],
                        [
                          0.2222222222222222,
                          "#7201a8"
                        ],
                        [
                          0.3333333333333333,
                          "#9c179e"
                        ],
                        [
                          0.4444444444444444,
                          "#bd3786"
                        ],
                        [
                          0.5555555555555556,
                          "#d8576b"
                        ],
                        [
                          0.6666666666666666,
                          "#ed7953"
                        ],
                        [
                          0.7777777777777778,
                          "#fb9f3a"
                        ],
                        [
                          0.8888888888888888,
                          "#fdca26"
                        ],
                        [
                          1,
                          "#f0f921"
                        ]
                      ]
                    },
                    "colorway": [
                      "#636efa",
                      "#EF553B",
                      "#00cc96",
                      "#ab63fa",
                      "#FFA15A",
                      "#19d3f3",
                      "#FF6692",
                      "#B6E880",
                      "#FF97FF",
                      "#FECB52"
                    ],
                    "font": {
                      "color": "#f2f5fa"
                    },
                    "geo": {
                      "bgcolor": "rgb(17,17,17)",
                      "lakecolor": "rgb(17,17,17)",
                      "landcolor": "rgb(17,17,17)",
                      "showlakes": true,
                      "showland": true,
                      "subunitcolor": "#506784"
                    },
                    "hoverlabel": {
                      "align": "left"
                    },
                    "hovermode": "closest",
                    "mapbox": {
                      "style": "dark"
                    },
                    "paper_bgcolor": "rgb(17,17,17)",
                    "plot_bgcolor": "rgb(17,17,17)",
                    "polar": {
                      "angularaxis": {
                        "gridcolor": "#506784",
                        "linecolor": "#506784",
                        "ticks": ""
                      },
                      "bgcolor": "rgb(17,17,17)",
                      "radialaxis": {
                        "gridcolor": "#506784",
                        "linecolor": "#506784",
                        "ticks": ""
                      }
                    },
                    "scene": {
                      "xaxis": {
                        "backgroundcolor": "rgb(17,17,17)",
                        "gridcolor": "#506784",
                        "gridwidth": 2,
                        "linecolor": "#506784",
                        "showbackground": true,
                        "ticks": "",
                        "zerolinecolor": "#C8D4E3"
                      },
                      "yaxis": {
                        "backgroundcolor": "rgb(17,17,17)",
                        "gridcolor": "#506784",
                        "gridwidth": 2,
                        "linecolor": "#506784",
                        "showbackground": true,
                        "ticks": "",
                        "zerolinecolor": "#C8D4E3"
                      },
                      "zaxis": {
                        "backgroundcolor": "rgb(17,17,17)",
                        "gridcolor": "#506784",
                        "gridwidth": 2,
                        "linecolor": "#506784",
                        "showbackground": true,
                        "ticks": "",
                        "zerolinecolor": "#C8D4E3"
                      }
                    },
                    "shapedefaults": {
                      "line": {
                        "color": "#f2f5fa"
                      }
                    },
                    "sliderdefaults": {
                      "bgcolor": "#C8D4E3",
                      "bordercolor": "rgb(17,17,17)",
                      "borderwidth": 1,
                      "tickwidth": 0
                    },
                    "ternary": {
                      "aaxis": {
                        "gridcolor": "#506784",
                        "linecolor": "#506784",
                        "ticks": ""
                      },
                      "baxis": {
                        "gridcolor": "#506784",
                        "linecolor": "#506784",
                        "ticks": ""
                      },
                      "bgcolor": "rgb(17,17,17)",
                      "caxis": {
                        "gridcolor": "#506784",
                        "linecolor": "#506784",
                        "ticks": ""
                      }
                    },
                    "title": {
                      "x": 0.05
                    },
                    "updatemenudefaults": {
                      "bgcolor": "#506784",
                      "borderwidth": 0
                    },
                    "xaxis": {
                      "automargin": true,
                      "gridcolor": "#283442",
                      "linecolor": "#506784",
                      "ticks": "",
                      "title": {
                        "standoff": 15
                      },
                      "zerolinecolor": "#283442",
                      "zerolinewidth": 2
                    },
                    "yaxis": {
                      "automargin": true,
                      "gridcolor": "#283442",
                      "linecolor": "#506784",
                      "ticks": "",
                      "title": {
                        "standoff": 15
                      },
                      "zerolinecolor": "#283442",
                      "zerolinewidth": 2
                    }
                  }
                },
                "width": 1080
              }
            },
            "text/html": [
              "<div>                            <div id=\"0bb40b18-713d-45a8-9f41-9d078349adff\" class=\"plotly-graph-div\" style=\"height:1080px; width:1080px;\"></div>            <script type=\"text/javascript\">                require([\"plotly\"], function(Plotly) {                    window.PLOTLYENV=window.PLOTLYENV || {};                                    if (document.getElementById(\"0bb40b18-713d-45a8-9f41-9d078349adff\")) {                    Plotly.newPlot(                        \"0bb40b18-713d-45a8-9f41-9d078349adff\",                        [{\"customdata\": [[6001, \"CA\", 0.11506849315068493], [6003, \"CA\", 0.2328767123287671], [6005, \"CA\", 0.2410958904109589], [6007, \"CA\", 0.2219178082191781], [6009, \"CA\", 0.2465753424657534], [6011, \"CA\", 0.0547945205479452], [6013, \"CA\", 0.09315068493150686], [6015, \"CA\", 0.0], [6017, \"CA\", 0.2219178082191781], [6019, \"CA\", 0.410958904109589], [6021, \"CA\", 0.0547945205479452], [6023, \"CA\", 0.0547945205479452], [6025, \"CA\", 0.0], [6027, \"CA\", 0.0], [6029, \"CA\", 0.4136986301369863], [6031, \"CA\", 0.42191780821917807], [6033, \"CA\", 0.0547945205479452], [6035, \"CA\", 0.2136986301369863], [6037, \"CA\", 0.36164383561643837], [6039, \"CA\", 0.30684931506849317], [6041, \"CA\", 0.0], [6043, \"CA\", 0.30684931506849317], [6045, \"CA\", 0.0547945205479452], [6047, \"CA\", 0.3178082191780822], [6049, \"CA\", 0.038356164383561646], [6051, \"CA\", 0.17534246575342466], [6053, \"CA\", 0.14794520547945206], [6055, \"CA\", 0.0547945205479452], [6057, \"CA\", 0.2054794520547945], [6059, \"CA\", 0.3561643835616438], [6061, \"CA\", 0.2054794520547945], [6063, \"CA\", 0.18356164383561643], [6065, \"CA\", 0.0], [6067, \"CA\", 0.23013698630136986], [6069, \"CA\", 0.42191780821917807], [6071, \"CA\", 0.0], [6073, \"CA\", 0.0], [6075, \"CA\", 0.09315068493150686], [6077, \"CA\", 0.26301369863013696], [6079, \"CA\", 0.4191780821917808], [6081, \"CA\", 0.11506849315068493], [6083, \"CA\", 0.4136986301369863], [6085, \"CA\", 0.11506849315068493], [6087, \"CA\", 0.11506849315068493], [6089, \"CA\", 0.0547945205479452], [6091, \"CA\", 0.16712328767123288], [6093, \"CA\", 0.0], [6095, \"CA\", 0.0547945205479452], [6097, \"CA\", 0.0547945205479452], [6099, \"CA\", 0.26301369863013696], [6101, \"CA\", 0.23013698630136986], [6103, \"CA\", 0.0547945205479452], [6105, \"CA\", 0.0547945205479452], [6107, \"CA\", 0.410958904109589], [6109, \"CA\", 0.26301369863013696], [6111, \"CA\", 0.3726027397260274], [6113, \"CA\", 0.23013698630136986], [6115, \"CA\", 0.23013698630136986]], \"geo\": \"geo\", \"hovertemplate\": \"<b>%{hovertext}</b><br><br>size_5=%{marker.size}<br>lat=%{lat}<br>lon=%{lon}<br>fips=%{customdata[0]}<br>State=%{customdata[1]}<br>pct_ch_5=%{marker.color}<extra></extra>\", \"hovertext\": [\"Alameda\", \"Alpine\", \"Amador\", \"Butte\", \"Calaveras\", \"Colusa\", \"Contra Costa\", \"Del Norte\", \"El Dorado\", \"Fresno\", \"Glenn\", \"Humboldt\", \"Imperial\", \"Inyo\", \"Kern\", \"Kings\", \"Lake\", \"Lassen\", \"Los Angeles\", \"Madera\", \"Marin\", \"Mariposa\", \"Mendocino\", \"Merced\", \"Modoc\", \"Mono\", \"Monterey\", \"Napa\", \"Nevada\", \"Orange\", \"Placer\", \"Plumas\", \"Riverside\", \"Sacramento\", \"San Benito\", \"San Bernardino\", \"San Diego\", \"San Francisco\", \"San Joaquin\", \"San Luis Obispo\", \"San Mateo\", \"Santa Barbara\", \"Santa Clara\", \"Santa Cruz\", \"Shasta\", \"Sierra\", \"Siskiyou\", \"Solano\", \"Sonoma\", \"Stanislaus\", \"Sutter\", \"Tehama\", \"Trinity\", \"Tulare\", \"Tuolumne\", \"Ventura\", \"Yolo\", \"Yuba\"], \"lat\": [37.648081, 38.61761, 38.44355, 39.665959, 38.187844, 39.177739, 37.919478999999995, 41.749903, 38.785532, 36.761006, 39.602546000000004, 40.706672999999995, 33.040816, 36.561977, 35.346629, 36.072478000000004, 39.094802, 40.721089, 34.196397999999995, 37.210039, 38.051817, 37.570034, 39.432388, 37.194806, 41.592919, 37.915836, 36.240107, 38.507351, 39.295190999999996, 33.675686999999996, 39.062032, 39.99517, 33.729828000000005, 38.450010999999996, 36.610702, 34.85722, 33.023604, 37.727239000000004, 37.935034, 35.385227, 37.414664, 34.537378000000004, 37.220777000000005, 37.012488, 40.760521999999995, 39.576925, 41.587986, 38.267226, 38.532574, 37.562384, 39.035257, 40.126156, 40.647724, 36.230453000000004, 38.021451, 34.358742, 38.679268, 39.270026], \"legendgroup\": \"\", \"lon\": [-121.91330400000001, -119.798999, -120.653856, -121.601919, -120.55511499999999, -122.237563, -121.95154299999999, -123.980998, -120.534398, -119.655019, -122.4017, -123.92581799999999, -115.355395, -117.403927, -118.729506, -119.81553000000001, -122.746757, -120.629931, -118.26186200000001, -119.749852, -122.745974, -119.91286000000001, -123.442881, -120.722802, -120.71837, -118.87516699999999, -121.315573, -122.32599499999999, -120.77344599999999, -117.777207, -120.722718, -120.829516, -116.00223899999999, -121.340441, -121.085296, -116.181197, -116.776117, -123.032229, -121.27223700000002, -120.44753999999999, -122.37154199999999, -120.03848500000001, -121.69062199999999, -122.007205, -122.04355, -120.521993, -122.53328700000002, -121.939594, -122.945194, -121.002656, -121.702758, -122.232276, -123.11440400000001, -118.780542, -119.964708, -119.13314299999999, -121.903178, -121.34428], \"marker\": {\"color\": [0.11506849315068493, 0.2328767123287671, 0.2410958904109589, 0.2219178082191781, 0.2465753424657534, 0.0547945205479452, 0.09315068493150686, 0.0, 0.2219178082191781, 0.410958904109589, 0.0547945205479452, 0.0547945205479452, 0.0, 0.0, 0.4136986301369863, 0.42191780821917807, 0.0547945205479452, 0.2136986301369863, 0.36164383561643837, 0.30684931506849317, 0.0, 0.30684931506849317, 0.0547945205479452, 0.3178082191780822, 0.038356164383561646, 0.17534246575342466, 0.14794520547945206, 0.0547945205479452, 0.2054794520547945, 0.3561643835616438, 0.2054794520547945, 0.18356164383561643, 0.0, 0.23013698630136986, 0.42191780821917807, 0.0, 0.0, 0.09315068493150686, 0.26301369863013696, 0.4191780821917808, 0.11506849315068493, 0.4136986301369863, 0.11506849315068493, 0.11506849315068493, 0.0547945205479452, 0.16712328767123288, 0.0, 0.0547945205479452, 0.0547945205479452, 0.26301369863013696, 0.23013698630136986, 0.0547945205479452, 0.0547945205479452, 0.410958904109589, 0.26301369863013696, 0.3726027397260274, 0.23013698630136986, 0.23013698630136986], \"coloraxis\": \"coloraxis\", \"opacity\": 1, \"size\": [0.11506849315068493, 0.2328767123287671, 0.2410958904109589, 0.2219178082191781, 0.2465753424657534, 0.0547945205479452, 0.09315068493150686, 0.0, 0.2219178082191781, 0.410958904109589, 0.0547945205479452, 0.0547945205479452, 0.0, 0.0, 0.4136986301369863, 0.42191780821917807, 0.0547945205479452, 0.2136986301369863, 0.36164383561643837, 0.30684931506849317, 0.0, 0.30684931506849317, 0.0547945205479452, 0.3178082191780822, 0.038356164383561646, 0.17534246575342466, 0.14794520547945206, 0.0547945205479452, 0.2054794520547945, 0.3561643835616438, 0.2054794520547945, 0.18356164383561643, 0.0, 0.23013698630136986, 0.42191780821917807, 0.0, 0.0, 0.09315068493150686, 0.26301369863013696, 0.4191780821917808, 0.11506849315068493, 0.4136986301369863, 0.11506849315068493, 0.11506849315068493, 0.0547945205479452, 0.16712328767123288, 0.0, 0.0547945205479452, 0.0547945205479452, 0.26301369863013696, 0.23013698630136986, 0.0547945205479452, 0.0547945205479452, 0.410958904109589, 0.26301369863013696, 0.3726027397260274, 0.23013698630136986, 0.23013698630136986], \"sizemode\": \"area\", \"sizeref\": 0.0010547945205479452, \"symbol\": \"circle\"}, \"mode\": \"markers\", \"name\": \"\", \"showlegend\": false, \"type\": \"scattergeo\"}],                        {\"coloraxis\": {\"colorbar\": {\"title\": {\"text\": \"pct_ch_5\"}}, \"colorscale\": [[0.0, \"rgb(255,245,240)\"], [0.125, \"rgb(254,224,210)\"], [0.25, \"rgb(252,187,161)\"], [0.375, \"rgb(252,146,114)\"], [0.5, \"rgb(251,106,74)\"], [0.625, \"rgb(239,59,44)\"], [0.75, \"rgb(203,24,29)\"], [0.875, \"rgb(165,15,21)\"], [1.0, \"rgb(103,0,13)\"]]}, \"geo\": {\"center\": {\"lat\": 37.83800610344828, \"lon\": -120.74952093103452}, \"domain\": {\"x\": [0.0, 1.0], \"y\": [0.0, 1.0]}, \"lataxis\": {\"range\": [42.749903, 31.023604]}, \"lonaxis\": {\"range\": [-114.355395, -125.980998]}, \"resolution\": 50, \"scope\": \"usa\", \"showsubunits\": true, \"subunitcolor\": \"white\", \"subunitwidth\": 1.5}, \"height\": 1080, \"legend\": {\"itemsizing\": \"constant\", \"tracegroupgap\": 0}, \"margin\": {\"t\": 60}, \"template\": {\"data\": {\"bar\": [{\"error_x\": {\"color\": \"#f2f5fa\"}, \"error_y\": {\"color\": \"#f2f5fa\"}, \"marker\": {\"line\": {\"color\": \"rgb(17,17,17)\", \"width\": 0.5}}, \"type\": \"bar\"}], \"barpolar\": [{\"marker\": {\"line\": {\"color\": \"rgb(17,17,17)\", \"width\": 0.5}}, \"type\": \"barpolar\"}], \"carpet\": [{\"aaxis\": {\"endlinecolor\": \"#A2B1C6\", \"gridcolor\": \"#506784\", \"linecolor\": \"#506784\", \"minorgridcolor\": \"#506784\", \"startlinecolor\": \"#A2B1C6\"}, \"baxis\": {\"endlinecolor\": \"#A2B1C6\", \"gridcolor\": \"#506784\", \"linecolor\": \"#506784\", \"minorgridcolor\": \"#506784\", \"startlinecolor\": \"#A2B1C6\"}, \"type\": \"carpet\"}], \"choropleth\": [{\"colorbar\": {\"outlinewidth\": 0, \"ticks\": \"\"}, \"type\": \"choropleth\"}], \"contour\": [{\"colorbar\": {\"outlinewidth\": 0, \"ticks\": \"\"}, \"colorscale\": [[0.0, \"#0d0887\"], [0.1111111111111111, \"#46039f\"], [0.2222222222222222, \"#7201a8\"], [0.3333333333333333, \"#9c179e\"], [0.4444444444444444, \"#bd3786\"], [0.5555555555555556, \"#d8576b\"], [0.6666666666666666, \"#ed7953\"], [0.7777777777777778, \"#fb9f3a\"], [0.8888888888888888, \"#fdca26\"], [1.0, \"#f0f921\"]], \"type\": \"contour\"}], \"contourcarpet\": [{\"colorbar\": {\"outlinewidth\": 0, \"ticks\": \"\"}, \"type\": \"contourcarpet\"}], \"heatmap\": [{\"colorbar\": {\"outlinewidth\": 0, \"ticks\": \"\"}, \"colorscale\": [[0.0, \"#0d0887\"], [0.1111111111111111, \"#46039f\"], [0.2222222222222222, \"#7201a8\"], [0.3333333333333333, \"#9c179e\"], [0.4444444444444444, \"#bd3786\"], [0.5555555555555556, \"#d8576b\"], [0.6666666666666666, \"#ed7953\"], [0.7777777777777778, \"#fb9f3a\"], [0.8888888888888888, \"#fdca26\"], [1.0, \"#f0f921\"]], \"type\": \"heatmap\"}], \"heatmapgl\": [{\"colorbar\": {\"outlinewidth\": 0, \"ticks\": \"\"}, \"colorscale\": [[0.0, \"#0d0887\"], [0.1111111111111111, \"#46039f\"], [0.2222222222222222, \"#7201a8\"], [0.3333333333333333, \"#9c179e\"], [0.4444444444444444, \"#bd3786\"], [0.5555555555555556, \"#d8576b\"], [0.6666666666666666, \"#ed7953\"], [0.7777777777777778, \"#fb9f3a\"], [0.8888888888888888, \"#fdca26\"], [1.0, \"#f0f921\"]], \"type\": \"heatmapgl\"}], \"histogram\": [{\"marker\": {\"colorbar\": {\"outlinewidth\": 0, \"ticks\": \"\"}}, \"type\": \"histogram\"}], \"histogram2d\": [{\"colorbar\": {\"outlinewidth\": 0, \"ticks\": \"\"}, \"colorscale\": [[0.0, \"#0d0887\"], [0.1111111111111111, \"#46039f\"], [0.2222222222222222, \"#7201a8\"], [0.3333333333333333, \"#9c179e\"], [0.4444444444444444, \"#bd3786\"], [0.5555555555555556, \"#d8576b\"], [0.6666666666666666, \"#ed7953\"], [0.7777777777777778, \"#fb9f3a\"], [0.8888888888888888, \"#fdca26\"], [1.0, \"#f0f921\"]], \"type\": \"histogram2d\"}], \"histogram2dcontour\": [{\"colorbar\": {\"outlinewidth\": 0, \"ticks\": \"\"}, \"colorscale\": [[0.0, \"#0d0887\"], [0.1111111111111111, \"#46039f\"], [0.2222222222222222, \"#7201a8\"], [0.3333333333333333, \"#9c179e\"], [0.4444444444444444, \"#bd3786\"], [0.5555555555555556, \"#d8576b\"], [0.6666666666666666, \"#ed7953\"], [0.7777777777777778, \"#fb9f3a\"], [0.8888888888888888, \"#fdca26\"], [1.0, \"#f0f921\"]], \"type\": \"histogram2dcontour\"}], \"mesh3d\": [{\"colorbar\": {\"outlinewidth\": 0, \"ticks\": \"\"}, \"type\": \"mesh3d\"}], \"parcoords\": [{\"line\": {\"colorbar\": {\"outlinewidth\": 0, \"ticks\": \"\"}}, \"type\": \"parcoords\"}], \"pie\": [{\"automargin\": true, \"type\": \"pie\"}], \"scatter\": [{\"marker\": {\"line\": {\"color\": \"#283442\"}}, \"type\": \"scatter\"}], \"scatter3d\": [{\"line\": {\"colorbar\": {\"outlinewidth\": 0, \"ticks\": \"\"}}, \"marker\": {\"colorbar\": {\"outlinewidth\": 0, \"ticks\": \"\"}}, \"type\": \"scatter3d\"}], \"scattercarpet\": [{\"marker\": {\"colorbar\": {\"outlinewidth\": 0, \"ticks\": \"\"}}, \"type\": \"scattercarpet\"}], \"scattergeo\": [{\"marker\": {\"colorbar\": {\"outlinewidth\": 0, \"ticks\": \"\"}}, \"type\": \"scattergeo\"}], \"scattergl\": [{\"marker\": {\"line\": {\"color\": \"#283442\"}}, \"type\": \"scattergl\"}], \"scattermapbox\": [{\"marker\": {\"colorbar\": {\"outlinewidth\": 0, \"ticks\": \"\"}}, \"type\": \"scattermapbox\"}], \"scatterpolar\": [{\"marker\": {\"colorbar\": {\"outlinewidth\": 0, \"ticks\": \"\"}}, \"type\": \"scatterpolar\"}], \"scatterpolargl\": [{\"marker\": {\"colorbar\": {\"outlinewidth\": 0, \"ticks\": \"\"}}, \"type\": \"scatterpolargl\"}], \"scatterternary\": [{\"marker\": {\"colorbar\": {\"outlinewidth\": 0, \"ticks\": \"\"}}, \"type\": \"scatterternary\"}], \"surface\": [{\"colorbar\": {\"outlinewidth\": 0, \"ticks\": \"\"}, \"colorscale\": [[0.0, \"#0d0887\"], [0.1111111111111111, \"#46039f\"], [0.2222222222222222, \"#7201a8\"], [0.3333333333333333, \"#9c179e\"], [0.4444444444444444, \"#bd3786\"], [0.5555555555555556, \"#d8576b\"], [0.6666666666666666, \"#ed7953\"], [0.7777777777777778, \"#fb9f3a\"], [0.8888888888888888, \"#fdca26\"], [1.0, \"#f0f921\"]], \"type\": \"surface\"}], \"table\": [{\"cells\": {\"fill\": {\"color\": \"#506784\"}, \"line\": {\"color\": \"rgb(17,17,17)\"}}, \"header\": {\"fill\": {\"color\": \"#2a3f5f\"}, \"line\": {\"color\": \"rgb(17,17,17)\"}}, \"type\": \"table\"}]}, \"layout\": {\"annotationdefaults\": {\"arrowcolor\": \"#f2f5fa\", \"arrowhead\": 0, \"arrowwidth\": 1}, \"autotypenumbers\": \"strict\", \"coloraxis\": {\"colorbar\": {\"outlinewidth\": 0, \"ticks\": \"\"}}, \"colorscale\": {\"diverging\": [[0, \"#8e0152\"], [0.1, \"#c51b7d\"], [0.2, \"#de77ae\"], [0.3, \"#f1b6da\"], [0.4, \"#fde0ef\"], [0.5, \"#f7f7f7\"], [0.6, \"#e6f5d0\"], [0.7, \"#b8e186\"], [0.8, \"#7fbc41\"], [0.9, \"#4d9221\"], [1, \"#276419\"]], \"sequential\": [[0.0, \"#0d0887\"], [0.1111111111111111, \"#46039f\"], [0.2222222222222222, \"#7201a8\"], [0.3333333333333333, \"#9c179e\"], [0.4444444444444444, \"#bd3786\"], [0.5555555555555556, \"#d8576b\"], [0.6666666666666666, \"#ed7953\"], [0.7777777777777778, \"#fb9f3a\"], [0.8888888888888888, \"#fdca26\"], [1.0, \"#f0f921\"]], \"sequentialminus\": [[0.0, \"#0d0887\"], [0.1111111111111111, \"#46039f\"], [0.2222222222222222, \"#7201a8\"], [0.3333333333333333, \"#9c179e\"], [0.4444444444444444, \"#bd3786\"], [0.5555555555555556, \"#d8576b\"], [0.6666666666666666, \"#ed7953\"], [0.7777777777777778, \"#fb9f3a\"], [0.8888888888888888, \"#fdca26\"], [1.0, \"#f0f921\"]]}, \"colorway\": [\"#636efa\", \"#EF553B\", \"#00cc96\", \"#ab63fa\", \"#FFA15A\", \"#19d3f3\", \"#FF6692\", \"#B6E880\", \"#FF97FF\", \"#FECB52\"], \"font\": {\"color\": \"#f2f5fa\"}, \"geo\": {\"bgcolor\": \"rgb(17,17,17)\", \"lakecolor\": \"rgb(17,17,17)\", \"landcolor\": \"rgb(17,17,17)\", \"showlakes\": true, \"showland\": true, \"subunitcolor\": \"#506784\"}, \"hoverlabel\": {\"align\": \"left\"}, \"hovermode\": \"closest\", \"mapbox\": {\"style\": \"dark\"}, \"paper_bgcolor\": \"rgb(17,17,17)\", \"plot_bgcolor\": \"rgb(17,17,17)\", \"polar\": {\"angularaxis\": {\"gridcolor\": \"#506784\", \"linecolor\": \"#506784\", \"ticks\": \"\"}, \"bgcolor\": \"rgb(17,17,17)\", \"radialaxis\": {\"gridcolor\": \"#506784\", \"linecolor\": \"#506784\", \"ticks\": \"\"}}, \"scene\": {\"xaxis\": {\"backgroundcolor\": \"rgb(17,17,17)\", \"gridcolor\": \"#506784\", \"gridwidth\": 2, \"linecolor\": \"#506784\", \"showbackground\": true, \"ticks\": \"\", \"zerolinecolor\": \"#C8D4E3\"}, \"yaxis\": {\"backgroundcolor\": \"rgb(17,17,17)\", \"gridcolor\": \"#506784\", \"gridwidth\": 2, \"linecolor\": \"#506784\", \"showbackground\": true, \"ticks\": \"\", \"zerolinecolor\": \"#C8D4E3\"}, \"zaxis\": {\"backgroundcolor\": \"rgb(17,17,17)\", \"gridcolor\": \"#506784\", \"gridwidth\": 2, \"linecolor\": \"#506784\", \"showbackground\": true, \"ticks\": \"\", \"zerolinecolor\": \"#C8D4E3\"}}, \"shapedefaults\": {\"line\": {\"color\": \"#f2f5fa\"}}, \"sliderdefaults\": {\"bgcolor\": \"#C8D4E3\", \"bordercolor\": \"rgb(17,17,17)\", \"borderwidth\": 1, \"tickwidth\": 0}, \"ternary\": {\"aaxis\": {\"gridcolor\": \"#506784\", \"linecolor\": \"#506784\", \"ticks\": \"\"}, \"baxis\": {\"gridcolor\": \"#506784\", \"linecolor\": \"#506784\", \"ticks\": \"\"}, \"bgcolor\": \"rgb(17,17,17)\", \"caxis\": {\"gridcolor\": \"#506784\", \"linecolor\": \"#506784\", \"ticks\": \"\"}}, \"title\": {\"x\": 0.05}, \"updatemenudefaults\": {\"bgcolor\": \"#506784\", \"borderwidth\": 0}, \"xaxis\": {\"automargin\": true, \"gridcolor\": \"#283442\", \"linecolor\": \"#506784\", \"ticks\": \"\", \"title\": {\"standoff\": 15}, \"zerolinecolor\": \"#283442\", \"zerolinewidth\": 2}, \"yaxis\": {\"automargin\": true, \"gridcolor\": \"#283442\", \"linecolor\": \"#506784\", \"ticks\": \"\", \"title\": {\"standoff\": 15}, \"zerolinecolor\": \"#283442\", \"zerolinewidth\": 2}}}, \"width\": 1080},                        {\"responsive\": true}                    ).then(function(){\n",
              "                            \n",
              "var gd = document.getElementById('0bb40b18-713d-45a8-9f41-9d078349adff');\n",
              "var x = new MutationObserver(function (mutations, observer) {{\n",
              "        var display = window.getComputedStyle(gd).display;\n",
              "        if (!display || display === 'none') {{\n",
              "            console.log([gd, 'removed!']);\n",
              "            Plotly.purge(gd);\n",
              "            observer.disconnect();\n",
              "        }}\n",
              "}});\n",
              "\n",
              "// Listen for the removal of the full notebook cells\n",
              "var notebookContainer = gd.closest('#notebook-container');\n",
              "if (notebookContainer) {{\n",
              "    x.observe(notebookContainer, {childList: true});\n",
              "}}\n",
              "\n",
              "// Listen for the clearing of the current output cell\n",
              "var outputEl = gd.closest('.output');\n",
              "if (outputEl) {{\n",
              "    x.observe(outputEl, {childList: true});\n",
              "}}\n",
              "\n",
              "                        })                };                });            </script>        </div>"
            ]
          },
          "metadata": {},
          "output_type": "display_data"
        }
      ],
      "source": [
        "# plot 5\n",
        "fig5 = px.scatter_geo(final_df_fips, lat = \"lat\" , lon = \"lon\",hover_name='Name',height=1080,width=1080, scope = 'usa',center={'lat':lat1,'lon':lon1},opacity=1,template='plotly_dark',color_continuous_scale = py.express.colors.sequential.Reds,hover_data = ['fips','State','pct_ch_5'],color='pct_ch_5',size='size_5')\n",
        "fig5.update_geos(\n",
        "    resolution=50,\n",
        "#     showland=True, landcolor=\"pink\",\n",
        "    showsubunits=True, subunitcolor=\"white\", subunitwidth =1.5,\n",
        "    lonaxis_range=[lonr1,lonr2],lataxis_range=[latr1,latr2]\n",
        "    )\n",
        "fig5.show()"
      ]
    },
    {
      "cell_type": "markdown",
      "metadata": {
        "id": "TyZdA6P_cMj4"
      },
      "source": [
        "https://geoffboeing.com/2014/09/using-geopandas-windows/\n",
        "\n",
        "https://plotly.com/python/county-choropleth/#single-state\n",
        "\n",
        "https://plotly.com/python/bubble-maps/\n",
        "\n",
        "https://plotly.com/python/maps/\n",
        "\n",
        "https://levelup.gitconnected.com/using-python-for-geographical-plotting-d9328fb8cfab\n",
        "\n",
        "https://machinelearningmastery.com/principal-components-analysis-for-dimensionality-reduction-in-python/\n",
        "\n"
      ]
    }
  ],
  "metadata": {
    "kernelspec": {
      "display_name": "Python 3",
      "language": "python",
      "name": "python3"
    },
    "language_info": {
      "codemirror_mode": {
        "name": "ipython",
        "version": 3
      },
      "file_extension": ".py",
      "mimetype": "text/x-python",
      "name": "python",
      "nbconvert_exporter": "python",
      "pygments_lexer": "ipython3",
      "version": "3.8.3"
    },
    "colab": {
      "name": "geo_map_2.ipynb",
      "provenance": [],
      "include_colab_link": true
    }
  },
  "nbformat": 4,
  "nbformat_minor": 0
}